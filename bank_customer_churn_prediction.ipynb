{
 "cells": [
  {
   "cell_type": "markdown",
   "metadata": {
    "toc": true
   },
   "source": [
    "<h1>Содержание<span class=\"tocSkip\"></span></h1>\n",
    "<div class=\"toc\"><ul class=\"toc-item\"><li><span><a href=\"#Сбор-и-предварительная-обработка-данных.\" data-toc-modified-id=\"Сбор-и-предварительная-обработка-данных.-1\"><span class=\"toc-item-num\">1&nbsp;&nbsp;</span>Сбор и предварительная обработка данных.</a></span><ul class=\"toc-item\"><li><span><a href=\"#Импорт-данных\" data-toc-modified-id=\"Импорт-данных-1.1\"><span class=\"toc-item-num\">1.1&nbsp;&nbsp;</span>Импорт данных</a></span></li><li><span><a href=\"#Исправление-стилистических-ошибок\" data-toc-modified-id=\"Исправление-стилистических-ошибок-1.2\"><span class=\"toc-item-num\">1.2&nbsp;&nbsp;</span>Исправление стилистических ошибок</a></span></li><li><span><a href=\"#Обработка-пропущенных-значений-и-исследование-данных-на-наличие-дубликатов-и-аномалий.\" data-toc-modified-id=\"Обработка-пропущенных-значений-и-исследование-данных-на-наличие-дубликатов-и-аномалий.-1.3\"><span class=\"toc-item-num\">1.3&nbsp;&nbsp;</span>Обработка пропущенных значений и исследование данных на наличие дубликатов и аномалий.</a></span></li><li><span><a href=\"#Преобразование-типов-данных\" data-toc-modified-id=\"Преобразование-типов-данных-1.4\"><span class=\"toc-item-num\">1.4&nbsp;&nbsp;</span>Преобразование типов данных</a></span></li><li><span><a href=\"#Проверка-корреляции-между-признаками\" data-toc-modified-id=\"Проверка-корреляции-между-признаками-1.5\"><span class=\"toc-item-num\">1.5&nbsp;&nbsp;</span>Проверка корреляции между признаками</a></span></li><li><span><a href=\"#Разделение-данных-на-обучающую,-валидационную-и-тестовую-выборки.\" data-toc-modified-id=\"Разделение-данных-на-обучающую,-валидационную-и-тестовую-выборки.-1.6\"><span class=\"toc-item-num\">1.6&nbsp;&nbsp;</span>Разделение данных на обучающую, валидационную и тестовую выборки.</a></span></li><li><span><a href=\"#Масштабирование-признаков\" data-toc-modified-id=\"Масштабирование-признаков-1.7\"><span class=\"toc-item-num\">1.7&nbsp;&nbsp;</span>Масштабирование признаков</a></span></li></ul></li><li><span><a href=\"#Исследование-качества-моделей-без-учета--дисбаланса-классов\" data-toc-modified-id=\"Исследование-качества-моделей-без-учета--дисбаланса-классов-2\"><span class=\"toc-item-num\">2&nbsp;&nbsp;</span>Исследование качества моделей без учета  дисбаланса классов</a></span><ul class=\"toc-item\"><li><span><a href=\"#Модель-дерево-решений\" data-toc-modified-id=\"Модель-дерево-решений-2.1\"><span class=\"toc-item-num\">2.1&nbsp;&nbsp;</span>Модель дерево решений</a></span></li><li><span><a href=\"#Модель-Случайный-лес\" data-toc-modified-id=\"Модель-Случайный-лес-2.2\"><span class=\"toc-item-num\">2.2&nbsp;&nbsp;</span>Модель Случайный лес</a></span></li><li><span><a href=\"#Модель-Логистическая-регрессия\" data-toc-modified-id=\"Модель-Логистическая-регрессия-2.3\"><span class=\"toc-item-num\">2.3&nbsp;&nbsp;</span>Модель Логистическая регрессия</a></span></li><li><span><a href=\"#Модель-K-ближайших-соседей-(KNN).\" data-toc-modified-id=\"Модель-K-ближайших-соседей-(KNN).-2.4\"><span class=\"toc-item-num\">2.4&nbsp;&nbsp;</span>Модель K-ближайших соседей (KNN).</a></span></li></ul></li><li><span><a href=\"#Улучшение-качества-моделей-с-учетом-дисбаланса-классов.\" data-toc-modified-id=\"Улучшение-качества-моделей-с-учетом-дисбаланса-классов.-3\"><span class=\"toc-item-num\">3&nbsp;&nbsp;</span>Улучшение качества моделей с учетом дисбаланса классов.</a></span><ul class=\"toc-item\"><li><span><a href=\"#Использование-взвешивания-классов.\" data-toc-modified-id=\"Использование-взвешивания-классов.-3.1\"><span class=\"toc-item-num\">3.1&nbsp;&nbsp;</span>Использование взвешивания классов.</a></span><ul class=\"toc-item\"><li><span><a href=\"#Модель-дерево-решений\" data-toc-modified-id=\"Модель-дерево-решений-3.1.1\"><span class=\"toc-item-num\">3.1.1&nbsp;&nbsp;</span>Модель дерево решений</a></span></li><li><span><a href=\"#Модель-Случайный-лес\" data-toc-modified-id=\"Модель-Случайный-лес-3.1.2\"><span class=\"toc-item-num\">3.1.2&nbsp;&nbsp;</span>Модель Случайный лес</a></span></li><li><span><a href=\"#Модель-Логистическая-регрессия.\" data-toc-modified-id=\"Модель-Логистическая-регрессия.-3.1.3\"><span class=\"toc-item-num\">3.1.3&nbsp;&nbsp;</span>Модель Логистическая регрессия.</a></span></li><li><span><a href=\"#Модель-K-ближайших-соседей.\" data-toc-modified-id=\"Модель-K-ближайших-соседей.-3.1.4\"><span class=\"toc-item-num\">3.1.4&nbsp;&nbsp;</span>Модель K-ближайших соседей.</a></span></li></ul></li><li><span><a href=\"#Увеличение-выборки.\" data-toc-modified-id=\"Увеличение-выборки.-3.2\"><span class=\"toc-item-num\">3.2&nbsp;&nbsp;</span>Увеличение выборки.</a></span><ul class=\"toc-item\"><li><span><a href=\"#Модель-дерево-решений\" data-toc-modified-id=\"Модель-дерево-решений-3.2.1\"><span class=\"toc-item-num\">3.2.1&nbsp;&nbsp;</span>Модель дерево решений</a></span></li><li><span><a href=\"#Модель-Случайный-лес\" data-toc-modified-id=\"Модель-Случайный-лес-3.2.2\"><span class=\"toc-item-num\">3.2.2&nbsp;&nbsp;</span>Модель Случайный лес</a></span></li><li><span><a href=\"#Модель-Логистическая-регрессия.\" data-toc-modified-id=\"Модель-Логистическая-регрессия.-3.2.3\"><span class=\"toc-item-num\">3.2.3&nbsp;&nbsp;</span>Модель Логистическая регрессия.</a></span></li><li><span><a href=\"#Модель-K-ближайших-соседей.\" data-toc-modified-id=\"Модель-K-ближайших-соседей.-3.2.4\"><span class=\"toc-item-num\">3.2.4&nbsp;&nbsp;</span>Модель K-ближайших соседей.</a></span></li></ul></li><li><span><a href=\"#Уменьшение-выборки.\" data-toc-modified-id=\"Уменьшение-выборки.-3.3\"><span class=\"toc-item-num\">3.3&nbsp;&nbsp;</span>Уменьшение выборки.</a></span><ul class=\"toc-item\"><li><span><a href=\"#Модель-дерево-решений\" data-toc-modified-id=\"Модель-дерево-решений-3.3.1\"><span class=\"toc-item-num\">3.3.1&nbsp;&nbsp;</span>Модель дерево решений</a></span></li><li><span><a href=\"#Модель-Случайный-лес\" data-toc-modified-id=\"Модель-Случайный-лес-3.3.2\"><span class=\"toc-item-num\">3.3.2&nbsp;&nbsp;</span>Модель Случайный лес</a></span></li><li><span><a href=\"#Модель-Логистическая-регрессия.\" data-toc-modified-id=\"Модель-Логистическая-регрессия.-3.3.3\"><span class=\"toc-item-num\">3.3.3&nbsp;&nbsp;</span>Модель Логистическая регрессия.</a></span></li><li><span><a href=\"#Модель-K-ближайших-соседей.\" data-toc-modified-id=\"Модель-K-ближайших-соседей.-3.3.4\"><span class=\"toc-item-num\">3.3.4&nbsp;&nbsp;</span>Модель K-ближайших соседей.</a></span></li></ul></li></ul></li><li><span><a href=\"#Тестирование-модели\" data-toc-modified-id=\"Тестирование-модели-4\"><span class=\"toc-item-num\">4&nbsp;&nbsp;</span>Тестирование модели</a></span></li><li><span><a href=\"#Общий-вывод\" data-toc-modified-id=\"Общий-вывод-5\"><span class=\"toc-item-num\">5&nbsp;&nbsp;</span>Общий вывод</a></span></li><li><span><a href=\"#Чек-лист-готовности-проекта\" data-toc-modified-id=\"Чек-лист-готовности-проекта-6\"><span class=\"toc-item-num\">6&nbsp;&nbsp;</span>Чек-лист готовности проекта</a></span></li></ul></div>"
   ]
  },
  {
   "cell_type": "markdown",
   "metadata": {},
   "source": [
    "# Прогнозирование оттока клиентов в \"Бета-Банке\""
   ]
  },
  {
   "cell_type": "markdown",
   "metadata": {},
   "source": [
    "В рамках данного проекта предпринимается попытка спрогнозировать отток клиентов из \"Бета-Банка\" на основе анализа исторических данных о поведении клиентов и расторжении договоров. \n",
    "\n",
    "Целью проекта является разработка модели, которая позволила бы предсказать, уйдет ли клиент из банка в ближайшее время.\n",
    "\n",
    "В проекте будет осуществляться решение задачи бинарной классификации с применением методов обучения с учителем.\n",
    "\n",
    "Данные, предоставленные на анализ, получены из открытого источника [https://www.kaggle.com/barelydedicated/bank-customer-churn-modeling](https://www.kaggle.com/barelydedicated/bank-customer-churn-modeling)"
   ]
  },
  {
   "cell_type": "markdown",
   "metadata": {},
   "source": [
    "**Описание данных**\n",
    "\n",
    "**Признаки**\n",
    "\n",
    "`RowNumber` — индекс строки в данных\n",
    "\n",
    "`CustomerId` — уникальный идентификатор клиента\n",
    "\n",
    "`Surname` — фамилия\n",
    "\n",
    "`CreditScore` — кредитный рейтинг\n",
    "\n",
    "`Geography` — страна проживания\n",
    "\n",
    "`Gender` — пол\n",
    "\n",
    "`Age` — возраст\n",
    "\n",
    "`Tenure` — сколько лет человек является клиентом банка\n",
    "\n",
    "`Balance` — баланс на счёте\n",
    "\n",
    "`NumOfProducts` — количество продуктов банка, используемых клиентом\n",
    "\n",
    "`HasCrCard` — наличие кредитной карты\n",
    "\n",
    "`IsActiveMember` — активность клиента\n",
    "\n",
    "`EstimatedSalary` — предполагаемая зарплата\n",
    "\n",
    "**Целевой признак**\n",
    "\n",
    "`Exited` — факт ухода клиента"
   ]
  },
  {
   "cell_type": "markdown",
   "metadata": {},
   "source": [
    "**Основные этапы работы:**\n",
    "\n",
    "* Сбор и предварительная обработка данных.\n",
    "\n",
    "* Исследование качества моделей без учета дисбаланса классов.\n",
    "\n",
    "* Улучшение качества модели с учетом дисбаланса классов.\n",
    "\n",
    "* Тестирование модели."
   ]
  },
  {
   "cell_type": "markdown",
   "metadata": {},
   "source": [
    "Применение модели, построенной в данном проекте, позволит оптимизировать маркетинговые стратегии по удержанию клиентов и увеличению уровня лояльности, и, как следствие, повысить качество клиентского обслуживания."
   ]
  },
  {
   "cell_type": "markdown",
   "metadata": {},
   "source": [
    "## Сбор и предварительная обработка данных."
   ]
  },
  {
   "cell_type": "markdown",
   "metadata": {},
   "source": [
    "### Импорт данных"
   ]
  },
  {
   "cell_type": "code",
   "execution_count": 1,
   "metadata": {},
   "outputs": [],
   "source": [
    "import pandas as pd\n",
    "import numpy as np\n",
    "import matplotlib.pyplot as plt\n",
    "import seaborn as sns\n",
    "import re\n",
    "from scipy import stats\n",
    "from sklearn.utils import shuffle\n",
    "from sklearn.tree import DecisionTreeClassifier\n",
    "from sklearn.ensemble import RandomForestClassifier\n",
    "from sklearn.linear_model import LogisticRegression\n",
    "from sklearn.neighbors import KNeighborsClassifier\n",
    "from sklearn.model_selection import train_test_split\n",
    "from sklearn.metrics import (\n",
    "    accuracy_score,\n",
    "    precision_score,\n",
    "    recall_score,\n",
    "    f1_score,\n",
    "    roc_auc_score,\n",
    "    confusion_matrix,\n",
    "    ConfusionMatrixDisplay\n",
    ")\n",
    "from sklearn.preprocessing import StandardScaler\n",
    "import warnings\n",
    "from sklearn.dummy import DummyClassifier"
   ]
  },
  {
   "cell_type": "code",
   "execution_count": 2,
   "metadata": {},
   "outputs": [],
   "source": [
    "pd.set_option('display.max_columns', None)\n",
    "pd.options.display.float_format = '{:,.2f}'.format\n",
    "warnings.filterwarnings('ignore')"
   ]
  },
  {
   "cell_type": "markdown",
   "metadata": {},
   "source": [
    "Откроем файл и выведем на экран первые 5 строк таблицы. Столбец `RowNumber` не будет использоваться в качестве индексов датафрейма, так как в противном случае индексация таблицы начнется с 1, что может вызвать проблемы при дальнейшей работе с данными."
   ]
  },
  {
   "cell_type": "code",
   "execution_count": 3,
   "metadata": {},
   "outputs": [
    {
     "data": {
      "text/html": [
       "<div>\n",
       "<style scoped>\n",
       "    .dataframe tbody tr th:only-of-type {\n",
       "        vertical-align: middle;\n",
       "    }\n",
       "\n",
       "    .dataframe tbody tr th {\n",
       "        vertical-align: top;\n",
       "    }\n",
       "\n",
       "    .dataframe thead th {\n",
       "        text-align: right;\n",
       "    }\n",
       "</style>\n",
       "<table border=\"1\" class=\"dataframe\">\n",
       "  <thead>\n",
       "    <tr style=\"text-align: right;\">\n",
       "      <th></th>\n",
       "      <th>RowNumber</th>\n",
       "      <th>CustomerId</th>\n",
       "      <th>Surname</th>\n",
       "      <th>CreditScore</th>\n",
       "      <th>Geography</th>\n",
       "      <th>Gender</th>\n",
       "      <th>Age</th>\n",
       "      <th>Tenure</th>\n",
       "      <th>Balance</th>\n",
       "      <th>NumOfProducts</th>\n",
       "      <th>HasCrCard</th>\n",
       "      <th>IsActiveMember</th>\n",
       "      <th>EstimatedSalary</th>\n",
       "      <th>Exited</th>\n",
       "    </tr>\n",
       "  </thead>\n",
       "  <tbody>\n",
       "    <tr>\n",
       "      <th>0</th>\n",
       "      <td>1</td>\n",
       "      <td>15634602</td>\n",
       "      <td>Hargrave</td>\n",
       "      <td>619</td>\n",
       "      <td>France</td>\n",
       "      <td>Female</td>\n",
       "      <td>42</td>\n",
       "      <td>2.00</td>\n",
       "      <td>0.00</td>\n",
       "      <td>1</td>\n",
       "      <td>1</td>\n",
       "      <td>1</td>\n",
       "      <td>101,348.88</td>\n",
       "      <td>1</td>\n",
       "    </tr>\n",
       "    <tr>\n",
       "      <th>1</th>\n",
       "      <td>2</td>\n",
       "      <td>15647311</td>\n",
       "      <td>Hill</td>\n",
       "      <td>608</td>\n",
       "      <td>Spain</td>\n",
       "      <td>Female</td>\n",
       "      <td>41</td>\n",
       "      <td>1.00</td>\n",
       "      <td>83,807.86</td>\n",
       "      <td>1</td>\n",
       "      <td>0</td>\n",
       "      <td>1</td>\n",
       "      <td>112,542.58</td>\n",
       "      <td>0</td>\n",
       "    </tr>\n",
       "    <tr>\n",
       "      <th>2</th>\n",
       "      <td>3</td>\n",
       "      <td>15619304</td>\n",
       "      <td>Onio</td>\n",
       "      <td>502</td>\n",
       "      <td>France</td>\n",
       "      <td>Female</td>\n",
       "      <td>42</td>\n",
       "      <td>8.00</td>\n",
       "      <td>159,660.80</td>\n",
       "      <td>3</td>\n",
       "      <td>1</td>\n",
       "      <td>0</td>\n",
       "      <td>113,931.57</td>\n",
       "      <td>1</td>\n",
       "    </tr>\n",
       "    <tr>\n",
       "      <th>3</th>\n",
       "      <td>4</td>\n",
       "      <td>15701354</td>\n",
       "      <td>Boni</td>\n",
       "      <td>699</td>\n",
       "      <td>France</td>\n",
       "      <td>Female</td>\n",
       "      <td>39</td>\n",
       "      <td>1.00</td>\n",
       "      <td>0.00</td>\n",
       "      <td>2</td>\n",
       "      <td>0</td>\n",
       "      <td>0</td>\n",
       "      <td>93,826.63</td>\n",
       "      <td>0</td>\n",
       "    </tr>\n",
       "    <tr>\n",
       "      <th>4</th>\n",
       "      <td>5</td>\n",
       "      <td>15737888</td>\n",
       "      <td>Mitchell</td>\n",
       "      <td>850</td>\n",
       "      <td>Spain</td>\n",
       "      <td>Female</td>\n",
       "      <td>43</td>\n",
       "      <td>2.00</td>\n",
       "      <td>125,510.82</td>\n",
       "      <td>1</td>\n",
       "      <td>1</td>\n",
       "      <td>1</td>\n",
       "      <td>79,084.10</td>\n",
       "      <td>0</td>\n",
       "    </tr>\n",
       "  </tbody>\n",
       "</table>\n",
       "</div>"
      ],
      "text/plain": [
       "   RowNumber  CustomerId   Surname  CreditScore Geography  Gender  Age  \\\n",
       "0          1    15634602  Hargrave          619    France  Female   42   \n",
       "1          2    15647311      Hill          608     Spain  Female   41   \n",
       "2          3    15619304      Onio          502    France  Female   42   \n",
       "3          4    15701354      Boni          699    France  Female   39   \n",
       "4          5    15737888  Mitchell          850     Spain  Female   43   \n",
       "\n",
       "   Tenure    Balance  NumOfProducts  HasCrCard  IsActiveMember  \\\n",
       "0    2.00       0.00              1          1               1   \n",
       "1    1.00  83,807.86              1          0               1   \n",
       "2    8.00 159,660.80              3          1               0   \n",
       "3    1.00       0.00              2          0               0   \n",
       "4    2.00 125,510.82              1          1               1   \n",
       "\n",
       "   EstimatedSalary  Exited  \n",
       "0       101,348.88       1  \n",
       "1       112,542.58       0  \n",
       "2       113,931.57       1  \n",
       "3        93,826.63       0  \n",
       "4        79,084.10       0  "
      ]
     },
     "execution_count": 3,
     "metadata": {},
     "output_type": "execute_result"
    }
   ],
   "source": [
    "df = pd.read_csv('/datasets/Churn.csv')\n",
    "df.head()"
   ]
  },
  {
   "cell_type": "markdown",
   "metadata": {},
   "source": [
    "### Исправление стилистических ошибок"
   ]
  },
  {
   "cell_type": "markdown",
   "metadata": {},
   "source": [
    "Исправим стилевые ошибки в названиях столбцов."
   ]
  },
  {
   "cell_type": "code",
   "execution_count": 4,
   "metadata": {},
   "outputs": [],
   "source": [
    "def camel_to_snake(column_name):\n",
    "    s1 = re.sub('(.)([A-Z][a-z]+)', r'\\1_\\2', column_name)\n",
    "    \n",
    "    return re.sub('([a-z0-9])([A-Z])', r'\\1_\\2', s1).lower()"
   ]
  },
  {
   "cell_type": "code",
   "execution_count": 5,
   "metadata": {},
   "outputs": [],
   "source": [
    "df.columns = df.columns.map(camel_to_snake)"
   ]
  },
  {
   "cell_type": "code",
   "execution_count": 6,
   "metadata": {},
   "outputs": [
    {
     "data": {
      "text/html": [
       "<div>\n",
       "<style scoped>\n",
       "    .dataframe tbody tr th:only-of-type {\n",
       "        vertical-align: middle;\n",
       "    }\n",
       "\n",
       "    .dataframe tbody tr th {\n",
       "        vertical-align: top;\n",
       "    }\n",
       "\n",
       "    .dataframe thead th {\n",
       "        text-align: right;\n",
       "    }\n",
       "</style>\n",
       "<table border=\"1\" class=\"dataframe\">\n",
       "  <thead>\n",
       "    <tr style=\"text-align: right;\">\n",
       "      <th></th>\n",
       "      <th>row_number</th>\n",
       "      <th>customer_id</th>\n",
       "      <th>surname</th>\n",
       "      <th>credit_score</th>\n",
       "      <th>geography</th>\n",
       "      <th>gender</th>\n",
       "      <th>age</th>\n",
       "      <th>tenure</th>\n",
       "      <th>balance</th>\n",
       "      <th>num_of_products</th>\n",
       "      <th>has_cr_card</th>\n",
       "      <th>is_active_member</th>\n",
       "      <th>estimated_salary</th>\n",
       "      <th>exited</th>\n",
       "    </tr>\n",
       "  </thead>\n",
       "  <tbody>\n",
       "    <tr>\n",
       "      <th>4071</th>\n",
       "      <td>4072</td>\n",
       "      <td>15732430</td>\n",
       "      <td>H?</td>\n",
       "      <td>850</td>\n",
       "      <td>Spain</td>\n",
       "      <td>Female</td>\n",
       "      <td>54</td>\n",
       "      <td>4.00</td>\n",
       "      <td>120,952.74</td>\n",
       "      <td>1</td>\n",
       "      <td>1</td>\n",
       "      <td>0</td>\n",
       "      <td>66,963.15</td>\n",
       "      <td>0</td>\n",
       "    </tr>\n",
       "    <tr>\n",
       "      <th>4485</th>\n",
       "      <td>4486</td>\n",
       "      <td>15630580</td>\n",
       "      <td>Y?</td>\n",
       "      <td>751</td>\n",
       "      <td>Germany</td>\n",
       "      <td>Male</td>\n",
       "      <td>34</td>\n",
       "      <td>9.00</td>\n",
       "      <td>108,513.25</td>\n",
       "      <td>2</td>\n",
       "      <td>1</td>\n",
       "      <td>1</td>\n",
       "      <td>27,097.82</td>\n",
       "      <td>0</td>\n",
       "    </tr>\n",
       "    <tr>\n",
       "      <th>616</th>\n",
       "      <td>617</td>\n",
       "      <td>15719352</td>\n",
       "      <td>Davidson</td>\n",
       "      <td>754</td>\n",
       "      <td>Spain</td>\n",
       "      <td>Male</td>\n",
       "      <td>39</td>\n",
       "      <td>6.00</td>\n",
       "      <td>170,184.99</td>\n",
       "      <td>2</td>\n",
       "      <td>1</td>\n",
       "      <td>0</td>\n",
       "      <td>89,593.26</td>\n",
       "      <td>0</td>\n",
       "    </tr>\n",
       "    <tr>\n",
       "      <th>9855</th>\n",
       "      <td>9856</td>\n",
       "      <td>15797502</td>\n",
       "      <td>Lord</td>\n",
       "      <td>706</td>\n",
       "      <td>Spain</td>\n",
       "      <td>Male</td>\n",
       "      <td>24</td>\n",
       "      <td>2.00</td>\n",
       "      <td>141,078.57</td>\n",
       "      <td>1</td>\n",
       "      <td>1</td>\n",
       "      <td>1</td>\n",
       "      <td>24,402.87</td>\n",
       "      <td>0</td>\n",
       "    </tr>\n",
       "    <tr>\n",
       "      <th>8742</th>\n",
       "      <td>8743</td>\n",
       "      <td>15661827</td>\n",
       "      <td>Brown</td>\n",
       "      <td>693</td>\n",
       "      <td>Spain</td>\n",
       "      <td>Female</td>\n",
       "      <td>45</td>\n",
       "      <td>4.00</td>\n",
       "      <td>0.00</td>\n",
       "      <td>2</td>\n",
       "      <td>1</td>\n",
       "      <td>1</td>\n",
       "      <td>26,589.56</td>\n",
       "      <td>0</td>\n",
       "    </tr>\n",
       "  </tbody>\n",
       "</table>\n",
       "</div>"
      ],
      "text/plain": [
       "      row_number  customer_id   surname  credit_score geography  gender  age  \\\n",
       "4071        4072     15732430        H?           850     Spain  Female   54   \n",
       "4485        4486     15630580        Y?           751   Germany    Male   34   \n",
       "616          617     15719352  Davidson           754     Spain    Male   39   \n",
       "9855        9856     15797502      Lord           706     Spain    Male   24   \n",
       "8742        8743     15661827     Brown           693     Spain  Female   45   \n",
       "\n",
       "      tenure    balance  num_of_products  has_cr_card  is_active_member  \\\n",
       "4071    4.00 120,952.74                1            1                 0   \n",
       "4485    9.00 108,513.25                2            1                 1   \n",
       "616     6.00 170,184.99                2            1                 0   \n",
       "9855    2.00 141,078.57                1            1                 1   \n",
       "8742    4.00       0.00                2            1                 1   \n",
       "\n",
       "      estimated_salary  exited  \n",
       "4071         66,963.15       0  \n",
       "4485         27,097.82       0  \n",
       "616          89,593.26       0  \n",
       "9855         24,402.87       0  \n",
       "8742         26,589.56       0  "
      ]
     },
     "execution_count": 6,
     "metadata": {},
     "output_type": "execute_result"
    }
   ],
   "source": [
    "df.sample(5)"
   ]
  },
  {
   "cell_type": "markdown",
   "metadata": {},
   "source": [
    "Столбец `row_number` содержит номера строк в исходных данных. Эта информация для решаемой задачи бесполезна, столбец следует удалить. "
   ]
  },
  {
   "cell_type": "code",
   "execution_count": 7,
   "metadata": {
    "scrolled": true
   },
   "outputs": [
    {
     "data": {
      "text/html": [
       "<div>\n",
       "<style scoped>\n",
       "    .dataframe tbody tr th:only-of-type {\n",
       "        vertical-align: middle;\n",
       "    }\n",
       "\n",
       "    .dataframe tbody tr th {\n",
       "        vertical-align: top;\n",
       "    }\n",
       "\n",
       "    .dataframe thead th {\n",
       "        text-align: right;\n",
       "    }\n",
       "</style>\n",
       "<table border=\"1\" class=\"dataframe\">\n",
       "  <thead>\n",
       "    <tr style=\"text-align: right;\">\n",
       "      <th></th>\n",
       "      <th>customer_id</th>\n",
       "      <th>surname</th>\n",
       "      <th>credit_score</th>\n",
       "      <th>geography</th>\n",
       "      <th>gender</th>\n",
       "      <th>age</th>\n",
       "      <th>tenure</th>\n",
       "      <th>balance</th>\n",
       "      <th>num_of_products</th>\n",
       "      <th>has_cr_card</th>\n",
       "      <th>is_active_member</th>\n",
       "      <th>estimated_salary</th>\n",
       "      <th>exited</th>\n",
       "    </tr>\n",
       "  </thead>\n",
       "  <tbody>\n",
       "    <tr>\n",
       "      <th>4979</th>\n",
       "      <td>15792250</td>\n",
       "      <td>Nnabuife</td>\n",
       "      <td>616</td>\n",
       "      <td>Germany</td>\n",
       "      <td>Female</td>\n",
       "      <td>45</td>\n",
       "      <td>4.00</td>\n",
       "      <td>122,793.96</td>\n",
       "      <td>1</td>\n",
       "      <td>1</td>\n",
       "      <td>1</td>\n",
       "      <td>62,002.04</td>\n",
       "      <td>0</td>\n",
       "    </tr>\n",
       "    <tr>\n",
       "      <th>4158</th>\n",
       "      <td>15771580</td>\n",
       "      <td>Davison</td>\n",
       "      <td>850</td>\n",
       "      <td>France</td>\n",
       "      <td>Female</td>\n",
       "      <td>38</td>\n",
       "      <td>0.00</td>\n",
       "      <td>106,831.69</td>\n",
       "      <td>1</td>\n",
       "      <td>0</td>\n",
       "      <td>1</td>\n",
       "      <td>148,977.72</td>\n",
       "      <td>0</td>\n",
       "    </tr>\n",
       "    <tr>\n",
       "      <th>5753</th>\n",
       "      <td>15608328</td>\n",
       "      <td>Sutherland</td>\n",
       "      <td>760</td>\n",
       "      <td>Spain</td>\n",
       "      <td>Female</td>\n",
       "      <td>41</td>\n",
       "      <td>6.00</td>\n",
       "      <td>0.00</td>\n",
       "      <td>2</td>\n",
       "      <td>0</td>\n",
       "      <td>0</td>\n",
       "      <td>101,491.23</td>\n",
       "      <td>0</td>\n",
       "    </tr>\n",
       "    <tr>\n",
       "      <th>3634</th>\n",
       "      <td>15674442</td>\n",
       "      <td>Kung</td>\n",
       "      <td>681</td>\n",
       "      <td>France</td>\n",
       "      <td>Male</td>\n",
       "      <td>23</td>\n",
       "      <td>7.00</td>\n",
       "      <td>157,761.56</td>\n",
       "      <td>1</td>\n",
       "      <td>0</td>\n",
       "      <td>0</td>\n",
       "      <td>147,759.84</td>\n",
       "      <td>0</td>\n",
       "    </tr>\n",
       "    <tr>\n",
       "      <th>250</th>\n",
       "      <td>15628112</td>\n",
       "      <td>Hughes</td>\n",
       "      <td>771</td>\n",
       "      <td>Germany</td>\n",
       "      <td>Female</td>\n",
       "      <td>36</td>\n",
       "      <td>5.00</td>\n",
       "      <td>77,846.90</td>\n",
       "      <td>1</td>\n",
       "      <td>0</td>\n",
       "      <td>0</td>\n",
       "      <td>99,805.99</td>\n",
       "      <td>0</td>\n",
       "    </tr>\n",
       "  </tbody>\n",
       "</table>\n",
       "</div>"
      ],
      "text/plain": [
       "      customer_id     surname  credit_score geography  gender  age  tenure  \\\n",
       "4979     15792250    Nnabuife           616   Germany  Female   45    4.00   \n",
       "4158     15771580     Davison           850    France  Female   38    0.00   \n",
       "5753     15608328  Sutherland           760     Spain  Female   41    6.00   \n",
       "3634     15674442        Kung           681    France    Male   23    7.00   \n",
       "250      15628112      Hughes           771   Germany  Female   36    5.00   \n",
       "\n",
       "        balance  num_of_products  has_cr_card  is_active_member  \\\n",
       "4979 122,793.96                1            1                 1   \n",
       "4158 106,831.69                1            0                 1   \n",
       "5753       0.00                2            0                 0   \n",
       "3634 157,761.56                1            0                 0   \n",
       "250   77,846.90                1            0                 0   \n",
       "\n",
       "      estimated_salary  exited  \n",
       "4979         62,002.04       0  \n",
       "4158        148,977.72       0  \n",
       "5753        101,491.23       0  \n",
       "3634        147,759.84       0  \n",
       "250          99,805.99       0  "
      ]
     },
     "execution_count": 7,
     "metadata": {},
     "output_type": "execute_result"
    }
   ],
   "source": [
    "df = df.drop('row_number', axis=1)\n",
    "df.sample(5)"
   ]
  },
  {
   "cell_type": "markdown",
   "metadata": {},
   "source": [
    "### Обработка пропущенных значений и исследование данных на наличие дубликатов и аномалий."
   ]
  },
  {
   "cell_type": "markdown",
   "metadata": {},
   "source": [
    "Выясним особенности типов данных и содержимого столбцов."
   ]
  },
  {
   "cell_type": "code",
   "execution_count": 8,
   "metadata": {},
   "outputs": [
    {
     "name": "stdout",
     "output_type": "stream",
     "text": [
      "<class 'pandas.core.frame.DataFrame'>\n",
      "RangeIndex: 10000 entries, 0 to 9999\n",
      "Data columns (total 13 columns):\n",
      " #   Column            Non-Null Count  Dtype  \n",
      "---  ------            --------------  -----  \n",
      " 0   customer_id       10000 non-null  int64  \n",
      " 1   surname           10000 non-null  object \n",
      " 2   credit_score      10000 non-null  int64  \n",
      " 3   geography         10000 non-null  object \n",
      " 4   gender            10000 non-null  object \n",
      " 5   age               10000 non-null  int64  \n",
      " 6   tenure            9091 non-null   float64\n",
      " 7   balance           10000 non-null  float64\n",
      " 8   num_of_products   10000 non-null  int64  \n",
      " 9   has_cr_card       10000 non-null  int64  \n",
      " 10  is_active_member  10000 non-null  int64  \n",
      " 11  estimated_salary  10000 non-null  float64\n",
      " 12  exited            10000 non-null  int64  \n",
      "dtypes: float64(3), int64(7), object(3)\n",
      "memory usage: 1015.8+ KB\n"
     ]
    }
   ],
   "source": [
    "df.info()"
   ]
  },
  {
   "cell_type": "markdown",
   "metadata": {},
   "source": [
    "Столбец `tenure` содержит 909 пропусков. Выведем на экран несколько строк с пропусками или нулевыми значениями в указанном столбце, поскольку в случае отсутствия нулей, можно предположить, что пропуски соответствуют клиентам, которые пользуются услугами банка меньше года."
   ]
  },
  {
   "cell_type": "code",
   "execution_count": 9,
   "metadata": {},
   "outputs": [
    {
     "data": {
      "text/html": [
       "<div>\n",
       "<style scoped>\n",
       "    .dataframe tbody tr th:only-of-type {\n",
       "        vertical-align: middle;\n",
       "    }\n",
       "\n",
       "    .dataframe tbody tr th {\n",
       "        vertical-align: top;\n",
       "    }\n",
       "\n",
       "    .dataframe thead th {\n",
       "        text-align: right;\n",
       "    }\n",
       "</style>\n",
       "<table border=\"1\" class=\"dataframe\">\n",
       "  <thead>\n",
       "    <tr style=\"text-align: right;\">\n",
       "      <th></th>\n",
       "      <th>customer_id</th>\n",
       "      <th>surname</th>\n",
       "      <th>credit_score</th>\n",
       "      <th>geography</th>\n",
       "      <th>gender</th>\n",
       "      <th>age</th>\n",
       "      <th>tenure</th>\n",
       "      <th>balance</th>\n",
       "      <th>num_of_products</th>\n",
       "      <th>has_cr_card</th>\n",
       "      <th>is_active_member</th>\n",
       "      <th>estimated_salary</th>\n",
       "      <th>exited</th>\n",
       "    </tr>\n",
       "  </thead>\n",
       "  <tbody>\n",
       "    <tr>\n",
       "      <th>29</th>\n",
       "      <td>15656300</td>\n",
       "      <td>Lucciano</td>\n",
       "      <td>411</td>\n",
       "      <td>France</td>\n",
       "      <td>Male</td>\n",
       "      <td>29</td>\n",
       "      <td>0.00</td>\n",
       "      <td>59,697.17</td>\n",
       "      <td>2</td>\n",
       "      <td>1</td>\n",
       "      <td>1</td>\n",
       "      <td>53,483.21</td>\n",
       "      <td>0</td>\n",
       "    </tr>\n",
       "    <tr>\n",
       "      <th>30</th>\n",
       "      <td>15589475</td>\n",
       "      <td>Azikiwe</td>\n",
       "      <td>591</td>\n",
       "      <td>Spain</td>\n",
       "      <td>Female</td>\n",
       "      <td>39</td>\n",
       "      <td>NaN</td>\n",
       "      <td>0.00</td>\n",
       "      <td>3</td>\n",
       "      <td>1</td>\n",
       "      <td>0</td>\n",
       "      <td>140,469.38</td>\n",
       "      <td>1</td>\n",
       "    </tr>\n",
       "    <tr>\n",
       "      <th>35</th>\n",
       "      <td>15794171</td>\n",
       "      <td>Lombardo</td>\n",
       "      <td>475</td>\n",
       "      <td>France</td>\n",
       "      <td>Female</td>\n",
       "      <td>45</td>\n",
       "      <td>0.00</td>\n",
       "      <td>134,264.04</td>\n",
       "      <td>1</td>\n",
       "      <td>1</td>\n",
       "      <td>0</td>\n",
       "      <td>27,822.99</td>\n",
       "      <td>1</td>\n",
       "    </tr>\n",
       "    <tr>\n",
       "      <th>48</th>\n",
       "      <td>15766205</td>\n",
       "      <td>Yin</td>\n",
       "      <td>550</td>\n",
       "      <td>Germany</td>\n",
       "      <td>Male</td>\n",
       "      <td>38</td>\n",
       "      <td>NaN</td>\n",
       "      <td>103,391.38</td>\n",
       "      <td>1</td>\n",
       "      <td>0</td>\n",
       "      <td>1</td>\n",
       "      <td>90,878.13</td>\n",
       "      <td>0</td>\n",
       "    </tr>\n",
       "    <tr>\n",
       "      <th>51</th>\n",
       "      <td>15768193</td>\n",
       "      <td>Trevisani</td>\n",
       "      <td>585</td>\n",
       "      <td>Germany</td>\n",
       "      <td>Male</td>\n",
       "      <td>36</td>\n",
       "      <td>NaN</td>\n",
       "      <td>146,050.97</td>\n",
       "      <td>2</td>\n",
       "      <td>0</td>\n",
       "      <td>0</td>\n",
       "      <td>86,424.57</td>\n",
       "      <td>0</td>\n",
       "    </tr>\n",
       "    <tr>\n",
       "      <th>53</th>\n",
       "      <td>15702298</td>\n",
       "      <td>Parkhill</td>\n",
       "      <td>655</td>\n",
       "      <td>Germany</td>\n",
       "      <td>Male</td>\n",
       "      <td>41</td>\n",
       "      <td>NaN</td>\n",
       "      <td>125,561.97</td>\n",
       "      <td>1</td>\n",
       "      <td>0</td>\n",
       "      <td>0</td>\n",
       "      <td>164,040.94</td>\n",
       "      <td>1</td>\n",
       "    </tr>\n",
       "    <tr>\n",
       "      <th>57</th>\n",
       "      <td>15647091</td>\n",
       "      <td>Endrizzi</td>\n",
       "      <td>725</td>\n",
       "      <td>Germany</td>\n",
       "      <td>Male</td>\n",
       "      <td>19</td>\n",
       "      <td>0.00</td>\n",
       "      <td>75,888.20</td>\n",
       "      <td>1</td>\n",
       "      <td>0</td>\n",
       "      <td>0</td>\n",
       "      <td>45,613.75</td>\n",
       "      <td>0</td>\n",
       "    </tr>\n",
       "    <tr>\n",
       "      <th>60</th>\n",
       "      <td>15651280</td>\n",
       "      <td>Hunter</td>\n",
       "      <td>742</td>\n",
       "      <td>Germany</td>\n",
       "      <td>Male</td>\n",
       "      <td>35</td>\n",
       "      <td>NaN</td>\n",
       "      <td>136,857.00</td>\n",
       "      <td>1</td>\n",
       "      <td>0</td>\n",
       "      <td>0</td>\n",
       "      <td>84,509.57</td>\n",
       "      <td>0</td>\n",
       "    </tr>\n",
       "    <tr>\n",
       "      <th>72</th>\n",
       "      <td>15812518</td>\n",
       "      <td>Palermo</td>\n",
       "      <td>657</td>\n",
       "      <td>Spain</td>\n",
       "      <td>Female</td>\n",
       "      <td>37</td>\n",
       "      <td>0.00</td>\n",
       "      <td>163,607.18</td>\n",
       "      <td>1</td>\n",
       "      <td>0</td>\n",
       "      <td>1</td>\n",
       "      <td>44,203.55</td>\n",
       "      <td>0</td>\n",
       "    </tr>\n",
       "    <tr>\n",
       "      <th>82</th>\n",
       "      <td>15641732</td>\n",
       "      <td>Mills</td>\n",
       "      <td>543</td>\n",
       "      <td>France</td>\n",
       "      <td>Female</td>\n",
       "      <td>36</td>\n",
       "      <td>NaN</td>\n",
       "      <td>0.00</td>\n",
       "      <td>2</td>\n",
       "      <td>0</td>\n",
       "      <td>0</td>\n",
       "      <td>26,019.59</td>\n",
       "      <td>0</td>\n",
       "    </tr>\n",
       "    <tr>\n",
       "      <th>85</th>\n",
       "      <td>15805254</td>\n",
       "      <td>Ndukaku</td>\n",
       "      <td>652</td>\n",
       "      <td>Spain</td>\n",
       "      <td>Female</td>\n",
       "      <td>75</td>\n",
       "      <td>NaN</td>\n",
       "      <td>0.00</td>\n",
       "      <td>2</td>\n",
       "      <td>1</td>\n",
       "      <td>1</td>\n",
       "      <td>114,675.75</td>\n",
       "      <td>0</td>\n",
       "    </tr>\n",
       "    <tr>\n",
       "      <th>94</th>\n",
       "      <td>15676966</td>\n",
       "      <td>Capon</td>\n",
       "      <td>730</td>\n",
       "      <td>Spain</td>\n",
       "      <td>Male</td>\n",
       "      <td>42</td>\n",
       "      <td>NaN</td>\n",
       "      <td>0.00</td>\n",
       "      <td>2</td>\n",
       "      <td>0</td>\n",
       "      <td>1</td>\n",
       "      <td>85,982.47</td>\n",
       "      <td>0</td>\n",
       "    </tr>\n",
       "    <tr>\n",
       "      <th>99</th>\n",
       "      <td>15633059</td>\n",
       "      <td>Fanucci</td>\n",
       "      <td>413</td>\n",
       "      <td>France</td>\n",
       "      <td>Male</td>\n",
       "      <td>34</td>\n",
       "      <td>NaN</td>\n",
       "      <td>0.00</td>\n",
       "      <td>2</td>\n",
       "      <td>0</td>\n",
       "      <td>0</td>\n",
       "      <td>6,534.18</td>\n",
       "      <td>0</td>\n",
       "    </tr>\n",
       "    <tr>\n",
       "      <th>111</th>\n",
       "      <td>15665790</td>\n",
       "      <td>Rowntree</td>\n",
       "      <td>538</td>\n",
       "      <td>Germany</td>\n",
       "      <td>Male</td>\n",
       "      <td>39</td>\n",
       "      <td>NaN</td>\n",
       "      <td>108,055.10</td>\n",
       "      <td>2</td>\n",
       "      <td>1</td>\n",
       "      <td>0</td>\n",
       "      <td>27,231.26</td>\n",
       "      <td>0</td>\n",
       "    </tr>\n",
       "    <tr>\n",
       "      <th>123</th>\n",
       "      <td>15760085</td>\n",
       "      <td>Calabresi</td>\n",
       "      <td>684</td>\n",
       "      <td>Germany</td>\n",
       "      <td>Female</td>\n",
       "      <td>48</td>\n",
       "      <td>NaN</td>\n",
       "      <td>126,384.42</td>\n",
       "      <td>1</td>\n",
       "      <td>1</td>\n",
       "      <td>1</td>\n",
       "      <td>198,129.36</td>\n",
       "      <td>0</td>\n",
       "    </tr>\n",
       "  </tbody>\n",
       "</table>\n",
       "</div>"
      ],
      "text/plain": [
       "     customer_id    surname  credit_score geography  gender  age  tenure  \\\n",
       "29      15656300   Lucciano           411    France    Male   29    0.00   \n",
       "30      15589475    Azikiwe           591     Spain  Female   39     NaN   \n",
       "35      15794171   Lombardo           475    France  Female   45    0.00   \n",
       "48      15766205        Yin           550   Germany    Male   38     NaN   \n",
       "51      15768193  Trevisani           585   Germany    Male   36     NaN   \n",
       "53      15702298   Parkhill           655   Germany    Male   41     NaN   \n",
       "57      15647091   Endrizzi           725   Germany    Male   19    0.00   \n",
       "60      15651280     Hunter           742   Germany    Male   35     NaN   \n",
       "72      15812518    Palermo           657     Spain  Female   37    0.00   \n",
       "82      15641732      Mills           543    France  Female   36     NaN   \n",
       "85      15805254    Ndukaku           652     Spain  Female   75     NaN   \n",
       "94      15676966      Capon           730     Spain    Male   42     NaN   \n",
       "99      15633059    Fanucci           413    France    Male   34     NaN   \n",
       "111     15665790   Rowntree           538   Germany    Male   39     NaN   \n",
       "123     15760085  Calabresi           684   Germany  Female   48     NaN   \n",
       "\n",
       "       balance  num_of_products  has_cr_card  is_active_member  \\\n",
       "29   59,697.17                2            1                 1   \n",
       "30        0.00                3            1                 0   \n",
       "35  134,264.04                1            1                 0   \n",
       "48  103,391.38                1            0                 1   \n",
       "51  146,050.97                2            0                 0   \n",
       "53  125,561.97                1            0                 0   \n",
       "57   75,888.20                1            0                 0   \n",
       "60  136,857.00                1            0                 0   \n",
       "72  163,607.18                1            0                 1   \n",
       "82        0.00                2            0                 0   \n",
       "85        0.00                2            1                 1   \n",
       "94        0.00                2            0                 1   \n",
       "99        0.00                2            0                 0   \n",
       "111 108,055.10                2            1                 0   \n",
       "123 126,384.42                1            1                 1   \n",
       "\n",
       "     estimated_salary  exited  \n",
       "29          53,483.21       0  \n",
       "30         140,469.38       1  \n",
       "35          27,822.99       1  \n",
       "48          90,878.13       0  \n",
       "51          86,424.57       0  \n",
       "53         164,040.94       1  \n",
       "57          45,613.75       0  \n",
       "60          84,509.57       0  \n",
       "72          44,203.55       0  \n",
       "82          26,019.59       0  \n",
       "85         114,675.75       0  \n",
       "94          85,982.47       0  \n",
       "99           6,534.18       0  \n",
       "111         27,231.26       0  \n",
       "123        198,129.36       0  "
      ]
     },
     "execution_count": 9,
     "metadata": {},
     "output_type": "execute_result"
    }
   ],
   "source": [
    "df.loc[(df['tenure'].isna()) | (df['tenure']==0)].head(15)"
   ]
  },
  {
   "cell_type": "markdown",
   "metadata": {},
   "source": [
    "Столбец помимо пропусков содержит значения 0. Какой-либо явной закономерности между продолжительностью пользования услугами банка и прочими характеристиками клиента не наблюдается. Можно сделать вывод, что пропуски - это следствие ошибок загрузки/выгрузки данных. Заполнять их средним или медианным значением будет некорректно, так как это может исказить результаты анализа и качество работы модели. Такие строки следует удалить."
   ]
  },
  {
   "cell_type": "code",
   "execution_count": 10,
   "metadata": {},
   "outputs": [
    {
     "name": "stdout",
     "output_type": "stream",
     "text": [
      "<class 'pandas.core.frame.DataFrame'>\n",
      "Int64Index: 9091 entries, 0 to 9998\n",
      "Data columns (total 13 columns):\n",
      " #   Column            Non-Null Count  Dtype  \n",
      "---  ------            --------------  -----  \n",
      " 0   customer_id       9091 non-null   int64  \n",
      " 1   surname           9091 non-null   object \n",
      " 2   credit_score      9091 non-null   int64  \n",
      " 3   geography         9091 non-null   object \n",
      " 4   gender            9091 non-null   object \n",
      " 5   age               9091 non-null   int64  \n",
      " 6   tenure            9091 non-null   float64\n",
      " 7   balance           9091 non-null   float64\n",
      " 8   num_of_products   9091 non-null   int64  \n",
      " 9   has_cr_card       9091 non-null   int64  \n",
      " 10  is_active_member  9091 non-null   int64  \n",
      " 11  estimated_salary  9091 non-null   float64\n",
      " 12  exited            9091 non-null   int64  \n",
      "dtypes: float64(3), int64(7), object(3)\n",
      "memory usage: 994.3+ KB\n"
     ]
    }
   ],
   "source": [
    "df = df.drop(df.loc[df['tenure'].isna()].index)\n",
    "df.info()"
   ]
  },
  {
   "cell_type": "markdown",
   "metadata": {},
   "source": [
    "Проверим датафрейм на наличие явных дубликатов."
   ]
  },
  {
   "cell_type": "code",
   "execution_count": 11,
   "metadata": {},
   "outputs": [
    {
     "data": {
      "text/plain": [
       "0"
      ]
     },
     "execution_count": 11,
     "metadata": {},
     "output_type": "execute_result"
    }
   ],
   "source": [
    "df.duplicated().sum()"
   ]
  },
  {
   "cell_type": "markdown",
   "metadata": {},
   "source": [
    "Единственных столбец, который может генерировать неявные дубликаты - это `geography`. Выведем список его уникальных значений."
   ]
  },
  {
   "cell_type": "code",
   "execution_count": 12,
   "metadata": {},
   "outputs": [
    {
     "data": {
      "text/plain": [
       "array(['France', 'Germany', 'Spain'], dtype=object)"
      ]
     },
     "execution_count": 12,
     "metadata": {},
     "output_type": "execute_result"
    }
   ],
   "source": [
    "df.geography.sort_values().unique()"
   ]
  },
  {
   "cell_type": "markdown",
   "metadata": {},
   "source": [
    "В столбце всего 3 уникальных значения."
   ]
  },
  {
   "cell_type": "markdown",
   "metadata": {},
   "source": [
    "Неявных дубликатов не выявлено."
   ]
  },
  {
   "cell_type": "markdown",
   "metadata": {},
   "source": [
    "Теперь можно удалить столбцы `customer_id` и `surname`, поскольку содержащаяся в них информация будет излишней при обучении моделей."
   ]
  },
  {
   "cell_type": "code",
   "execution_count": 13,
   "metadata": {},
   "outputs": [
    {
     "data": {
      "text/plain": [
       "(9091, 11)"
      ]
     },
     "execution_count": 13,
     "metadata": {},
     "output_type": "execute_result"
    }
   ],
   "source": [
    "df = df.drop(['customer_id', 'surname'], axis=1)\n",
    "df.shape"
   ]
  },
  {
   "cell_type": "markdown",
   "metadata": {},
   "source": [
    "Вычислим основные статистические характеристики данных."
   ]
  },
  {
   "cell_type": "code",
   "execution_count": 14,
   "metadata": {},
   "outputs": [
    {
     "data": {
      "text/html": [
       "<div>\n",
       "<style scoped>\n",
       "    .dataframe tbody tr th:only-of-type {\n",
       "        vertical-align: middle;\n",
       "    }\n",
       "\n",
       "    .dataframe tbody tr th {\n",
       "        vertical-align: top;\n",
       "    }\n",
       "\n",
       "    .dataframe thead th {\n",
       "        text-align: right;\n",
       "    }\n",
       "</style>\n",
       "<table border=\"1\" class=\"dataframe\">\n",
       "  <thead>\n",
       "    <tr style=\"text-align: right;\">\n",
       "      <th></th>\n",
       "      <th>count</th>\n",
       "      <th>unique</th>\n",
       "      <th>top</th>\n",
       "      <th>freq</th>\n",
       "      <th>mean</th>\n",
       "      <th>std</th>\n",
       "      <th>min</th>\n",
       "      <th>25%</th>\n",
       "      <th>50%</th>\n",
       "      <th>75%</th>\n",
       "      <th>max</th>\n",
       "    </tr>\n",
       "  </thead>\n",
       "  <tbody>\n",
       "    <tr>\n",
       "      <th>credit_score</th>\n",
       "      <td>9,091.00</td>\n",
       "      <td>NaN</td>\n",
       "      <td>NaN</td>\n",
       "      <td>NaN</td>\n",
       "      <td>650.74</td>\n",
       "      <td>96.41</td>\n",
       "      <td>350.00</td>\n",
       "      <td>584.00</td>\n",
       "      <td>652.00</td>\n",
       "      <td>717.00</td>\n",
       "      <td>850.00</td>\n",
       "    </tr>\n",
       "    <tr>\n",
       "      <th>geography</th>\n",
       "      <td>9091</td>\n",
       "      <td>3</td>\n",
       "      <td>France</td>\n",
       "      <td>4550</td>\n",
       "      <td>NaN</td>\n",
       "      <td>NaN</td>\n",
       "      <td>NaN</td>\n",
       "      <td>NaN</td>\n",
       "      <td>NaN</td>\n",
       "      <td>NaN</td>\n",
       "      <td>NaN</td>\n",
       "    </tr>\n",
       "    <tr>\n",
       "      <th>gender</th>\n",
       "      <td>9091</td>\n",
       "      <td>2</td>\n",
       "      <td>Male</td>\n",
       "      <td>4974</td>\n",
       "      <td>NaN</td>\n",
       "      <td>NaN</td>\n",
       "      <td>NaN</td>\n",
       "      <td>NaN</td>\n",
       "      <td>NaN</td>\n",
       "      <td>NaN</td>\n",
       "      <td>NaN</td>\n",
       "    </tr>\n",
       "    <tr>\n",
       "      <th>age</th>\n",
       "      <td>9,091.00</td>\n",
       "      <td>NaN</td>\n",
       "      <td>NaN</td>\n",
       "      <td>NaN</td>\n",
       "      <td>38.95</td>\n",
       "      <td>10.56</td>\n",
       "      <td>18.00</td>\n",
       "      <td>32.00</td>\n",
       "      <td>37.00</td>\n",
       "      <td>44.00</td>\n",
       "      <td>92.00</td>\n",
       "    </tr>\n",
       "    <tr>\n",
       "      <th>tenure</th>\n",
       "      <td>9,091.00</td>\n",
       "      <td>NaN</td>\n",
       "      <td>NaN</td>\n",
       "      <td>NaN</td>\n",
       "      <td>5.00</td>\n",
       "      <td>2.89</td>\n",
       "      <td>0.00</td>\n",
       "      <td>2.00</td>\n",
       "      <td>5.00</td>\n",
       "      <td>7.00</td>\n",
       "      <td>10.00</td>\n",
       "    </tr>\n",
       "    <tr>\n",
       "      <th>balance</th>\n",
       "      <td>9,091.00</td>\n",
       "      <td>NaN</td>\n",
       "      <td>NaN</td>\n",
       "      <td>NaN</td>\n",
       "      <td>76,522.74</td>\n",
       "      <td>62,329.53</td>\n",
       "      <td>0.00</td>\n",
       "      <td>0.00</td>\n",
       "      <td>97,318.25</td>\n",
       "      <td>127,561.89</td>\n",
       "      <td>250,898.09</td>\n",
       "    </tr>\n",
       "    <tr>\n",
       "      <th>num_of_products</th>\n",
       "      <td>9,091.00</td>\n",
       "      <td>NaN</td>\n",
       "      <td>NaN</td>\n",
       "      <td>NaN</td>\n",
       "      <td>1.53</td>\n",
       "      <td>0.58</td>\n",
       "      <td>1.00</td>\n",
       "      <td>1.00</td>\n",
       "      <td>1.00</td>\n",
       "      <td>2.00</td>\n",
       "      <td>4.00</td>\n",
       "    </tr>\n",
       "    <tr>\n",
       "      <th>has_cr_card</th>\n",
       "      <td>9,091.00</td>\n",
       "      <td>NaN</td>\n",
       "      <td>NaN</td>\n",
       "      <td>NaN</td>\n",
       "      <td>0.70</td>\n",
       "      <td>0.46</td>\n",
       "      <td>0.00</td>\n",
       "      <td>0.00</td>\n",
       "      <td>1.00</td>\n",
       "      <td>1.00</td>\n",
       "      <td>1.00</td>\n",
       "    </tr>\n",
       "    <tr>\n",
       "      <th>is_active_member</th>\n",
       "      <td>9,091.00</td>\n",
       "      <td>NaN</td>\n",
       "      <td>NaN</td>\n",
       "      <td>NaN</td>\n",
       "      <td>0.52</td>\n",
       "      <td>0.50</td>\n",
       "      <td>0.00</td>\n",
       "      <td>0.00</td>\n",
       "      <td>1.00</td>\n",
       "      <td>1.00</td>\n",
       "      <td>1.00</td>\n",
       "    </tr>\n",
       "    <tr>\n",
       "      <th>estimated_salary</th>\n",
       "      <td>9,091.00</td>\n",
       "      <td>NaN</td>\n",
       "      <td>NaN</td>\n",
       "      <td>NaN</td>\n",
       "      <td>100,181.21</td>\n",
       "      <td>57,624.76</td>\n",
       "      <td>11.58</td>\n",
       "      <td>51,227.74</td>\n",
       "      <td>100,240.20</td>\n",
       "      <td>149,567.21</td>\n",
       "      <td>199,992.48</td>\n",
       "    </tr>\n",
       "    <tr>\n",
       "      <th>exited</th>\n",
       "      <td>9,091.00</td>\n",
       "      <td>NaN</td>\n",
       "      <td>NaN</td>\n",
       "      <td>NaN</td>\n",
       "      <td>0.20</td>\n",
       "      <td>0.40</td>\n",
       "      <td>0.00</td>\n",
       "      <td>0.00</td>\n",
       "      <td>0.00</td>\n",
       "      <td>0.00</td>\n",
       "      <td>1.00</td>\n",
       "    </tr>\n",
       "  </tbody>\n",
       "</table>\n",
       "</div>"
      ],
      "text/plain": [
       "                    count unique     top  freq       mean       std    min  \\\n",
       "credit_score     9,091.00    NaN     NaN   NaN     650.74     96.41 350.00   \n",
       "geography            9091      3  France  4550        NaN       NaN    NaN   \n",
       "gender               9091      2    Male  4974        NaN       NaN    NaN   \n",
       "age              9,091.00    NaN     NaN   NaN      38.95     10.56  18.00   \n",
       "tenure           9,091.00    NaN     NaN   NaN       5.00      2.89   0.00   \n",
       "balance          9,091.00    NaN     NaN   NaN  76,522.74 62,329.53   0.00   \n",
       "num_of_products  9,091.00    NaN     NaN   NaN       1.53      0.58   1.00   \n",
       "has_cr_card      9,091.00    NaN     NaN   NaN       0.70      0.46   0.00   \n",
       "is_active_member 9,091.00    NaN     NaN   NaN       0.52      0.50   0.00   \n",
       "estimated_salary 9,091.00    NaN     NaN   NaN 100,181.21 57,624.76  11.58   \n",
       "exited           9,091.00    NaN     NaN   NaN       0.20      0.40   0.00   \n",
       "\n",
       "                       25%        50%        75%        max  \n",
       "credit_score        584.00     652.00     717.00     850.00  \n",
       "geography              NaN        NaN        NaN        NaN  \n",
       "gender                 NaN        NaN        NaN        NaN  \n",
       "age                  32.00      37.00      44.00      92.00  \n",
       "tenure                2.00       5.00       7.00      10.00  \n",
       "balance               0.00  97,318.25 127,561.89 250,898.09  \n",
       "num_of_products       1.00       1.00       2.00       4.00  \n",
       "has_cr_card           0.00       1.00       1.00       1.00  \n",
       "is_active_member      0.00       1.00       1.00       1.00  \n",
       "estimated_salary 51,227.74 100,240.20 149,567.21 199,992.48  \n",
       "exited                0.00       0.00       0.00       1.00  "
      ]
     },
     "execution_count": 14,
     "metadata": {},
     "output_type": "execute_result"
    }
   ],
   "source": [
    "df.describe(include='all').T"
   ]
  },
  {
   "cell_type": "markdown",
   "metadata": {},
   "source": [
    "В представленных на анализ данных содержится информация о клиентах из трех стран, преобладающее количество которых находится во Франции. Гендерный дисбаланс незначителен."
   ]
  },
  {
   "cell_type": "markdown",
   "metadata": {},
   "source": [
    "В столбцах `credit_score`, `age`, `tenure` и `estimated_salary` средние и медианные значения не сильно отличаются, что свидетельствует об отсутствии выбросов. В столбце `balance` медиана больше среднего, это характерно для данных, в которых большинство наблюдений сгруппированы в более низких или нулевых значениях, и есть относительно небольшое количество крайне больших значений."
   ]
  },
  {
   "cell_type": "markdown",
   "metadata": {},
   "source": [
    " Для визуальной оценки распределения данных построим гистограммы для всех числовых столбцов таблицы."
   ]
  },
  {
   "cell_type": "code",
   "execution_count": 15,
   "metadata": {},
   "outputs": [
    {
     "data": {
      "image/png": "[encoded data removed]",
      "text/plain": [
       "<Figure size 1080x1080 with 9 Axes>"
      ]
     },
     "metadata": {
      "needs_background": "light"
     },
     "output_type": "display_data"
    }
   ],
   "source": [
    "df.hist(figsize=(15,15), edgecolor='black')\n",
    "plt.show()"
   ]
  },
  {
   "cell_type": "markdown",
   "metadata": {},
   "source": [
    "Визуальный анализ столбца `balance` подтверждает ранее сделанное предположение о распределении данных в этом столбце. Так же наблюдается дисбаланс классов в целевом признаке `exited`. "
   ]
  },
  {
   "cell_type": "markdown",
   "metadata": {},
   "source": [
    "Аномалий в данных не обнаружено."
   ]
  },
  {
   "cell_type": "markdown",
   "metadata": {},
   "source": [
    "### Преобразование типов данных"
   ]
  },
  {
   "cell_type": "markdown",
   "metadata": {},
   "source": [
    "Проведем преобразование типов данных для оптимизации памяти и процесса обучения моделей."
   ]
  },
  {
   "cell_type": "code",
   "execution_count": 16,
   "metadata": {},
   "outputs": [
    {
     "name": "stdout",
     "output_type": "stream",
     "text": [
      "<class 'pandas.core.frame.DataFrame'>\n",
      "Int64Index: 9091 entries, 0 to 9998\n",
      "Data columns (total 11 columns):\n",
      " #   Column            Non-Null Count  Dtype  \n",
      "---  ------            --------------  -----  \n",
      " 0   credit_score      9091 non-null   int64  \n",
      " 1   geography         9091 non-null   object \n",
      " 2   gender            9091 non-null   object \n",
      " 3   age               9091 non-null   int64  \n",
      " 4   tenure            9091 non-null   float64\n",
      " 5   balance           9091 non-null   float64\n",
      " 6   num_of_products   9091 non-null   int64  \n",
      " 7   has_cr_card       9091 non-null   int64  \n",
      " 8   is_active_member  9091 non-null   int64  \n",
      " 9   estimated_salary  9091 non-null   float64\n",
      " 10  exited            9091 non-null   int64  \n",
      "dtypes: float64(3), int64(6), object(2)\n",
      "memory usage: 852.3+ KB\n"
     ]
    }
   ],
   "source": [
    "df.info()"
   ]
  },
  {
   "cell_type": "markdown",
   "metadata": {},
   "source": [
    "Преобразуем категориальные признаки в численные."
   ]
  },
  {
   "cell_type": "code",
   "execution_count": 17,
   "metadata": {},
   "outputs": [
    {
     "data": {
      "text/html": [
       "<div>\n",
       "<style scoped>\n",
       "    .dataframe tbody tr th:only-of-type {\n",
       "        vertical-align: middle;\n",
       "    }\n",
       "\n",
       "    .dataframe tbody tr th {\n",
       "        vertical-align: top;\n",
       "    }\n",
       "\n",
       "    .dataframe thead th {\n",
       "        text-align: right;\n",
       "    }\n",
       "</style>\n",
       "<table border=\"1\" class=\"dataframe\">\n",
       "  <thead>\n",
       "    <tr style=\"text-align: right;\">\n",
       "      <th></th>\n",
       "      <th>credit_score</th>\n",
       "      <th>age</th>\n",
       "      <th>tenure</th>\n",
       "      <th>balance</th>\n",
       "      <th>num_of_products</th>\n",
       "      <th>has_cr_card</th>\n",
       "      <th>is_active_member</th>\n",
       "      <th>estimated_salary</th>\n",
       "      <th>exited</th>\n",
       "      <th>is_germany</th>\n",
       "      <th>is_spain</th>\n",
       "      <th>is_male</th>\n",
       "    </tr>\n",
       "  </thead>\n",
       "  <tbody>\n",
       "    <tr>\n",
       "      <th>0</th>\n",
       "      <td>619</td>\n",
       "      <td>42</td>\n",
       "      <td>2.00</td>\n",
       "      <td>0.00</td>\n",
       "      <td>1</td>\n",
       "      <td>1</td>\n",
       "      <td>1</td>\n",
       "      <td>101,348.88</td>\n",
       "      <td>1</td>\n",
       "      <td>0</td>\n",
       "      <td>0</td>\n",
       "      <td>0</td>\n",
       "    </tr>\n",
       "    <tr>\n",
       "      <th>1</th>\n",
       "      <td>608</td>\n",
       "      <td>41</td>\n",
       "      <td>1.00</td>\n",
       "      <td>83,807.86</td>\n",
       "      <td>1</td>\n",
       "      <td>0</td>\n",
       "      <td>1</td>\n",
       "      <td>112,542.58</td>\n",
       "      <td>0</td>\n",
       "      <td>0</td>\n",
       "      <td>1</td>\n",
       "      <td>0</td>\n",
       "    </tr>\n",
       "    <tr>\n",
       "      <th>2</th>\n",
       "      <td>502</td>\n",
       "      <td>42</td>\n",
       "      <td>8.00</td>\n",
       "      <td>159,660.80</td>\n",
       "      <td>3</td>\n",
       "      <td>1</td>\n",
       "      <td>0</td>\n",
       "      <td>113,931.57</td>\n",
       "      <td>1</td>\n",
       "      <td>0</td>\n",
       "      <td>0</td>\n",
       "      <td>0</td>\n",
       "    </tr>\n",
       "    <tr>\n",
       "      <th>3</th>\n",
       "      <td>699</td>\n",
       "      <td>39</td>\n",
       "      <td>1.00</td>\n",
       "      <td>0.00</td>\n",
       "      <td>2</td>\n",
       "      <td>0</td>\n",
       "      <td>0</td>\n",
       "      <td>93,826.63</td>\n",
       "      <td>0</td>\n",
       "      <td>0</td>\n",
       "      <td>0</td>\n",
       "      <td>0</td>\n",
       "    </tr>\n",
       "    <tr>\n",
       "      <th>4</th>\n",
       "      <td>850</td>\n",
       "      <td>43</td>\n",
       "      <td>2.00</td>\n",
       "      <td>125,510.82</td>\n",
       "      <td>1</td>\n",
       "      <td>1</td>\n",
       "      <td>1</td>\n",
       "      <td>79,084.10</td>\n",
       "      <td>0</td>\n",
       "      <td>0</td>\n",
       "      <td>1</td>\n",
       "      <td>0</td>\n",
       "    </tr>\n",
       "  </tbody>\n",
       "</table>\n",
       "</div>"
      ],
      "text/plain": [
       "   credit_score  age  tenure    balance  num_of_products  has_cr_card  \\\n",
       "0           619   42    2.00       0.00                1            1   \n",
       "1           608   41    1.00  83,807.86                1            0   \n",
       "2           502   42    8.00 159,660.80                3            1   \n",
       "3           699   39    1.00       0.00                2            0   \n",
       "4           850   43    2.00 125,510.82                1            1   \n",
       "\n",
       "   is_active_member  estimated_salary  exited  is_germany  is_spain  is_male  \n",
       "0                 1        101,348.88       1           0         0        0  \n",
       "1                 1        112,542.58       0           0         1        0  \n",
       "2                 0        113,931.57       1           0         0        0  \n",
       "3                 0         93,826.63       0           0         0        0  \n",
       "4                 1         79,084.10       0           0         1        0  "
      ]
     },
     "execution_count": 17,
     "metadata": {},
     "output_type": "execute_result"
    }
   ],
   "source": [
    "df = pd.get_dummies(df, prefix='is', drop_first=True)\n",
    "df.columns = df.columns.str.lower()\n",
    "df.head()"
   ]
  },
  {
   "cell_type": "markdown",
   "metadata": {},
   "source": [
    "Проведем преобразование типов данных для оптимизации памяти."
   ]
  },
  {
   "cell_type": "code",
   "execution_count": 18,
   "metadata": {},
   "outputs": [
    {
     "name": "stdout",
     "output_type": "stream",
     "text": [
      "<class 'pandas.core.frame.DataFrame'>\n",
      "Int64Index: 9091 entries, 0 to 9998\n",
      "Data columns (total 12 columns):\n",
      " #   Column            Non-Null Count  Dtype  \n",
      "---  ------            --------------  -----  \n",
      " 0   credit_score      9091 non-null   uint16 \n",
      " 1   age               9091 non-null   uint8  \n",
      " 2   tenure            9091 non-null   uint8  \n",
      " 3   balance           9091 non-null   float32\n",
      " 4   num_of_products   9091 non-null   uint8  \n",
      " 5   has_cr_card       9091 non-null   uint8  \n",
      " 6   is_active_member  9091 non-null   uint8  \n",
      " 7   estimated_salary  9091 non-null   float32\n",
      " 8   exited            9091 non-null   uint8  \n",
      " 9   is_germany        9091 non-null   uint8  \n",
      " 10  is_spain          9091 non-null   uint8  \n",
      " 11  is_male           9091 non-null   uint8  \n",
      "dtypes: float32(2), uint16(1), uint8(9)\n",
      "memory usage: 239.7 KB\n"
     ]
    }
   ],
   "source": [
    "columns_to_replace = df.columns\n",
    "   \n",
    "for c in columns_to_replace:\n",
    "    if c == 'tenure':\n",
    "        df[c] = pd.to_numeric(df[c], downcast='unsigned')\n",
    "    elif df[c].dtypes == 'float64':\n",
    "        df[c] = pd.to_numeric(df[c], downcast='float')\n",
    "    else:\n",
    "        df[c] = pd.to_numeric(df[c], downcast='unsigned')\n",
    "        \n",
    "df.info()"
   ]
  },
  {
   "cell_type": "markdown",
   "metadata": {},
   "source": [
    "### Проверка корреляции между признаками"
   ]
  },
  {
   "cell_type": "markdown",
   "metadata": {},
   "source": [
    "Визуализируем матрицу корреляции в виде тепловой карты."
   ]
  },
  {
   "cell_type": "code",
   "execution_count": 19,
   "metadata": {},
   "outputs": [
    {
     "data": {
      "image/png": "[encoded data removed]",
      "text/plain": [
       "<Figure size 720x576 with 2 Axes>"
      ]
     },
     "metadata": {
      "needs_background": "light"
     },
     "output_type": "display_data"
    }
   ],
   "source": [
    "plt.figure(figsize=(10, 8))\n",
    "sns.heatmap(df.corr(), annot=True, cmap=\"coolwarm\")\n",
    "plt.show()"
   ]
  },
  {
   "cell_type": "markdown",
   "metadata": {},
   "source": [
    "Мультиколлинеарности признаков не выявлено."
   ]
  },
  {
   "cell_type": "markdown",
   "metadata": {},
   "source": [
    "### Разделение данных на обучающую, валидационную и тестовую выборки."
   ]
  },
  {
   "cell_type": "markdown",
   "metadata": {},
   "source": [
    "Объявим переменные с признаками для обучения"
   ]
  },
  {
   "cell_type": "code",
   "execution_count": 20,
   "metadata": {},
   "outputs": [
    {
     "data": {
      "text/plain": [
       "((9091, 11), (9091,))"
      ]
     },
     "execution_count": 20,
     "metadata": {},
     "output_type": "execute_result"
    }
   ],
   "source": [
    "features = df.drop('exited', axis=1) #  признаки объектов за исключением целевого\n",
    "target = df.exited # целевой признак\n",
    "\n",
    "features.shape, target.shape"
   ]
  },
  {
   "cell_type": "markdown",
   "metadata": {},
   "source": [
    "Разделим исходные данные на обучающую, валидационную и тестовую выборки в соотношении 3:1:1. При визуальном анализе был выявлен дисбаланс классов в целевом признаке, это следует учесть при разбивке данных. "
   ]
  },
  {
   "cell_type": "code",
   "execution_count": 21,
   "metadata": {},
   "outputs": [
    {
     "data": {
      "text/plain": [
       "(7272, 1819)"
      ]
     },
     "execution_count": 21,
     "metadata": {},
     "output_type": "execute_result"
    }
   ],
   "source": [
    "features_tr, features_test, target_tr, target_test =(\n",
    "    train_test_split(features, target, test_size=0.2, stratify=target, random_state=42)\n",
    ")\n",
    "\n",
    "features_tr.shape[0], features_test.shape[0]"
   ]
  },
  {
   "cell_type": "code",
   "execution_count": 22,
   "metadata": {},
   "outputs": [
    {
     "data": {
      "text/plain": [
       "(5454, 1818)"
      ]
     },
     "execution_count": 22,
     "metadata": {},
     "output_type": "execute_result"
    }
   ],
   "source": [
    "features_train, features_valid, target_train, target_valid =(\n",
    "    train_test_split(features_tr, target_tr, test_size=0.25, stratify=target_tr,  random_state=42)\n",
    ")\n",
    "\n",
    "features_train.shape[0], features_valid.shape[0]"
   ]
  },
  {
   "cell_type": "code",
   "execution_count": 23,
   "metadata": {},
   "outputs": [
    {
     "name": "stdout",
     "output_type": "stream",
     "text": [
      "Размерность тренировочной выборки: (5454, 11)\n",
      "Размерность валидационной выборки выборки: (1818, 11)\n",
      "Размерность тестовой выборки: (1819, 11)\n",
      "Количество положительных меток в тренировочной выборке: 1112\n",
      "Количество положительных меток в валидационной выборке: 371\n",
      "Количество положительных меток в тестовой выборке: 371\n"
     ]
    }
   ],
   "source": [
    "print('Размерность тренировочной выборки:', features_train.shape)\n",
    "print('Размерность валидационной выборки выборки:', features_valid.shape)\n",
    "print('Размерность тестовой выборки:', features_test.shape)\n",
    "print('Количество положительных меток в тренировочной выборке:', target_train.sum())\n",
    "print('Количество положительных меток в валидационной выборке:', target_valid.sum())\n",
    "print('Количество положительных меток в тестовой выборке:', target_test.sum())"
   ]
  },
  {
   "cell_type": "markdown",
   "metadata": {},
   "source": [
    "Данные были корректно разделены на обучающую, валидационную и тестовую выборки, пропорции разделения положительных меток в целевом признаке сохранены."
   ]
  },
  {
   "cell_type": "markdown",
   "metadata": {},
   "source": [
    "### Масштабирование признаков"
   ]
  },
  {
   "cell_type": "markdown",
   "metadata": {},
   "source": [
    "Для масштабирования данных используем метод стандартизации."
   ]
  },
  {
   "cell_type": "code",
   "execution_count": 24,
   "metadata": {},
   "outputs": [],
   "source": [
    "st_scaler = StandardScaler()\n",
    "st_scaler.fit(features_train)\n",
    "\n",
    "# Стандартизация обучающего набора данных\n",
    "features_train_st = (\n",
    "    pd.DataFrame(st_scaler.transform(features_train), columns=features.columns, index=features_train.index)\n",
    "    .copy()\n",
    ")\n",
    "\n",
    "# Стандартизация валидационного набора данных\n",
    "features_valid_st = (\n",
    "    pd.DataFrame(st_scaler.transform(features_valid), columns=features.columns, index=features_valid.index)\n",
    "    .copy()\n",
    ")\n",
    "\n",
    "# Стандартизация тестового набора данных\n",
    "features_test_st = (\n",
    "    pd.DataFrame(st_scaler.transform(features_test), columns=features.columns, index=features_test.index)\n",
    "    .copy()\n",
    ")"
   ]
  },
  {
   "cell_type": "markdown",
   "metadata": {},
   "source": [
    "**Выводы:**\n",
    "\n",
    "* Предоставленные на анализ данные состоят из 10000 строк и 13 столбцов. Предварительно можно утверждать, что для построения модели данных достаточно.\n",
    "\n",
    "* Исправлено нарушение стиля в названиях столбцов.\n",
    "\n",
    "* 909 строк, содержащих пропуски, были удалены.\n",
    "\n",
    "* Дубликатов и аномалий не обнаружено.\n",
    "\n",
    "* Признаки, содержащие информацию, которую не следует использовать для построения моделей, были удалены.\n",
    "\n",
    "* Проведена оптимизация объема памяти за счет изменения типа данных. В том числе было выполнено преобразование категориальных данных в числовые.\n",
    "\n",
    "* Мультиколлинеарности признаков не выявлено.\n",
    "\n",
    "* Данные были разделены на обучающую, валидационную и тестовую выборки.\n",
    "\n",
    "* Проведено масштабирование признаков.\n"
   ]
  },
  {
   "cell_type": "markdown",
   "metadata": {},
   "source": [
    "## Исследование качества моделей без учета  дисбаланса классов"
   ]
  },
  {
   "cell_type": "markdown",
   "metadata": {},
   "source": [
    "Проведем исследование качества разных моделей, изменяя гиперпараметры и оценивая их точность на валидационной выборке. Основная мертрика проверки, согласно заданию, F1-мера. Эта метрика должна быть доведена до 0,59. Дополнительно будут использованы AUC-ROC и матрица ошибок."
   ]
  },
  {
   "cell_type": "markdown",
   "metadata": {},
   "source": [
    "Объявим функции для рассчета F1, AUC-ROC и визуализации матрицы ошибок."
   ]
  },
  {
   "cell_type": "code",
   "execution_count": 25,
   "metadata": {},
   "outputs": [],
   "source": [
    "def f1_sc(model, features_train, features_valid, target_train):\n",
    "    model.fit(features_train, target_train)\n",
    "    predictions = model.predict(features_valid)\n",
    "    f1 = f1_score(target_valid, predictions)\n",
    "    \n",
    "    return f1"
   ]
  },
  {
   "cell_type": "code",
   "execution_count": 26,
   "metadata": {},
   "outputs": [],
   "source": [
    "def auc_roc_sc(model, features, target):\n",
    "    proba = model.predict_proba(features)\n",
    "    proba_one = proba[:, 1]\n",
    "    \n",
    "    return roc_auc_score(target, proba_one)"
   ]
  },
  {
   "cell_type": "code",
   "execution_count": 27,
   "metadata": {},
   "outputs": [],
   "source": [
    "def matrix_disp(model, features, target):\n",
    "    preds = model.predict(features)\n",
    "    cm = confusion_matrix(target, preds)\n",
    "    disp = ConfusionMatrixDisplay(confusion_matrix=cm, display_labels=model.classes_)\n",
    "    disp.plot()\n",
    "    plt.show()"
   ]
  },
  {
   "cell_type": "markdown",
   "metadata": {},
   "source": [
    "### Модель дерево решений"
   ]
  },
  {
   "cell_type": "markdown",
   "metadata": {},
   "source": [
    "Определим геперпараметры модели методом перебора."
   ]
  },
  {
   "cell_type": "code",
   "execution_count": 28,
   "metadata": {},
   "outputs": [],
   "source": [
    "best_f1 = 0\n",
    "scaling_methods = ['применяется', 'не применяется']\n",
    "features_max = [None, 'auto', 'sqrt', 'log2']\n",
    "splitters = ['best', 'random']\n",
    "\n",
    "best_tree = None\n",
    "\n",
    "for scaling in scaling_methods:\n",
    "    if scaling == 'применяется':\n",
    "        features_train = features_train_st\n",
    "        features_valid = features_valid_st\n",
    "    else:\n",
    "        features_train = features_train\n",
    "        features_valid = features_valid\n",
    "        \n",
    "        \n",
    "    for l in range(1, 10):\n",
    "        for f in features_max:\n",
    "            for depth in range(1, 10):\n",
    "                for s in range(2, 10):\n",
    "                    for split in splitters: \n",
    "                        tree = DecisionTreeClassifier(\n",
    "                            random_state=42, max_depth=depth, min_samples_leaf=l, max_features=f,\n",
    "                            min_samples_split=s, splitter=split\n",
    "                        )\n",
    "                        f1 = f1_sc(tree, features_train, features_valid, target_train)\n",
    "                        if f1 > best_f1:\n",
    "                            best_f1 = f1\n",
    "                            best_scaling = scaling\n",
    "                            best_depth = depth\n",
    "                            best_samples_leaf = l\n",
    "                            best_max_features = f\n",
    "                            best_samples_split = s\n",
    "                            best_split = split\n",
    "                            best_tree = tree"
   ]
  },
  {
   "cell_type": "code",
   "execution_count": 29,
   "metadata": {
    "scrolled": true
   },
   "outputs": [
    {
     "name": "stdout",
     "output_type": "stream",
     "text": [
      "F1 лучшей модели: 0.5968\n",
      "масштабирование: применяется\n",
      "глубина дерева: 7\n",
      "количество образцов для создания листового узла: 1\n",
      "количество признаков для разбиения: None\n",
      "количество образцов для разделения узла: 9\n",
      "стратегия разделения: best\n"
     ]
    }
   ],
   "source": [
    "print(f'F1 лучшей модели: {best_f1:,.4f}')\n",
    "print(f'масштабирование: {best_scaling}')\n",
    "print(f'глубина дерева: {best_depth}')\n",
    "print(f'количество образцов для создания листового узла: {best_samples_leaf}')\n",
    "print(f'количество признаков для разбиения: {best_max_features}')\n",
    "print(f'количество образцов для разделения узла: {best_samples_split}')\n",
    "print(f'стратегия разделения: {best_split}')"
   ]
  },
  {
   "cell_type": "markdown",
   "metadata": {},
   "source": [
    "Полученная модель достигла значения метрики F1, установленного в задании."
   ]
  },
  {
   "cell_type": "markdown",
   "metadata": {},
   "source": [
    "Вычислим AUC-ROC для полученной модели."
   ]
  },
  {
   "cell_type": "code",
   "execution_count": 30,
   "metadata": {},
   "outputs": [
    {
     "name": "stdout",
     "output_type": "stream",
     "text": [
      "AUC-ROC лучшей модели: 0.8276\n"
     ]
    }
   ],
   "source": [
    "auc_roc_tree = auc_roc_sc(best_tree, features_valid_st, target_valid)\n",
    "print(f'AUC-ROC лучшей модели: {auc_roc_tree:,.4f}')"
   ]
  },
  {
   "cell_type": "markdown",
   "metadata": {},
   "source": [
    "Визуализируем матрицу ошибок."
   ]
  },
  {
   "cell_type": "code",
   "execution_count": 31,
   "metadata": {
    "scrolled": false
   },
   "outputs": [
    {
     "data": {
      "image/png": "[encoded data removed]",
      "text/plain": [
       "<Figure size 432x288 with 2 Axes>"
      ]
     },
     "metadata": {
      "needs_background": "light"
     },
     "output_type": "display_data"
    }
   ],
   "source": [
    "matrix_disp(best_tree, features_valid_st, target_valid)"
   ]
  },
  {
   "cell_type": "markdown",
   "metadata": {},
   "source": [
    "Модель смогла правильно идентифицировать только половину положительных наблюдений."
   ]
  },
  {
   "cell_type": "markdown",
   "metadata": {},
   "source": [
    "### Модель Случайный лес"
   ]
  },
  {
   "cell_type": "markdown",
   "metadata": {},
   "source": [
    "Методом перебора определим наилучшие значения гиперпараметров при небольшом количесве деревьев."
   ]
  },
  {
   "cell_type": "code",
   "execution_count": 32,
   "metadata": {},
   "outputs": [],
   "source": [
    "best_f1 = 0\n",
    "scaling_methods = ['применяется', 'не применяется']\n",
    "features_max = [None, 'sqrt', 'log2']\n",
    "best_scaling = None\n",
    "best_depth = None\n",
    "best_forest = None\n",
    "\n",
    "\n",
    "for scaling in scaling_methods:\n",
    "    if scaling == 'применяется':\n",
    "        features_train = features_train_st\n",
    "        features_valid = features_valid_st\n",
    "    else:\n",
    "        features_train = features_train\n",
    "        features_valid = features_valid\n",
    "        \n",
    "        \n",
    "    for depth in range(1, 20):\n",
    "        for f in features_max:\n",
    "            forest = RandomForestClassifier(\n",
    "                random_state=42, max_depth= depth, n_estimators=20, max_features=f\n",
    "            )\n",
    "            f1 = f1_sc(forest, features_train, features_valid, target_train)\n",
    "            if f1 > best_f1:\n",
    "                best_f1 = f1\n",
    "                best_scaling = scaling\n",
    "                best_depth = depth\n",
    "                best_max_features = f\n",
    "                best_forest = forest"
   ]
  },
  {
   "cell_type": "code",
   "execution_count": 33,
   "metadata": {
    "scrolled": true
   },
   "outputs": [
    {
     "name": "stdout",
     "output_type": "stream",
     "text": [
      "F1 лучшей модели: 0.5825\n",
      "масштабирование: применяется\n",
      "глубина дерева: 11\n",
      "количество признаков для разбиения: None\n"
     ]
    }
   ],
   "source": [
    "print(f'F1 лучшей модели: {best_f1:,.4f}')\n",
    "print(f'масштабирование: {best_scaling}')\n",
    "print(f'глубина дерева: {best_depth}')\n",
    "print(f'количество признаков для разбиения: {best_max_features}')"
   ]
  },
  {
   "cell_type": "code",
   "execution_count": 34,
   "metadata": {},
   "outputs": [],
   "source": [
    "best_f1 = 0\n",
    "\n",
    "for s in range(2, 10):\n",
    "    for l in range(1, 10):\n",
    "        for ln in range(10, 100, 10):\n",
    "            forest = RandomForestClassifier(\n",
    "                random_state=42, max_depth=11, min_samples_split=s,\n",
    "                min_samples_leaf=l, max_features=None, max_leaf_nodes=ln, n_estimators=20\n",
    "            )\n",
    "            f1 = f1_sc(forest, features_train_st, features_valid_st, target_train)\n",
    "            if f1 > best_f1:\n",
    "                best_f1 = f1\n",
    "                best_samples_split = s\n",
    "                best_samples_leaf = l\n",
    "                best_leaf_nodes = ln\n",
    "                best_forest = forest"
   ]
  },
  {
   "cell_type": "code",
   "execution_count": 35,
   "metadata": {
    "scrolled": false
   },
   "outputs": [
    {
     "name": "stdout",
     "output_type": "stream",
     "text": [
      "F1 лучшей модели: 0.5936\n",
      "количество образцов для разделения узла: 7\n",
      "количество образцов для создания листового узла: 3\n",
      "количество листовых узлов: 80\n"
     ]
    }
   ],
   "source": [
    "print(f'F1 лучшей модели: {best_f1:,.4f}')\n",
    "print(f'количество образцов для разделения узла: {best_samples_split}')\n",
    "print(f'количество образцов для создания листового узла: {best_samples_leaf}')\n",
    "print(f'количество листовых узлов: {best_leaf_nodes}')"
   ]
  },
  {
   "cell_type": "code",
   "execution_count": 36,
   "metadata": {},
   "outputs": [],
   "source": [
    "best_f1 = 0\n",
    "for ln in range(71, 90):\n",
    "    forest = RandomForestClassifier(\n",
    "        random_state=42, max_depth=11, max_features=None, max_leaf_nodes=ln,\n",
    "        min_samples_leaf=3, min_samples_split=7, n_estimators=20,\n",
    "    )\n",
    "    f1 = f1_sc(forest, features_train_st, features_valid_st, target_train)\n",
    "    if f1 > best_f1:\n",
    "        best_f1 = f1\n",
    "        best_leaf_nodes = ln\n",
    "        best_forest = forest"
   ]
  },
  {
   "cell_type": "code",
   "execution_count": 37,
   "metadata": {
    "scrolled": false
   },
   "outputs": [
    {
     "name": "stdout",
     "output_type": "stream",
     "text": [
      "F1 лучшей модели: 0.5950\n",
      "количество листовых узлов: 79\n"
     ]
    }
   ],
   "source": [
    "print(f'F1 лучшей модели: {best_f1:,.4f}')\n",
    "print(f'количество листовых узлов: {best_leaf_nodes}')"
   ]
  },
  {
   "cell_type": "markdown",
   "metadata": {},
   "source": [
    "Методом перебора определим количество деревьев."
   ]
  },
  {
   "cell_type": "code",
   "execution_count": 38,
   "metadata": {},
   "outputs": [],
   "source": [
    "best_est = 0\n",
    "best_f1 = 0\n",
    "for est in range(10, 200, 10):\n",
    "    forest = RandomForestClassifier(\n",
    "        random_state=42, max_depth=11, max_features=None, max_leaf_nodes=79,\n",
    "        min_samples_leaf=3, min_samples_split=7, n_estimators=est\n",
    "    )\n",
    "    f1 = f1_sc(forest, features_train_st, features_valid_st, target_train)\n",
    "    if f1 > best_f1:\n",
    "        best_f1 = f1\n",
    "        best_forest = forest\n",
    "        best_est = est"
   ]
  },
  {
   "cell_type": "code",
   "execution_count": 39,
   "metadata": {},
   "outputs": [
    {
     "name": "stdout",
     "output_type": "stream",
     "text": [
      "F1 лучшей модели: 0.5950, при количестве деревьев равном 20\n"
     ]
    }
   ],
   "source": [
    "print(f'F1 лучшей модели: {best_f1:,.4f}, при количестве деревьев равном {best_est}')"
   ]
  },
  {
   "cell_type": "markdown",
   "metadata": {},
   "source": [
    "Увеличение количества деревьев не привело к росту метрики F1. Ее значение достигло порогового уровня."
   ]
  },
  {
   "cell_type": "markdown",
   "metadata": {},
   "source": [
    "Вычислим AUC-ROC для полученной модели."
   ]
  },
  {
   "cell_type": "code",
   "execution_count": 40,
   "metadata": {
    "scrolled": true
   },
   "outputs": [
    {
     "name": "stdout",
     "output_type": "stream",
     "text": [
      "AUC-ROC лучшей модели: 0.8589\n"
     ]
    }
   ],
   "source": [
    "auc_roc_forest = auc_roc_sc(best_forest, features_valid_st, target_valid)\n",
    "print(f'AUC-ROC лучшей модели: {auc_roc_forest:,.4f}')"
   ]
  },
  {
   "cell_type": "markdown",
   "metadata": {},
   "source": [
    "Модель Случайный лес имеет немного большую площадь под кривой ошибок по сравнению с Деревом решений. Визуализируем матрицу ошибок, чтобы детально посмотреть, где ошибается модель."
   ]
  },
  {
   "cell_type": "code",
   "execution_count": 41,
   "metadata": {},
   "outputs": [
    {
     "data": {
      "image/png": "[encoded data removed]",
      "text/plain": [
       "<Figure size 432x288 with 2 Axes>"
      ]
     },
     "metadata": {
      "needs_background": "light"
     },
     "output_type": "display_data"
    }
   ],
   "source": [
    "matrix_disp(best_forest, features_valid_st, target_valid)"
   ]
  },
  {
   "cell_type": "markdown",
   "metadata": {},
   "source": [
    "Модель смогла правильно идентифицировать чуть меньше половины положительных наблюдений, при этом большая часть положительных наблюдений не была обнаружена."
   ]
  },
  {
   "cell_type": "markdown",
   "metadata": {},
   "source": [
    "### Модель Логистическая регрессия"
   ]
  },
  {
   "cell_type": "markdown",
   "metadata": {},
   "source": [
    "Методом перебора определим наилучшие значения гиперпараметров Метод оптимизации и Тип регуляризации."
   ]
  },
  {
   "cell_type": "code",
   "execution_count": 42,
   "metadata": {
    "scrolled": true
   },
   "outputs": [],
   "source": [
    "best_f1 = 0\n",
    "scaling_methods = ['применяется', 'не применяется']\n",
    "solvers = ['lbfgs', 'liblinear', 'newton-cg', 'sag', 'saga']\n",
    "penalties_by_solver = {\n",
    "    'lbfgs': ['l2', 'none'],\n",
    "    'liblinear': ['l1', 'l2'],\n",
    "    'newton-cg': ['l2', 'none'],\n",
    "    'sag': ['l2', 'none'],\n",
    "    'saga': ['l1', 'l2', 'none']\n",
    "}\n",
    "\n",
    "best_scaling = None\n",
    "best_penalty = None\n",
    "best_solver = None\n",
    "best_log_reg = None\n",
    "\n",
    "for scaling in scaling_methods:\n",
    "    if scaling == 'применяется':\n",
    "        features_train = features_train_st\n",
    "        features_valid = features_valid_st\n",
    "    else:\n",
    "        features_train = features_train\n",
    "        features_valid = features_valid\n",
    "    \n",
    "    for sol in solvers:\n",
    "        penalties = penalties_by_solver[sol]\n",
    "        \n",
    "        for pen in penalties:\n",
    "            log_reg = LogisticRegression(random_state=42, penalty=pen, solver=sol)\n",
    "            f1 = f1_sc(log_reg, features_train, features_valid, target_train)\n",
    "            \n",
    "            if f1 > best_f1:\n",
    "                best_f1 = f1\n",
    "                best_scaling = scaling\n",
    "                best_penalty = pen\n",
    "                best_solver = sol\n",
    "                best_log_reg = log_reg\n",
    "                "
   ]
  },
  {
   "cell_type": "code",
   "execution_count": 43,
   "metadata": {
    "scrolled": false
   },
   "outputs": [
    {
     "name": "stdout",
     "output_type": "stream",
     "text": [
      "F1 лучшей модели: 0.3052\n",
      "масштабирование: применяется\n",
      "метод оптимизации: lbfgs\n",
      "тип регуляризации: l2\n"
     ]
    }
   ],
   "source": [
    "print(f'F1 лучшей модели: {best_f1:,.4f}')\n",
    "print(f'масштабирование: {best_scaling}')\n",
    "print(f'метод оптимизации: {best_solver}')\n",
    "print(f'тип регуляризации: {best_penalty}')"
   ]
  },
  {
   "cell_type": "markdown",
   "metadata": {},
   "source": [
    "Попробуем уменьшит регуляризацию, чтобы модель акцентировала внимание на каждом наблюдении."
   ]
  },
  {
   "cell_type": "code",
   "execution_count": 44,
   "metadata": {},
   "outputs": [
    {
     "name": "stdout",
     "output_type": "stream",
     "text": [
      "F1 лучшей модели: 0.3052, обратный коэффициент регуляризации: 1\n"
     ]
    }
   ],
   "source": [
    "best_f1 = 0\n",
    "best_st = 0\n",
    "\n",
    "for strength in range(1, 50):\n",
    "    log_reg = LogisticRegression(random_state=42, penalty='l2', solver='lbfgs', C=strength)\n",
    "    f1 = f1_sc(log_reg, features_train_st, features_valid_st, target_train)\n",
    "    \n",
    "    if f1 > best_f1:\n",
    "        best_f1 = f1\n",
    "        best_st = strength\n",
    "        best_log_reg = log_reg\n",
    "            \n",
    "print(f'F1 лучшей модели: {best_f1:,.4f}, обратный коэффициент регуляризации: {best_st}')"
   ]
  },
  {
   "cell_type": "markdown",
   "metadata": {},
   "source": [
    "Увеличение обратного коэффициента регуляризации не привело к увеличению метрики F1."
   ]
  },
  {
   "cell_type": "markdown",
   "metadata": {},
   "source": [
    "Вычислим AUC-ROC для полученной модели."
   ]
  },
  {
   "cell_type": "code",
   "execution_count": 45,
   "metadata": {
    "scrolled": true
   },
   "outputs": [
    {
     "name": "stdout",
     "output_type": "stream",
     "text": [
      "AUC-ROC лучшей модели: 0.7641\n"
     ]
    }
   ],
   "source": [
    "auc_roc_forest = auc_roc_sc(best_log_reg, features_valid_st, target_valid)\n",
    "print(f'AUC-ROC лучшей модели: {auc_roc_forest:,.4f}')"
   ]
  },
  {
   "cell_type": "markdown",
   "metadata": {},
   "source": [
    "Визуализируем матрицу ошибок, чтобы детально посмотреть где ошибается модель."
   ]
  },
  {
   "cell_type": "code",
   "execution_count": 46,
   "metadata": {},
   "outputs": [
    {
     "data": {
      "image/png": "[encoded data removed]",
      "text/plain": [
       "<Figure size 432x288 with 2 Axes>"
      ]
     },
     "metadata": {
      "needs_background": "light"
     },
     "output_type": "display_data"
    }
   ],
   "source": [
    "matrix_disp(best_log_reg, features_valid_st, target_valid)"
   ]
  },
  {
   "cell_type": "markdown",
   "metadata": {},
   "source": [
    "Модель Логистическая регрессия показала худшие результаты по сравнению с моделями Дерево решений и Случайный лес."
   ]
  },
  {
   "cell_type": "markdown",
   "metadata": {},
   "source": [
    "### Модель K-ближайших соседей (KNN)."
   ]
  },
  {
   "cell_type": "markdown",
   "metadata": {},
   "source": [
    "Методом перебора определим наилучшие значения гиперпараметров "
   ]
  },
  {
   "cell_type": "code",
   "execution_count": 47,
   "metadata": {
    "scrolled": true
   },
   "outputs": [],
   "source": [
    "best_f1 = 0\n",
    "scaling_methods = ['применяется', 'не применяется']\n",
    "\n",
    "best_scaling = None\n",
    "best_n = 0\n",
    "best_p = 0\n",
    "best_knn = None\n",
    "\n",
    "for scaling in scaling_methods:\n",
    "    if scaling == 'применяется':\n",
    "        features_train = features_train_st\n",
    "        features_valid = features_valid_st\n",
    "    else:\n",
    "        features_train = features_train\n",
    "        features_valid = features_valid\n",
    "    \n",
    "    for n in range(3, 20, 2):\n",
    "        for p in range(1, 4):\n",
    "            knn = KNeighborsClassifier(n_neighbors=n, p=p)\n",
    "            f1 = f1_sc(knn, features_train, features_valid, target_train)\n",
    "                        \n",
    "            if f1 > best_f1:\n",
    "                best_f1 = f1\n",
    "                best_scaling = scaling\n",
    "                best_n = n\n",
    "                best_p = p\n",
    "                best_knn = knn"
   ]
  },
  {
   "cell_type": "code",
   "execution_count": 48,
   "metadata": {},
   "outputs": [
    {
     "name": "stdout",
     "output_type": "stream",
     "text": [
      "F1 лучшей модели: 0.4763\n",
      "масштабирование: применяется\n",
      "количество ближайших соседей: 3\n",
      "метрика расстояния: 1\n"
     ]
    }
   ],
   "source": [
    "print(f'F1 лучшей модели: {best_f1:,.4f}')\n",
    "print(f'масштабирование: {best_scaling}')\n",
    "print(f'количество ближайших соседей: {best_n}')\n",
    "print(f'метрика расстояния: {best_p}')"
   ]
  },
  {
   "cell_type": "markdown",
   "metadata": {},
   "source": [
    "Модель K-ближайших соседей не достигла установленного в задании минимального значения метрики F1. "
   ]
  },
  {
   "cell_type": "markdown",
   "metadata": {},
   "source": [
    "Вычислим AUC-ROC для полученной модели."
   ]
  },
  {
   "cell_type": "code",
   "execution_count": 49,
   "metadata": {
    "scrolled": true
   },
   "outputs": [
    {
     "name": "stdout",
     "output_type": "stream",
     "text": [
      "AUC-ROC лучшей модели: 0.7573\n"
     ]
    }
   ],
   "source": [
    "auc_roc_forest = auc_roc_sc(best_knn, features_valid_st, target_valid)\n",
    "print(f'AUC-ROC лучшей модели: {auc_roc_forest:,.4f}')"
   ]
  },
  {
   "cell_type": "markdown",
   "metadata": {},
   "source": [
    "Визуализируем матрицу ошибок, чтобы детально посмотреть где ошибается модель."
   ]
  },
  {
   "cell_type": "code",
   "execution_count": 50,
   "metadata": {
    "scrolled": false
   },
   "outputs": [
    {
     "data": {
      "image/png": "[encoded data removed]",
      "text/plain": [
       "<Figure size 432x288 with 2 Axes>"
      ]
     },
     "metadata": {
      "needs_background": "light"
     },
     "output_type": "display_data"
    }
   ],
   "source": [
    "matrix_disp(best_knn, features_valid_st, target_valid)"
   ]
  },
  {
   "cell_type": "markdown",
   "metadata": {},
   "source": [
    "Как и следовало из низкого значения метрики F1, модель делает много ошибок."
   ]
  },
  {
   "cell_type": "markdown",
   "metadata": {},
   "source": [
    "**Выводы**:\n",
    "\n",
    "* Все модели показали свои наилучшие результаты на масштабированных данный.\n",
    "\n",
    "* Наилучший результат наблюдается у модели Дерево решений, наихудший - у Логистической регрессии.\n",
    "\n",
    "* Установленный в задании минимум метрики F1 преодолели 2 модели: Дерево решений и Случайный лес."
   ]
  },
  {
   "cell_type": "markdown",
   "metadata": {},
   "source": [
    "## Улучшение качества моделей с учетом дисбаланса классов."
   ]
  },
  {
   "cell_type": "markdown",
   "metadata": {},
   "source": [
    "Оценим дисбаланс классов целевого признака."
   ]
  },
  {
   "cell_type": "code",
   "execution_count": 51,
   "metadata": {},
   "outputs": [
    {
     "data": {
      "text/plain": [
       "0.2039379606203938"
      ]
     },
     "execution_count": 51,
     "metadata": {},
     "output_type": "execute_result"
    }
   ],
   "source": [
    "churn_rate = target.sum()/len(target)\n",
    "churn_rate"
   ]
  },
  {
   "cell_type": "markdown",
   "metadata": {},
   "source": [
    "Доля положительных меток составляет 20,4%, т.е. наблюдается дисбаланс классов, который приводит к неудовлетворительным результатам работы моделей. Для улучшения результатов воспользуемся следующими подходами:\n",
    "\n",
    "1. Использование взвешивания классов.\n",
    "\n",
    "2. Увеличение выборки.\n",
    "\n",
    "3. Уменьшение выборки."
   ]
  },
  {
   "cell_type": "markdown",
   "metadata": {},
   "source": [
    "Мера качества модели останется неизменной - метрика F1 не меньше 0,59."
   ]
  },
  {
   "cell_type": "markdown",
   "metadata": {},
   "source": [
    "### Использование взвешивания классов."
   ]
  },
  {
   "cell_type": "markdown",
   "metadata": {},
   "source": [
    "Этот подход реализуется за счет изменения соответствующего гиперпараметра модели."
   ]
  },
  {
   "cell_type": "markdown",
   "metadata": {},
   "source": [
    "#### Модель дерево решений"
   ]
  },
  {
   "cell_type": "code",
   "execution_count": 52,
   "metadata": {},
   "outputs": [],
   "source": [
    "best_f1 = 0\n",
    "features_max = [None, 'auto', 'sqrt', 'log2']\n",
    "splitters = ['best', 'random']\n",
    "\n",
    "best_tree_1 = None\n",
    "\n",
    "for l in range(1, 10):\n",
    "    for f in features_max:\n",
    "        for depth in range(1, 10):\n",
    "            for s in range(2, 10):\n",
    "                for split in splitters: \n",
    "                    tree = DecisionTreeClassifier(\n",
    "                        random_state=42, max_depth=depth, min_samples_leaf=l, max_features=f,\n",
    "                        min_samples_split=s, splitter=split, class_weight='balanced'\n",
    "                    )\n",
    "                    f1 = f1_sc(tree, features_train_st, features_valid_st, target_train)\n",
    "                    if f1 > best_f1:\n",
    "                        best_f1 = f1\n",
    "                        best_depth = depth\n",
    "                        best_samples_leaf = l\n",
    "                        best_max_features = f\n",
    "                        best_samples_split = s\n",
    "                        best_split = split\n",
    "                        best_tree_1 = tree"
   ]
  },
  {
   "cell_type": "code",
   "execution_count": 53,
   "metadata": {
    "scrolled": false
   },
   "outputs": [
    {
     "name": "stdout",
     "output_type": "stream",
     "text": [
      "F1 лучшей модели: 0.5905\n",
      "глубина дерева: 9\n",
      "количество образцов для разделения узла: 6\n",
      "количество образцов для создания листового узла: 2\n",
      "количество признаков для разбиения: None\n",
      "стратегия разделения: random\n"
     ]
    }
   ],
   "source": [
    "print(f'F1 лучшей модели: {best_f1:,.4f}')\n",
    "print(f'глубина дерева: {best_depth}')\n",
    "print(f'количество образцов для разделения узла: {best_samples_split}')\n",
    "print(f'количество образцов для создания листового узла: {best_samples_leaf}')\n",
    "print(f'количество признаков для разбиения: {best_max_features}')\n",
    "print(f'стратегия разделения: {best_split}')"
   ]
  },
  {
   "cell_type": "markdown",
   "metadata": {},
   "source": [
    "Реализация данного подхода не привела к увеличению исследуемой метрики."
   ]
  },
  {
   "cell_type": "markdown",
   "metadata": {},
   "source": [
    "#### Модель Случайный лес"
   ]
  },
  {
   "cell_type": "code",
   "execution_count": 54,
   "metadata": {},
   "outputs": [],
   "source": [
    "best_f1 = 0\n",
    "class_weights = ['balanced', 'balanced_subsample']\n",
    "features_max = [None, 'sqrt', 'log2']\n",
    "best_depth = None\n",
    "best_forest_1 = None\n",
    "\n",
    "\n",
    "for weight in class_weights:\n",
    "    for depth in range(1, 20):\n",
    "        for f in features_max:\n",
    "            forest = RandomForestClassifier(\n",
    "                random_state=42, max_depth=depth, n_estimators=20, max_features=f, class_weight=weight \n",
    "            )\n",
    "            f1 = f1_sc(forest, features_train, features_valid, target_train)\n",
    "            if f1 > best_f1:\n",
    "                best_f1 = f1\n",
    "                best_weight = weight\n",
    "                best_depth = depth\n",
    "                best_max_features = f\n",
    "                best_forest_1 = forest"
   ]
  },
  {
   "cell_type": "code",
   "execution_count": 55,
   "metadata": {
    "scrolled": false
   },
   "outputs": [
    {
     "name": "stdout",
     "output_type": "stream",
     "text": [
      "F1 лучшей модели: 0.6154\n",
      "метод взвешивания классов: balanced_subsample\n",
      "глубина дерева: 11\n",
      "количество признаков для разбиения: sqrt\n"
     ]
    }
   ],
   "source": [
    "print(f'F1 лучшей модели: {best_f1:,.4f}')\n",
    "print(f'метод взвешивания классов: {best_weight}')\n",
    "print(f'глубина дерева: {best_depth}')\n",
    "print(f'количество признаков для разбиения: {best_max_features}')"
   ]
  },
  {
   "cell_type": "code",
   "execution_count": 56,
   "metadata": {},
   "outputs": [],
   "source": [
    "best_f1 = 0\n",
    "best_forest_1 = None\n",
    "\n",
    "for s in range(2, 10):\n",
    "    for l in range(1, 10):\n",
    "        for ln in range(10, 100, 10):\n",
    "            forest = RandomForestClassifier(\n",
    "                random_state=42, max_depth=11, min_samples_split=s, class_weight='balanced_subsample',\n",
    "                min_samples_leaf=l, max_features='sqrt', max_leaf_nodes=ln, n_estimators=20\n",
    "            )\n",
    "            f1 = f1_sc(forest, features_train_st, features_valid_st, target_train)\n",
    "            if f1 > best_f1:\n",
    "                best_f1 = f1\n",
    "                best_samples_split = s\n",
    "                best_samples_leaf = l\n",
    "                best_leaf_nodes = ln\n",
    "                best_forest_1 = forest"
   ]
  },
  {
   "cell_type": "code",
   "execution_count": 57,
   "metadata": {
    "scrolled": true
   },
   "outputs": [
    {
     "name": "stdout",
     "output_type": "stream",
     "text": [
      "F1 лучшей модели: 0.6193\n",
      "количество образцов для разделения узла: 2\n",
      "количество образцов для создания листового узла: 9\n",
      "количество листовых узлов: 60\n"
     ]
    }
   ],
   "source": [
    "print(f'F1 лучшей модели: {best_f1:,.4f}')\n",
    "print(f'количество образцов для разделения узла: {best_samples_split}')\n",
    "print(f'количество образцов для создания листового узла: {best_samples_leaf}')\n",
    "print(f'количество листовых узлов: {best_leaf_nodes}')"
   ]
  },
  {
   "cell_type": "code",
   "execution_count": 58,
   "metadata": {},
   "outputs": [],
   "source": [
    "best_f1 = 0\n",
    "for ln in range(51, 70):\n",
    "    forest = RandomForestClassifier(\n",
    "        class_weight='balanced_subsample', max_depth=11, max_leaf_nodes=ln,\n",
    "        max_features='sqrt', min_samples_leaf=9, n_estimators=20, random_state=42\n",
    "    )\n",
    "    f1 = f1_sc(forest, features_train_st, features_valid_st, target_train)\n",
    "    if f1 > best_f1:\n",
    "        best_f1 = f1\n",
    "        best_leaf_nodes = ln\n",
    "        best_forest_1 = forest"
   ]
  },
  {
   "cell_type": "code",
   "execution_count": 59,
   "metadata": {
    "scrolled": true
   },
   "outputs": [
    {
     "name": "stdout",
     "output_type": "stream",
     "text": [
      "F1 лучшей модели: 0.6199\n",
      "количество листовых узлов: 62\n"
     ]
    }
   ],
   "source": [
    "print(f'F1 лучшей модели: {best_f1:,.4f}')\n",
    "print(f'количество листовых узлов: {best_leaf_nodes}')"
   ]
  },
  {
   "cell_type": "code",
   "execution_count": 60,
   "metadata": {},
   "outputs": [],
   "source": [
    "best_est = 0\n",
    "best_f1 = 0\n",
    "for est in range(10, 200, 10):\n",
    "    forest = RandomForestClassifier(\n",
    "        class_weight='balanced_subsample', max_depth=11, max_features='sqrt', \n",
    "        max_leaf_nodes=62, min_samples_leaf=9, n_estimators=est, random_state=42\n",
    "    )\n",
    "    f1 = f1_sc(forest, features_train_st, features_valid_st, target_train)\n",
    "    if f1 > best_f1:\n",
    "        best_f1 = f1\n",
    "        best_forest_1 = forest\n",
    "        best_est = est"
   ]
  },
  {
   "cell_type": "code",
   "execution_count": 61,
   "metadata": {},
   "outputs": [
    {
     "name": "stdout",
     "output_type": "stream",
     "text": [
      "F1 лучшей модели: 0.6199, при количестве деревьев равном 20\n"
     ]
    }
   ],
   "source": [
    "print(f'F1 лучшей модели: {best_f1:,.4f}, при количестве деревьев равном {best_est}')"
   ]
  },
  {
   "cell_type": "markdown",
   "metadata": {},
   "source": [
    "Реализация данного подхода привела к увеличению исследуемой метрики."
   ]
  },
  {
   "cell_type": "markdown",
   "metadata": {},
   "source": [
    "#### Модель Логистическая регрессия."
   ]
  },
  {
   "cell_type": "code",
   "execution_count": 62,
   "metadata": {
    "scrolled": true
   },
   "outputs": [],
   "source": [
    "best_f1 = 0\n",
    "solvers = ['lbfgs', 'liblinear', 'newton-cg', 'sag', 'saga']\n",
    "penalties_by_solver = {\n",
    "    'lbfgs': ['l2', 'none'],\n",
    "    'liblinear': ['l1', 'l2'],\n",
    "    'newton-cg': ['l2', 'none'],\n",
    "    'sag': ['l2', 'none'],\n",
    "    'saga': ['l1', 'l2', 'none']\n",
    "}\n",
    "\n",
    "best_penalty = None\n",
    "best_solver = None\n",
    "best_log_reg_1 = None\n",
    "\n",
    "for sol in solvers:  \n",
    "    penalties = penalties_by_solver[sol]\n",
    "    \n",
    "    for pen in penalties:\n",
    "        log_reg = LogisticRegression(class_weight='balanced', random_state=42, penalty=pen, solver=sol)\n",
    "        f1 = f1_sc(log_reg, features_train_st, features_valid_st, target_train)\n",
    "        \n",
    "        if f1 > best_f1:\n",
    "            best_f1 = f1             \n",
    "            best_penalty = pen\n",
    "            best_solver = sol\n",
    "            best_log_reg_1 = log_reg"
   ]
  },
  {
   "cell_type": "code",
   "execution_count": 63,
   "metadata": {
    "scrolled": false
   },
   "outputs": [
    {
     "name": "stdout",
     "output_type": "stream",
     "text": [
      "F1 лучшей модели: 0.4912\n",
      "метод оптимизации: lbfgs\n",
      "тип регуляризации: l2\n"
     ]
    }
   ],
   "source": [
    "print(f'F1 лучшей модели: {best_f1:,.4f}')\n",
    "print(f'метод оптимизации: {best_solver}')\n",
    "print(f'тип регуляризации: {best_penalty}')"
   ]
  },
  {
   "cell_type": "markdown",
   "metadata": {},
   "source": [
    "Реализация данного подхода привела к увеличению метрики F1 почти на две трети, но ее значение так и не достигло установленного минимума."
   ]
  },
  {
   "cell_type": "markdown",
   "metadata": {},
   "source": [
    "#### Модель K-ближайших соседей."
   ]
  },
  {
   "cell_type": "code",
   "execution_count": 64,
   "metadata": {
    "scrolled": true
   },
   "outputs": [],
   "source": [
    "best_f1 = 0\n",
    "best_n = 0\n",
    "best_p = 0\n",
    "best_knn_1 = None\n",
    "\n",
    "for n in range(3, 20, 2):\n",
    "    for p in range(1, 4):\n",
    "        knn = KNeighborsClassifier(weights='distance', n_neighbors=n, p=p)\n",
    "        f1 = f1_sc(knn, features_train_st, features_valid_st, target_train)\n",
    "        \n",
    "        if f1 > best_f1:\n",
    "            best_f1 = f1\n",
    "            best_n = n\n",
    "            best_p = p\n",
    "            best_knn_1 = knn"
   ]
  },
  {
   "cell_type": "code",
   "execution_count": 65,
   "metadata": {},
   "outputs": [
    {
     "name": "stdout",
     "output_type": "stream",
     "text": [
      "F1 лучшей модели: 0.4792\n",
      "количество ближайших соседей: 3\n",
      "метрика расстояния: 1\n"
     ]
    }
   ],
   "source": [
    "print(f'F1 лучшей модели: {best_f1:,.4f}')\n",
    "print(f'количество ближайших соседей: {best_n}')\n",
    "print(f'метрика расстояния: {best_p}')"
   ]
  },
  {
   "cell_type": "markdown",
   "metadata": {},
   "source": [
    "Реализация данного подхода не привела к значительному увеличению исследуемой метрики."
   ]
  },
  {
   "cell_type": "markdown",
   "metadata": {},
   "source": [
    "### Увеличение выборки."
   ]
  },
  {
   "cell_type": "markdown",
   "metadata": {},
   "source": [
    "Рассчитаем коээфициент, который отражает отношение количества отрицательных наблюдений к количеству положительных наблюдений в тренировочной выборке."
   ]
  },
  {
   "cell_type": "code",
   "execution_count": 66,
   "metadata": {},
   "outputs": [
    {
     "data": {
      "text/plain": [
       "4"
      ]
     },
     "execution_count": 66,
     "metadata": {},
     "output_type": "execute_result"
    }
   ],
   "source": [
    "repeat = round((target_train.count() - target_train.sum())/target_train.sum())\n",
    "repeat"
   ]
  },
  {
   "cell_type": "code",
   "execution_count": 67,
   "metadata": {},
   "outputs": [
    {
     "data": {
      "text/plain": [
       "((8790, 11), (8790,), 4448)"
      ]
     },
     "execution_count": 67,
     "metadata": {},
     "output_type": "execute_result"
    }
   ],
   "source": [
    "features_zeros = features_train_st[target_train == 0]\n",
    "features_ones = features_train_st[target_train == 1]\n",
    "target_zeros = target_train[target_train == 0]\n",
    "target_ones = target_train[target_train == 1]\n",
    "\n",
    "features_upsampled = pd.concat([features_zeros] + [features_ones] * repeat)\n",
    "target_upsampled = pd.concat([target_zeros] + [target_ones] * repeat)\n",
    "    \n",
    "features_upsampled, target_upsampled = shuffle(features_upsampled, target_upsampled, random_state=42)\n",
    "    \n",
    "features_upsampled.shape, target_upsampled.shape, target_upsampled.sum()"
   ]
  },
  {
   "cell_type": "markdown",
   "metadata": {},
   "source": [
    "#### Модель дерево решений"
   ]
  },
  {
   "cell_type": "code",
   "execution_count": 68,
   "metadata": {},
   "outputs": [],
   "source": [
    "best_f1 = 0\n",
    "features_max = [None, 'auto', 'sqrt', 'log2']\n",
    "splitters = ['best', 'random']\n",
    "\n",
    "best_tree_2 = None\n",
    "\n",
    "for l in range(1, 10):\n",
    "    for f in features_max:\n",
    "        for depth in range(1, 10):\n",
    "            for s in range(2, 10):\n",
    "                for split in splitters: \n",
    "                    tree = DecisionTreeClassifier(\n",
    "                        random_state=42, max_depth=depth, min_samples_leaf=l, max_features=f,\n",
    "                        min_samples_split=s, splitter=split\n",
    "                    )\n",
    "                    f1 = f1_sc(tree, features_upsampled, features_valid_st, target_upsampled)\n",
    "                    if f1 > best_f1:\n",
    "                        best_f1 = f1\n",
    "                        best_depth = depth\n",
    "                        best_samples_leaf = l\n",
    "                        best_max_features = f\n",
    "                        best_samples_split = s\n",
    "                        best_split = split\n",
    "                        best_tree_2 = tree"
   ]
  },
  {
   "cell_type": "code",
   "execution_count": 69,
   "metadata": {
    "scrolled": false
   },
   "outputs": [
    {
     "name": "stdout",
     "output_type": "stream",
     "text": [
      "F1 лучшей модели: 0.5869\n",
      "глубина дерева: 8\n",
      "количество образцов для разделения узла: 6\n",
      "количество образцов для создания листового узла: 1\n",
      "количество признаков для разбиения: None\n",
      "стратегия разделения: random\n"
     ]
    }
   ],
   "source": [
    "print(f'F1 лучшей модели: {best_f1:,.4f}')\n",
    "print(f'глубина дерева: {best_depth}')\n",
    "print(f'количество образцов для разделения узла: {best_samples_split}')\n",
    "print(f'количество образцов для создания листового узла: {best_samples_leaf}')\n",
    "print(f'количество признаков для разбиения: {best_max_features}')\n",
    "print(f'стратегия разделения: {best_split}')"
   ]
  },
  {
   "cell_type": "markdown",
   "metadata": {},
   "source": [
    "Реализация данного подхода не привела к увеличению исследуемой метрики."
   ]
  },
  {
   "cell_type": "markdown",
   "metadata": {},
   "source": [
    "#### Модель Случайный лес"
   ]
  },
  {
   "cell_type": "code",
   "execution_count": 70,
   "metadata": {},
   "outputs": [],
   "source": [
    "best_f1 = 0\n",
    "features_max = [None, 'sqrt', 'log2']\n",
    "best_depth = None\n",
    "best_forest_2 = None\n",
    "\n",
    "\n",
    "for depth in range(1, 20):\n",
    "    for f in features_max:\n",
    "        forest = RandomForestClassifier(\n",
    "            random_state=42, max_depth=depth, n_estimators=20, max_features=f\n",
    "        )\n",
    "        f1 = f1_sc(forest, features_upsampled, features_valid_st, target_upsampled)\n",
    "        if f1 > best_f1:\n",
    "            best_f1 = f1\n",
    "            best_weight = weight\n",
    "            best_depth = depth\n",
    "            best_max_features = f\n",
    "            best_forest_2 = forest"
   ]
  },
  {
   "cell_type": "code",
   "execution_count": 71,
   "metadata": {
    "scrolled": false
   },
   "outputs": [
    {
     "name": "stdout",
     "output_type": "stream",
     "text": [
      "F1 лучшей модели: 0.6032\n",
      "глубина дерева: 11\n",
      "количество признаков для разбиения: sqrt\n"
     ]
    }
   ],
   "source": [
    "print(f'F1 лучшей модели: {best_f1:,.4f}')\n",
    "print(f'глубина дерева: {best_depth}')\n",
    "print(f'количество признаков для разбиения: {best_max_features}')"
   ]
  },
  {
   "cell_type": "code",
   "execution_count": 72,
   "metadata": {},
   "outputs": [],
   "source": [
    "best_f1 = 0\n",
    "best_forest_2 = None\n",
    "\n",
    "for s in range(2, 10):\n",
    "    for l in range(1, 10):\n",
    "        for ln in range(10, 100, 10):\n",
    "            forest = RandomForestClassifier(\n",
    "                random_state=42, max_depth=11, min_samples_split=s,\n",
    "                min_samples_leaf=l, max_features='sqrt', max_leaf_nodes=ln, n_estimators=20\n",
    "            )\n",
    "            f1 = f1_sc(forest, features_upsampled, features_valid_st, target_upsampled)\n",
    "            if f1 > best_f1:\n",
    "                best_f1 = f1\n",
    "                best_samples_split = s\n",
    "                best_samples_leaf = l\n",
    "                best_leaf_nodes = ln\n",
    "                best_forest_2 = forest"
   ]
  },
  {
   "cell_type": "code",
   "execution_count": 73,
   "metadata": {
    "scrolled": true
   },
   "outputs": [
    {
     "name": "stdout",
     "output_type": "stream",
     "text": [
      "F1 лучшей модели: 0.6052\n",
      "количество образцов для разделения узла: 2\n",
      "количество образцов для создания листового узла: 6\n",
      "количество листовых узлов: 80\n"
     ]
    }
   ],
   "source": [
    "print(f'F1 лучшей модели: {best_f1:,.4f}')\n",
    "print(f'количество образцов для разделения узла: {best_samples_split}')\n",
    "print(f'количество образцов для создания листового узла: {best_samples_leaf}')\n",
    "print(f'количество листовых узлов: {best_leaf_nodes}')"
   ]
  },
  {
   "cell_type": "code",
   "execution_count": 74,
   "metadata": {},
   "outputs": [],
   "source": [
    "best_f1 = 0\n",
    "for ln in range(71, 90):\n",
    "    forest = RandomForestClassifier(\n",
    "        max_depth=11, max_leaf_nodes=ln, max_features='sqrt', min_samples_leaf=6,\n",
    "        n_estimators=20, random_state=42\n",
    "    )\n",
    "    f1 = f1_sc(forest, features_upsampled, features_valid_st, target_upsampled)\n",
    "    if f1 > best_f1:\n",
    "        best_f1 = f1\n",
    "        best_leaf_nodes = ln\n",
    "        best_forest_2 = forest"
   ]
  },
  {
   "cell_type": "code",
   "execution_count": 75,
   "metadata": {
    "scrolled": true
   },
   "outputs": [
    {
     "name": "stdout",
     "output_type": "stream",
     "text": [
      "F1 лучшей модели: 0.6052\n",
      "количество листовых узлов: 80\n"
     ]
    }
   ],
   "source": [
    "print(f'F1 лучшей модели: {best_f1:,.4f}')\n",
    "print(f'количество листовых узлов: {best_leaf_nodes}')"
   ]
  },
  {
   "cell_type": "code",
   "execution_count": 76,
   "metadata": {},
   "outputs": [],
   "source": [
    "best_est = 0\n",
    "best_f1 = 0\n",
    "for est in range(10, 200, 10):\n",
    "    forest = RandomForestClassifier(\n",
    "        max_depth=11, max_leaf_nodes=80, max_features='sqrt', min_samples_leaf=6,\n",
    "        n_estimators=est, random_state=42\n",
    "    )\n",
    "    f1 = f1_sc(forest, features_upsampled, features_valid_st, target_upsampled)\n",
    "    if f1 > best_f1:\n",
    "        best_f1 = f1\n",
    "        best_forest_2 = forest\n",
    "        best_est = est"
   ]
  },
  {
   "cell_type": "code",
   "execution_count": 77,
   "metadata": {},
   "outputs": [
    {
     "name": "stdout",
     "output_type": "stream",
     "text": [
      "F1 лучшей модели: 0.6052, при количестве деревьев равном 20\n"
     ]
    }
   ],
   "source": [
    "print(f'F1 лучшей модели: {best_f1:,.4f}, при количестве деревьев равном {best_est}')"
   ]
  },
  {
   "cell_type": "markdown",
   "metadata": {},
   "source": [
    "Реализация данного подхода не привела к увеличению исследуемой метрики."
   ]
  },
  {
   "cell_type": "markdown",
   "metadata": {},
   "source": [
    "#### Модель Логистическая регрессия."
   ]
  },
  {
   "cell_type": "code",
   "execution_count": 78,
   "metadata": {
    "scrolled": true
   },
   "outputs": [],
   "source": [
    "best_f1 = 0\n",
    "solvers = ['lbfgs', 'liblinear', 'newton-cg', 'sag', 'saga']\n",
    "penalties_by_solver = {\n",
    "    'lbfgs': ['l2', 'none'],\n",
    "    'liblinear': ['l1', 'l2'],\n",
    "    'newton-cg': ['l2', 'none'],\n",
    "    'sag': ['l2', 'none'],\n",
    "    'saga': ['l1', 'l2', 'none']\n",
    "}\n",
    "\n",
    "best_penalty = None\n",
    "best_solver = None\n",
    "best_log_reg_2 = None\n",
    "\n",
    "for sol in solvers:  \n",
    "    penalties = penalties_by_solver[sol]\n",
    "    \n",
    "    for pen in penalties:\n",
    "        log_reg = LogisticRegression(random_state=42, penalty=pen, solver=sol)\n",
    "        f1 = f1_sc(log_reg, features_upsampled, features_valid_st, target_upsampled)\n",
    "        \n",
    "        if f1 > best_f1:\n",
    "            best_f1 = f1             \n",
    "            best_penalty = pen\n",
    "            best_solver = sol\n",
    "            best_log_reg_2 = log_reg"
   ]
  },
  {
   "cell_type": "code",
   "execution_count": 79,
   "metadata": {
    "scrolled": false
   },
   "outputs": [
    {
     "name": "stdout",
     "output_type": "stream",
     "text": [
      "F1 лучшей модели: 0.4908\n",
      "метод оптимизации: lbfgs\n",
      "тип регуляризации: l2\n"
     ]
    }
   ],
   "source": [
    "print(f'F1 лучшей модели: {best_f1:,.4f}')\n",
    "print(f'метод оптимизации: {best_solver}')\n",
    "print(f'тип регуляризации: {best_penalty}')"
   ]
  },
  {
   "cell_type": "markdown",
   "metadata": {},
   "source": [
    "Реализация данного подхода показала немного худшие результаты по сравнению с использованием весов классов."
   ]
  },
  {
   "cell_type": "markdown",
   "metadata": {},
   "source": [
    "#### Модель K-ближайших соседей."
   ]
  },
  {
   "cell_type": "code",
   "execution_count": 80,
   "metadata": {
    "scrolled": true
   },
   "outputs": [],
   "source": [
    "best_f1 = 0\n",
    "best_n = 0\n",
    "best_p = 0\n",
    "best_knn_2 = None\n",
    "\n",
    "for n in range(3, 20, 2):\n",
    "    for p in range(1, 4):\n",
    "        knn = KNeighborsClassifier(n_neighbors=n, p=p)\n",
    "        f1 = f1_sc(knn, features_upsampled, features_valid_st, target_upsampled)\n",
    "        \n",
    "        if f1 > best_f1:\n",
    "            best_f1 = f1\n",
    "            best_n = n\n",
    "            best_p = p\n",
    "            best_knn_2 = knn"
   ]
  },
  {
   "cell_type": "code",
   "execution_count": 81,
   "metadata": {},
   "outputs": [
    {
     "name": "stdout",
     "output_type": "stream",
     "text": [
      "F1 лучшей модели: 0.5607\n",
      "количество ближайших соседей: 17\n",
      "метрика расстояния: 1\n"
     ]
    }
   ],
   "source": [
    "print(f'F1 лучшей модели: {best_f1:,.4f}')\n",
    "print(f'количество ближайших соседей: {best_n}')\n",
    "print(f'метрика расстояния: {best_p}')"
   ]
  },
  {
   "cell_type": "markdown",
   "metadata": {},
   "source": [
    "Реализация этого подхода привела к увеличению исследуемой метрики, но минимальный порог так и не был достигнут."
   ]
  },
  {
   "cell_type": "markdown",
   "metadata": {},
   "source": [
    "### Уменьшение выборки."
   ]
  },
  {
   "cell_type": "markdown",
   "metadata": {},
   "source": [
    "Рассчитаем коээфициент, который отражает отношение количества положительных наблюдений к количеству отрицательных наблюдений в тренировочной выборке."
   ]
  },
  {
   "cell_type": "code",
   "execution_count": 82,
   "metadata": {},
   "outputs": [
    {
     "data": {
      "text/plain": [
       "0.25610317825886686"
      ]
     },
     "execution_count": 82,
     "metadata": {},
     "output_type": "execute_result"
    }
   ],
   "source": [
    "fraction = target_train.sum()/(target_train.count() - target_train.sum())\n",
    "fraction"
   ]
  },
  {
   "cell_type": "code",
   "execution_count": 83,
   "metadata": {},
   "outputs": [
    {
     "data": {
      "text/plain": [
       "((2224, 11), (2224,), 1112)"
      ]
     },
     "execution_count": 83,
     "metadata": {},
     "output_type": "execute_result"
    }
   ],
   "source": [
    "features_zeros = features_train_st[target_train == 0]\n",
    "features_ones = features_train_st[target_train == 1]\n",
    "target_zeros = target_train[target_train == 0]\n",
    "target_ones = target_train[target_train == 1]\n",
    "\n",
    "features_downsampled = pd.concat([features_zeros.sample(frac=fraction, random_state=42)] + [features_ones])\n",
    "target_downsampled = pd.concat([target_zeros.sample(frac=fraction, random_state=42)] + [target_ones])\n",
    "    \n",
    "features_downsampled, target_downsampled = shuffle(features_downsampled, target_downsampled, random_state=42)\n",
    "    \n",
    "features_downsampled.shape, target_downsampled.shape, target_downsampled.sum()"
   ]
  },
  {
   "cell_type": "markdown",
   "metadata": {},
   "source": [
    "#### Модель дерево решений"
   ]
  },
  {
   "cell_type": "code",
   "execution_count": 84,
   "metadata": {},
   "outputs": [],
   "source": [
    "best_f1 = 0\n",
    "features_max = [None, 'auto', 'sqrt', 'log2']\n",
    "splitters = ['best', 'random']\n",
    "\n",
    "best_tree_3 = None\n",
    "\n",
    "for l in range(1, 10):\n",
    "    for f in features_max:\n",
    "        for depth in range(1, 10):\n",
    "            for s in range(2, 10):\n",
    "                for split in splitters: \n",
    "                    tree = DecisionTreeClassifier(\n",
    "                        random_state=42, max_depth=depth, min_samples_leaf=l, max_features=f,\n",
    "                        min_samples_split=s, splitter=split\n",
    "                    )\n",
    "                    f1 = f1_sc(tree, features_downsampled, features_valid_st, target_downsampled)\n",
    "                    if f1 > best_f1:\n",
    "                        best_f1 = f1\n",
    "                        best_depth = depth\n",
    "                        best_samples_leaf = l\n",
    "                        best_max_features = f\n",
    "                        best_samples_split = s\n",
    "                        best_split = split\n",
    "                        best_tree_3 = tree"
   ]
  },
  {
   "cell_type": "code",
   "execution_count": 85,
   "metadata": {
    "scrolled": false
   },
   "outputs": [
    {
     "name": "stdout",
     "output_type": "stream",
     "text": [
      "F1 лучшей модели: 0.6000\n",
      "глубина дерева: 8\n",
      "количество образцов для разделения узла: 2\n",
      "количество образцов для создания листового узла: 9\n",
      "количество признаков для разбиения: None\n",
      "стратегия разделения: random\n"
     ]
    }
   ],
   "source": [
    "print(f'F1 лучшей модели: {best_f1:,.4f}')\n",
    "print(f'глубина дерева: {best_depth}')\n",
    "print(f'количество образцов для разделения узла: {best_samples_split}')\n",
    "print(f'количество образцов для создания листового узла: {best_samples_leaf}')\n",
    "print(f'количество признаков для разбиения: {best_max_features}')\n",
    "print(f'стратегия разделения: {best_split}')"
   ]
  },
  {
   "cell_type": "markdown",
   "metadata": {},
   "source": [
    "Реализация данного подхода привела к увеличению исследуемой метрики."
   ]
  },
  {
   "cell_type": "markdown",
   "metadata": {},
   "source": [
    "#### Модель Случайный лес"
   ]
  },
  {
   "cell_type": "code",
   "execution_count": 86,
   "metadata": {},
   "outputs": [],
   "source": [
    "best_f1 = 0\n",
    "features_max = [None, 'sqrt', 'log2']\n",
    "best_forest_3 = None\n",
    "\n",
    "for depth in range(1, 20):\n",
    "    for f in features_max:\n",
    "        forest = RandomForestClassifier(\n",
    "            random_state=42, max_depth=depth, n_estimators=20, max_features=f\n",
    "        )\n",
    "        f1 = f1_sc(forest, features_downsampled, features_valid_st, target_downsampled)\n",
    "        if f1 > best_f1:\n",
    "            best_f1 = f1\n",
    "            best_weight = weight\n",
    "            best_depth = depth\n",
    "            best_max_features = f\n",
    "            best_forest_3 = forest"
   ]
  },
  {
   "cell_type": "code",
   "execution_count": 87,
   "metadata": {
    "scrolled": false
   },
   "outputs": [
    {
     "name": "stdout",
     "output_type": "stream",
     "text": [
      "F1 лучшей модели: 0.5947\n",
      "глубина дерева: 7\n",
      "количество признаков для разбиения: sqrt\n"
     ]
    }
   ],
   "source": [
    "print(f'F1 лучшей модели: {best_f1:,.4f}')\n",
    "print(f'глубина дерева: {best_depth}')\n",
    "print(f'количество признаков для разбиения: {best_max_features}')"
   ]
  },
  {
   "cell_type": "code",
   "execution_count": 88,
   "metadata": {},
   "outputs": [],
   "source": [
    "best_f1 = 0\n",
    "best_forest_3 = None\n",
    "\n",
    "for s in range(2, 10):\n",
    "    for l in range(1, 10):\n",
    "        for ln in range(10, 100, 10):\n",
    "            forest = RandomForestClassifier(\n",
    "                random_state=42, max_depth=7, min_samples_split=s,\n",
    "                min_samples_leaf=l, max_features='sqrt', max_leaf_nodes=ln, n_estimators=20\n",
    "            )\n",
    "            f1 = f1_sc(forest, features_downsampled, features_valid_st, target_downsampled)\n",
    "            if f1 > best_f1:\n",
    "                best_f1 = f1\n",
    "                best_samples_split = s\n",
    "                best_samples_leaf = l\n",
    "                best_leaf_nodes = ln\n",
    "                best_forest_3 = forest"
   ]
  },
  {
   "cell_type": "code",
   "execution_count": 89,
   "metadata": {
    "scrolled": false
   },
   "outputs": [
    {
     "name": "stdout",
     "output_type": "stream",
     "text": [
      "F1 лучшей модели: 0.6034\n",
      "количество образцов для разделения узла: 9\n",
      "количество образцов для создания листового узла: 1\n",
      "количество листовых узлов: 40\n"
     ]
    }
   ],
   "source": [
    "print(f'F1 лучшей модели: {best_f1:,.4f}')\n",
    "print(f'количество образцов для разделения узла: {best_samples_split}')\n",
    "print(f'количество образцов для создания листового узла: {best_samples_leaf}')\n",
    "print(f'количество листовых узлов: {best_leaf_nodes}')"
   ]
  },
  {
   "cell_type": "code",
   "execution_count": 90,
   "metadata": {},
   "outputs": [
    {
     "data": {
      "text/plain": [
       "RandomForestClassifier(max_depth=7, max_features='sqrt', max_leaf_nodes=40,\n",
       "                       min_samples_split=9, n_estimators=20, random_state=42)"
      ]
     },
     "execution_count": 90,
     "metadata": {},
     "output_type": "execute_result"
    }
   ],
   "source": [
    "best_forest_3"
   ]
  },
  {
   "cell_type": "code",
   "execution_count": 91,
   "metadata": {},
   "outputs": [],
   "source": [
    "best_f1 = 0\n",
    "for ln in range(31, 50):\n",
    "    forest = RandomForestClassifier(\n",
    "        max_depth=7, max_leaf_nodes=ln, max_features='sqrt', min_samples_split=9,\n",
    "        n_estimators=20, random_state=42\n",
    "    )\n",
    "    f1 = f1_sc(forest, features_downsampled, features_valid_st, target_downsampled)\n",
    "    if f1 > best_f1:\n",
    "        best_f1 = f1\n",
    "        best_leaf_nodes = ln\n",
    "        best_forest_3 = forest"
   ]
  },
  {
   "cell_type": "code",
   "execution_count": 92,
   "metadata": {
    "scrolled": true
   },
   "outputs": [
    {
     "name": "stdout",
     "output_type": "stream",
     "text": [
      "F1 лучшей модели: 0.6034\n",
      "количество листовых узлов: 40\n"
     ]
    }
   ],
   "source": [
    "print(f'F1 лучшей модели: {best_f1:,.4f}')\n",
    "print(f'количество листовых узлов: {best_leaf_nodes}')"
   ]
  },
  {
   "cell_type": "code",
   "execution_count": 93,
   "metadata": {},
   "outputs": [],
   "source": [
    "best_est = 0\n",
    "best_f1 = 0\n",
    "for est in range(10, 200, 10):\n",
    "    forest = RandomForestClassifier(\n",
    "        max_depth=7, max_features='sqrt', max_leaf_nodes=40,\n",
    "        min_samples_split=9, n_estimators=20, random_state=42\n",
    "    )\n",
    "    f1 = f1_sc(forest, features_downsampled, features_valid_st, target_downsampled)\n",
    "    if f1 > best_f1:\n",
    "        best_f1 = f1\n",
    "        best_forest_3 = forest\n",
    "        best_est = est"
   ]
  },
  {
   "cell_type": "code",
   "execution_count": 94,
   "metadata": {},
   "outputs": [
    {
     "name": "stdout",
     "output_type": "stream",
     "text": [
      "F1 лучшей модели: 0.6034, при количестве деревьев равном 10\n"
     ]
    }
   ],
   "source": [
    "print(f'F1 лучшей модели: {best_f1:,.4f}, при количестве деревьев равном {best_est}')"
   ]
  },
  {
   "cell_type": "markdown",
   "metadata": {},
   "source": [
    "Реализация данного подхода не привела к увеличению исследуемой метрики."
   ]
  },
  {
   "cell_type": "markdown",
   "metadata": {},
   "source": [
    "#### Модель Логистическая регрессия."
   ]
  },
  {
   "cell_type": "code",
   "execution_count": 95,
   "metadata": {
    "scrolled": true
   },
   "outputs": [],
   "source": [
    "best_f1 = 0\n",
    "solvers = ['lbfgs', 'liblinear', 'newton-cg', 'sag', 'saga']\n",
    "penalties_by_solver = {\n",
    "    'lbfgs': ['l2', 'none'],\n",
    "    'liblinear': ['l1', 'l2'],\n",
    "    'newton-cg': ['l2', 'none'],\n",
    "    'sag': ['l2', 'none'],\n",
    "    'saga': ['l1', 'l2', 'none']\n",
    "}\n",
    "\n",
    "best_penalty = None\n",
    "best_solver = None\n",
    "best_log_reg_3 = None\n",
    "\n",
    "for sol in solvers:  \n",
    "    penalties = penalties_by_solver[sol]\n",
    "    \n",
    "    for pen in penalties:\n",
    "        log_reg = LogisticRegression(random_state=42, penalty=pen, solver=sol)\n",
    "        f1 = f1_sc(log_reg, features_downsampled, features_valid_st, target_downsampled)\n",
    "        \n",
    "        if f1 > best_f1:\n",
    "            best_f1 = f1             \n",
    "            best_penalty = pen\n",
    "            best_solver = sol\n",
    "            best_log_reg_3 = log_reg"
   ]
  },
  {
   "cell_type": "code",
   "execution_count": 96,
   "metadata": {
    "scrolled": false
   },
   "outputs": [
    {
     "name": "stdout",
     "output_type": "stream",
     "text": [
      "F1 лучшей модели: 0.4971\n",
      "метод оптимизации: liblinear\n",
      "тип регуляризации: l2\n"
     ]
    }
   ],
   "source": [
    "print(f'F1 лучшей модели: {best_f1:,.4f}')\n",
    "print(f'метод оптимизации: {best_solver}')\n",
    "print(f'тип регуляризации: {best_penalty}')"
   ]
  },
  {
   "cell_type": "markdown",
   "metadata": {},
   "source": [
    "Реализация этого подхода привела к незначительному увеличению исследуемой метрики по сравнению с ранее использованными подходами, но минимальный порог так и не был достигнут."
   ]
  },
  {
   "cell_type": "markdown",
   "metadata": {},
   "source": [
    "#### Модель K-ближайших соседей."
   ]
  },
  {
   "cell_type": "code",
   "execution_count": 97,
   "metadata": {
    "scrolled": true
   },
   "outputs": [],
   "source": [
    "best_f1 = 0\n",
    "best_n = 0\n",
    "best_p = 0\n",
    "best_knn_3 = None\n",
    "\n",
    "for n in range(3, 20, 2):\n",
    "    for p in range(1, 4):\n",
    "        knn = KNeighborsClassifier(n_neighbors=n, p=p)\n",
    "        f1 = f1_sc(knn, features_downsampled, features_valid_st, target_downsampled)\n",
    "        \n",
    "        if f1 > best_f1:\n",
    "            best_f1 = f1\n",
    "            best_n = n\n",
    "            best_p = p\n",
    "            best_knn_3 = knn"
   ]
  },
  {
   "cell_type": "code",
   "execution_count": 98,
   "metadata": {
    "scrolled": true
   },
   "outputs": [
    {
     "name": "stdout",
     "output_type": "stream",
     "text": [
      "F1 лучшей модели: 0.5711\n",
      "количество ближайших соседей: 15\n",
      "метрика расстояния: 1\n"
     ]
    }
   ],
   "source": [
    "print(f'F1 лучшей модели: {best_f1:,.4f}')\n",
    "print(f'количество ближайших соседей: {best_n}')\n",
    "print(f'метрика расстояния: {best_p}')"
   ]
  },
  {
   "cell_type": "markdown",
   "metadata": {},
   "source": [
    "Реализация данного подхода привела к увеличению исследуемой метрики, но минимальный порог так и не был достигнут."
   ]
  },
  {
   "cell_type": "markdown",
   "metadata": {},
   "source": [
    "**Выводы**:\n",
    "\n",
    "* Реализация подхода \"Уменьшение выборки\" позволила модели Дерево решений повысить значение метрики F1 до 0,6.\n",
    "\n",
    "\n",
    "* Использование подхода \"Взвешивание классов\" позволило модели Случайные лес увеличить значение метрики F1 до 0,62.\n",
    "\n",
    "\n",
    "* Учет дисбаланса классов значительно улучшил качество работы Логистической регрессии, но минимальный порог так и не был достигнут.\n",
    "\n",
    "\n",
    "\n",
    "* Модель K-ближайших соседей достигла своих наилучших результатов при реализации подхода \"Уменьшение выборки\", но минимальный порог качества так и не был достигнут.\n"
   ]
  },
  {
   "cell_type": "markdown",
   "metadata": {},
   "source": [
    "## Тестирование модели"
   ]
  },
  {
   "cell_type": "markdown",
   "metadata": {},
   "source": [
    "Наилучшие результаты на валидационной выборке показала модель Случайный Лес `best_forest_1` со следующими гиперпараметрами:"
   ]
  },
  {
   "cell_type": "code",
   "execution_count": 99,
   "metadata": {},
   "outputs": [
    {
     "data": {
      "text/plain": [
       "RandomForestClassifier(class_weight='balanced_subsample', max_depth=11,\n",
       "                       max_features='sqrt', max_leaf_nodes=62,\n",
       "                       min_samples_leaf=9, n_estimators=20, random_state=42)"
      ]
     },
     "execution_count": 99,
     "metadata": {},
     "output_type": "execute_result"
    }
   ],
   "source": [
    "best_forest_1"
   ]
  },
  {
   "cell_type": "markdown",
   "metadata": {},
   "source": [
    "*Вес классов:* сбалансированный подвыборка. \n",
    "\n",
    "*Максимальная глубина каждого дерева в ансамбле:* 11 уровней. \n",
    "\n",
    "*Максимальные количество признаков для разбиения:* квадратный корень из общего числа признаков.\n",
    "\n",
    "*Максимальное количество листовых узлов в каждом дереве:* 62.\n",
    "\n",
    "*Минимальное количество образцов в листовом узле:* 9.\n",
    "\n",
    "*Количество деревьев в ансамбле:* 20.\n",
    "\n",
    "*Случайное состояние:* 42."
   ]
  },
  {
   "cell_type": "markdown",
   "metadata": {},
   "source": [
    "Испытаем модель на тестовой выборке."
   ]
  },
  {
   "cell_type": "code",
   "execution_count": 100,
   "metadata": {
    "scrolled": false
   },
   "outputs": [
    {
     "name": "stdout",
     "output_type": "stream",
     "text": [
      "F1 модели: 0.61\n"
     ]
    }
   ],
   "source": [
    "predictions = best_forest_1.predict(features_test_st)\n",
    "f1 = f1_score(target_test, predictions)\n",
    "print(f'F1 модели: {f1:,.2f}')"
   ]
  },
  {
   "cell_type": "markdown",
   "metadata": {},
   "source": [
    "Метрика F1 на тестовой выборке модели больше 0,59. Модель прошла тест."
   ]
  },
  {
   "cell_type": "markdown",
   "metadata": {},
   "source": [
    "Проверим модель на адекватность. Для этого проведем сравнение ее производительности с производительностью простой константной модели, которая всегда предсказывает положительный класс. "
   ]
  },
  {
   "cell_type": "code",
   "execution_count": 101,
   "metadata": {},
   "outputs": [
    {
     "data": {
      "text/plain": [
       "0.33881278538812787"
      ]
     },
     "execution_count": 101,
     "metadata": {},
     "output_type": "execute_result"
    }
   ],
   "source": [
    "dummy_model = DummyClassifier(strategy='constant', constant=1)\n",
    "dummy_model.fit(features_train_st, target_train)\n",
    "f1_dummy = f1_score(dummy_model.predict(features_test_st), target_test)\n",
    "f1_dummy"
   ]
  },
  {
   "cell_type": "markdown",
   "metadata": {},
   "source": [
    "Метрика F1 константной модели почти в 2 раза меньше, чем у финальной модели. Модель прошла проверку на вменяемость."
   ]
  },
  {
   "cell_type": "markdown",
   "metadata": {},
   "source": [
    "Вычислим основные метрики качества для модели."
   ]
  },
  {
   "cell_type": "code",
   "execution_count": 102,
   "metadata": {},
   "outputs": [
    {
     "name": "stdout",
     "output_type": "stream",
     "text": [
      "AUC-ROC : 0.85\n"
     ]
    }
   ],
   "source": [
    "auc_roc_tree = auc_roc_sc(best_forest_1, features_test_st, target_test)\n",
    "print(f'AUC-ROC : {auc_roc_tree:,.2f}')"
   ]
  },
  {
   "cell_type": "code",
   "execution_count": 103,
   "metadata": {
    "scrolled": true
   },
   "outputs": [
    {
     "name": "stdout",
     "output_type": "stream",
     "text": [
      "Accuracy: 0.82, Recall: 0.69, Precision: 0.54\n"
     ]
    }
   ],
   "source": [
    "predictions = best_forest_1.predict(features_test_st)\n",
    "accuracy = accuracy_score(target_test, predictions)\n",
    "recall = recall_score(target_test, predictions)\n",
    "precision = precision_score(target_test, predictions)\n",
    "\n",
    "print(f'Accuracy: {accuracy:,.2f}, Recall: {recall:,.2f}, Precision: {precision:,.2f}')"
   ]
  },
  {
   "cell_type": "markdown",
   "metadata": {},
   "source": [
    "Визуализируем матрицу ошибок."
   ]
  },
  {
   "cell_type": "code",
   "execution_count": 104,
   "metadata": {
    "scrolled": true
   },
   "outputs": [
    {
     "data": {
      "image/png": "[encoded data removed]",
      "text/plain": [
       "<Figure size 432x288 with 2 Axes>"
      ]
     },
     "metadata": {
      "needs_background": "light"
     },
     "output_type": "display_data"
    }
   ],
   "source": [
    "matrix_disp(best_forest_1, features_test_st, target_test)"
   ]
  },
  {
   "cell_type": "markdown",
   "metadata": {},
   "source": [
    "Проверка выбранной модели на тестовой выборке показала следующие результаты:\n",
    "\n",
    "* Минимальный уровень баланса между точностью и полнотой предсказаний модели, установленный в задании, достигнут и составляет 0,61.\n",
    "\n",
    "* Площадь под кривой ошибок достаточно высока (0,85), это говорит о том, что модель хорошо разделяет классы.\n",
    "\n",
    "* Доля правильно классифицированных образцов относительно общего числа образцов в выборке составляет 0,82.\n",
    "\n",
    "* Доля правильно классифицированных положительных образцов относительно всех фактически положительных образцов составляет 0,69.\n",
    "\n",
    "* Доля правильно классифицированных положительных предсказаний относительно всех положительных предсказаний составляет 0,54.\n",
    " "
   ]
  },
  {
   "cell_type": "markdown",
   "metadata": {},
   "source": [
    "**Выводы**:\n",
    "\n",
    "* Модель, показавшая лучшие результаты на валидационной выборке, прошла проверку на тестовой выборке и проверку на адекватность.\n",
    "\n",
    "* 4 из 5 предсказаний выбранной модели о том, останется клиент или уйдет, были верными.\n",
    "\n",
    "* Модель распознала 69% потерянных клиентов.\n",
    "\n",
    "* 46% клиентов, которые были предсказаны как ушедшие, на самом деле остались."
   ]
  },
  {
   "cell_type": "markdown",
   "metadata": {},
   "source": [
    "## Общий вывод"
   ]
  },
  {
   "cell_type": "markdown",
   "metadata": {},
   "source": [
    "В рамках данного проекта было проведено исследование истории поведения клиентов и расторжения договоров с целью выявления клиентов желающий отказаться от услуг «Бета-Банка». \n",
    "\n",
    "\n",
    "Данные, предоставленные для анализа, содержали пропуски и нарушение стиля в названиях столбцов. Пропуски были удалены, нарушение стиля исправлено. Дубликатов и аномалий не обнаружено. Признаки, непригодные для построения моделей, были удалены. Категориальные признаки были преобразованы в числовые. После разделения данных на 3 выборки, было произведено масштабирование признаков.\n",
    "\n",
    "\n",
    "\n",
    "Для достижения поставленной цели было проведено исследование четырех моделей, предназначенных для бинарной классификации:\n",
    "\n",
    "* Дерево решений\n",
    "\n",
    "* Случайный лес\n",
    "\n",
    "* Логистическая регрессия\n",
    "\n",
    "* Метод K-ближайших соседей.\n",
    "\n",
    "\n",
    "Согласно требованиям задания, основной метрикой для оценки эффективности моделей была выбрана F1-мера, отражающая баланс между точностью и полнотой предсказаний модели. Минимальное значение этой метрики было установлено на уровне 0,59.\n",
    "\n",
    "\n",
    "В ходе исследования было обнаружено, что все модели достигли своих наилучших результатов на стандартизированных данных.\n",
    "\n",
    "\n",
    "Для улучшения качества моделей было применено 3 подхода устранения дисбаланса предсказываемого класса: взвешивание классов, увеличение выборки и уменьшение выборки.\n",
    "\n",
    "\n",
    "Модель Случайны лес, улучшенная путем взвешивания классов, оказалась наиболее эффективной. \n",
    "\n",
    "Проверка выбранной модели на тестовой выборке показала, что она правильно предсказывает поведение клиента в 4 из 5 случаев. Кроме того, модель успешно идентифицировала 69% клиентов, расторгнувших договор с банком. \n",
    "\n",
    "\n",
    "В целом выбранная модель может служить полезным инструментом для «Бета-Банка» для оптимизации маркетинговых усилий по сохранению текущих клиентов. \n"
   ]
  }
 ],
 "metadata": {
  "ExecuteTimeLog": [
   {
    "duration": 1539,
    "start_time": "2023-08-10T09:53:17.256Z"
   },
   {
    "duration": 2,
    "start_time": "2023-08-10T09:56:27.237Z"
   },
   {
    "duration": 96,
    "start_time": "2023-08-10T09:56:29.574Z"
   },
   {
    "duration": 60,
    "start_time": "2023-08-10T09:58:22.511Z"
   },
   {
    "duration": 11,
    "start_time": "2023-08-10T10:07:43.388Z"
   },
   {
    "duration": 4,
    "start_time": "2023-08-10T10:33:09.634Z"
   },
   {
    "duration": 2,
    "start_time": "2023-08-10T10:33:15.140Z"
   },
   {
    "duration": 4,
    "start_time": "2023-08-10T10:33:49.093Z"
   },
   {
    "duration": 10,
    "start_time": "2023-08-10T10:33:50.632Z"
   },
   {
    "duration": 48,
    "start_time": "2023-08-10T10:34:01.823Z"
   },
   {
    "duration": 5,
    "start_time": "2023-08-10T10:34:07.546Z"
   },
   {
    "duration": 3,
    "start_time": "2023-08-10T10:34:08.218Z"
   },
   {
    "duration": 11,
    "start_time": "2023-08-10T10:34:09.143Z"
   },
   {
    "duration": 13,
    "start_time": "2023-08-10T10:34:21.931Z"
   },
   {
    "duration": 12,
    "start_time": "2023-08-10T10:34:25.790Z"
   },
   {
    "duration": 13,
    "start_time": "2023-08-10T10:40:48.510Z"
   },
   {
    "duration": 108,
    "start_time": "2023-08-10T10:51:20.000Z"
   },
   {
    "duration": 15,
    "start_time": "2023-08-10T10:51:36.839Z"
   },
   {
    "duration": 10,
    "start_time": "2023-08-10T11:06:55.202Z"
   },
   {
    "duration": 10,
    "start_time": "2023-08-10T11:07:04.471Z"
   },
   {
    "duration": 7,
    "start_time": "2023-08-10T11:07:17.973Z"
   },
   {
    "duration": 14,
    "start_time": "2023-08-10T11:14:33.113Z"
   },
   {
    "duration": 48,
    "start_time": "2023-08-10T11:25:51.777Z"
   },
   {
    "duration": 4,
    "start_time": "2023-08-10T11:26:03.114Z"
   },
   {
    "duration": 3,
    "start_time": "2023-08-10T11:26:05.268Z"
   },
   {
    "duration": 12,
    "start_time": "2023-08-10T11:26:06.465Z"
   },
   {
    "duration": 14,
    "start_time": "2023-08-10T11:42:39.165Z"
   },
   {
    "duration": 13,
    "start_time": "2023-08-10T11:45:51.091Z"
   },
   {
    "duration": 14,
    "start_time": "2023-08-10T11:47:59.012Z"
   },
   {
    "duration": 17,
    "start_time": "2023-08-10T11:50:01.496Z"
   },
   {
    "duration": 8,
    "start_time": "2023-08-10T11:50:31.800Z"
   },
   {
    "duration": 24,
    "start_time": "2023-08-10T11:50:42.366Z"
   },
   {
    "duration": 16,
    "start_time": "2023-08-10T12:10:56.473Z"
   },
   {
    "duration": 10,
    "start_time": "2023-08-10T12:12:39.996Z"
   },
   {
    "duration": 10,
    "start_time": "2023-08-10T12:12:50.718Z"
   },
   {
    "duration": 9,
    "start_time": "2023-08-10T12:17:16.179Z"
   },
   {
    "duration": 10,
    "start_time": "2023-08-10T12:18:04.175Z"
   },
   {
    "duration": 35,
    "start_time": "2023-08-10T12:19:55.279Z"
   },
   {
    "duration": 14,
    "start_time": "2023-08-10T12:23:40.674Z"
   },
   {
    "duration": 34,
    "start_time": "2023-08-10T12:24:37.203Z"
   },
   {
    "duration": 15,
    "start_time": "2023-08-10T12:33:06.038Z"
   },
   {
    "duration": 1460,
    "start_time": "2023-08-10T12:33:15.940Z"
   },
   {
    "duration": 3,
    "start_time": "2023-08-10T12:33:17.402Z"
   },
   {
    "duration": 84,
    "start_time": "2023-08-10T12:33:17.406Z"
   },
   {
    "duration": 3,
    "start_time": "2023-08-10T12:33:17.491Z"
   },
   {
    "duration": 28,
    "start_time": "2023-08-10T12:33:17.496Z"
   },
   {
    "duration": 29,
    "start_time": "2023-08-10T12:33:17.526Z"
   },
   {
    "duration": 20,
    "start_time": "2023-08-10T12:33:17.557Z"
   },
   {
    "duration": 36,
    "start_time": "2023-08-10T12:33:17.579Z"
   },
   {
    "duration": 15,
    "start_time": "2023-08-10T12:33:17.617Z"
   },
   {
    "duration": 24,
    "start_time": "2023-08-10T12:33:17.634Z"
   },
   {
    "duration": 11,
    "start_time": "2023-08-10T12:33:17.660Z"
   },
   {
    "duration": 9,
    "start_time": "2023-08-10T12:33:17.672Z"
   },
   {
    "duration": 19,
    "start_time": "2023-08-10T12:33:17.682Z"
   },
   {
    "duration": 40,
    "start_time": "2023-08-10T12:33:17.703Z"
   },
   {
    "duration": 16,
    "start_time": "2023-08-10T12:35:53.052Z"
   },
   {
    "duration": 774,
    "start_time": "2023-08-10T12:44:47.031Z"
   },
   {
    "duration": 784,
    "start_time": "2023-08-10T12:45:05.585Z"
   },
   {
    "duration": 1172,
    "start_time": "2023-08-10T12:48:43.765Z"
   },
   {
    "duration": 1164,
    "start_time": "2023-08-10T12:48:53.774Z"
   },
   {
    "duration": 1113,
    "start_time": "2023-08-10T12:49:00.827Z"
   },
   {
    "duration": 1219,
    "start_time": "2023-08-10T12:50:51.155Z"
   },
   {
    "duration": 47,
    "start_time": "2023-08-11T09:45:35.603Z"
   },
   {
    "duration": 1690,
    "start_time": "2023-08-11T09:45:49.743Z"
   },
   {
    "duration": 3,
    "start_time": "2023-08-11T09:45:51.435Z"
   },
   {
    "duration": 209,
    "start_time": "2023-08-11T09:45:51.440Z"
   },
   {
    "duration": 3,
    "start_time": "2023-08-11T09:45:51.651Z"
   },
   {
    "duration": 51,
    "start_time": "2023-08-11T09:45:51.658Z"
   },
   {
    "duration": 45,
    "start_time": "2023-08-11T09:45:51.711Z"
   },
   {
    "duration": 40,
    "start_time": "2023-08-11T09:45:51.759Z"
   },
   {
    "duration": 72,
    "start_time": "2023-08-11T09:45:51.802Z"
   },
   {
    "duration": 26,
    "start_time": "2023-08-11T09:45:51.878Z"
   },
   {
    "duration": 29,
    "start_time": "2023-08-11T09:45:51.906Z"
   },
   {
    "duration": 49,
    "start_time": "2023-08-11T09:45:51.940Z"
   },
   {
    "duration": 16,
    "start_time": "2023-08-11T09:45:51.992Z"
   },
   {
    "duration": 47,
    "start_time": "2023-08-11T09:45:52.010Z"
   },
   {
    "duration": 59,
    "start_time": "2023-08-11T09:45:52.061Z"
   },
   {
    "duration": 22,
    "start_time": "2023-08-11T09:45:52.123Z"
   },
   {
    "duration": 1249,
    "start_time": "2023-08-11T09:45:52.147Z"
   },
   {
    "duration": 4,
    "start_time": "2023-08-11T09:45:53.398Z"
   },
   {
    "duration": 1947,
    "start_time": "2023-08-11T09:45:53.404Z"
   },
   {
    "duration": 23,
    "start_time": "2023-08-11T09:49:42.223Z"
   },
   {
    "duration": 13,
    "start_time": "2023-08-11T09:52:08.154Z"
   },
   {
    "duration": 28,
    "start_time": "2023-08-11T09:57:18.427Z"
   },
   {
    "duration": 19,
    "start_time": "2023-08-11T09:59:04.943Z"
   },
   {
    "duration": 1470,
    "start_time": "2023-08-11T10:00:47.599Z"
   },
   {
    "duration": 4,
    "start_time": "2023-08-11T10:00:49.071Z"
   },
   {
    "duration": 83,
    "start_time": "2023-08-11T10:00:49.077Z"
   },
   {
    "duration": 3,
    "start_time": "2023-08-11T10:00:49.163Z"
   },
   {
    "duration": 24,
    "start_time": "2023-08-11T10:00:49.168Z"
   },
   {
    "duration": 32,
    "start_time": "2023-08-11T10:00:49.194Z"
   },
   {
    "duration": 19,
    "start_time": "2023-08-11T10:00:49.228Z"
   },
   {
    "duration": 34,
    "start_time": "2023-08-11T10:00:49.250Z"
   },
   {
    "duration": 24,
    "start_time": "2023-08-11T10:00:49.286Z"
   },
   {
    "duration": 26,
    "start_time": "2023-08-11T10:00:49.314Z"
   },
   {
    "duration": 11,
    "start_time": "2023-08-11T10:00:49.342Z"
   },
   {
    "duration": 30,
    "start_time": "2023-08-11T10:00:49.355Z"
   },
   {
    "duration": 38,
    "start_time": "2023-08-11T10:00:49.387Z"
   },
   {
    "duration": 69,
    "start_time": "2023-08-11T10:00:49.427Z"
   },
   {
    "duration": 16,
    "start_time": "2023-08-11T10:00:49.498Z"
   },
   {
    "duration": 1313,
    "start_time": "2023-08-11T10:00:49.516Z"
   },
   {
    "duration": 5,
    "start_time": "2023-08-11T10:00:50.831Z"
   },
   {
    "duration": 13,
    "start_time": "2023-08-11T10:00:58.695Z"
   },
   {
    "duration": 31,
    "start_time": "2023-08-11T10:01:03.291Z"
   },
   {
    "duration": 16,
    "start_time": "2023-08-11T10:02:01.056Z"
   },
   {
    "duration": 21,
    "start_time": "2023-08-11T10:02:03.741Z"
   },
   {
    "duration": 5,
    "start_time": "2023-08-11T11:39:03.734Z"
   },
   {
    "duration": 9,
    "start_time": "2023-08-11T11:45:12.574Z"
   },
   {
    "duration": 149,
    "start_time": "2023-08-11T11:48:32.055Z"
   },
   {
    "duration": 8,
    "start_time": "2023-08-11T11:48:51.674Z"
   },
   {
    "duration": 9,
    "start_time": "2023-08-11T11:51:50.563Z"
   },
   {
    "duration": 6,
    "start_time": "2023-08-11T12:04:26.312Z"
   },
   {
    "duration": 5,
    "start_time": "2023-08-11T12:08:23.367Z"
   },
   {
    "duration": 1440,
    "start_time": "2023-08-11T12:19:34.126Z"
   },
   {
    "duration": 3,
    "start_time": "2023-08-11T12:19:35.568Z"
   },
   {
    "duration": 70,
    "start_time": "2023-08-11T12:19:35.573Z"
   },
   {
    "duration": 3,
    "start_time": "2023-08-11T12:19:35.644Z"
   },
   {
    "duration": 37,
    "start_time": "2023-08-11T12:19:35.649Z"
   },
   {
    "duration": 15,
    "start_time": "2023-08-11T12:19:35.687Z"
   },
   {
    "duration": 41,
    "start_time": "2023-08-11T12:19:35.704Z"
   },
   {
    "duration": 49,
    "start_time": "2023-08-11T12:19:35.747Z"
   },
   {
    "duration": 54,
    "start_time": "2023-08-11T12:19:35.797Z"
   },
   {
    "duration": 16,
    "start_time": "2023-08-11T12:19:35.853Z"
   },
   {
    "duration": 13,
    "start_time": "2023-08-11T12:19:35.870Z"
   },
   {
    "duration": 30,
    "start_time": "2023-08-11T12:19:35.887Z"
   },
   {
    "duration": 12,
    "start_time": "2023-08-11T12:19:35.919Z"
   },
   {
    "duration": 59,
    "start_time": "2023-08-11T12:19:35.934Z"
   },
   {
    "duration": 15,
    "start_time": "2023-08-11T12:19:35.995Z"
   },
   {
    "duration": 1239,
    "start_time": "2023-08-11T12:19:36.012Z"
   },
   {
    "duration": 28,
    "start_time": "2023-08-11T12:19:37.253Z"
   },
   {
    "duration": 13,
    "start_time": "2023-08-11T12:20:11.593Z"
   },
   {
    "duration": 13,
    "start_time": "2023-08-11T12:20:31.852Z"
   },
   {
    "duration": 1474,
    "start_time": "2023-08-11T12:22:28.092Z"
   },
   {
    "duration": 3,
    "start_time": "2023-08-11T12:22:29.568Z"
   },
   {
    "duration": 75,
    "start_time": "2023-08-11T12:22:29.572Z"
   },
   {
    "duration": 3,
    "start_time": "2023-08-11T12:22:29.649Z"
   },
   {
    "duration": 6,
    "start_time": "2023-08-11T12:22:29.653Z"
   },
   {
    "duration": 22,
    "start_time": "2023-08-11T12:22:29.660Z"
   },
   {
    "duration": 19,
    "start_time": "2023-08-11T12:22:29.685Z"
   },
   {
    "duration": 12,
    "start_time": "2023-08-11T12:22:29.706Z"
   },
   {
    "duration": 19,
    "start_time": "2023-08-11T12:22:29.720Z"
   },
   {
    "duration": 16,
    "start_time": "2023-08-11T12:22:29.741Z"
   },
   {
    "duration": 17,
    "start_time": "2023-08-11T12:22:29.775Z"
   },
   {
    "duration": 9,
    "start_time": "2023-08-11T12:22:29.794Z"
   },
   {
    "duration": 12,
    "start_time": "2023-08-11T12:22:29.804Z"
   },
   {
    "duration": 41,
    "start_time": "2023-08-11T12:22:29.817Z"
   },
   {
    "duration": 30,
    "start_time": "2023-08-11T12:22:29.860Z"
   },
   {
    "duration": 1329,
    "start_time": "2023-08-11T12:22:29.892Z"
   },
   {
    "duration": 15,
    "start_time": "2023-08-11T12:22:31.223Z"
   },
   {
    "duration": 155,
    "start_time": "2023-08-11T12:22:31.240Z"
   },
   {
    "duration": 1758,
    "start_time": "2023-08-11T12:23:14.754Z"
   },
   {
    "duration": 7,
    "start_time": "2023-08-11T12:23:16.515Z"
   },
   {
    "duration": 69,
    "start_time": "2023-08-11T12:23:16.524Z"
   },
   {
    "duration": 3,
    "start_time": "2023-08-11T12:23:16.596Z"
   },
   {
    "duration": 5,
    "start_time": "2023-08-11T12:23:16.601Z"
   },
   {
    "duration": 16,
    "start_time": "2023-08-11T12:23:16.609Z"
   },
   {
    "duration": 40,
    "start_time": "2023-08-11T12:23:16.627Z"
   },
   {
    "duration": 58,
    "start_time": "2023-08-11T12:23:16.669Z"
   },
   {
    "duration": 20,
    "start_time": "2023-08-11T12:23:16.729Z"
   },
   {
    "duration": 18,
    "start_time": "2023-08-11T12:23:16.752Z"
   },
   {
    "duration": 24,
    "start_time": "2023-08-11T12:23:16.773Z"
   },
   {
    "duration": 9,
    "start_time": "2023-08-11T12:23:16.799Z"
   },
   {
    "duration": 24,
    "start_time": "2023-08-11T12:23:16.809Z"
   },
   {
    "duration": 38,
    "start_time": "2023-08-11T12:23:16.835Z"
   },
   {
    "duration": 25,
    "start_time": "2023-08-11T12:23:16.877Z"
   },
   {
    "duration": 1315,
    "start_time": "2023-08-11T12:23:16.904Z"
   },
   {
    "duration": 13,
    "start_time": "2023-08-11T12:23:18.221Z"
   },
   {
    "duration": 18,
    "start_time": "2023-08-11T12:23:18.237Z"
   },
   {
    "duration": 8,
    "start_time": "2023-08-11T12:33:01.124Z"
   },
   {
    "duration": 3,
    "start_time": "2023-08-11T12:38:29.262Z"
   },
   {
    "duration": 21,
    "start_time": "2023-08-11T12:38:29.267Z"
   },
   {
    "duration": 77,
    "start_time": "2023-08-11T12:38:29.290Z"
   },
   {
    "duration": 3,
    "start_time": "2023-08-11T12:38:29.370Z"
   },
   {
    "duration": 19,
    "start_time": "2023-08-11T12:38:29.375Z"
   },
   {
    "duration": 18,
    "start_time": "2023-08-11T12:38:29.395Z"
   },
   {
    "duration": 12,
    "start_time": "2023-08-11T12:38:29.415Z"
   },
   {
    "duration": 37,
    "start_time": "2023-08-11T12:38:29.429Z"
   },
   {
    "duration": 93,
    "start_time": "2023-08-11T12:38:29.469Z"
   },
   {
    "duration": 19,
    "start_time": "2023-08-11T12:38:29.563Z"
   },
   {
    "duration": 9,
    "start_time": "2023-08-11T12:38:29.584Z"
   },
   {
    "duration": 23,
    "start_time": "2023-08-11T12:38:29.594Z"
   },
   {
    "duration": 22,
    "start_time": "2023-08-11T12:38:29.618Z"
   },
   {
    "duration": 46,
    "start_time": "2023-08-11T12:38:29.641Z"
   },
   {
    "duration": 14,
    "start_time": "2023-08-11T12:38:29.688Z"
   },
   {
    "duration": 1077,
    "start_time": "2023-08-11T12:38:29.703Z"
   },
   {
    "duration": 11,
    "start_time": "2023-08-11T12:38:30.782Z"
   },
   {
    "duration": 57,
    "start_time": "2023-08-11T12:38:30.794Z"
   },
   {
    "duration": 14,
    "start_time": "2023-08-11T12:39:56.913Z"
   },
   {
    "duration": 11,
    "start_time": "2023-08-11T12:43:09.248Z"
   },
   {
    "duration": 191,
    "start_time": "2023-08-11T12:44:10.828Z"
   },
   {
    "duration": 113,
    "start_time": "2023-08-11T12:44:16.376Z"
   },
   {
    "duration": 132,
    "start_time": "2023-08-11T12:44:20.159Z"
   },
   {
    "duration": 25,
    "start_time": "2023-08-11T12:45:07.890Z"
   },
   {
    "duration": 3,
    "start_time": "2023-08-11T12:51:11.374Z"
   },
   {
    "duration": 13,
    "start_time": "2023-08-11T12:51:13.378Z"
   },
   {
    "duration": 18,
    "start_time": "2023-08-11T12:51:24.121Z"
   },
   {
    "duration": 4,
    "start_time": "2023-08-11T12:52:18.829Z"
   },
   {
    "duration": 6,
    "start_time": "2023-08-11T12:52:18.836Z"
   },
   {
    "duration": 49,
    "start_time": "2023-08-11T12:52:18.843Z"
   },
   {
    "duration": 3,
    "start_time": "2023-08-11T12:52:18.894Z"
   },
   {
    "duration": 25,
    "start_time": "2023-08-11T12:52:18.899Z"
   },
   {
    "duration": 22,
    "start_time": "2023-08-11T12:52:18.925Z"
   },
   {
    "duration": 16,
    "start_time": "2023-08-11T12:52:18.949Z"
   },
   {
    "duration": 36,
    "start_time": "2023-08-11T12:52:18.966Z"
   },
   {
    "duration": 14,
    "start_time": "2023-08-11T12:52:19.004Z"
   },
   {
    "duration": 14,
    "start_time": "2023-08-11T12:52:19.019Z"
   },
   {
    "duration": 10,
    "start_time": "2023-08-11T12:52:19.035Z"
   },
   {
    "duration": 14,
    "start_time": "2023-08-11T12:52:19.046Z"
   },
   {
    "duration": 8,
    "start_time": "2023-08-11T12:52:19.061Z"
   },
   {
    "duration": 35,
    "start_time": "2023-08-11T12:52:19.076Z"
   },
   {
    "duration": 14,
    "start_time": "2023-08-11T12:52:19.113Z"
   },
   {
    "duration": 1065,
    "start_time": "2023-08-11T12:52:19.129Z"
   },
   {
    "duration": 11,
    "start_time": "2023-08-11T12:52:20.195Z"
   },
   {
    "duration": 28,
    "start_time": "2023-08-11T12:52:20.208Z"
   },
   {
    "duration": 15,
    "start_time": "2023-08-11T12:52:20.237Z"
   },
   {
    "duration": 40,
    "start_time": "2023-08-11T12:52:20.254Z"
   },
   {
    "duration": 4,
    "start_time": "2023-08-11T12:55:35.055Z"
   },
   {
    "duration": 13,
    "start_time": "2023-08-11T12:55:35.061Z"
   },
   {
    "duration": 55,
    "start_time": "2023-08-11T12:55:35.076Z"
   },
   {
    "duration": 3,
    "start_time": "2023-08-11T12:55:35.133Z"
   },
   {
    "duration": 8,
    "start_time": "2023-08-11T12:55:35.138Z"
   },
   {
    "duration": 18,
    "start_time": "2023-08-11T12:55:35.148Z"
   },
   {
    "duration": 26,
    "start_time": "2023-08-11T12:55:35.168Z"
   },
   {
    "duration": 16,
    "start_time": "2023-08-11T12:55:35.195Z"
   },
   {
    "duration": 27,
    "start_time": "2023-08-11T12:55:35.213Z"
   },
   {
    "duration": 13,
    "start_time": "2023-08-11T12:55:35.242Z"
   },
   {
    "duration": 16,
    "start_time": "2023-08-11T12:55:35.257Z"
   },
   {
    "duration": 20,
    "start_time": "2023-08-11T12:55:35.276Z"
   },
   {
    "duration": 15,
    "start_time": "2023-08-11T12:55:35.298Z"
   },
   {
    "duration": 39,
    "start_time": "2023-08-11T12:55:35.315Z"
   },
   {
    "duration": 13,
    "start_time": "2023-08-11T12:55:35.356Z"
   },
   {
    "duration": 1193,
    "start_time": "2023-08-11T12:55:35.370Z"
   },
   {
    "duration": 23,
    "start_time": "2023-08-11T12:55:36.565Z"
   },
   {
    "duration": 17,
    "start_time": "2023-08-11T12:55:36.591Z"
   },
   {
    "duration": 29,
    "start_time": "2023-08-11T12:55:36.610Z"
   },
   {
    "duration": 33,
    "start_time": "2023-08-11T12:55:36.640Z"
   },
   {
    "duration": 16,
    "start_time": "2023-08-11T12:56:18.323Z"
   },
   {
    "duration": 61,
    "start_time": "2023-08-11T13:03:19.385Z"
   },
   {
    "duration": 1346,
    "start_time": "2023-08-11T13:06:35.261Z"
   },
   {
    "duration": 6,
    "start_time": "2023-08-11T13:20:40.858Z"
   },
   {
    "duration": 10,
    "start_time": "2023-08-11T13:20:52.964Z"
   },
   {
    "duration": 7,
    "start_time": "2023-08-11T13:20:53.700Z"
   },
   {
    "duration": 172,
    "start_time": "2023-08-11T13:51:47.210Z"
   },
   {
    "duration": 105,
    "start_time": "2023-08-11T13:51:55.575Z"
   },
   {
    "duration": 5,
    "start_time": "2023-08-11T13:52:06.985Z"
   },
   {
    "duration": 14,
    "start_time": "2023-08-11T14:42:02.325Z"
   },
   {
    "duration": 10,
    "start_time": "2023-08-11T14:43:43.032Z"
   },
   {
    "duration": 5,
    "start_time": "2023-08-11T15:05:37.490Z"
   },
   {
    "duration": 131,
    "start_time": "2023-08-11T15:09:06.584Z"
   },
   {
    "duration": 3,
    "start_time": "2023-08-11T15:09:21.596Z"
   },
   {
    "duration": 4,
    "start_time": "2023-08-11T15:09:31.097Z"
   },
   {
    "duration": 5,
    "start_time": "2023-08-11T15:09:54.947Z"
   },
   {
    "duration": 4,
    "start_time": "2023-08-11T15:10:23.796Z"
   },
   {
    "duration": 5,
    "start_time": "2023-08-11T15:12:58.157Z"
   },
   {
    "duration": 4,
    "start_time": "2023-08-11T15:13:14.480Z"
   },
   {
    "duration": 5,
    "start_time": "2023-08-11T15:13:34.972Z"
   },
   {
    "duration": 1586,
    "start_time": "2023-08-14T13:03:21.954Z"
   },
   {
    "duration": 2,
    "start_time": "2023-08-14T13:03:23.542Z"
   },
   {
    "duration": 142,
    "start_time": "2023-08-14T13:03:23.546Z"
   },
   {
    "duration": 3,
    "start_time": "2023-08-14T13:03:23.690Z"
   },
   {
    "duration": 35,
    "start_time": "2023-08-14T13:03:23.695Z"
   },
   {
    "duration": 147,
    "start_time": "2023-08-14T13:03:23.732Z"
   },
   {
    "duration": 395,
    "start_time": "2023-08-14T13:03:23.880Z"
   },
   {
    "duration": 34,
    "start_time": "2023-08-14T13:03:24.276Z"
   },
   {
    "duration": 74,
    "start_time": "2023-08-14T13:03:24.312Z"
   },
   {
    "duration": 32,
    "start_time": "2023-08-14T13:03:24.390Z"
   },
   {
    "duration": 26,
    "start_time": "2023-08-14T13:03:24.424Z"
   },
   {
    "duration": 29,
    "start_time": "2023-08-14T13:03:24.451Z"
   },
   {
    "duration": 26,
    "start_time": "2023-08-14T13:03:24.482Z"
   },
   {
    "duration": 91,
    "start_time": "2023-08-14T13:03:24.510Z"
   },
   {
    "duration": 13,
    "start_time": "2023-08-14T13:03:24.603Z"
   },
   {
    "duration": 1220,
    "start_time": "2023-08-14T13:03:24.618Z"
   },
   {
    "duration": 11,
    "start_time": "2023-08-14T13:03:25.840Z"
   },
   {
    "duration": 34,
    "start_time": "2023-08-14T13:03:25.853Z"
   },
   {
    "duration": 38,
    "start_time": "2023-08-14T13:03:25.889Z"
   },
   {
    "duration": 20,
    "start_time": "2023-08-14T13:03:25.928Z"
   },
   {
    "duration": 1224,
    "start_time": "2023-08-14T13:03:25.950Z"
   },
   {
    "duration": 6,
    "start_time": "2023-08-14T13:03:27.176Z"
   },
   {
    "duration": 44,
    "start_time": "2023-08-14T13:03:27.183Z"
   },
   {
    "duration": 16,
    "start_time": "2023-08-14T13:03:27.229Z"
   },
   {
    "duration": 40,
    "start_time": "2023-08-14T13:03:27.247Z"
   },
   {
    "duration": 64,
    "start_time": "2023-08-14T13:03:27.288Z"
   },
   {
    "duration": 74,
    "start_time": "2023-08-14T13:03:27.354Z"
   },
   {
    "duration": 1439,
    "start_time": "2023-08-14T13:18:20.963Z"
   },
   {
    "duration": 3,
    "start_time": "2023-08-14T13:18:22.404Z"
   },
   {
    "duration": 64,
    "start_time": "2023-08-14T13:18:22.408Z"
   },
   {
    "duration": 4,
    "start_time": "2023-08-14T13:18:22.474Z"
   },
   {
    "duration": 16,
    "start_time": "2023-08-14T13:18:22.481Z"
   },
   {
    "duration": 15,
    "start_time": "2023-08-14T13:18:22.498Z"
   },
   {
    "duration": 20,
    "start_time": "2023-08-14T13:18:22.514Z"
   },
   {
    "duration": 19,
    "start_time": "2023-08-14T13:18:22.536Z"
   },
   {
    "duration": 30,
    "start_time": "2023-08-14T13:18:22.558Z"
   },
   {
    "duration": 17,
    "start_time": "2023-08-14T13:18:22.590Z"
   },
   {
    "duration": 11,
    "start_time": "2023-08-14T13:18:22.609Z"
   },
   {
    "duration": 10,
    "start_time": "2023-08-14T13:18:22.622Z"
   },
   {
    "duration": 14,
    "start_time": "2023-08-14T13:18:22.634Z"
   },
   {
    "duration": 63,
    "start_time": "2023-08-14T13:18:22.652Z"
   },
   {
    "duration": 14,
    "start_time": "2023-08-14T13:18:22.717Z"
   },
   {
    "duration": 1169,
    "start_time": "2023-08-14T13:18:22.733Z"
   },
   {
    "duration": 12,
    "start_time": "2023-08-14T13:18:23.904Z"
   },
   {
    "duration": 57,
    "start_time": "2023-08-14T13:18:23.918Z"
   },
   {
    "duration": 24,
    "start_time": "2023-08-14T13:18:23.977Z"
   },
   {
    "duration": 18,
    "start_time": "2023-08-14T13:18:24.003Z"
   },
   {
    "duration": 1272,
    "start_time": "2023-08-14T13:18:24.023Z"
   },
   {
    "duration": 7,
    "start_time": "2023-08-14T13:18:25.296Z"
   },
   {
    "duration": 43,
    "start_time": "2023-08-14T13:18:25.305Z"
   },
   {
    "duration": 129,
    "start_time": "2023-08-14T13:18:25.350Z"
   },
   {
    "duration": 0,
    "start_time": "2023-08-14T13:18:25.481Z"
   },
   {
    "duration": 0,
    "start_time": "2023-08-14T13:18:25.482Z"
   },
   {
    "duration": 0,
    "start_time": "2023-08-14T13:18:25.487Z"
   },
   {
    "duration": 10,
    "start_time": "2023-08-14T13:19:35.257Z"
   },
   {
    "duration": 12,
    "start_time": "2023-08-14T13:19:42.243Z"
   },
   {
    "duration": 10,
    "start_time": "2023-08-14T13:19:46.612Z"
   },
   {
    "duration": 12,
    "start_time": "2023-08-14T14:29:29.455Z"
   },
   {
    "duration": 15,
    "start_time": "2023-08-14T14:29:49.191Z"
   },
   {
    "duration": 99,
    "start_time": "2023-08-14T14:30:07.711Z"
   },
   {
    "duration": 199,
    "start_time": "2023-08-14T14:33:06.563Z"
   },
   {
    "duration": 105,
    "start_time": "2023-08-14T14:33:14.256Z"
   },
   {
    "duration": 5,
    "start_time": "2023-08-14T14:33:30.554Z"
   },
   {
    "duration": 182,
    "start_time": "2023-08-14T14:39:11.653Z"
   },
   {
    "duration": 6,
    "start_time": "2023-08-14T14:39:14.710Z"
   },
   {
    "duration": 4,
    "start_time": "2023-08-14T14:39:38.158Z"
   },
   {
    "duration": 3,
    "start_time": "2023-08-14T14:44:28.486Z"
   },
   {
    "duration": 3,
    "start_time": "2023-08-14T14:48:12.363Z"
   },
   {
    "duration": 5,
    "start_time": "2023-08-14T14:48:13.298Z"
   },
   {
    "duration": 6,
    "start_time": "2023-08-14T14:48:32.227Z"
   },
   {
    "duration": 3,
    "start_time": "2023-08-14T15:09:27.771Z"
   },
   {
    "duration": 163,
    "start_time": "2023-08-14T15:09:54.782Z"
   },
   {
    "duration": 4,
    "start_time": "2023-08-14T15:11:13.875Z"
   },
   {
    "duration": 4,
    "start_time": "2023-08-14T15:11:26.127Z"
   },
   {
    "duration": 3,
    "start_time": "2023-08-14T15:11:35.654Z"
   },
   {
    "duration": 5,
    "start_time": "2023-08-14T15:13:41.433Z"
   },
   {
    "duration": 6,
    "start_time": "2023-08-14T15:19:51.363Z"
   },
   {
    "duration": 4,
    "start_time": "2023-08-14T15:21:48.479Z"
   },
   {
    "duration": 4,
    "start_time": "2023-08-14T15:22:01.065Z"
   },
   {
    "duration": 4,
    "start_time": "2023-08-14T15:22:29.423Z"
   },
   {
    "duration": 4,
    "start_time": "2023-08-14T15:22:39.165Z"
   },
   {
    "duration": 6,
    "start_time": "2023-08-14T15:22:56.972Z"
   },
   {
    "duration": 5,
    "start_time": "2023-08-14T15:27:33.469Z"
   },
   {
    "duration": 4,
    "start_time": "2023-08-14T15:27:52.773Z"
   },
   {
    "duration": 4,
    "start_time": "2023-08-14T15:29:46.863Z"
   },
   {
    "duration": 136,
    "start_time": "2023-08-14T15:29:47.634Z"
   },
   {
    "duration": 13,
    "start_time": "2023-08-14T15:30:55.401Z"
   },
   {
    "duration": 147,
    "start_time": "2023-08-14T15:31:14.068Z"
   },
   {
    "duration": 5,
    "start_time": "2023-08-14T15:31:34.906Z"
   },
   {
    "duration": 4,
    "start_time": "2023-08-14T15:32:01.682Z"
   },
   {
    "duration": 262,
    "start_time": "2023-08-14T17:43:01.656Z"
   },
   {
    "duration": 4,
    "start_time": "2023-08-14T17:43:11.809Z"
   },
   {
    "duration": 1431,
    "start_time": "2023-08-14T17:43:44.599Z"
   },
   {
    "duration": 3,
    "start_time": "2023-08-14T17:43:46.031Z"
   },
   {
    "duration": 87,
    "start_time": "2023-08-14T17:43:46.035Z"
   },
   {
    "duration": 3,
    "start_time": "2023-08-14T17:43:46.124Z"
   },
   {
    "duration": 41,
    "start_time": "2023-08-14T17:43:46.128Z"
   },
   {
    "duration": 31,
    "start_time": "2023-08-14T17:43:46.170Z"
   },
   {
    "duration": 40,
    "start_time": "2023-08-14T17:43:46.202Z"
   },
   {
    "duration": 32,
    "start_time": "2023-08-14T17:43:46.244Z"
   },
   {
    "duration": 73,
    "start_time": "2023-08-14T17:43:46.277Z"
   },
   {
    "duration": 40,
    "start_time": "2023-08-14T17:43:46.353Z"
   },
   {
    "duration": 30,
    "start_time": "2023-08-14T17:43:46.394Z"
   },
   {
    "duration": 27,
    "start_time": "2023-08-14T17:43:46.425Z"
   },
   {
    "duration": 27,
    "start_time": "2023-08-14T17:43:46.454Z"
   },
   {
    "duration": 45,
    "start_time": "2023-08-14T17:43:46.482Z"
   },
   {
    "duration": 13,
    "start_time": "2023-08-14T17:43:46.529Z"
   },
   {
    "duration": 1122,
    "start_time": "2023-08-14T17:43:46.544Z"
   },
   {
    "duration": 20,
    "start_time": "2023-08-14T17:43:47.667Z"
   },
   {
    "duration": 111,
    "start_time": "2023-08-14T17:43:47.689Z"
   },
   {
    "duration": 123,
    "start_time": "2023-08-14T17:43:47.802Z"
   },
   {
    "duration": 51,
    "start_time": "2023-08-14T17:43:47.927Z"
   },
   {
    "duration": 1150,
    "start_time": "2023-08-14T17:43:47.980Z"
   },
   {
    "duration": 7,
    "start_time": "2023-08-14T17:43:49.132Z"
   },
   {
    "duration": 23,
    "start_time": "2023-08-14T17:43:49.141Z"
   },
   {
    "duration": 34,
    "start_time": "2023-08-14T17:43:49.165Z"
   },
   {
    "duration": 33,
    "start_time": "2023-08-14T17:43:49.200Z"
   },
   {
    "duration": 44,
    "start_time": "2023-08-14T17:43:49.234Z"
   },
   {
    "duration": 21,
    "start_time": "2023-08-14T17:43:49.280Z"
   },
   {
    "duration": 261,
    "start_time": "2023-08-14T17:43:49.304Z"
   },
   {
    "duration": 3,
    "start_time": "2023-08-14T17:43:49.567Z"
   },
   {
    "duration": 34,
    "start_time": "2023-08-14T17:43:49.572Z"
   },
   {
    "duration": 19,
    "start_time": "2023-08-14T17:43:49.607Z"
   },
   {
    "duration": 73,
    "start_time": "2023-08-14T17:43:49.627Z"
   },
   {
    "duration": 166,
    "start_time": "2023-08-14T17:43:49.702Z"
   },
   {
    "duration": 5,
    "start_time": "2023-08-14T17:43:49.869Z"
   },
   {
    "duration": 246,
    "start_time": "2023-08-14T17:45:53.889Z"
   },
   {
    "duration": 5,
    "start_time": "2023-08-14T17:45:54.854Z"
   },
   {
    "duration": 257,
    "start_time": "2023-08-14T17:46:15.058Z"
   },
   {
    "duration": 4,
    "start_time": "2023-08-14T17:46:15.593Z"
   },
   {
    "duration": 3,
    "start_time": "2023-08-14T17:46:18.757Z"
   },
   {
    "duration": 7,
    "start_time": "2023-08-14T17:46:19.204Z"
   },
   {
    "duration": 3,
    "start_time": "2023-08-14T17:46:20.350Z"
   },
   {
    "duration": 144,
    "start_time": "2023-08-14T17:46:21.068Z"
   },
   {
    "duration": 1809,
    "start_time": "2023-08-14T17:58:03.821Z"
   },
   {
    "duration": 4,
    "start_time": "2023-08-14T17:58:05.632Z"
   },
   {
    "duration": 3476,
    "start_time": "2023-08-14T18:06:27.485Z"
   },
   {
    "duration": 3,
    "start_time": "2023-08-14T18:07:27.757Z"
   },
   {
    "duration": 3393,
    "start_time": "2023-08-14T18:08:07.650Z"
   },
   {
    "duration": 3,
    "start_time": "2023-08-14T18:08:11.045Z"
   },
   {
    "duration": 104,
    "start_time": "2023-08-14T18:08:23.472Z"
   },
   {
    "duration": 3440,
    "start_time": "2023-08-14T18:08:33.405Z"
   },
   {
    "duration": 9,
    "start_time": "2023-08-14T18:08:37.898Z"
   },
   {
    "duration": 3432,
    "start_time": "2023-08-14T18:08:48.950Z"
   },
   {
    "duration": 9,
    "start_time": "2023-08-14T18:08:53.137Z"
   },
   {
    "duration": 3569,
    "start_time": "2023-08-14T18:10:26.766Z"
   },
   {
    "duration": 4,
    "start_time": "2023-08-14T18:10:31.887Z"
   },
   {
    "duration": 1455,
    "start_time": "2023-08-14T18:12:34.087Z"
   },
   {
    "duration": 2,
    "start_time": "2023-08-14T18:12:35.544Z"
   },
   {
    "duration": 86,
    "start_time": "2023-08-14T18:12:35.548Z"
   },
   {
    "duration": 3,
    "start_time": "2023-08-14T18:12:35.636Z"
   },
   {
    "duration": 40,
    "start_time": "2023-08-14T18:12:35.640Z"
   },
   {
    "duration": 105,
    "start_time": "2023-08-14T18:12:35.682Z"
   },
   {
    "duration": 25,
    "start_time": "2023-08-14T18:12:35.789Z"
   },
   {
    "duration": 26,
    "start_time": "2023-08-14T18:12:35.816Z"
   },
   {
    "duration": 21,
    "start_time": "2023-08-14T18:12:35.843Z"
   },
   {
    "duration": 57,
    "start_time": "2023-08-14T18:12:35.868Z"
   },
   {
    "duration": 18,
    "start_time": "2023-08-14T18:12:35.927Z"
   },
   {
    "duration": 39,
    "start_time": "2023-08-14T18:12:35.947Z"
   },
   {
    "duration": 63,
    "start_time": "2023-08-14T18:12:35.988Z"
   },
   {
    "duration": 50,
    "start_time": "2023-08-14T18:12:36.053Z"
   },
   {
    "duration": 15,
    "start_time": "2023-08-14T18:12:36.105Z"
   },
   {
    "duration": 1163,
    "start_time": "2023-08-14T18:12:36.122Z"
   },
   {
    "duration": 12,
    "start_time": "2023-08-14T18:12:37.287Z"
   },
   {
    "duration": 45,
    "start_time": "2023-08-14T18:12:37.301Z"
   },
   {
    "duration": 21,
    "start_time": "2023-08-14T18:12:37.347Z"
   },
   {
    "duration": 26,
    "start_time": "2023-08-14T18:12:37.370Z"
   },
   {
    "duration": 1108,
    "start_time": "2023-08-14T18:12:37.398Z"
   },
   {
    "duration": 7,
    "start_time": "2023-08-14T18:12:38.508Z"
   },
   {
    "duration": 9,
    "start_time": "2023-08-14T18:12:38.516Z"
   },
   {
    "duration": 8,
    "start_time": "2023-08-14T18:12:38.527Z"
   },
   {
    "duration": 6,
    "start_time": "2023-08-14T18:12:38.537Z"
   },
   {
    "duration": 13,
    "start_time": "2023-08-14T18:12:38.545Z"
   },
   {
    "duration": 11,
    "start_time": "2023-08-14T18:12:38.559Z"
   },
   {
    "duration": 260,
    "start_time": "2023-08-14T18:12:38.588Z"
   },
   {
    "duration": 4,
    "start_time": "2023-08-14T18:12:38.849Z"
   },
   {
    "duration": 9,
    "start_time": "2023-08-14T18:12:38.855Z"
   },
   {
    "duration": 22,
    "start_time": "2023-08-14T18:12:38.866Z"
   },
   {
    "duration": 4,
    "start_time": "2023-08-14T18:12:38.890Z"
   },
   {
    "duration": 156,
    "start_time": "2023-08-14T18:12:38.896Z"
   },
   {
    "duration": 1817,
    "start_time": "2023-08-14T18:12:39.054Z"
   },
   {
    "duration": 4,
    "start_time": "2023-08-14T18:12:40.873Z"
   },
   {
    "duration": 4017,
    "start_time": "2023-08-14T18:12:40.887Z"
   },
   {
    "duration": 4,
    "start_time": "2023-08-14T18:12:44.907Z"
   },
   {
    "duration": 16,
    "start_time": "2023-08-14T18:12:44.913Z"
   },
   {
    "duration": 24041,
    "start_time": "2023-08-14T18:13:59.121Z"
   },
   {
    "duration": 3,
    "start_time": "2023-08-14T18:14:25.738Z"
   },
   {
    "duration": 260,
    "start_time": "2023-08-14T18:15:56.265Z"
   },
   {
    "duration": 3,
    "start_time": "2023-08-14T18:15:57.165Z"
   },
   {
    "duration": 5,
    "start_time": "2023-08-14T18:16:06.570Z"
   },
   {
    "duration": 153,
    "start_time": "2023-08-14T18:16:14.827Z"
   },
   {
    "duration": 46,
    "start_time": "2023-08-14T18:19:20.963Z"
   },
   {
    "duration": 171,
    "start_time": "2023-08-14T18:20:13.431Z"
   },
   {
    "duration": 52,
    "start_time": "2023-08-15T07:53:10.053Z"
   },
   {
    "duration": 1737,
    "start_time": "2023-08-15T07:53:25.318Z"
   },
   {
    "duration": 3,
    "start_time": "2023-08-15T07:53:27.057Z"
   },
   {
    "duration": 121,
    "start_time": "2023-08-15T07:53:27.061Z"
   },
   {
    "duration": 3,
    "start_time": "2023-08-15T07:53:27.185Z"
   },
   {
    "duration": 13,
    "start_time": "2023-08-15T07:53:27.189Z"
   },
   {
    "duration": 21,
    "start_time": "2023-08-15T07:53:27.203Z"
   },
   {
    "duration": 20,
    "start_time": "2023-08-15T07:53:27.226Z"
   },
   {
    "duration": 28,
    "start_time": "2023-08-15T07:53:27.248Z"
   },
   {
    "duration": 16,
    "start_time": "2023-08-15T07:53:27.277Z"
   },
   {
    "duration": 16,
    "start_time": "2023-08-15T07:53:27.297Z"
   },
   {
    "duration": 13,
    "start_time": "2023-08-15T07:53:27.315Z"
   },
   {
    "duration": 10,
    "start_time": "2023-08-15T07:53:27.331Z"
   },
   {
    "duration": 17,
    "start_time": "2023-08-15T07:53:27.343Z"
   },
   {
    "duration": 53,
    "start_time": "2023-08-15T07:53:27.362Z"
   },
   {
    "duration": 15,
    "start_time": "2023-08-15T07:53:27.416Z"
   },
   {
    "duration": 1195,
    "start_time": "2023-08-15T07:53:27.432Z"
   },
   {
    "duration": 11,
    "start_time": "2023-08-15T07:53:28.629Z"
   },
   {
    "duration": 20,
    "start_time": "2023-08-15T07:53:28.641Z"
   },
   {
    "duration": 26,
    "start_time": "2023-08-15T07:53:28.663Z"
   },
   {
    "duration": 18,
    "start_time": "2023-08-15T07:53:28.694Z"
   },
   {
    "duration": 1161,
    "start_time": "2023-08-15T07:53:28.714Z"
   },
   {
    "duration": 6,
    "start_time": "2023-08-15T07:53:29.877Z"
   },
   {
    "duration": 31,
    "start_time": "2023-08-15T07:53:29.885Z"
   },
   {
    "duration": 22,
    "start_time": "2023-08-15T07:53:29.918Z"
   },
   {
    "duration": 18,
    "start_time": "2023-08-15T07:53:29.941Z"
   },
   {
    "duration": 20,
    "start_time": "2023-08-15T07:53:29.960Z"
   },
   {
    "duration": 19,
    "start_time": "2023-08-15T07:53:29.981Z"
   },
   {
    "duration": 23,
    "start_time": "2023-08-15T07:53:30.003Z"
   },
   {
    "duration": 52,
    "start_time": "2023-08-15T07:53:30.028Z"
   },
   {
    "duration": 334,
    "start_time": "2023-08-15T07:53:30.082Z"
   },
   {
    "duration": 5,
    "start_time": "2023-08-15T07:53:30.418Z"
   },
   {
    "duration": 54,
    "start_time": "2023-08-15T07:53:30.424Z"
   },
   {
    "duration": 230,
    "start_time": "2023-08-15T07:53:30.480Z"
   },
   {
    "duration": 1912,
    "start_time": "2023-08-15T07:53:30.711Z"
   },
   {
    "duration": 4,
    "start_time": "2023-08-15T07:53:32.625Z"
   },
   {
    "duration": 3624,
    "start_time": "2023-08-15T07:53:32.631Z"
   },
   {
    "duration": 3,
    "start_time": "2023-08-15T07:53:36.257Z"
   },
   {
    "duration": 26017,
    "start_time": "2023-08-15T07:53:36.262Z"
   },
   {
    "duration": 4,
    "start_time": "2023-08-15T07:54:02.281Z"
   },
   {
    "duration": 98,
    "start_time": "2023-08-15T07:54:02.295Z"
   },
   {
    "duration": 200,
    "start_time": "2023-08-15T07:54:02.395Z"
   },
   {
    "duration": 310,
    "start_time": "2023-08-15T07:54:02.597Z"
   },
   {
    "duration": 0,
    "start_time": "2023-08-15T07:54:02.909Z"
   },
   {
    "duration": 0,
    "start_time": "2023-08-15T07:54:02.910Z"
   },
   {
    "duration": 6825,
    "start_time": "2023-08-15T07:55:45.588Z"
   },
   {
    "duration": 6352,
    "start_time": "2023-08-15T07:58:55.448Z"
   },
   {
    "duration": 177,
    "start_time": "2023-08-15T08:08:09.650Z"
   },
   {
    "duration": 81,
    "start_time": "2023-08-15T08:08:42.027Z"
   },
   {
    "duration": 78,
    "start_time": "2023-08-15T08:09:19.106Z"
   },
   {
    "duration": 4,
    "start_time": "2023-08-15T08:10:12.581Z"
   },
   {
    "duration": 4,
    "start_time": "2023-08-15T08:10:56.918Z"
   },
   {
    "duration": 7885,
    "start_time": "2023-08-15T08:12:01.314Z"
   },
   {
    "duration": 3889,
    "start_time": "2023-08-15T08:13:54.709Z"
   },
   {
    "duration": 3284,
    "start_time": "2023-08-15T08:17:05.813Z"
   },
   {
    "duration": 3482,
    "start_time": "2023-08-15T08:25:06.715Z"
   },
   {
    "duration": 586,
    "start_time": "2023-08-15T08:25:52.616Z"
   },
   {
    "duration": 4,
    "start_time": "2023-08-15T08:26:10.516Z"
   },
   {
    "duration": 196,
    "start_time": "2023-08-15T08:26:48.400Z"
   },
   {
    "duration": 1620,
    "start_time": "2023-08-15T08:27:03.677Z"
   },
   {
    "duration": 2546,
    "start_time": "2023-08-15T08:27:52.855Z"
   },
   {
    "duration": 14653,
    "start_time": "2023-08-15T08:28:19.549Z"
   },
   {
    "duration": 15434,
    "start_time": "2023-08-15T08:31:56.570Z"
   },
   {
    "duration": 18799,
    "start_time": "2023-08-15T08:32:26.104Z"
   },
   {
    "duration": 4,
    "start_time": "2023-08-15T08:38:47.894Z"
   },
   {
    "duration": 15338,
    "start_time": "2023-08-15T09:32:20.875Z"
   },
   {
    "duration": 4,
    "start_time": "2023-08-15T09:32:48.174Z"
   },
   {
    "duration": 7055,
    "start_time": "2023-08-15T09:33:19.654Z"
   },
   {
    "duration": 6466,
    "start_time": "2023-08-15T09:33:40.131Z"
   },
   {
    "duration": 6745,
    "start_time": "2023-08-15T09:34:02.950Z"
   },
   {
    "duration": 9726,
    "start_time": "2023-08-15T09:34:45.171Z"
   },
   {
    "duration": 18801,
    "start_time": "2023-08-15T09:35:24.795Z"
   },
   {
    "duration": 15538,
    "start_time": "2023-08-15T09:35:59.174Z"
   },
   {
    "duration": 5,
    "start_time": "2023-08-15T09:36:19.882Z"
   },
   {
    "duration": 11539,
    "start_time": "2023-08-15T09:37:21.368Z"
   },
   {
    "duration": 4,
    "start_time": "2023-08-15T09:37:42.786Z"
   },
   {
    "duration": 16300,
    "start_time": "2023-08-15T09:37:56.606Z"
   },
   {
    "duration": 4,
    "start_time": "2023-08-15T09:38:19.880Z"
   },
   {
    "duration": 11806,
    "start_time": "2023-08-15T09:38:48.096Z"
   },
   {
    "duration": 4,
    "start_time": "2023-08-15T09:39:04.803Z"
   },
   {
    "duration": 34740,
    "start_time": "2023-08-15T09:40:12.861Z"
   },
   {
    "duration": 4,
    "start_time": "2023-08-15T09:41:03.231Z"
   },
   {
    "duration": 13770,
    "start_time": "2023-08-15T09:49:44.835Z"
   },
   {
    "duration": 6,
    "start_time": "2023-08-15T09:50:09.677Z"
   },
   {
    "duration": 22317,
    "start_time": "2023-08-15T09:50:45.590Z"
   },
   {
    "duration": 4,
    "start_time": "2023-08-15T09:51:13.130Z"
   },
   {
    "duration": 18090,
    "start_time": "2023-08-15T09:51:35.918Z"
   },
   {
    "duration": 7,
    "start_time": "2023-08-15T09:52:14.942Z"
   },
   {
    "duration": 17554,
    "start_time": "2023-08-15T09:52:32.346Z"
   },
   {
    "duration": 4,
    "start_time": "2023-08-15T09:53:00.531Z"
   },
   {
    "duration": 102,
    "start_time": "2023-08-15T10:01:14.031Z"
   },
   {
    "duration": 19,
    "start_time": "2023-08-15T10:01:27.266Z"
   },
   {
    "duration": 13,
    "start_time": "2023-08-15T10:01:42.501Z"
   },
   {
    "duration": 4397,
    "start_time": "2023-08-15T10:02:24.600Z"
   },
   {
    "duration": 4696,
    "start_time": "2023-08-15T10:03:25.501Z"
   },
   {
    "duration": 3028,
    "start_time": "2023-08-15T10:03:49.077Z"
   },
   {
    "duration": 17,
    "start_time": "2023-08-15T10:04:09.089Z"
   },
   {
    "duration": 2545,
    "start_time": "2023-08-15T10:04:37.757Z"
   },
   {
    "duration": 11,
    "start_time": "2023-08-15T10:04:41.381Z"
   },
   {
    "duration": 3499,
    "start_time": "2023-08-15T10:04:56.705Z"
   },
   {
    "duration": 103,
    "start_time": "2023-08-15T10:05:00.208Z"
   },
   {
    "duration": 2559,
    "start_time": "2023-08-15T10:05:53.937Z"
   },
   {
    "duration": 13,
    "start_time": "2023-08-15T10:06:02.138Z"
   },
   {
    "duration": 2433,
    "start_time": "2023-08-15T10:07:20.170Z"
   },
   {
    "duration": 2122,
    "start_time": "2023-08-15T10:07:51.882Z"
   },
   {
    "duration": 7518,
    "start_time": "2023-08-15T10:08:59.479Z"
   },
   {
    "duration": 48803,
    "start_time": "2023-08-15T10:09:30.528Z"
   },
   {
    "duration": 1978,
    "start_time": "2023-08-15T10:10:26.320Z"
   },
   {
    "duration": 1002,
    "start_time": "2023-08-15T10:11:00.203Z"
   },
   {
    "duration": 2892,
    "start_time": "2023-08-15T10:11:06.903Z"
   },
   {
    "duration": 5081,
    "start_time": "2023-08-15T10:11:16.415Z"
   },
   {
    "duration": 3908,
    "start_time": "2023-08-15T10:15:36.293Z"
   },
   {
    "duration": 10092,
    "start_time": "2023-08-15T10:19:52.313Z"
   },
   {
    "duration": 3291,
    "start_time": "2023-08-15T10:20:57.308Z"
   },
   {
    "duration": 6690,
    "start_time": "2023-08-15T10:21:13.013Z"
   },
   {
    "duration": 3396,
    "start_time": "2023-08-15T10:21:31.601Z"
   },
   {
    "duration": 7491,
    "start_time": "2023-08-15T10:22:11.711Z"
   },
   {
    "duration": 7085,
    "start_time": "2023-08-15T10:22:46.510Z"
   },
   {
    "duration": 4,
    "start_time": "2023-08-15T10:23:16.018Z"
   },
   {
    "duration": 13462,
    "start_time": "2023-08-15T10:24:37.234Z"
   },
   {
    "duration": 7640,
    "start_time": "2023-08-15T10:25:58.063Z"
   },
   {
    "duration": 14247,
    "start_time": "2023-08-15T10:29:35.157Z"
   },
   {
    "duration": 1938,
    "start_time": "2023-08-15T10:30:23.559Z"
   },
   {
    "duration": 17760,
    "start_time": "2023-08-15T10:30:46.640Z"
   },
   {
    "duration": 5,
    "start_time": "2023-08-15T10:31:12.284Z"
   },
   {
    "duration": 3342,
    "start_time": "2023-08-15T10:31:25.654Z"
   },
   {
    "duration": 6864,
    "start_time": "2023-08-15T10:31:36.731Z"
   },
   {
    "duration": 5238,
    "start_time": "2023-08-15T10:52:32.566Z"
   },
   {
    "duration": 8,
    "start_time": "2023-08-15T10:54:37.792Z"
   },
   {
    "duration": 376,
    "start_time": "2023-08-15T10:54:55.222Z"
   },
   {
    "duration": 4,
    "start_time": "2023-08-15T13:06:44.226Z"
   },
   {
    "duration": 15,
    "start_time": "2023-08-15T13:07:19.326Z"
   },
   {
    "duration": 345,
    "start_time": "2023-08-15T13:07:50.059Z"
   },
   {
    "duration": 4,
    "start_time": "2023-08-15T13:07:52.626Z"
   },
   {
    "duration": 757,
    "start_time": "2023-08-15T13:08:06.995Z"
   },
   {
    "duration": 5,
    "start_time": "2023-08-15T13:08:08.030Z"
   },
   {
    "duration": 6,
    "start_time": "2023-08-15T13:08:18.914Z"
   },
   {
    "duration": 138,
    "start_time": "2023-08-15T13:08:24.230Z"
   },
   {
    "duration": 4,
    "start_time": "2023-08-15T13:10:36.955Z"
   },
   {
    "duration": 4416,
    "start_time": "2023-08-15T13:11:35.168Z"
   },
   {
    "duration": 5,
    "start_time": "2023-08-15T13:11:42.127Z"
   },
   {
    "duration": 8432,
    "start_time": "2023-08-15T13:12:03.416Z"
   },
   {
    "duration": 4,
    "start_time": "2023-08-15T13:12:14.905Z"
   },
   {
    "duration": 12850,
    "start_time": "2023-08-15T13:12:30.537Z"
   },
   {
    "duration": 6,
    "start_time": "2023-08-15T13:12:43.389Z"
   },
   {
    "duration": 4,
    "start_time": "2023-08-15T13:12:59.088Z"
   },
   {
    "duration": 6956,
    "start_time": "2023-08-15T13:13:13.167Z"
   },
   {
    "duration": 3,
    "start_time": "2023-08-15T13:13:23.296Z"
   },
   {
    "duration": 6739,
    "start_time": "2023-08-15T13:15:12.449Z"
   },
   {
    "duration": 4,
    "start_time": "2023-08-15T13:15:20.145Z"
   },
   {
    "duration": 12627,
    "start_time": "2023-08-15T13:16:16.034Z"
   },
   {
    "duration": 4,
    "start_time": "2023-08-15T13:16:28.664Z"
   },
   {
    "duration": 6356,
    "start_time": "2023-08-15T13:16:58.530Z"
   },
   {
    "duration": 3,
    "start_time": "2023-08-15T13:17:07.072Z"
   },
   {
    "duration": 7310,
    "start_time": "2023-08-15T13:17:25.553Z"
   },
   {
    "duration": 4,
    "start_time": "2023-08-15T13:17:40.161Z"
   },
   {
    "duration": 60000,
    "start_time": "2023-08-15T13:18:38.535Z"
   },
   {
    "duration": 4,
    "start_time": "2023-08-15T13:19:38.537Z"
   },
   {
    "duration": 13058,
    "start_time": "2023-08-15T13:20:25.194Z"
   },
   {
    "duration": 4,
    "start_time": "2023-08-15T13:20:38.254Z"
   },
   {
    "duration": 6506,
    "start_time": "2023-08-15T13:21:12.667Z"
   },
   {
    "duration": 4,
    "start_time": "2023-08-15T13:21:20.101Z"
   },
   {
    "duration": 153,
    "start_time": "2023-08-15T13:22:17.950Z"
   },
   {
    "duration": 150,
    "start_time": "2023-08-15T13:24:04.714Z"
   },
   {
    "duration": 157,
    "start_time": "2023-08-15T13:24:16.586Z"
   },
   {
    "duration": 171,
    "start_time": "2023-08-15T13:24:26.570Z"
   },
   {
    "duration": 5,
    "start_time": "2023-08-15T13:24:48.913Z"
   },
   {
    "duration": 149,
    "start_time": "2023-08-15T13:25:17.793Z"
   },
   {
    "duration": 12618,
    "start_time": "2023-08-15T13:26:00.971Z"
   },
   {
    "duration": 4,
    "start_time": "2023-08-15T13:26:19.987Z"
   },
   {
    "duration": 12451,
    "start_time": "2023-08-15T13:28:12.154Z"
   },
   {
    "duration": 825,
    "start_time": "2023-08-15T13:30:26.361Z"
   },
   {
    "duration": 5,
    "start_time": "2023-08-15T13:30:32.072Z"
   },
   {
    "duration": 7,
    "start_time": "2023-08-15T13:30:51.649Z"
   },
   {
    "duration": 142,
    "start_time": "2023-08-15T13:31:13.644Z"
   },
   {
    "duration": 12886,
    "start_time": "2023-08-15T13:31:22.917Z"
   },
   {
    "duration": 4,
    "start_time": "2023-08-15T13:31:35.805Z"
   },
   {
    "duration": 12972,
    "start_time": "2023-08-15T13:32:08.468Z"
   },
   {
    "duration": 5,
    "start_time": "2023-08-15T13:32:55.064Z"
   },
   {
    "duration": 12795,
    "start_time": "2023-08-15T13:33:22.349Z"
   },
   {
    "duration": 4,
    "start_time": "2023-08-15T13:33:35.147Z"
   },
   {
    "duration": 731,
    "start_time": "2023-08-15T13:34:38.769Z"
   },
   {
    "duration": 4,
    "start_time": "2023-08-15T13:34:40.296Z"
   },
   {
    "duration": 1228,
    "start_time": "2023-08-15T14:16:39.844Z"
   },
   {
    "duration": 4,
    "start_time": "2023-08-15T14:16:41.074Z"
   },
   {
    "duration": 1245,
    "start_time": "2023-08-15T14:17:14.253Z"
   },
   {
    "duration": 5,
    "start_time": "2023-08-15T14:17:22.183Z"
   },
   {
    "duration": 25,
    "start_time": "2023-08-15T14:19:03.110Z"
   },
   {
    "duration": 8,
    "start_time": "2023-08-15T14:21:52.248Z"
   },
   {
    "duration": 5,
    "start_time": "2023-08-15T14:22:26.472Z"
   },
   {
    "duration": 1196,
    "start_time": "2023-08-15T14:22:41.100Z"
   },
   {
    "duration": 7,
    "start_time": "2023-08-15T14:22:42.299Z"
   },
   {
    "duration": 1111,
    "start_time": "2023-08-15T14:25:03.420Z"
   },
   {
    "duration": 7,
    "start_time": "2023-08-15T14:25:05.480Z"
   },
   {
    "duration": 9,
    "start_time": "2023-08-15T14:25:37.420Z"
   },
   {
    "duration": 6,
    "start_time": "2023-08-15T14:25:52.281Z"
   },
   {
    "duration": 8,
    "start_time": "2023-08-15T14:26:08.933Z"
   },
   {
    "duration": 142,
    "start_time": "2023-08-15T14:26:11.296Z"
   },
   {
    "duration": 12798,
    "start_time": "2023-08-15T14:32:51.748Z"
   },
   {
    "duration": 5,
    "start_time": "2023-08-15T14:33:04.548Z"
   },
   {
    "duration": 5,
    "start_time": "2023-08-15T14:33:22.495Z"
   },
   {
    "duration": 5689,
    "start_time": "2023-08-15T14:34:10.008Z"
   },
   {
    "duration": 4,
    "start_time": "2023-08-15T14:34:16.698Z"
   },
   {
    "duration": 5743,
    "start_time": "2023-08-15T14:34:50.877Z"
   },
   {
    "duration": 4,
    "start_time": "2023-08-15T14:34:56.622Z"
   },
   {
    "duration": 5807,
    "start_time": "2023-08-15T14:35:21.184Z"
   },
   {
    "duration": 3,
    "start_time": "2023-08-15T14:35:26.994Z"
   },
   {
    "duration": 6,
    "start_time": "2023-08-15T14:35:36.851Z"
   },
   {
    "duration": 26344,
    "start_time": "2023-08-15T14:36:58.561Z"
   },
   {
    "duration": 4,
    "start_time": "2023-08-15T14:37:24.908Z"
   },
   {
    "duration": 6,
    "start_time": "2023-08-15T14:37:36.394Z"
   },
   {
    "duration": 5871,
    "start_time": "2023-08-15T14:37:43.577Z"
   },
   {
    "duration": 4,
    "start_time": "2023-08-15T14:37:49.450Z"
   },
   {
    "duration": 16,
    "start_time": "2023-08-15T14:37:49.456Z"
   },
   {
    "duration": 18,
    "start_time": "2023-08-15T14:38:21.230Z"
   },
   {
    "duration": 184,
    "start_time": "2023-08-15T14:39:02.291Z"
   },
   {
    "duration": 16034,
    "start_time": "2023-08-15T14:42:19.969Z"
   },
   {
    "duration": 4,
    "start_time": "2023-08-15T14:42:37.831Z"
   },
   {
    "duration": 3,
    "start_time": "2023-08-15T14:42:58.264Z"
   },
   {
    "duration": 4,
    "start_time": "2023-08-15T14:43:29.262Z"
   },
   {
    "duration": 7619,
    "start_time": "2023-08-15T14:45:25.081Z"
   },
   {
    "duration": 2769,
    "start_time": "2023-08-15T14:46:01.428Z"
   },
   {
    "duration": 5,
    "start_time": "2023-08-15T14:46:16.816Z"
   },
   {
    "duration": 5610,
    "start_time": "2023-08-15T14:46:55.993Z"
   },
   {
    "duration": 13758,
    "start_time": "2023-08-15T14:47:19.741Z"
   },
   {
    "duration": 4,
    "start_time": "2023-08-15T14:48:13.198Z"
   },
   {
    "duration": 6837,
    "start_time": "2023-08-15T14:48:42.558Z"
   },
   {
    "duration": 29373,
    "start_time": "2023-08-15T14:49:06.434Z"
   },
   {
    "duration": 16120,
    "start_time": "2023-08-15T14:49:57.582Z"
   },
   {
    "duration": 5,
    "start_time": "2023-08-15T14:50:55.537Z"
   },
   {
    "duration": 24471,
    "start_time": "2023-08-15T14:51:36.338Z"
   },
   {
    "duration": 5,
    "start_time": "2023-08-15T14:52:28.455Z"
   },
   {
    "duration": 83,
    "start_time": "2023-08-15T14:54:58.351Z"
   },
   {
    "duration": 10,
    "start_time": "2023-08-15T14:55:51.415Z"
   },
   {
    "duration": 6,
    "start_time": "2023-08-15T14:56:14.861Z"
   },
   {
    "duration": 13,
    "start_time": "2023-08-15T14:56:33.085Z"
   },
   {
    "duration": 352,
    "start_time": "2023-08-15T14:56:42.383Z"
   },
   {
    "duration": 96,
    "start_time": "2023-08-15T15:08:38.799Z"
   },
   {
    "duration": 14,
    "start_time": "2023-08-15T15:10:04.226Z"
   },
   {
    "duration": 32559,
    "start_time": "2023-08-15T15:12:27.772Z"
   },
   {
    "duration": 0,
    "start_time": "2023-08-15T15:13:00.333Z"
   },
   {
    "duration": 11416,
    "start_time": "2023-08-15T15:13:20.012Z"
   },
   {
    "duration": 5,
    "start_time": "2023-08-15T15:13:46.019Z"
   },
   {
    "duration": 4,
    "start_time": "2023-08-15T15:14:37.308Z"
   },
   {
    "duration": 4,
    "start_time": "2023-08-15T15:15:36.525Z"
   },
   {
    "duration": 288034,
    "start_time": "2023-08-15T15:15:59.004Z"
   },
   {
    "duration": 6,
    "start_time": "2023-08-15T15:20:47.042Z"
   },
   {
    "duration": 10,
    "start_time": "2023-08-15T15:21:18.773Z"
   },
   {
    "duration": 5,
    "start_time": "2023-08-15T15:22:16.865Z"
   },
   {
    "duration": 11,
    "start_time": "2023-08-15T15:22:25.874Z"
   },
   {
    "duration": 11,
    "start_time": "2023-08-15T15:23:44.697Z"
   },
   {
    "duration": 95,
    "start_time": "2023-08-15T15:25:42.404Z"
   },
   {
    "duration": 20,
    "start_time": "2023-08-15T15:25:52.176Z"
   },
   {
    "duration": 4482,
    "start_time": "2023-08-15T15:27:31.291Z"
   },
   {
    "duration": 5,
    "start_time": "2023-08-15T15:27:43.555Z"
   },
   {
    "duration": 13618,
    "start_time": "2023-08-15T15:28:06.657Z"
   },
   {
    "duration": 6,
    "start_time": "2023-08-15T15:28:20.277Z"
   },
   {
    "duration": 173493,
    "start_time": "2023-08-15T15:28:38.089Z"
   },
   {
    "duration": 0,
    "start_time": "2023-08-15T15:31:31.584Z"
   },
   {
    "duration": 32281,
    "start_time": "2023-08-15T15:31:38.709Z"
   },
   {
    "duration": 0,
    "start_time": "2023-08-15T15:32:10.994Z"
   },
   {
    "duration": 22393,
    "start_time": "2023-08-15T15:32:19.261Z"
   },
   {
    "duration": 5,
    "start_time": "2023-08-15T15:32:41.655Z"
   },
   {
    "duration": 32809,
    "start_time": "2023-08-15T15:35:30.062Z"
   },
   {
    "duration": 5,
    "start_time": "2023-08-15T15:36:02.873Z"
   },
   {
    "duration": 25659,
    "start_time": "2023-08-15T15:39:33.073Z"
   },
   {
    "duration": 5,
    "start_time": "2023-08-15T15:39:58.734Z"
   },
   {
    "duration": 35886,
    "start_time": "2023-08-15T15:40:24.510Z"
   },
   {
    "duration": 9,
    "start_time": "2023-08-15T15:41:00.399Z"
   },
   {
    "duration": 103,
    "start_time": "2023-08-15T15:43:40.650Z"
   },
   {
    "duration": 6,
    "start_time": "2023-08-15T15:44:04.605Z"
   },
   {
    "duration": 126,
    "start_time": "2023-08-15T15:44:58.860Z"
   },
   {
    "duration": 292,
    "start_time": "2023-08-15T15:45:05.573Z"
   },
   {
    "duration": 5,
    "start_time": "2023-08-15T15:58:31.931Z"
   },
   {
    "duration": 1828,
    "start_time": "2023-08-16T08:09:05.698Z"
   },
   {
    "duration": 4,
    "start_time": "2023-08-16T08:09:07.529Z"
   },
   {
    "duration": 134,
    "start_time": "2023-08-16T08:09:07.535Z"
   },
   {
    "duration": 3,
    "start_time": "2023-08-16T08:09:07.671Z"
   },
   {
    "duration": 83,
    "start_time": "2023-08-16T08:09:07.676Z"
   },
   {
    "duration": 25,
    "start_time": "2023-08-16T08:09:07.761Z"
   },
   {
    "duration": 30,
    "start_time": "2023-08-16T08:09:07.787Z"
   },
   {
    "duration": 38,
    "start_time": "2023-08-16T08:09:07.818Z"
   },
   {
    "duration": 26,
    "start_time": "2023-08-16T08:09:07.859Z"
   },
   {
    "duration": 80,
    "start_time": "2023-08-16T08:09:07.889Z"
   },
   {
    "duration": 12,
    "start_time": "2023-08-16T08:09:07.972Z"
   },
   {
    "duration": 9,
    "start_time": "2023-08-16T08:09:07.986Z"
   },
   {
    "duration": 6,
    "start_time": "2023-08-16T08:09:07.996Z"
   },
   {
    "duration": 58,
    "start_time": "2023-08-16T08:09:08.004Z"
   },
   {
    "duration": 16,
    "start_time": "2023-08-16T08:09:08.063Z"
   },
   {
    "duration": 1413,
    "start_time": "2023-08-16T08:09:08.080Z"
   },
   {
    "duration": 13,
    "start_time": "2023-08-16T08:09:09.494Z"
   },
   {
    "duration": 44,
    "start_time": "2023-08-16T08:09:09.509Z"
   },
   {
    "duration": 41,
    "start_time": "2023-08-16T08:09:09.555Z"
   },
   {
    "duration": 28,
    "start_time": "2023-08-16T08:09:09.598Z"
   },
   {
    "duration": 1470,
    "start_time": "2023-08-16T08:09:09.628Z"
   },
   {
    "duration": 7,
    "start_time": "2023-08-16T08:09:11.100Z"
   },
   {
    "duration": 12,
    "start_time": "2023-08-16T08:09:11.108Z"
   },
   {
    "duration": 14,
    "start_time": "2023-08-16T08:09:11.122Z"
   },
   {
    "duration": 8,
    "start_time": "2023-08-16T08:09:11.138Z"
   },
   {
    "duration": 17,
    "start_time": "2023-08-16T08:09:11.148Z"
   },
   {
    "duration": 12,
    "start_time": "2023-08-16T08:09:11.167Z"
   },
   {
    "duration": 3,
    "start_time": "2023-08-16T08:09:11.183Z"
   },
   {
    "duration": 7,
    "start_time": "2023-08-16T08:09:11.188Z"
   },
   {
    "duration": 790,
    "start_time": "2023-08-16T08:09:11.197Z"
   },
   {
    "duration": 4,
    "start_time": "2023-08-16T08:09:11.989Z"
   },
   {
    "duration": 1184,
    "start_time": "2023-08-16T08:09:11.995Z"
   },
   {
    "duration": 4,
    "start_time": "2023-08-16T08:09:13.181Z"
   },
   {
    "duration": 29,
    "start_time": "2023-08-16T08:09:13.186Z"
   },
   {
    "duration": 188,
    "start_time": "2023-08-16T08:09:13.217Z"
   },
   {
    "duration": 14259,
    "start_time": "2023-08-16T08:09:13.407Z"
   },
   {
    "duration": 4,
    "start_time": "2023-08-16T08:09:27.668Z"
   },
   {
    "duration": 19,
    "start_time": "2023-08-16T08:09:27.674Z"
   },
   {
    "duration": 6054,
    "start_time": "2023-08-16T08:09:27.696Z"
   },
   {
    "duration": 4,
    "start_time": "2023-08-16T08:09:33.752Z"
   },
   {
    "duration": 27,
    "start_time": "2023-08-16T08:09:33.759Z"
   },
   {
    "duration": 164,
    "start_time": "2023-08-16T08:09:33.788Z"
   },
   {
    "duration": 13808,
    "start_time": "2023-08-16T08:09:33.954Z"
   },
   {
    "duration": 95,
    "start_time": "2023-08-16T08:09:47.766Z"
   },
   {
    "duration": 6300,
    "start_time": "2023-08-16T08:09:47.863Z"
   },
   {
    "duration": 11701,
    "start_time": "2023-08-16T08:09:54.165Z"
   },
   {
    "duration": 97,
    "start_time": "2023-08-16T08:10:05.868Z"
   },
   {
    "duration": 427,
    "start_time": "2023-08-16T08:10:05.967Z"
   },
   {
    "duration": 32608,
    "start_time": "2023-08-16T08:10:06.396Z"
   },
   {
    "duration": 5,
    "start_time": "2023-08-16T08:10:39.006Z"
   },
   {
    "duration": 151,
    "start_time": "2023-08-16T08:10:39.012Z"
   },
   {
    "duration": 300,
    "start_time": "2023-08-16T08:10:39.165Z"
   },
   {
    "duration": 4,
    "start_time": "2023-08-16T08:10:39.467Z"
   },
   {
    "duration": 15042,
    "start_time": "2023-08-16T08:42:04.920Z"
   },
   {
    "duration": 3,
    "start_time": "2023-08-16T08:42:26.497Z"
   },
   {
    "duration": 5157,
    "start_time": "2023-08-16T08:42:29.008Z"
   },
   {
    "duration": 12109,
    "start_time": "2023-08-16T08:42:37.652Z"
   },
   {
    "duration": 92,
    "start_time": "2023-08-16T08:43:02.868Z"
   },
   {
    "duration": 264,
    "start_time": "2023-08-16T08:43:15.424Z"
   },
   {
    "duration": 27058,
    "start_time": "2023-08-16T08:44:17.173Z"
   },
   {
    "duration": 4,
    "start_time": "2023-08-16T08:44:53.121Z"
   },
   {
    "duration": 117,
    "start_time": "2023-08-16T08:45:08.953Z"
   },
   {
    "duration": 292,
    "start_time": "2023-08-16T08:45:14.497Z"
   },
   {
    "duration": 5,
    "start_time": "2023-08-16T08:49:22.174Z"
   },
   {
    "duration": 312,
    "start_time": "2023-08-16T08:52:39.824Z"
   },
   {
    "duration": 104,
    "start_time": "2023-08-16T08:52:54.412Z"
   },
   {
    "duration": 109,
    "start_time": "2023-08-16T08:53:08.692Z"
   },
   {
    "duration": 4,
    "start_time": "2023-08-16T08:53:21.676Z"
   },
   {
    "duration": 23,
    "start_time": "2023-08-16T08:53:25.762Z"
   },
   {
    "duration": 25,
    "start_time": "2023-08-16T08:53:55.676Z"
   },
   {
    "duration": 23,
    "start_time": "2023-08-16T08:54:50.137Z"
   },
   {
    "duration": 25,
    "start_time": "2023-08-16T08:55:08.642Z"
   },
   {
    "duration": 34,
    "start_time": "2023-08-16T09:13:14.105Z"
   },
   {
    "duration": 27,
    "start_time": "2023-08-16T09:13:20.390Z"
   },
   {
    "duration": 771,
    "start_time": "2023-08-16T09:14:20.137Z"
   },
   {
    "duration": 4,
    "start_time": "2023-08-16T09:14:21.297Z"
   },
   {
    "duration": 1165,
    "start_time": "2023-08-16T09:14:25.153Z"
   },
   {
    "duration": 3,
    "start_time": "2023-08-16T09:14:26.642Z"
   },
   {
    "duration": 7,
    "start_time": "2023-08-16T09:14:33.702Z"
   },
   {
    "duration": 144,
    "start_time": "2023-08-16T09:14:36.902Z"
   },
   {
    "duration": 4,
    "start_time": "2023-08-16T09:14:52.777Z"
   },
   {
    "duration": 25,
    "start_time": "2023-08-16T09:14:55.997Z"
   },
   {
    "duration": 4,
    "start_time": "2023-08-16T09:17:58.670Z"
   },
   {
    "duration": 302,
    "start_time": "2023-08-16T09:29:36.129Z"
   },
   {
    "duration": 5,
    "start_time": "2023-08-16T09:31:18.426Z"
   },
   {
    "duration": 37,
    "start_time": "2023-08-16T09:33:10.522Z"
   },
   {
    "duration": 5,
    "start_time": "2023-08-16T09:36:59.467Z"
   },
   {
    "duration": 132,
    "start_time": "2023-08-16T09:38:53.430Z"
   },
   {
    "duration": 148,
    "start_time": "2023-08-16T09:54:23.139Z"
   },
   {
    "duration": 141,
    "start_time": "2023-08-16T09:54:33.150Z"
   },
   {
    "duration": 149,
    "start_time": "2023-08-16T09:55:09.547Z"
   },
   {
    "duration": 329,
    "start_time": "2023-08-16T09:56:05.239Z"
   },
   {
    "duration": 96,
    "start_time": "2023-08-16T09:57:04.964Z"
   },
   {
    "duration": 89,
    "start_time": "2023-08-16T09:57:17.572Z"
   },
   {
    "duration": 117,
    "start_time": "2023-08-16T10:13:31.388Z"
   },
   {
    "duration": 15,
    "start_time": "2023-08-16T10:13:54.352Z"
   },
   {
    "duration": 4,
    "start_time": "2023-08-16T11:11:26.169Z"
   },
   {
    "duration": 19,
    "start_time": "2023-08-16T11:13:05.647Z"
   },
   {
    "duration": 6,
    "start_time": "2023-08-16T11:20:18.739Z"
   },
   {
    "duration": 17,
    "start_time": "2023-08-16T11:20:23.147Z"
   },
   {
    "duration": 7,
    "start_time": "2023-08-16T11:31:25.505Z"
   },
   {
    "duration": 11,
    "start_time": "2023-08-16T11:32:19.729Z"
   },
   {
    "duration": 6,
    "start_time": "2023-08-16T11:32:38.574Z"
   },
   {
    "duration": 11,
    "start_time": "2023-08-16T11:48:17.135Z"
   },
   {
    "duration": 11,
    "start_time": "2023-08-16T11:58:40.778Z"
   },
   {
    "duration": 19,
    "start_time": "2023-08-16T11:59:08.821Z"
   },
   {
    "duration": 5,
    "start_time": "2023-08-16T11:59:55.181Z"
   },
   {
    "duration": 18,
    "start_time": "2023-08-16T12:00:27.566Z"
   },
   {
    "duration": 5,
    "start_time": "2023-08-16T12:00:48.614Z"
   },
   {
    "duration": 5,
    "start_time": "2023-08-16T12:01:53.267Z"
   },
   {
    "duration": 8,
    "start_time": "2023-08-16T12:02:03.712Z"
   },
   {
    "duration": 8,
    "start_time": "2023-08-16T12:02:18.483Z"
   },
   {
    "duration": 7,
    "start_time": "2023-08-16T12:02:53.171Z"
   },
   {
    "duration": 23,
    "start_time": "2023-08-16T12:05:38.298Z"
   },
   {
    "duration": 12,
    "start_time": "2023-08-16T12:05:48.718Z"
   },
   {
    "duration": 8,
    "start_time": "2023-08-16T12:07:11.456Z"
   },
   {
    "duration": 5,
    "start_time": "2023-08-16T12:08:08.719Z"
   },
   {
    "duration": 5,
    "start_time": "2023-08-16T12:08:30.527Z"
   },
   {
    "duration": 6,
    "start_time": "2023-08-16T12:08:37.455Z"
   },
   {
    "duration": 4,
    "start_time": "2023-08-16T12:08:43.012Z"
   },
   {
    "duration": 4,
    "start_time": "2023-08-16T12:08:49.912Z"
   },
   {
    "duration": 4,
    "start_time": "2023-08-16T12:08:58.081Z"
   },
   {
    "duration": 4,
    "start_time": "2023-08-16T12:09:10.555Z"
   },
   {
    "duration": 5,
    "start_time": "2023-08-16T12:09:29.756Z"
   },
   {
    "duration": 1588,
    "start_time": "2023-08-16T12:09:57.298Z"
   },
   {
    "duration": 3,
    "start_time": "2023-08-16T12:09:58.889Z"
   },
   {
    "duration": 128,
    "start_time": "2023-08-16T12:09:58.894Z"
   },
   {
    "duration": 37,
    "start_time": "2023-08-16T12:09:59.026Z"
   },
   {
    "duration": 225,
    "start_time": "2023-08-16T12:09:59.065Z"
   },
   {
    "duration": 21,
    "start_time": "2023-08-16T12:09:59.292Z"
   },
   {
    "duration": 35,
    "start_time": "2023-08-16T12:09:59.315Z"
   },
   {
    "duration": 27,
    "start_time": "2023-08-16T12:09:59.353Z"
   },
   {
    "duration": 28,
    "start_time": "2023-08-16T12:09:59.382Z"
   },
   {
    "duration": 15,
    "start_time": "2023-08-16T12:09:59.413Z"
   },
   {
    "duration": 10,
    "start_time": "2023-08-16T12:09:59.430Z"
   },
   {
    "duration": 19,
    "start_time": "2023-08-16T12:09:59.442Z"
   },
   {
    "duration": 6,
    "start_time": "2023-08-16T12:09:59.462Z"
   },
   {
    "duration": 42,
    "start_time": "2023-08-16T12:09:59.470Z"
   },
   {
    "duration": 14,
    "start_time": "2023-08-16T12:09:59.514Z"
   },
   {
    "duration": 1508,
    "start_time": "2023-08-16T12:09:59.560Z"
   },
   {
    "duration": 13,
    "start_time": "2023-08-16T12:10:01.070Z"
   },
   {
    "duration": 307,
    "start_time": "2023-08-16T12:10:01.086Z"
   },
   {
    "duration": 148,
    "start_time": "2023-08-16T12:10:01.395Z"
   },
   {
    "duration": 53,
    "start_time": "2023-08-16T12:10:01.545Z"
   },
   {
    "duration": 1293,
    "start_time": "2023-08-16T12:10:01.601Z"
   },
   {
    "duration": 9,
    "start_time": "2023-08-16T12:10:02.897Z"
   },
   {
    "duration": 20,
    "start_time": "2023-08-16T12:10:02.907Z"
   },
   {
    "duration": 94,
    "start_time": "2023-08-16T12:10:02.929Z"
   },
   {
    "duration": 60,
    "start_time": "2023-08-16T12:10:03.026Z"
   },
   {
    "duration": 54,
    "start_time": "2023-08-16T12:10:03.088Z"
   },
   {
    "duration": 55,
    "start_time": "2023-08-16T12:10:03.144Z"
   },
   {
    "duration": 57,
    "start_time": "2023-08-16T12:10:03.203Z"
   },
   {
    "duration": 37,
    "start_time": "2023-08-16T12:10:03.262Z"
   },
   {
    "duration": 60,
    "start_time": "2023-08-16T12:10:03.301Z"
   },
   {
    "duration": 766,
    "start_time": "2023-08-16T12:10:03.363Z"
   },
   {
    "duration": 4,
    "start_time": "2023-08-16T12:10:04.131Z"
   },
   {
    "duration": 1187,
    "start_time": "2023-08-16T12:10:04.137Z"
   },
   {
    "duration": 5,
    "start_time": "2023-08-16T12:10:05.326Z"
   },
   {
    "duration": 66,
    "start_time": "2023-08-16T12:10:05.333Z"
   },
   {
    "duration": 195,
    "start_time": "2023-08-16T12:10:05.401Z"
   },
   {
    "duration": 13628,
    "start_time": "2023-08-16T12:10:05.598Z"
   },
   {
    "duration": 5,
    "start_time": "2023-08-16T12:10:19.227Z"
   },
   {
    "duration": 34,
    "start_time": "2023-08-16T12:10:19.234Z"
   },
   {
    "duration": 6018,
    "start_time": "2023-08-16T12:10:19.270Z"
   },
   {
    "duration": 4,
    "start_time": "2023-08-16T12:10:25.291Z"
   },
   {
    "duration": 24,
    "start_time": "2023-08-16T12:10:25.297Z"
   },
   {
    "duration": 203,
    "start_time": "2023-08-16T12:10:25.323Z"
   },
   {
    "duration": 13733,
    "start_time": "2023-08-16T12:10:25.529Z"
   },
   {
    "duration": 4,
    "start_time": "2023-08-16T12:10:39.265Z"
   },
   {
    "duration": 6602,
    "start_time": "2023-08-16T12:10:39.359Z"
   },
   {
    "duration": 11702,
    "start_time": "2023-08-16T12:10:45.964Z"
   },
   {
    "duration": 102,
    "start_time": "2023-08-16T12:10:57.669Z"
   },
   {
    "duration": 422,
    "start_time": "2023-08-16T12:10:57.773Z"
   },
   {
    "duration": 27373,
    "start_time": "2023-08-16T12:10:58.198Z"
   },
   {
    "duration": 4,
    "start_time": "2023-08-16T12:11:25.573Z"
   },
   {
    "duration": 170,
    "start_time": "2023-08-16T12:11:25.579Z"
   },
   {
    "duration": 318,
    "start_time": "2023-08-16T12:11:25.751Z"
   },
   {
    "duration": 6,
    "start_time": "2023-08-16T12:11:26.072Z"
   },
   {
    "duration": 14,
    "start_time": "2023-08-16T12:11:26.080Z"
   },
   {
    "duration": 59,
    "start_time": "2023-08-16T12:11:26.097Z"
   },
   {
    "duration": 9,
    "start_time": "2023-08-16T12:11:26.158Z"
   },
   {
    "duration": 309,
    "start_time": "2023-08-16T12:11:26.169Z"
   },
   {
    "duration": 5,
    "start_time": "2023-08-16T12:11:26.480Z"
   },
   {
    "duration": 82,
    "start_time": "2023-08-16T12:11:26.486Z"
   },
   {
    "duration": 92,
    "start_time": "2023-08-16T12:11:26.570Z"
   },
   {
    "duration": 222,
    "start_time": "2023-08-16T12:11:26.665Z"
   },
   {
    "duration": 5,
    "start_time": "2023-08-16T12:11:26.889Z"
   },
   {
    "duration": 138,
    "start_time": "2023-08-16T12:11:26.896Z"
   },
   {
    "duration": 0,
    "start_time": "2023-08-16T12:11:27.036Z"
   },
   {
    "duration": 0,
    "start_time": "2023-08-16T12:11:27.037Z"
   },
   {
    "duration": 4,
    "start_time": "2023-08-16T12:11:51.557Z"
   },
   {
    "duration": 8,
    "start_time": "2023-08-16T12:12:14.472Z"
   },
   {
    "duration": 7,
    "start_time": "2023-08-16T12:12:17.331Z"
   },
   {
    "duration": 5,
    "start_time": "2023-08-16T12:12:32.835Z"
   },
   {
    "duration": 11,
    "start_time": "2023-08-16T12:13:35.944Z"
   },
   {
    "duration": 7,
    "start_time": "2023-08-16T12:13:36.685Z"
   },
   {
    "duration": 5,
    "start_time": "2023-08-16T12:13:39.248Z"
   },
   {
    "duration": 5,
    "start_time": "2023-08-16T12:13:53.091Z"
   },
   {
    "duration": 10,
    "start_time": "2023-08-16T12:13:59.908Z"
   },
   {
    "duration": 6,
    "start_time": "2023-08-16T12:14:02.864Z"
   },
   {
    "duration": 5,
    "start_time": "2023-08-16T12:14:05.516Z"
   },
   {
    "duration": 1679,
    "start_time": "2023-08-16T12:14:24.769Z"
   },
   {
    "duration": 4,
    "start_time": "2023-08-16T12:14:26.451Z"
   },
   {
    "duration": 66,
    "start_time": "2023-08-16T12:14:26.457Z"
   },
   {
    "duration": 4,
    "start_time": "2023-08-16T12:14:26.526Z"
   },
   {
    "duration": 7,
    "start_time": "2023-08-16T12:14:26.531Z"
   },
   {
    "duration": 17,
    "start_time": "2023-08-16T12:14:26.540Z"
   },
   {
    "duration": 27,
    "start_time": "2023-08-16T12:14:26.560Z"
   },
   {
    "duration": 31,
    "start_time": "2023-08-16T12:14:26.589Z"
   },
   {
    "duration": 17,
    "start_time": "2023-08-16T12:14:26.622Z"
   },
   {
    "duration": 29,
    "start_time": "2023-08-16T12:14:26.642Z"
   },
   {
    "duration": 17,
    "start_time": "2023-08-16T12:14:26.673Z"
   },
   {
    "duration": 8,
    "start_time": "2023-08-16T12:14:26.693Z"
   },
   {
    "duration": 10,
    "start_time": "2023-08-16T12:14:26.703Z"
   },
   {
    "duration": 81,
    "start_time": "2023-08-16T12:14:26.715Z"
   },
   {
    "duration": 15,
    "start_time": "2023-08-16T12:14:26.798Z"
   },
   {
    "duration": 1309,
    "start_time": "2023-08-16T12:14:26.815Z"
   },
   {
    "duration": 12,
    "start_time": "2023-08-16T12:14:28.126Z"
   },
   {
    "duration": 26,
    "start_time": "2023-08-16T12:14:28.141Z"
   },
   {
    "duration": 27,
    "start_time": "2023-08-16T12:14:28.169Z"
   },
   {
    "duration": 23,
    "start_time": "2023-08-16T12:14:28.198Z"
   },
   {
    "duration": 1390,
    "start_time": "2023-08-16T12:14:28.224Z"
   },
   {
    "duration": 7,
    "start_time": "2023-08-16T12:14:29.617Z"
   },
   {
    "duration": 39,
    "start_time": "2023-08-16T12:14:29.626Z"
   },
   {
    "duration": 13,
    "start_time": "2023-08-16T12:14:29.667Z"
   },
   {
    "duration": 16,
    "start_time": "2023-08-16T12:14:29.681Z"
   },
   {
    "duration": 7,
    "start_time": "2023-08-16T12:14:29.699Z"
   },
   {
    "duration": 17,
    "start_time": "2023-08-16T12:14:29.708Z"
   },
   {
    "duration": 11,
    "start_time": "2023-08-16T12:14:29.730Z"
   },
   {
    "duration": 18,
    "start_time": "2023-08-16T12:14:29.743Z"
   },
   {
    "duration": 7,
    "start_time": "2023-08-16T12:14:29.763Z"
   },
   {
    "duration": 746,
    "start_time": "2023-08-16T12:14:29.772Z"
   },
   {
    "duration": 5,
    "start_time": "2023-08-16T12:14:30.521Z"
   },
   {
    "duration": 1247,
    "start_time": "2023-08-16T12:14:30.528Z"
   },
   {
    "duration": 5,
    "start_time": "2023-08-16T12:14:31.778Z"
   },
   {
    "duration": 50,
    "start_time": "2023-08-16T12:14:31.785Z"
   },
   {
    "duration": 187,
    "start_time": "2023-08-16T12:14:31.838Z"
   },
   {
    "duration": 13987,
    "start_time": "2023-08-16T12:14:32.027Z"
   },
   {
    "duration": 5,
    "start_time": "2023-08-16T12:14:46.016Z"
   },
   {
    "duration": 16,
    "start_time": "2023-08-16T12:14:46.023Z"
   },
   {
    "duration": 5986,
    "start_time": "2023-08-16T12:14:46.041Z"
   },
   {
    "duration": 4,
    "start_time": "2023-08-16T12:14:52.029Z"
   },
   {
    "duration": 36,
    "start_time": "2023-08-16T12:14:52.034Z"
   },
   {
    "duration": 180,
    "start_time": "2023-08-16T12:14:52.071Z"
   },
   {
    "duration": 16205,
    "start_time": "2023-08-16T12:14:52.259Z"
   },
   {
    "duration": 5,
    "start_time": "2023-08-16T12:15:08.466Z"
   },
   {
    "duration": 6189,
    "start_time": "2023-08-16T12:15:08.473Z"
   },
   {
    "duration": 28102,
    "start_time": "2023-08-16T12:15:14.664Z"
   },
   {
    "duration": 101,
    "start_time": "2023-08-16T12:15:42.769Z"
   },
   {
    "duration": 595,
    "start_time": "2023-08-16T12:15:42.873Z"
   },
   {
    "duration": 29334,
    "start_time": "2023-08-16T12:15:43.470Z"
   },
   {
    "duration": 5,
    "start_time": "2023-08-16T12:16:12.806Z"
   },
   {
    "duration": 204,
    "start_time": "2023-08-16T12:16:12.813Z"
   },
   {
    "duration": 326,
    "start_time": "2023-08-16T12:16:13.020Z"
   },
   {
    "duration": 6,
    "start_time": "2023-08-16T12:16:13.358Z"
   },
   {
    "duration": 14,
    "start_time": "2023-08-16T12:16:13.366Z"
   },
   {
    "duration": 38,
    "start_time": "2023-08-16T12:16:13.382Z"
   },
   {
    "duration": 6,
    "start_time": "2023-08-16T12:16:13.423Z"
   },
   {
    "duration": 396,
    "start_time": "2023-08-16T12:16:13.431Z"
   },
   {
    "duration": 4,
    "start_time": "2023-08-16T12:16:13.829Z"
   },
   {
    "duration": 240,
    "start_time": "2023-08-16T12:16:13.835Z"
   },
   {
    "duration": 95,
    "start_time": "2023-08-16T12:16:14.164Z"
   },
   {
    "duration": 139,
    "start_time": "2023-08-16T12:16:14.261Z"
   },
   {
    "duration": 4,
    "start_time": "2023-08-16T12:16:14.402Z"
   },
   {
    "duration": 155,
    "start_time": "2023-08-16T12:16:14.408Z"
   },
   {
    "duration": 0,
    "start_time": "2023-08-16T12:16:14.566Z"
   },
   {
    "duration": 0,
    "start_time": "2023-08-16T12:16:14.567Z"
   },
   {
    "duration": 5,
    "start_time": "2023-08-16T12:52:48.877Z"
   },
   {
    "duration": 5,
    "start_time": "2023-08-16T12:53:08.562Z"
   },
   {
    "duration": 9,
    "start_time": "2023-08-16T12:53:13.966Z"
   },
   {
    "duration": 5,
    "start_time": "2023-08-16T12:53:21.749Z"
   },
   {
    "duration": 14,
    "start_time": "2023-08-16T12:53:45.994Z"
   },
   {
    "duration": 10,
    "start_time": "2023-08-16T12:53:48.955Z"
   },
   {
    "duration": 5,
    "start_time": "2023-08-16T12:53:52.974Z"
   },
   {
    "duration": 6,
    "start_time": "2023-08-16T12:54:19.805Z"
   },
   {
    "duration": 1517,
    "start_time": "2023-08-16T12:54:50.262Z"
   },
   {
    "duration": 3,
    "start_time": "2023-08-16T12:54:51.781Z"
   },
   {
    "duration": 80,
    "start_time": "2023-08-16T12:54:51.786Z"
   },
   {
    "duration": 3,
    "start_time": "2023-08-16T12:54:51.868Z"
   },
   {
    "duration": 29,
    "start_time": "2023-08-16T12:54:51.873Z"
   },
   {
    "duration": 37,
    "start_time": "2023-08-16T12:54:51.904Z"
   },
   {
    "duration": 37,
    "start_time": "2023-08-16T12:54:51.943Z"
   },
   {
    "duration": 37,
    "start_time": "2023-08-16T12:54:51.982Z"
   },
   {
    "duration": 19,
    "start_time": "2023-08-16T12:54:52.021Z"
   },
   {
    "duration": 17,
    "start_time": "2023-08-16T12:54:52.042Z"
   },
   {
    "duration": 11,
    "start_time": "2023-08-16T12:54:52.061Z"
   },
   {
    "duration": 36,
    "start_time": "2023-08-16T12:54:52.073Z"
   },
   {
    "duration": 13,
    "start_time": "2023-08-16T12:54:52.111Z"
   },
   {
    "duration": 74,
    "start_time": "2023-08-16T12:54:52.126Z"
   },
   {
    "duration": 24,
    "start_time": "2023-08-16T12:54:52.202Z"
   },
   {
    "duration": 1331,
    "start_time": "2023-08-16T12:54:52.228Z"
   },
   {
    "duration": 12,
    "start_time": "2023-08-16T12:54:53.561Z"
   },
   {
    "duration": 54,
    "start_time": "2023-08-16T12:54:53.575Z"
   },
   {
    "duration": 54,
    "start_time": "2023-08-16T12:54:53.631Z"
   },
   {
    "duration": 28,
    "start_time": "2023-08-16T12:54:53.687Z"
   },
   {
    "duration": 1238,
    "start_time": "2023-08-16T12:54:53.716Z"
   },
   {
    "duration": 7,
    "start_time": "2023-08-16T12:54:54.955Z"
   },
   {
    "duration": 10,
    "start_time": "2023-08-16T12:54:58.722Z"
   },
   {
    "duration": 4,
    "start_time": "2023-08-16T12:55:12.394Z"
   },
   {
    "duration": 10,
    "start_time": "2023-08-16T12:55:15.878Z"
   },
   {
    "duration": 5,
    "start_time": "2023-08-16T12:55:21.850Z"
   },
   {
    "duration": 6,
    "start_time": "2023-08-16T12:55:42.190Z"
   },
   {
    "duration": 5,
    "start_time": "2023-08-16T12:55:52.634Z"
   },
   {
    "duration": 14,
    "start_time": "2023-08-16T12:55:55.634Z"
   },
   {
    "duration": 4,
    "start_time": "2023-08-16T12:56:06.058Z"
   },
   {
    "duration": 4,
    "start_time": "2023-08-16T12:56:17.142Z"
   },
   {
    "duration": 5,
    "start_time": "2023-08-16T12:56:23.926Z"
   },
   {
    "duration": 6,
    "start_time": "2023-08-16T12:56:38.231Z"
   },
   {
    "duration": 1807,
    "start_time": "2023-08-16T13:02:17.601Z"
   },
   {
    "duration": 4,
    "start_time": "2023-08-16T13:02:19.411Z"
   },
   {
    "duration": 69,
    "start_time": "2023-08-16T13:02:19.417Z"
   },
   {
    "duration": 4,
    "start_time": "2023-08-16T13:02:19.490Z"
   },
   {
    "duration": 18,
    "start_time": "2023-08-16T13:02:19.495Z"
   },
   {
    "duration": 29,
    "start_time": "2023-08-16T13:02:19.515Z"
   },
   {
    "duration": 21,
    "start_time": "2023-08-16T13:02:19.547Z"
   },
   {
    "duration": 41,
    "start_time": "2023-08-16T13:02:19.570Z"
   },
   {
    "duration": 24,
    "start_time": "2023-08-16T13:02:19.613Z"
   },
   {
    "duration": 20,
    "start_time": "2023-08-16T13:02:19.640Z"
   },
   {
    "duration": 21,
    "start_time": "2023-08-16T13:02:19.663Z"
   },
   {
    "duration": 13,
    "start_time": "2023-08-16T13:02:19.686Z"
   },
   {
    "duration": 14,
    "start_time": "2023-08-16T13:02:19.702Z"
   },
   {
    "duration": 47,
    "start_time": "2023-08-16T13:02:19.718Z"
   },
   {
    "duration": 16,
    "start_time": "2023-08-16T13:02:19.768Z"
   },
   {
    "duration": 1420,
    "start_time": "2023-08-16T13:02:19.785Z"
   },
   {
    "duration": 15,
    "start_time": "2023-08-16T13:02:21.207Z"
   },
   {
    "duration": 36,
    "start_time": "2023-08-16T13:02:21.223Z"
   },
   {
    "duration": 25,
    "start_time": "2023-08-16T13:02:21.261Z"
   },
   {
    "duration": 23,
    "start_time": "2023-08-16T13:02:21.288Z"
   },
   {
    "duration": 1293,
    "start_time": "2023-08-16T13:02:21.313Z"
   },
   {
    "duration": 9,
    "start_time": "2023-08-16T13:02:22.609Z"
   },
   {
    "duration": 38,
    "start_time": "2023-08-16T13:02:22.620Z"
   },
   {
    "duration": 23,
    "start_time": "2023-08-16T13:02:22.660Z"
   },
   {
    "duration": 18,
    "start_time": "2023-08-16T13:02:22.685Z"
   },
   {
    "duration": 21,
    "start_time": "2023-08-16T13:02:22.705Z"
   },
   {
    "duration": 32,
    "start_time": "2023-08-16T13:02:22.727Z"
   },
   {
    "duration": 14,
    "start_time": "2023-08-16T13:02:22.763Z"
   },
   {
    "duration": 9,
    "start_time": "2023-08-16T13:02:22.778Z"
   },
   {
    "duration": 29,
    "start_time": "2023-08-16T13:02:22.789Z"
   },
   {
    "duration": 738,
    "start_time": "2023-08-16T13:02:22.819Z"
   },
   {
    "duration": 4,
    "start_time": "2023-08-16T13:02:23.559Z"
   },
   {
    "duration": 1182,
    "start_time": "2023-08-16T13:02:23.566Z"
   },
   {
    "duration": 10,
    "start_time": "2023-08-16T13:02:24.750Z"
   },
   {
    "duration": 30,
    "start_time": "2023-08-16T13:02:24.763Z"
   },
   {
    "duration": 169,
    "start_time": "2023-08-16T13:02:24.795Z"
   },
   {
    "duration": 13971,
    "start_time": "2023-08-16T13:02:24.966Z"
   },
   {
    "duration": 4,
    "start_time": "2023-08-16T13:02:38.939Z"
   },
   {
    "duration": 24,
    "start_time": "2023-08-16T13:02:38.945Z"
   },
   {
    "duration": 5888,
    "start_time": "2023-08-16T13:02:38.970Z"
   },
   {
    "duration": 4,
    "start_time": "2023-08-16T13:02:44.860Z"
   },
   {
    "duration": 31,
    "start_time": "2023-08-16T13:02:44.866Z"
   },
   {
    "duration": 178,
    "start_time": "2023-08-16T13:02:44.899Z"
   },
   {
    "duration": 18582,
    "start_time": "2023-08-16T13:02:45.080Z"
   },
   {
    "duration": 97,
    "start_time": "2023-08-16T13:03:03.665Z"
   },
   {
    "duration": 6202,
    "start_time": "2023-08-16T13:03:03.858Z"
   },
   {
    "duration": 12297,
    "start_time": "2023-08-16T13:03:10.062Z"
   },
   {
    "duration": 100,
    "start_time": "2023-08-16T13:03:22.363Z"
   },
   {
    "duration": 360,
    "start_time": "2023-08-16T13:03:22.558Z"
   },
   {
    "duration": 26908,
    "start_time": "2023-08-16T13:03:22.921Z"
   },
   {
    "duration": 5,
    "start_time": "2023-08-16T13:03:49.831Z"
   },
   {
    "duration": 135,
    "start_time": "2023-08-16T13:03:49.837Z"
   },
   {
    "duration": 305,
    "start_time": "2023-08-16T13:03:49.974Z"
   },
   {
    "duration": 6,
    "start_time": "2023-08-16T13:03:50.281Z"
   },
   {
    "duration": 33,
    "start_time": "2023-08-16T13:03:50.289Z"
   },
   {
    "duration": 26,
    "start_time": "2023-08-16T13:03:50.324Z"
   },
   {
    "duration": 7,
    "start_time": "2023-08-16T13:03:50.353Z"
   },
   {
    "duration": 341,
    "start_time": "2023-08-16T13:03:50.362Z"
   },
   {
    "duration": 5,
    "start_time": "2023-08-16T13:03:50.706Z"
   },
   {
    "duration": 147,
    "start_time": "2023-08-16T13:03:50.712Z"
   },
   {
    "duration": 8,
    "start_time": "2023-08-16T13:03:50.861Z"
   },
   {
    "duration": 136,
    "start_time": "2023-08-16T13:03:50.960Z"
   },
   {
    "duration": 4,
    "start_time": "2023-08-16T13:03:51.098Z"
   },
   {
    "duration": 158,
    "start_time": "2023-08-16T13:03:51.103Z"
   },
   {
    "duration": 0,
    "start_time": "2023-08-16T13:03:51.262Z"
   },
   {
    "duration": 0,
    "start_time": "2023-08-16T13:03:51.263Z"
   },
   {
    "duration": 4,
    "start_time": "2023-08-16T13:05:08.165Z"
   },
   {
    "duration": 19,
    "start_time": "2023-08-16T13:05:10.912Z"
   },
   {
    "duration": 5,
    "start_time": "2023-08-16T13:06:07.701Z"
   },
   {
    "duration": 9,
    "start_time": "2023-08-16T13:06:15.735Z"
   },
   {
    "duration": 15,
    "start_time": "2023-08-16T13:11:34.128Z"
   },
   {
    "duration": 10,
    "start_time": "2023-08-16T13:11:45.727Z"
   },
   {
    "duration": 13,
    "start_time": "2023-08-16T13:12:43.720Z"
   },
   {
    "duration": 12,
    "start_time": "2023-08-16T13:13:09.810Z"
   },
   {
    "duration": 10,
    "start_time": "2023-08-16T13:13:23.444Z"
   },
   {
    "duration": 13,
    "start_time": "2023-08-16T13:15:18.176Z"
   },
   {
    "duration": 7,
    "start_time": "2023-08-16T13:16:06.716Z"
   },
   {
    "duration": 6,
    "start_time": "2023-08-16T13:17:14.138Z"
   },
   {
    "duration": 7,
    "start_time": "2023-08-16T13:17:32.332Z"
   },
   {
    "duration": 5,
    "start_time": "2023-08-16T13:17:39.608Z"
   },
   {
    "duration": 5,
    "start_time": "2023-08-16T13:17:57.904Z"
   },
   {
    "duration": 105,
    "start_time": "2023-08-16T13:18:08.545Z"
   },
   {
    "duration": 16,
    "start_time": "2023-08-16T13:18:13.713Z"
   },
   {
    "duration": 5,
    "start_time": "2023-08-16T13:18:38.680Z"
   },
   {
    "duration": 10,
    "start_time": "2023-08-16T13:21:52.432Z"
   },
   {
    "duration": 5,
    "start_time": "2023-08-16T13:22:20.794Z"
   },
   {
    "duration": 12,
    "start_time": "2023-08-16T13:23:52.997Z"
   },
   {
    "duration": 119,
    "start_time": "2023-08-16T13:24:00.508Z"
   },
   {
    "duration": 363,
    "start_time": "2023-08-16T13:24:21.736Z"
   },
   {
    "duration": 117,
    "start_time": "2023-08-16T13:24:32.768Z"
   },
   {
    "duration": 5,
    "start_time": "2023-08-16T13:27:40.909Z"
   },
   {
    "duration": 3,
    "start_time": "2023-08-16T13:37:50.299Z"
   },
   {
    "duration": 4,
    "start_time": "2023-08-16T13:40:12.294Z"
   },
   {
    "duration": 758,
    "start_time": "2023-08-16T13:40:46.770Z"
   },
   {
    "duration": 5,
    "start_time": "2023-08-16T13:40:58.774Z"
   },
   {
    "duration": 1165,
    "start_time": "2023-08-16T13:41:52.175Z"
   },
   {
    "duration": 4,
    "start_time": "2023-08-16T13:42:03.027Z"
   },
   {
    "duration": 13559,
    "start_time": "2023-08-16T13:42:51.643Z"
   },
   {
    "duration": 4,
    "start_time": "2023-08-16T13:43:11.758Z"
   },
   {
    "duration": 5,
    "start_time": "2023-08-16T13:43:16.426Z"
   },
   {
    "duration": 6119,
    "start_time": "2023-08-16T13:44:31.727Z"
   },
   {
    "duration": 5,
    "start_time": "2023-08-16T13:44:38.786Z"
   },
   {
    "duration": 13595,
    "start_time": "2023-08-16T13:46:04.976Z"
   },
   {
    "duration": 5,
    "start_time": "2023-08-16T13:46:34.018Z"
   },
   {
    "duration": 5394,
    "start_time": "2023-08-16T13:47:33.667Z"
   },
   {
    "duration": 6,
    "start_time": "2023-08-16T13:48:50.238Z"
   },
   {
    "duration": 5,
    "start_time": "2023-08-16T13:52:23.445Z"
   },
   {
    "duration": 821,
    "start_time": "2023-08-16T13:53:20.948Z"
   },
   {
    "duration": 5,
    "start_time": "2023-08-16T13:53:25.514Z"
   },
   {
    "duration": 4,
    "start_time": "2023-08-16T13:53:43.915Z"
   },
   {
    "duration": 1173,
    "start_time": "2023-08-16T13:55:30.712Z"
   },
   {
    "duration": 5,
    "start_time": "2023-08-16T13:55:32.992Z"
   },
   {
    "duration": 21,
    "start_time": "2023-08-16T13:55:47.308Z"
   },
   {
    "duration": 13790,
    "start_time": "2023-08-16T13:56:30.098Z"
   },
   {
    "duration": 6,
    "start_time": "2023-08-16T13:56:49.684Z"
   },
   {
    "duration": 6550,
    "start_time": "2023-08-16T13:57:14.794Z"
   },
   {
    "duration": 4,
    "start_time": "2023-08-16T13:57:27.914Z"
   },
   {
    "duration": 22035,
    "start_time": "2023-08-16T13:58:02.035Z"
   },
   {
    "duration": 4,
    "start_time": "2023-08-16T13:58:37.412Z"
   },
   {
    "duration": 9517,
    "start_time": "2023-08-16T13:59:45.051Z"
   },
   {
    "duration": 19637,
    "start_time": "2023-08-16T14:00:37.941Z"
   },
   {
    "duration": 4724,
    "start_time": "2023-08-16T14:00:58.441Z"
   },
   {
    "duration": 5,
    "start_time": "2023-08-16T14:02:08.536Z"
   },
   {
    "duration": 20,
    "start_time": "2023-08-16T14:02:53.700Z"
   },
   {
    "duration": 5,
    "start_time": "2023-08-16T14:08:48.133Z"
   },
   {
    "duration": 957,
    "start_time": "2023-08-16T14:08:52.762Z"
   },
   {
    "duration": 7,
    "start_time": "2023-08-16T14:09:01.479Z"
   },
   {
    "duration": 4,
    "start_time": "2023-08-16T14:10:06.902Z"
   },
   {
    "duration": 739,
    "start_time": "2023-08-16T14:10:22.162Z"
   },
   {
    "duration": 6,
    "start_time": "2023-08-16T14:10:23.490Z"
   },
   {
    "duration": 1176,
    "start_time": "2023-08-16T14:10:36.054Z"
   },
   {
    "duration": 5,
    "start_time": "2023-08-16T14:10:40.048Z"
   },
   {
    "duration": 13368,
    "start_time": "2023-08-16T14:10:51.534Z"
   },
   {
    "duration": 14789,
    "start_time": "2023-08-16T14:12:48.888Z"
   },
   {
    "duration": 5,
    "start_time": "2023-08-16T14:13:10.001Z"
   },
   {
    "duration": 9639,
    "start_time": "2023-08-16T14:13:21.531Z"
   },
   {
    "duration": 5,
    "start_time": "2023-08-16T14:13:33.107Z"
   },
   {
    "duration": 22576,
    "start_time": "2023-08-16T14:14:30.486Z"
   },
   {
    "duration": 4,
    "start_time": "2023-08-16T14:17:43.304Z"
   },
   {
    "duration": 1826,
    "start_time": "2023-08-16T14:18:27.644Z"
   },
   {
    "duration": 4,
    "start_time": "2023-08-16T14:18:29.473Z"
   },
   {
    "duration": 67,
    "start_time": "2023-08-16T14:18:29.480Z"
   },
   {
    "duration": 5,
    "start_time": "2023-08-16T14:18:29.549Z"
   },
   {
    "duration": 14,
    "start_time": "2023-08-16T14:18:29.556Z"
   },
   {
    "duration": 21,
    "start_time": "2023-08-16T14:18:29.572Z"
   },
   {
    "duration": 16,
    "start_time": "2023-08-16T14:18:29.595Z"
   },
   {
    "duration": 17,
    "start_time": "2023-08-16T14:18:29.613Z"
   },
   {
    "duration": 33,
    "start_time": "2023-08-16T14:18:29.632Z"
   },
   {
    "duration": 18,
    "start_time": "2023-08-16T14:18:29.668Z"
   },
   {
    "duration": 12,
    "start_time": "2023-08-16T14:18:29.687Z"
   },
   {
    "duration": 9,
    "start_time": "2023-08-16T14:18:29.701Z"
   },
   {
    "duration": 10,
    "start_time": "2023-08-16T14:18:29.711Z"
   },
   {
    "duration": 68,
    "start_time": "2023-08-16T14:18:29.723Z"
   },
   {
    "duration": 16,
    "start_time": "2023-08-16T14:18:29.793Z"
   },
   {
    "duration": 1385,
    "start_time": "2023-08-16T14:18:29.811Z"
   },
   {
    "duration": 18,
    "start_time": "2023-08-16T14:18:31.198Z"
   },
   {
    "duration": 42,
    "start_time": "2023-08-16T14:18:31.220Z"
   },
   {
    "duration": 60,
    "start_time": "2023-08-16T14:18:31.266Z"
   },
   {
    "duration": 30,
    "start_time": "2023-08-16T14:18:31.329Z"
   },
   {
    "duration": 1261,
    "start_time": "2023-08-16T14:18:31.361Z"
   },
   {
    "duration": 8,
    "start_time": "2023-08-16T14:18:32.624Z"
   },
   {
    "duration": 23,
    "start_time": "2023-08-16T14:18:32.634Z"
   },
   {
    "duration": 10,
    "start_time": "2023-08-16T14:18:32.658Z"
   },
   {
    "duration": 8,
    "start_time": "2023-08-16T14:18:32.670Z"
   },
   {
    "duration": 15,
    "start_time": "2023-08-16T14:18:32.679Z"
   },
   {
    "duration": 11,
    "start_time": "2023-08-16T14:18:32.696Z"
   },
   {
    "duration": 5,
    "start_time": "2023-08-16T14:18:32.712Z"
   },
   {
    "duration": 40,
    "start_time": "2023-08-16T14:18:32.719Z"
   },
   {
    "duration": 24,
    "start_time": "2023-08-16T14:18:32.761Z"
   },
   {
    "duration": 907,
    "start_time": "2023-08-16T14:18:32.788Z"
   },
   {
    "duration": 5,
    "start_time": "2023-08-16T14:18:33.697Z"
   },
   {
    "duration": 1369,
    "start_time": "2023-08-16T14:18:33.704Z"
   },
   {
    "duration": 5,
    "start_time": "2023-08-16T14:18:35.075Z"
   },
   {
    "duration": 10,
    "start_time": "2023-08-16T14:18:35.082Z"
   },
   {
    "duration": 157,
    "start_time": "2023-08-16T14:18:35.094Z"
   },
   {
    "duration": 13822,
    "start_time": "2023-08-16T14:18:35.253Z"
   },
   {
    "duration": 5,
    "start_time": "2023-08-16T14:18:49.078Z"
   },
   {
    "duration": 6079,
    "start_time": "2023-08-16T14:18:49.085Z"
   },
   {
    "duration": 4,
    "start_time": "2023-08-16T14:18:55.166Z"
   },
   {
    "duration": 30,
    "start_time": "2023-08-16T14:18:55.172Z"
   },
   {
    "duration": 184,
    "start_time": "2023-08-16T14:18:55.205Z"
   },
   {
    "duration": 41368,
    "start_time": "2023-08-16T14:18:55.391Z"
   },
   {
    "duration": 4,
    "start_time": "2023-08-16T14:19:36.763Z"
   },
   {
    "duration": 7101,
    "start_time": "2023-08-16T14:19:36.769Z"
   },
   {
    "duration": 17098,
    "start_time": "2023-08-16T14:19:43.874Z"
   },
   {
    "duration": 91,
    "start_time": "2023-08-16T14:20:00.974Z"
   },
   {
    "duration": 529,
    "start_time": "2023-08-16T14:20:01.069Z"
   },
   {
    "duration": 6384,
    "start_time": "2023-08-16T14:20:01.600Z"
   },
   {
    "duration": 5,
    "start_time": "2023-08-16T14:20:07.986Z"
   },
   {
    "duration": 50,
    "start_time": "2023-08-16T14:20:07.993Z"
   },
   {
    "duration": 249,
    "start_time": "2023-08-16T14:20:08.045Z"
   },
   {
    "duration": 6,
    "start_time": "2023-08-16T14:20:08.296Z"
   },
   {
    "duration": 12,
    "start_time": "2023-08-16T14:20:08.304Z"
   },
   {
    "duration": 53,
    "start_time": "2023-08-16T14:20:08.318Z"
   },
   {
    "duration": 10,
    "start_time": "2023-08-16T14:20:08.376Z"
   },
   {
    "duration": 443,
    "start_time": "2023-08-16T14:20:08.389Z"
   },
   {
    "duration": 4,
    "start_time": "2023-08-16T14:20:08.834Z"
   },
   {
    "duration": 1030,
    "start_time": "2023-08-16T14:20:08.841Z"
   },
   {
    "duration": 91,
    "start_time": "2023-08-16T14:20:09.873Z"
   },
   {
    "duration": 235,
    "start_time": "2023-08-16T14:20:09.967Z"
   },
   {
    "duration": 12,
    "start_time": "2023-08-16T14:20:10.204Z"
   },
   {
    "duration": 18,
    "start_time": "2023-08-16T14:20:10.218Z"
   },
   {
    "duration": 6119,
    "start_time": "2023-08-16T14:22:34.673Z"
   },
   {
    "duration": 5,
    "start_time": "2023-08-16T14:22:43.438Z"
   },
   {
    "duration": 165,
    "start_time": "2023-08-16T14:25:16.736Z"
   },
   {
    "duration": 6236,
    "start_time": "2023-08-16T14:26:06.259Z"
   },
   {
    "duration": 5,
    "start_time": "2023-08-16T14:26:12.497Z"
   },
   {
    "duration": 5364,
    "start_time": "2023-08-16T14:27:06.271Z"
   },
   {
    "duration": 5,
    "start_time": "2023-08-16T14:27:11.638Z"
   },
   {
    "duration": 4,
    "start_time": "2023-08-16T14:27:36.616Z"
   },
   {
    "duration": 27245,
    "start_time": "2023-08-16T14:27:52.128Z"
   },
   {
    "duration": 5,
    "start_time": "2023-08-16T14:28:19.375Z"
   },
   {
    "duration": 6215,
    "start_time": "2023-08-16T14:31:53.669Z"
   },
   {
    "duration": 4,
    "start_time": "2023-08-16T14:32:05.795Z"
   },
   {
    "duration": 27382,
    "start_time": "2023-08-16T14:36:10.320Z"
   },
   {
    "duration": 4,
    "start_time": "2023-08-16T14:36:37.705Z"
   },
   {
    "duration": 6139,
    "start_time": "2023-08-16T14:36:56.957Z"
   },
   {
    "duration": 4,
    "start_time": "2023-08-16T14:37:03.717Z"
   },
   {
    "duration": 145,
    "start_time": "2023-08-16T14:42:10.158Z"
   },
   {
    "duration": 67,
    "start_time": "2023-08-16T14:42:37.519Z"
   },
   {
    "duration": 194,
    "start_time": "2023-08-16T14:42:51.638Z"
   },
   {
    "duration": 133,
    "start_time": "2023-08-16T14:43:06.547Z"
   },
   {
    "duration": 4,
    "start_time": "2023-08-16T14:43:20.017Z"
   },
   {
    "duration": 125,
    "start_time": "2023-08-16T14:43:40.691Z"
   },
   {
    "duration": 22460,
    "start_time": "2023-08-16T14:43:59.155Z"
   },
   {
    "duration": 5,
    "start_time": "2023-08-16T14:44:21.617Z"
   },
   {
    "duration": 133,
    "start_time": "2023-08-16T14:44:39.467Z"
   },
   {
    "duration": 27223,
    "start_time": "2023-08-16T14:45:28.237Z"
   },
   {
    "duration": 4,
    "start_time": "2023-08-16T14:45:55.462Z"
   },
   {
    "duration": 114,
    "start_time": "2023-08-16T14:46:21.435Z"
   },
   {
    "duration": 301,
    "start_time": "2023-08-16T14:46:24.394Z"
   },
   {
    "duration": 1845,
    "start_time": "2023-08-16T14:47:18.472Z"
   },
   {
    "duration": 7,
    "start_time": "2023-08-16T14:47:20.324Z"
   },
   {
    "duration": 111,
    "start_time": "2023-08-16T14:47:20.333Z"
   },
   {
    "duration": 63,
    "start_time": "2023-08-16T14:47:20.447Z"
   },
   {
    "duration": 27,
    "start_time": "2023-08-16T14:47:20.513Z"
   },
   {
    "duration": 53,
    "start_time": "2023-08-16T14:47:20.542Z"
   },
   {
    "duration": 51,
    "start_time": "2023-08-16T14:47:20.598Z"
   },
   {
    "duration": 67,
    "start_time": "2023-08-16T14:47:20.652Z"
   },
   {
    "duration": 132,
    "start_time": "2023-08-16T14:47:20.722Z"
   },
   {
    "duration": 90,
    "start_time": "2023-08-16T14:47:20.858Z"
   },
   {
    "duration": 59,
    "start_time": "2023-08-16T14:47:20.950Z"
   },
   {
    "duration": 61,
    "start_time": "2023-08-16T14:47:21.011Z"
   },
   {
    "duration": 50,
    "start_time": "2023-08-16T14:47:21.074Z"
   },
   {
    "duration": 112,
    "start_time": "2023-08-16T14:47:21.129Z"
   },
   {
    "duration": 611,
    "start_time": "2023-08-16T14:47:21.244Z"
   },
   {
    "duration": 1753,
    "start_time": "2023-08-16T14:47:21.857Z"
   },
   {
    "duration": 22,
    "start_time": "2023-08-16T14:47:23.613Z"
   },
   {
    "duration": 165,
    "start_time": "2023-08-16T14:47:23.638Z"
   },
   {
    "duration": 43,
    "start_time": "2023-08-16T14:47:23.805Z"
   },
   {
    "duration": 52,
    "start_time": "2023-08-16T14:47:23.851Z"
   },
   {
    "duration": 1357,
    "start_time": "2023-08-16T14:47:23.905Z"
   },
   {
    "duration": 8,
    "start_time": "2023-08-16T14:47:25.264Z"
   },
   {
    "duration": 152,
    "start_time": "2023-08-16T14:47:25.274Z"
   },
   {
    "duration": 292,
    "start_time": "2023-08-16T14:47:25.429Z"
   },
   {
    "duration": 93,
    "start_time": "2023-08-16T14:47:25.722Z"
   },
   {
    "duration": 43,
    "start_time": "2023-08-16T14:47:25.816Z"
   },
   {
    "duration": 64,
    "start_time": "2023-08-16T14:47:25.861Z"
   },
   {
    "duration": 16,
    "start_time": "2023-08-16T14:47:25.929Z"
   },
   {
    "duration": 65,
    "start_time": "2023-08-16T14:47:25.947Z"
   },
   {
    "duration": 55,
    "start_time": "2023-08-16T14:47:26.014Z"
   },
   {
    "duration": 916,
    "start_time": "2023-08-16T14:47:26.071Z"
   },
   {
    "duration": 5,
    "start_time": "2023-08-16T14:47:26.989Z"
   },
   {
    "duration": 1513,
    "start_time": "2023-08-16T14:47:26.995Z"
   },
   {
    "duration": 6,
    "start_time": "2023-08-16T14:47:28.510Z"
   },
   {
    "duration": 52,
    "start_time": "2023-08-16T14:47:28.518Z"
   },
   {
    "duration": 191,
    "start_time": "2023-08-16T14:47:28.572Z"
   },
   {
    "duration": 13974,
    "start_time": "2023-08-16T14:47:28.765Z"
   },
   {
    "duration": 5,
    "start_time": "2023-08-16T14:47:42.741Z"
   },
   {
    "duration": 6014,
    "start_time": "2023-08-16T14:47:42.748Z"
   },
   {
    "duration": 5,
    "start_time": "2023-08-16T14:47:48.764Z"
   },
   {
    "duration": 66,
    "start_time": "2023-08-16T14:47:48.772Z"
   },
   {
    "duration": 264,
    "start_time": "2023-08-16T14:47:48.841Z"
   },
   {
    "duration": 28366,
    "start_time": "2023-08-16T14:47:49.107Z"
   },
   {
    "duration": 86,
    "start_time": "2023-08-16T14:48:17.475Z"
   },
   {
    "duration": 16496,
    "start_time": "2023-08-16T14:48:17.565Z"
   },
   {
    "duration": 18899,
    "start_time": "2023-08-16T14:48:34.063Z"
   },
   {
    "duration": 94,
    "start_time": "2023-08-16T14:48:52.967Z"
   },
   {
    "duration": 425,
    "start_time": "2023-08-16T14:48:53.063Z"
   },
   {
    "duration": 29221,
    "start_time": "2023-08-16T14:48:53.490Z"
   },
   {
    "duration": 5,
    "start_time": "2023-08-16T14:49:22.713Z"
   },
   {
    "duration": 180,
    "start_time": "2023-08-16T14:49:22.720Z"
   },
   {
    "duration": 332,
    "start_time": "2023-08-16T14:49:22.902Z"
   },
   {
    "duration": 5,
    "start_time": "2023-08-16T14:49:23.236Z"
   },
   {
    "duration": 44,
    "start_time": "2023-08-16T14:49:23.243Z"
   },
   {
    "duration": 47,
    "start_time": "2023-08-16T14:49:23.290Z"
   },
   {
    "duration": 6,
    "start_time": "2023-08-16T14:49:23.339Z"
   },
   {
    "duration": 343,
    "start_time": "2023-08-16T14:49:23.347Z"
   },
   {
    "duration": 4,
    "start_time": "2023-08-16T14:49:23.692Z"
   },
   {
    "duration": 69,
    "start_time": "2023-08-16T14:49:23.698Z"
   },
   {
    "duration": 207,
    "start_time": "2023-08-16T14:49:23.768Z"
   },
   {
    "duration": 146,
    "start_time": "2023-08-16T14:49:23.976Z"
   },
   {
    "duration": 10,
    "start_time": "2023-08-16T14:49:24.124Z"
   },
   {
    "duration": 12,
    "start_time": "2023-08-16T14:49:24.136Z"
   },
   {
    "duration": 9,
    "start_time": "2023-08-16T15:45:56.907Z"
   },
   {
    "duration": 4,
    "start_time": "2023-08-16T15:46:46.007Z"
   },
   {
    "duration": 7,
    "start_time": "2023-08-16T15:48:35.020Z"
   },
   {
    "duration": 150,
    "start_time": "2023-08-16T15:49:18.619Z"
   },
   {
    "duration": 5,
    "start_time": "2023-08-16T15:49:44.699Z"
   },
   {
    "duration": 7,
    "start_time": "2023-08-16T15:51:15.537Z"
   },
   {
    "duration": 722,
    "start_time": "2023-08-16T15:51:22.507Z"
   },
   {
    "duration": 5,
    "start_time": "2023-08-16T15:51:23.742Z"
   },
   {
    "duration": 5,
    "start_time": "2023-08-16T15:51:27.163Z"
   },
   {
    "duration": 1152,
    "start_time": "2023-08-16T15:51:44.755Z"
   },
   {
    "duration": 4,
    "start_time": "2023-08-16T15:51:46.556Z"
   },
   {
    "duration": 6,
    "start_time": "2023-08-16T15:51:51.416Z"
   },
   {
    "duration": 7,
    "start_time": "2023-08-16T15:51:52.807Z"
   },
   {
    "duration": 306,
    "start_time": "2023-08-16T15:51:58.691Z"
   },
   {
    "duration": 1531,
    "start_time": "2023-08-16T15:52:45.560Z"
   },
   {
    "duration": 3,
    "start_time": "2023-08-16T15:52:47.093Z"
   },
   {
    "duration": 80,
    "start_time": "2023-08-16T15:52:47.097Z"
   },
   {
    "duration": 4,
    "start_time": "2023-08-16T15:52:47.179Z"
   },
   {
    "duration": 38,
    "start_time": "2023-08-16T15:52:47.184Z"
   },
   {
    "duration": 38,
    "start_time": "2023-08-16T15:52:47.223Z"
   },
   {
    "duration": 12,
    "start_time": "2023-08-16T15:52:47.263Z"
   },
   {
    "duration": 22,
    "start_time": "2023-08-16T15:52:47.277Z"
   },
   {
    "duration": 17,
    "start_time": "2023-08-16T15:52:47.301Z"
   },
   {
    "duration": 15,
    "start_time": "2023-08-16T15:52:47.321Z"
   },
   {
    "duration": 30,
    "start_time": "2023-08-16T15:52:47.338Z"
   },
   {
    "duration": 24,
    "start_time": "2023-08-16T15:52:47.370Z"
   },
   {
    "duration": 22,
    "start_time": "2023-08-16T15:52:47.396Z"
   },
   {
    "duration": 51,
    "start_time": "2023-08-16T15:52:47.420Z"
   },
   {
    "duration": 13,
    "start_time": "2023-08-16T15:52:47.473Z"
   },
   {
    "duration": 1286,
    "start_time": "2023-08-16T15:52:47.488Z"
   },
   {
    "duration": 17,
    "start_time": "2023-08-16T15:52:48.777Z"
   },
   {
    "duration": 24,
    "start_time": "2023-08-16T15:52:48.797Z"
   },
   {
    "duration": 45,
    "start_time": "2023-08-16T15:52:48.823Z"
   },
   {
    "duration": 26,
    "start_time": "2023-08-16T15:52:48.871Z"
   },
   {
    "duration": 1251,
    "start_time": "2023-08-16T15:52:48.899Z"
   },
   {
    "duration": 9,
    "start_time": "2023-08-16T15:52:50.152Z"
   },
   {
    "duration": 12,
    "start_time": "2023-08-16T15:52:50.163Z"
   },
   {
    "duration": 13,
    "start_time": "2023-08-16T15:52:50.177Z"
   },
   {
    "duration": 23,
    "start_time": "2023-08-16T15:52:50.192Z"
   },
   {
    "duration": 31,
    "start_time": "2023-08-16T15:52:50.217Z"
   },
   {
    "duration": 20,
    "start_time": "2023-08-16T15:52:50.250Z"
   },
   {
    "duration": 11,
    "start_time": "2023-08-16T15:52:50.274Z"
   },
   {
    "duration": 18,
    "start_time": "2023-08-16T15:52:50.287Z"
   },
   {
    "duration": 13,
    "start_time": "2023-08-16T15:52:50.307Z"
   },
   {
    "duration": 713,
    "start_time": "2023-08-16T15:52:50.322Z"
   },
   {
    "duration": 4,
    "start_time": "2023-08-16T15:52:51.037Z"
   },
   {
    "duration": 17,
    "start_time": "2023-08-16T15:52:51.043Z"
   },
   {
    "duration": 1149,
    "start_time": "2023-08-16T15:52:51.062Z"
   },
   {
    "duration": 4,
    "start_time": "2023-08-16T15:52:52.213Z"
   },
   {
    "duration": 22,
    "start_time": "2023-08-16T15:52:52.218Z"
   },
   {
    "duration": 18,
    "start_time": "2023-08-16T15:52:52.242Z"
   },
   {
    "duration": 179,
    "start_time": "2023-08-16T15:52:52.262Z"
   },
   {
    "duration": 13240,
    "start_time": "2023-08-16T15:52:52.443Z"
   },
   {
    "duration": 4,
    "start_time": "2023-08-16T15:53:05.685Z"
   },
   {
    "duration": 7067,
    "start_time": "2023-08-16T15:53:05.690Z"
   },
   {
    "duration": 4,
    "start_time": "2023-08-16T15:53:12.759Z"
   },
   {
    "duration": 24,
    "start_time": "2023-08-16T15:53:12.764Z"
   },
   {
    "duration": 175,
    "start_time": "2023-08-16T15:53:12.790Z"
   },
   {
    "duration": 31693,
    "start_time": "2023-08-16T15:53:12.967Z"
   },
   {
    "duration": 8,
    "start_time": "2023-08-16T15:53:44.663Z"
   },
   {
    "duration": 5186,
    "start_time": "2023-08-16T15:53:44.673Z"
   },
   {
    "duration": 12603,
    "start_time": "2023-08-16T15:53:49.861Z"
   },
   {
    "duration": 191,
    "start_time": "2023-08-16T15:54:02.468Z"
   },
   {
    "duration": 374,
    "start_time": "2023-08-16T15:54:02.661Z"
   },
   {
    "duration": 22555,
    "start_time": "2023-08-16T15:54:03.037Z"
   },
   {
    "duration": 0,
    "start_time": "2023-08-16T15:54:25.594Z"
   },
   {
    "duration": 0,
    "start_time": "2023-08-16T15:54:25.596Z"
   },
   {
    "duration": 0,
    "start_time": "2023-08-16T15:54:25.597Z"
   },
   {
    "duration": 0,
    "start_time": "2023-08-16T15:54:25.598Z"
   },
   {
    "duration": 0,
    "start_time": "2023-08-16T15:54:25.599Z"
   },
   {
    "duration": 0,
    "start_time": "2023-08-16T15:54:25.600Z"
   },
   {
    "duration": 0,
    "start_time": "2023-08-16T15:54:25.601Z"
   },
   {
    "duration": 0,
    "start_time": "2023-08-16T15:54:25.602Z"
   },
   {
    "duration": 0,
    "start_time": "2023-08-16T15:54:25.604Z"
   },
   {
    "duration": 0,
    "start_time": "2023-08-16T15:54:25.605Z"
   },
   {
    "duration": 0,
    "start_time": "2023-08-16T15:54:25.606Z"
   },
   {
    "duration": 0,
    "start_time": "2023-08-16T15:54:25.607Z"
   },
   {
    "duration": 0,
    "start_time": "2023-08-16T15:54:25.608Z"
   },
   {
    "duration": 0,
    "start_time": "2023-08-16T15:54:25.610Z"
   },
   {
    "duration": 1580,
    "start_time": "2023-08-16T15:59:10.432Z"
   },
   {
    "duration": 4,
    "start_time": "2023-08-16T15:59:12.015Z"
   },
   {
    "duration": 65,
    "start_time": "2023-08-16T15:59:12.020Z"
   },
   {
    "duration": 4,
    "start_time": "2023-08-16T15:59:12.087Z"
   },
   {
    "duration": 15,
    "start_time": "2023-08-16T15:59:12.092Z"
   },
   {
    "duration": 22,
    "start_time": "2023-08-16T15:59:12.109Z"
   },
   {
    "duration": 31,
    "start_time": "2023-08-16T15:59:12.133Z"
   },
   {
    "duration": 35,
    "start_time": "2023-08-16T15:59:12.165Z"
   },
   {
    "duration": 18,
    "start_time": "2023-08-16T15:59:12.202Z"
   },
   {
    "duration": 16,
    "start_time": "2023-08-16T15:59:12.223Z"
   },
   {
    "duration": 24,
    "start_time": "2023-08-16T15:59:12.241Z"
   },
   {
    "duration": 9,
    "start_time": "2023-08-16T15:59:12.267Z"
   },
   {
    "duration": 15,
    "start_time": "2023-08-16T15:59:12.278Z"
   },
   {
    "duration": 38,
    "start_time": "2023-08-16T15:59:12.294Z"
   },
   {
    "duration": 35,
    "start_time": "2023-08-16T15:59:12.334Z"
   },
   {
    "duration": 1348,
    "start_time": "2023-08-16T15:59:12.371Z"
   },
   {
    "duration": 13,
    "start_time": "2023-08-16T15:59:13.721Z"
   },
   {
    "duration": 29,
    "start_time": "2023-08-16T15:59:13.736Z"
   },
   {
    "duration": 18,
    "start_time": "2023-08-16T15:59:13.767Z"
   },
   {
    "duration": 22,
    "start_time": "2023-08-16T15:59:13.787Z"
   },
   {
    "duration": 1271,
    "start_time": "2023-08-16T15:59:13.811Z"
   },
   {
    "duration": 8,
    "start_time": "2023-08-16T15:59:15.084Z"
   },
   {
    "duration": 38,
    "start_time": "2023-08-16T15:59:15.093Z"
   },
   {
    "duration": 9,
    "start_time": "2023-08-16T15:59:15.133Z"
   },
   {
    "duration": 14,
    "start_time": "2023-08-16T15:59:15.144Z"
   },
   {
    "duration": 21,
    "start_time": "2023-08-16T15:59:15.159Z"
   },
   {
    "duration": 13,
    "start_time": "2023-08-16T15:59:15.182Z"
   },
   {
    "duration": 20,
    "start_time": "2023-08-16T15:59:15.199Z"
   },
   {
    "duration": 35,
    "start_time": "2023-08-16T15:59:15.220Z"
   },
   {
    "duration": 13,
    "start_time": "2023-08-16T15:59:15.257Z"
   },
   {
    "duration": 762,
    "start_time": "2023-08-16T15:59:15.272Z"
   },
   {
    "duration": 4,
    "start_time": "2023-08-16T15:59:16.036Z"
   },
   {
    "duration": 22,
    "start_time": "2023-08-16T15:59:16.042Z"
   },
   {
    "duration": 1143,
    "start_time": "2023-08-16T15:59:16.066Z"
   },
   {
    "duration": 3,
    "start_time": "2023-08-16T15:59:17.211Z"
   },
   {
    "duration": 24,
    "start_time": "2023-08-16T15:59:17.216Z"
   },
   {
    "duration": 175,
    "start_time": "2023-08-16T15:59:17.242Z"
   },
   {
    "duration": 13901,
    "start_time": "2023-08-16T15:59:17.419Z"
   },
   {
    "duration": 5,
    "start_time": "2023-08-16T15:59:31.321Z"
   },
   {
    "duration": 5657,
    "start_time": "2023-08-16T15:59:31.328Z"
   },
   {
    "duration": 5,
    "start_time": "2023-08-16T15:59:36.987Z"
   },
   {
    "duration": 22,
    "start_time": "2023-08-16T15:59:36.994Z"
   },
   {
    "duration": 170,
    "start_time": "2023-08-16T15:59:37.018Z"
   },
   {
    "duration": 15077,
    "start_time": "2023-08-16T15:59:37.190Z"
   },
   {
    "duration": 7,
    "start_time": "2023-08-16T15:59:52.358Z"
   },
   {
    "duration": 6493,
    "start_time": "2023-08-16T15:59:52.369Z"
   },
   {
    "duration": 14098,
    "start_time": "2023-08-16T15:59:58.867Z"
   },
   {
    "duration": 96,
    "start_time": "2023-08-16T16:00:12.967Z"
   },
   {
    "duration": 442,
    "start_time": "2023-08-16T16:00:13.066Z"
   },
   {
    "duration": 26554,
    "start_time": "2023-08-16T16:00:13.510Z"
   },
   {
    "duration": 4,
    "start_time": "2023-08-16T16:00:40.066Z"
   },
   {
    "duration": 128,
    "start_time": "2023-08-16T16:00:40.071Z"
   },
   {
    "duration": 315,
    "start_time": "2023-08-16T16:00:40.201Z"
   },
   {
    "duration": 5,
    "start_time": "2023-08-16T16:00:40.518Z"
   },
   {
    "duration": 37,
    "start_time": "2023-08-16T16:00:40.525Z"
   },
   {
    "duration": 30,
    "start_time": "2023-08-16T16:00:40.565Z"
   },
   {
    "duration": 4,
    "start_time": "2023-08-16T16:00:40.599Z"
   },
   {
    "duration": 337,
    "start_time": "2023-08-16T16:00:40.605Z"
   },
   {
    "duration": 5,
    "start_time": "2023-08-16T16:00:40.945Z"
   },
   {
    "duration": 100,
    "start_time": "2023-08-16T16:00:40.959Z"
   },
   {
    "duration": 101,
    "start_time": "2023-08-16T16:00:41.061Z"
   },
   {
    "duration": 148,
    "start_time": "2023-08-16T16:00:41.163Z"
   },
   {
    "duration": 11,
    "start_time": "2023-08-16T16:00:41.312Z"
   },
   {
    "duration": 8,
    "start_time": "2023-08-16T16:00:41.325Z"
   },
   {
    "duration": 27,
    "start_time": "2023-08-16T16:06:24.172Z"
   },
   {
    "duration": 197,
    "start_time": "2023-08-16T16:08:01.514Z"
   },
   {
    "duration": 95,
    "start_time": "2023-08-16T16:10:08.165Z"
   },
   {
    "duration": 5,
    "start_time": "2023-08-16T16:17:54.350Z"
   },
   {
    "duration": 211,
    "start_time": "2023-08-16T16:18:36.270Z"
   },
   {
    "duration": 238,
    "start_time": "2023-08-16T16:18:49.306Z"
   },
   {
    "duration": 207,
    "start_time": "2023-08-16T16:18:55.995Z"
   },
   {
    "duration": 176,
    "start_time": "2023-08-16T16:19:01.262Z"
   },
   {
    "duration": 680,
    "start_time": "2023-08-16T16:19:09.886Z"
   },
   {
    "duration": 573,
    "start_time": "2023-08-16T16:19:17.555Z"
   },
   {
    "duration": 601,
    "start_time": "2023-08-16T16:19:23.629Z"
   },
   {
    "duration": 229,
    "start_time": "2023-08-16T16:19:31.464Z"
   },
   {
    "duration": 9,
    "start_time": "2023-08-16T16:22:22.252Z"
   },
   {
    "duration": 32,
    "start_time": "2023-08-16T16:22:28.219Z"
   },
   {
    "duration": 197,
    "start_time": "2023-08-16T16:22:31.592Z"
   },
   {
    "duration": 4,
    "start_time": "2023-08-16T16:22:45.295Z"
   },
   {
    "duration": 75,
    "start_time": "2023-08-16T16:24:01.085Z"
   },
   {
    "duration": 5,
    "start_time": "2023-08-16T16:24:08.952Z"
   },
   {
    "duration": 209,
    "start_time": "2023-08-16T16:24:10.144Z"
   },
   {
    "duration": 198,
    "start_time": "2023-08-16T16:25:21.700Z"
   },
   {
    "duration": 12,
    "start_time": "2023-08-16T16:32:12.409Z"
   },
   {
    "duration": 29,
    "start_time": "2023-08-16T16:32:15.847Z"
   },
   {
    "duration": 222,
    "start_time": "2023-08-16T16:32:19.048Z"
   },
   {
    "duration": 221,
    "start_time": "2023-08-16T16:32:22.139Z"
   },
   {
    "duration": 208,
    "start_time": "2023-08-16T16:32:24.939Z"
   },
   {
    "duration": 128,
    "start_time": "2023-08-16T16:33:27.053Z"
   },
   {
    "duration": 11,
    "start_time": "2023-08-16T17:24:36.133Z"
   },
   {
    "duration": 5,
    "start_time": "2023-08-16T17:25:00.688Z"
   },
   {
    "duration": 11,
    "start_time": "2023-08-16T17:25:14.881Z"
   },
   {
    "duration": 5,
    "start_time": "2023-08-16T17:25:20.101Z"
   },
   {
    "duration": 5,
    "start_time": "2023-08-16T17:25:28.215Z"
   },
   {
    "duration": 20,
    "start_time": "2023-08-16T17:27:21.974Z"
   },
   {
    "duration": 1585,
    "start_time": "2023-08-16T17:34:30.687Z"
   },
   {
    "duration": 3,
    "start_time": "2023-08-16T17:34:32.275Z"
   },
   {
    "duration": 65,
    "start_time": "2023-08-16T17:34:32.279Z"
   },
   {
    "duration": 4,
    "start_time": "2023-08-16T17:34:32.347Z"
   },
   {
    "duration": 29,
    "start_time": "2023-08-16T17:34:32.352Z"
   },
   {
    "duration": 20,
    "start_time": "2023-08-16T17:34:32.383Z"
   },
   {
    "duration": 17,
    "start_time": "2023-08-16T17:34:32.405Z"
   },
   {
    "duration": 26,
    "start_time": "2023-08-16T17:34:32.424Z"
   },
   {
    "duration": 25,
    "start_time": "2023-08-16T17:34:32.452Z"
   },
   {
    "duration": 16,
    "start_time": "2023-08-16T17:34:32.480Z"
   },
   {
    "duration": 11,
    "start_time": "2023-08-16T17:34:32.498Z"
   },
   {
    "duration": 14,
    "start_time": "2023-08-16T17:34:32.511Z"
   },
   {
    "duration": 16,
    "start_time": "2023-08-16T17:34:32.527Z"
   },
   {
    "duration": 49,
    "start_time": "2023-08-16T17:34:32.545Z"
   },
   {
    "duration": 15,
    "start_time": "2023-08-16T17:34:32.595Z"
   },
   {
    "duration": 1464,
    "start_time": "2023-08-16T17:34:32.611Z"
   },
   {
    "duration": 14,
    "start_time": "2023-08-16T17:34:34.077Z"
   },
   {
    "duration": 109,
    "start_time": "2023-08-16T17:34:34.094Z"
   },
   {
    "duration": 21,
    "start_time": "2023-08-16T17:34:34.205Z"
   },
   {
    "duration": 30,
    "start_time": "2023-08-16T17:34:34.228Z"
   },
   {
    "duration": 1234,
    "start_time": "2023-08-16T17:34:34.260Z"
   },
   {
    "duration": 7,
    "start_time": "2023-08-16T17:34:35.496Z"
   },
   {
    "duration": 33,
    "start_time": "2023-08-16T17:34:35.504Z"
   },
   {
    "duration": 41,
    "start_time": "2023-08-16T17:34:35.539Z"
   },
   {
    "duration": 43,
    "start_time": "2023-08-16T17:34:35.582Z"
   },
   {
    "duration": 25,
    "start_time": "2023-08-16T17:34:35.627Z"
   },
   {
    "duration": 23,
    "start_time": "2023-08-16T17:34:35.654Z"
   },
   {
    "duration": 47,
    "start_time": "2023-08-16T17:34:35.681Z"
   },
   {
    "duration": 78,
    "start_time": "2023-08-16T17:34:35.730Z"
   },
   {
    "duration": 57,
    "start_time": "2023-08-16T17:34:35.810Z"
   },
   {
    "duration": 696,
    "start_time": "2023-08-16T17:34:35.868Z"
   },
   {
    "duration": 5,
    "start_time": "2023-08-16T17:34:36.565Z"
   },
   {
    "duration": 1160,
    "start_time": "2023-08-16T17:34:36.571Z"
   },
   {
    "duration": 4,
    "start_time": "2023-08-16T17:34:37.733Z"
   },
   {
    "duration": 22,
    "start_time": "2023-08-16T17:34:37.738Z"
   },
   {
    "duration": 154,
    "start_time": "2023-08-16T17:34:37.762Z"
   },
   {
    "duration": 13684,
    "start_time": "2023-08-16T17:34:37.918Z"
   },
   {
    "duration": 4,
    "start_time": "2023-08-16T17:34:51.604Z"
   },
   {
    "duration": 6004,
    "start_time": "2023-08-16T17:34:51.610Z"
   },
   {
    "duration": 3,
    "start_time": "2023-08-16T17:34:57.616Z"
   },
   {
    "duration": 42,
    "start_time": "2023-08-16T17:34:57.621Z"
   },
   {
    "duration": 161,
    "start_time": "2023-08-16T17:34:57.665Z"
   },
   {
    "duration": 14334,
    "start_time": "2023-08-16T17:34:57.828Z"
   },
   {
    "duration": 95,
    "start_time": "2023-08-16T17:35:12.164Z"
   },
   {
    "duration": 6399,
    "start_time": "2023-08-16T17:35:12.262Z"
   },
   {
    "duration": 14007,
    "start_time": "2023-08-16T17:35:18.663Z"
   },
   {
    "duration": 102,
    "start_time": "2023-08-16T17:35:32.760Z"
   },
   {
    "duration": 445,
    "start_time": "2023-08-16T17:35:32.866Z"
   },
   {
    "duration": 26904,
    "start_time": "2023-08-16T17:35:33.313Z"
   },
   {
    "duration": 4,
    "start_time": "2023-08-16T17:36:00.219Z"
   },
   {
    "duration": 167,
    "start_time": "2023-08-16T17:36:00.225Z"
   },
   {
    "duration": 311,
    "start_time": "2023-08-16T17:36:00.394Z"
   },
   {
    "duration": 5,
    "start_time": "2023-08-16T17:36:00.707Z"
   },
   {
    "duration": 559,
    "start_time": "2023-08-16T17:36:00.714Z"
   },
   {
    "duration": 376,
    "start_time": "2023-08-16T17:36:01.274Z"
   },
   {
    "duration": 63,
    "start_time": "2023-08-16T17:36:01.652Z"
   },
   {
    "duration": 485,
    "start_time": "2023-08-16T17:36:01.717Z"
   },
   {
    "duration": 4,
    "start_time": "2023-08-16T17:36:02.204Z"
   },
   {
    "duration": 180,
    "start_time": "2023-08-16T17:36:02.210Z"
   },
   {
    "duration": 196,
    "start_time": "2023-08-16T17:36:02.392Z"
   },
   {
    "duration": 162,
    "start_time": "2023-08-16T17:36:02.590Z"
   },
   {
    "duration": 12,
    "start_time": "2023-08-16T17:36:02.753Z"
   },
   {
    "duration": 156,
    "start_time": "2023-08-16T17:36:02.766Z"
   },
   {
    "duration": 57,
    "start_time": "2023-08-16T17:36:02.925Z"
   },
   {
    "duration": 6,
    "start_time": "2023-08-16T17:36:02.985Z"
   },
   {
    "duration": 230,
    "start_time": "2023-08-16T17:36:02.993Z"
   },
   {
    "duration": 5,
    "start_time": "2023-08-16T17:36:03.225Z"
   },
   {
    "duration": 128,
    "start_time": "2023-08-16T17:36:03.232Z"
   },
   {
    "duration": 119,
    "start_time": "2023-08-16T17:36:03.362Z"
   },
   {
    "duration": 212,
    "start_time": "2023-08-16T17:36:03.482Z"
   },
   {
    "duration": 5,
    "start_time": "2023-08-16T17:36:03.695Z"
   },
   {
    "duration": 136,
    "start_time": "2023-08-16T17:36:03.702Z"
   },
   {
    "duration": 0,
    "start_time": "2023-08-16T17:36:03.840Z"
   },
   {
    "duration": 6,
    "start_time": "2023-08-16T17:39:12.022Z"
   },
   {
    "duration": 11,
    "start_time": "2023-08-16T17:39:41.520Z"
   },
   {
    "duration": 7,
    "start_time": "2023-08-16T17:40:09.664Z"
   },
   {
    "duration": 4,
    "start_time": "2023-08-16T17:40:23.635Z"
   },
   {
    "duration": 1553,
    "start_time": "2023-08-17T05:41:56.377Z"
   },
   {
    "duration": 3,
    "start_time": "2023-08-17T05:41:57.931Z"
   },
   {
    "duration": 106,
    "start_time": "2023-08-17T05:41:57.935Z"
   },
   {
    "duration": 2,
    "start_time": "2023-08-17T05:41:58.044Z"
   },
   {
    "duration": 17,
    "start_time": "2023-08-17T05:41:58.048Z"
   },
   {
    "duration": 28,
    "start_time": "2023-08-17T05:41:58.066Z"
   },
   {
    "duration": 31,
    "start_time": "2023-08-17T05:41:58.095Z"
   },
   {
    "duration": 45,
    "start_time": "2023-08-17T05:41:58.127Z"
   },
   {
    "duration": 29,
    "start_time": "2023-08-17T05:41:58.173Z"
   },
   {
    "duration": 23,
    "start_time": "2023-08-17T05:41:58.204Z"
   },
   {
    "duration": 33,
    "start_time": "2023-08-17T05:41:58.228Z"
   },
   {
    "duration": 8,
    "start_time": "2023-08-17T05:41:58.265Z"
   },
   {
    "duration": 33,
    "start_time": "2023-08-17T05:41:58.275Z"
   },
   {
    "duration": 59,
    "start_time": "2023-08-17T05:41:58.309Z"
   },
   {
    "duration": 13,
    "start_time": "2023-08-17T05:41:58.370Z"
   },
   {
    "duration": 1144,
    "start_time": "2023-08-17T05:41:58.385Z"
   },
   {
    "duration": 20,
    "start_time": "2023-08-17T05:41:59.530Z"
   },
   {
    "duration": 11,
    "start_time": "2023-08-17T05:41:59.564Z"
   },
   {
    "duration": 13,
    "start_time": "2023-08-17T05:41:59.577Z"
   },
   {
    "duration": 18,
    "start_time": "2023-08-17T05:41:59.591Z"
   },
   {
    "duration": 1226,
    "start_time": "2023-08-17T05:41:59.610Z"
   },
   {
    "duration": 6,
    "start_time": "2023-08-17T05:42:00.838Z"
   },
   {
    "duration": 49,
    "start_time": "2023-08-17T05:42:00.846Z"
   },
   {
    "duration": 51,
    "start_time": "2023-08-17T05:42:00.896Z"
   },
   {
    "duration": 108,
    "start_time": "2023-08-17T05:42:13.124Z"
   },
   {
    "duration": 4,
    "start_time": "2023-08-17T05:42:37.428Z"
   },
   {
    "duration": 6,
    "start_time": "2023-08-17T05:44:06.698Z"
   },
   {
    "duration": 14,
    "start_time": "2023-08-17T05:44:56.575Z"
   },
   {
    "duration": 5,
    "start_time": "2023-08-17T05:46:29.235Z"
   },
   {
    "duration": 10,
    "start_time": "2023-08-17T05:47:22.025Z"
   },
   {
    "duration": 13,
    "start_time": "2023-08-17T05:50:08.924Z"
   },
   {
    "duration": 5,
    "start_time": "2023-08-17T05:50:42.738Z"
   },
   {
    "duration": 16,
    "start_time": "2023-08-17T05:52:45.855Z"
   },
   {
    "duration": 11,
    "start_time": "2023-08-17T06:03:30.415Z"
   },
   {
    "duration": 9,
    "start_time": "2023-08-17T06:03:40.178Z"
   },
   {
    "duration": 13,
    "start_time": "2023-08-17T06:09:16.397Z"
   },
   {
    "duration": 11,
    "start_time": "2023-08-17T06:09:21.255Z"
   },
   {
    "duration": 12,
    "start_time": "2023-08-17T06:09:58.400Z"
   },
   {
    "duration": 18,
    "start_time": "2023-08-17T06:12:31.530Z"
   },
   {
    "duration": 11,
    "start_time": "2023-08-17T06:12:55.868Z"
   },
   {
    "duration": 1639,
    "start_time": "2023-08-17T06:20:15.814Z"
   },
   {
    "duration": 3,
    "start_time": "2023-08-17T06:20:17.456Z"
   },
   {
    "duration": 72,
    "start_time": "2023-08-17T06:20:17.461Z"
   },
   {
    "duration": 6,
    "start_time": "2023-08-17T06:20:17.536Z"
   },
   {
    "duration": 6,
    "start_time": "2023-08-17T06:20:17.544Z"
   },
   {
    "duration": 26,
    "start_time": "2023-08-17T06:20:17.553Z"
   },
   {
    "duration": 21,
    "start_time": "2023-08-17T06:20:17.581Z"
   },
   {
    "duration": 28,
    "start_time": "2023-08-17T06:20:17.604Z"
   },
   {
    "duration": 39,
    "start_time": "2023-08-17T06:20:17.634Z"
   },
   {
    "duration": 67,
    "start_time": "2023-08-17T06:20:17.677Z"
   },
   {
    "duration": 72,
    "start_time": "2023-08-17T06:20:17.746Z"
   },
   {
    "duration": 13,
    "start_time": "2023-08-17T06:20:17.819Z"
   },
   {
    "duration": 8,
    "start_time": "2023-08-17T06:20:17.834Z"
   },
   {
    "duration": 47,
    "start_time": "2023-08-17T06:20:17.845Z"
   },
   {
    "duration": 16,
    "start_time": "2023-08-17T06:20:17.894Z"
   },
   {
    "duration": 1366,
    "start_time": "2023-08-17T06:20:17.912Z"
   },
   {
    "duration": 70,
    "start_time": "2023-08-17T06:20:19.280Z"
   },
   {
    "duration": 43,
    "start_time": "2023-08-17T06:20:19.352Z"
   },
   {
    "duration": 60,
    "start_time": "2023-08-17T06:20:19.397Z"
   },
   {
    "duration": 27,
    "start_time": "2023-08-17T06:20:19.459Z"
   },
   {
    "duration": 1948,
    "start_time": "2023-08-17T06:20:19.488Z"
   },
   {
    "duration": 7,
    "start_time": "2023-08-17T06:20:21.439Z"
   },
   {
    "duration": 18,
    "start_time": "2023-08-17T06:20:21.448Z"
   },
   {
    "duration": 10,
    "start_time": "2023-08-17T06:20:21.468Z"
   },
   {
    "duration": 5,
    "start_time": "2023-08-17T06:20:21.479Z"
   },
   {
    "duration": 15,
    "start_time": "2023-08-17T06:20:21.485Z"
   },
   {
    "duration": 18,
    "start_time": "2023-08-17T06:20:21.501Z"
   },
   {
    "duration": 18,
    "start_time": "2023-08-17T06:20:21.522Z"
   },
   {
    "duration": 3,
    "start_time": "2023-08-17T06:20:21.542Z"
   },
   {
    "duration": 2,
    "start_time": "2023-08-17T06:20:21.549Z"
   },
   {
    "duration": 10,
    "start_time": "2023-08-17T06:20:21.553Z"
   },
   {
    "duration": 752,
    "start_time": "2023-08-17T06:20:21.564Z"
   },
   {
    "duration": 4,
    "start_time": "2023-08-17T06:20:22.317Z"
   },
   {
    "duration": 1182,
    "start_time": "2023-08-17T06:20:22.322Z"
   },
   {
    "duration": 5,
    "start_time": "2023-08-17T06:20:23.505Z"
   },
   {
    "duration": 23,
    "start_time": "2023-08-17T06:20:23.511Z"
   },
   {
    "duration": 137,
    "start_time": "2023-08-17T06:20:23.536Z"
   },
   {
    "duration": 12226,
    "start_time": "2023-08-17T06:20:23.674Z"
   },
   {
    "duration": 4,
    "start_time": "2023-08-17T06:20:35.901Z"
   },
   {
    "duration": 5454,
    "start_time": "2023-08-17T06:20:35.907Z"
   },
   {
    "duration": 3,
    "start_time": "2023-08-17T06:20:41.364Z"
   },
   {
    "duration": 36,
    "start_time": "2023-08-17T06:20:41.369Z"
   },
   {
    "duration": 191,
    "start_time": "2023-08-17T06:20:41.407Z"
   },
   {
    "duration": 37960,
    "start_time": "2023-08-17T06:20:41.600Z"
   },
   {
    "duration": 4,
    "start_time": "2023-08-17T06:21:19.562Z"
   },
   {
    "duration": 16303,
    "start_time": "2023-08-17T06:21:19.650Z"
   },
   {
    "duration": 14705,
    "start_time": "2023-08-17T06:21:35.954Z"
   },
   {
    "duration": 91,
    "start_time": "2023-08-17T06:21:50.665Z"
   },
   {
    "duration": 462,
    "start_time": "2023-08-17T06:21:50.762Z"
   },
   {
    "duration": 10821,
    "start_time": "2023-08-17T06:21:51.226Z"
   },
   {
    "duration": 0,
    "start_time": "2023-08-17T06:22:02.049Z"
   },
   {
    "duration": 0,
    "start_time": "2023-08-17T06:22:02.051Z"
   },
   {
    "duration": 0,
    "start_time": "2023-08-17T06:22:02.052Z"
   },
   {
    "duration": 0,
    "start_time": "2023-08-17T06:22:02.054Z"
   },
   {
    "duration": 0,
    "start_time": "2023-08-17T06:22:02.056Z"
   },
   {
    "duration": 0,
    "start_time": "2023-08-17T06:22:02.057Z"
   },
   {
    "duration": 0,
    "start_time": "2023-08-17T06:22:02.059Z"
   },
   {
    "duration": 0,
    "start_time": "2023-08-17T06:22:02.060Z"
   },
   {
    "duration": 0,
    "start_time": "2023-08-17T06:22:02.062Z"
   },
   {
    "duration": 0,
    "start_time": "2023-08-17T06:22:02.064Z"
   },
   {
    "duration": 0,
    "start_time": "2023-08-17T06:22:02.065Z"
   },
   {
    "duration": 0,
    "start_time": "2023-08-17T06:22:02.067Z"
   },
   {
    "duration": 0,
    "start_time": "2023-08-17T06:22:02.068Z"
   },
   {
    "duration": 0,
    "start_time": "2023-08-17T06:22:02.070Z"
   },
   {
    "duration": 0,
    "start_time": "2023-08-17T06:22:02.072Z"
   },
   {
    "duration": 0,
    "start_time": "2023-08-17T06:22:02.073Z"
   },
   {
    "duration": 0,
    "start_time": "2023-08-17T06:22:02.074Z"
   },
   {
    "duration": 0,
    "start_time": "2023-08-17T06:22:02.076Z"
   },
   {
    "duration": 0,
    "start_time": "2023-08-17T06:22:02.078Z"
   },
   {
    "duration": 0,
    "start_time": "2023-08-17T06:22:02.080Z"
   },
   {
    "duration": 0,
    "start_time": "2023-08-17T06:22:02.081Z"
   },
   {
    "duration": 0,
    "start_time": "2023-08-17T06:22:02.083Z"
   },
   {
    "duration": 0,
    "start_time": "2023-08-17T06:22:02.084Z"
   },
   {
    "duration": 1414,
    "start_time": "2023-08-17T06:24:38.810Z"
   },
   {
    "duration": 3,
    "start_time": "2023-08-17T06:24:40.226Z"
   },
   {
    "duration": 71,
    "start_time": "2023-08-17T06:24:40.230Z"
   },
   {
    "duration": 3,
    "start_time": "2023-08-17T06:24:40.303Z"
   },
   {
    "duration": 34,
    "start_time": "2023-08-17T06:24:40.308Z"
   },
   {
    "duration": 44,
    "start_time": "2023-08-17T06:24:40.343Z"
   },
   {
    "duration": 40,
    "start_time": "2023-08-17T06:24:40.389Z"
   },
   {
    "duration": 29,
    "start_time": "2023-08-17T06:24:40.433Z"
   },
   {
    "duration": 24,
    "start_time": "2023-08-17T06:24:40.464Z"
   },
   {
    "duration": 19,
    "start_time": "2023-08-17T06:24:40.491Z"
   },
   {
    "duration": 38,
    "start_time": "2023-08-17T06:24:40.512Z"
   },
   {
    "duration": 10,
    "start_time": "2023-08-17T06:24:40.552Z"
   },
   {
    "duration": 21,
    "start_time": "2023-08-17T06:24:40.564Z"
   },
   {
    "duration": 46,
    "start_time": "2023-08-17T06:24:40.587Z"
   },
   {
    "duration": 22,
    "start_time": "2023-08-17T06:24:40.635Z"
   },
   {
    "duration": 1104,
    "start_time": "2023-08-17T06:24:40.658Z"
   },
   {
    "duration": 12,
    "start_time": "2023-08-17T06:24:41.764Z"
   },
   {
    "duration": 14,
    "start_time": "2023-08-17T06:24:41.778Z"
   },
   {
    "duration": 15,
    "start_time": "2023-08-17T06:24:41.794Z"
   },
   {
    "duration": 50,
    "start_time": "2023-08-17T06:24:41.811Z"
   },
   {
    "duration": 1109,
    "start_time": "2023-08-17T06:24:41.863Z"
   },
   {
    "duration": 6,
    "start_time": "2023-08-17T06:24:42.976Z"
   },
   {
    "duration": 60,
    "start_time": "2023-08-17T06:24:42.984Z"
   },
   {
    "duration": 9,
    "start_time": "2023-08-17T06:24:43.046Z"
   },
   {
    "duration": 5,
    "start_time": "2023-08-17T06:24:43.057Z"
   },
   {
    "duration": 6,
    "start_time": "2023-08-17T06:24:43.064Z"
   },
   {
    "duration": 22,
    "start_time": "2023-08-17T06:24:43.072Z"
   },
   {
    "duration": 12,
    "start_time": "2023-08-17T06:24:43.099Z"
   },
   {
    "duration": 5,
    "start_time": "2023-08-17T06:24:43.113Z"
   },
   {
    "duration": 14,
    "start_time": "2023-08-17T06:24:43.120Z"
   },
   {
    "duration": 10,
    "start_time": "2023-08-17T06:24:43.150Z"
   },
   {
    "duration": 765,
    "start_time": "2023-08-17T06:24:43.161Z"
   },
   {
    "duration": 4,
    "start_time": "2023-08-17T06:24:43.927Z"
   },
   {
    "duration": 1203,
    "start_time": "2023-08-17T06:24:43.932Z"
   },
   {
    "duration": 13,
    "start_time": "2023-08-17T06:24:45.136Z"
   },
   {
    "duration": 14,
    "start_time": "2023-08-17T06:24:45.150Z"
   },
   {
    "duration": 141,
    "start_time": "2023-08-17T06:24:45.166Z"
   },
   {
    "duration": 11747,
    "start_time": "2023-08-17T06:24:45.309Z"
   },
   {
    "duration": 4,
    "start_time": "2023-08-17T06:24:57.058Z"
   },
   {
    "duration": 5486,
    "start_time": "2023-08-17T06:24:57.064Z"
   },
   {
    "duration": 4,
    "start_time": "2023-08-17T06:25:02.552Z"
   },
   {
    "duration": 51,
    "start_time": "2023-08-17T06:25:02.557Z"
   },
   {
    "duration": 207,
    "start_time": "2023-08-17T06:25:02.610Z"
   },
   {
    "duration": 18244,
    "start_time": "2023-08-17T06:25:02.821Z"
   },
   {
    "duration": 84,
    "start_time": "2023-08-17T06:25:21.067Z"
   },
   {
    "duration": 13412,
    "start_time": "2023-08-17T06:25:21.153Z"
   },
   {
    "duration": 9987,
    "start_time": "2023-08-17T06:25:34.567Z"
   },
   {
    "duration": 15,
    "start_time": "2023-08-17T06:25:44.556Z"
   },
   {
    "duration": 449,
    "start_time": "2023-08-17T06:25:44.572Z"
   },
   {
    "duration": 24390,
    "start_time": "2023-08-17T06:25:45.023Z"
   },
   {
    "duration": 4,
    "start_time": "2023-08-17T06:26:09.415Z"
   },
   {
    "duration": 114,
    "start_time": "2023-08-17T06:26:09.421Z"
   },
   {
    "duration": 267,
    "start_time": "2023-08-17T06:26:09.537Z"
   },
   {
    "duration": 4,
    "start_time": "2023-08-17T06:26:09.805Z"
   },
   {
    "duration": 9,
    "start_time": "2023-08-17T06:26:09.811Z"
   },
   {
    "duration": 45,
    "start_time": "2023-08-17T06:26:09.821Z"
   },
   {
    "duration": 3,
    "start_time": "2023-08-17T06:26:09.868Z"
   },
   {
    "duration": 291,
    "start_time": "2023-08-17T06:26:09.873Z"
   },
   {
    "duration": 4,
    "start_time": "2023-08-17T06:26:10.165Z"
   },
   {
    "duration": 179,
    "start_time": "2023-08-17T06:26:10.171Z"
   },
   {
    "duration": 5,
    "start_time": "2023-08-17T06:26:10.352Z"
   },
   {
    "duration": 213,
    "start_time": "2023-08-17T06:26:10.359Z"
   },
   {
    "duration": 10,
    "start_time": "2023-08-17T06:26:10.574Z"
   },
   {
    "duration": 23,
    "start_time": "2023-08-17T06:26:10.585Z"
   },
   {
    "duration": 28,
    "start_time": "2023-08-17T06:26:10.609Z"
   },
   {
    "duration": 4,
    "start_time": "2023-08-17T06:26:10.638Z"
   },
   {
    "duration": 183,
    "start_time": "2023-08-17T06:26:10.650Z"
   },
   {
    "duration": 4,
    "start_time": "2023-08-17T06:26:10.834Z"
   },
   {
    "duration": 112,
    "start_time": "2023-08-17T06:26:10.839Z"
   },
   {
    "duration": 6,
    "start_time": "2023-08-17T06:26:10.953Z"
   },
   {
    "duration": 292,
    "start_time": "2023-08-17T06:26:10.961Z"
   },
   {
    "duration": 4,
    "start_time": "2023-08-17T06:26:11.254Z"
   },
   {
    "duration": 14,
    "start_time": "2023-08-17T06:26:11.260Z"
   },
   {
    "duration": 10,
    "start_time": "2023-08-17T06:30:36.211Z"
   },
   {
    "duration": 4,
    "start_time": "2023-08-17T06:30:41.143Z"
   },
   {
    "duration": 38,
    "start_time": "2023-08-17T06:30:41.148Z"
   },
   {
    "duration": 4,
    "start_time": "2023-08-17T06:30:41.188Z"
   },
   {
    "duration": 184,
    "start_time": "2023-08-17T06:30:41.194Z"
   },
   {
    "duration": 4,
    "start_time": "2023-08-17T06:30:41.380Z"
   },
   {
    "duration": 1075,
    "start_time": "2023-08-17T06:30:41.385Z"
   },
   {
    "duration": 5,
    "start_time": "2023-08-17T06:30:42.462Z"
   },
   {
    "duration": 439,
    "start_time": "2023-08-17T06:30:42.551Z"
   },
   {
    "duration": 4,
    "start_time": "2023-08-17T06:30:42.991Z"
   },
   {
    "duration": 78,
    "start_time": "2023-08-17T06:30:42.997Z"
   },
   {
    "duration": 12,
    "start_time": "2023-08-17T06:31:31.448Z"
   },
   {
    "duration": 13,
    "start_time": "2023-08-17T06:31:43.467Z"
   },
   {
    "duration": 4,
    "start_time": "2023-08-17T08:04:46.401Z"
   },
   {
    "duration": 15,
    "start_time": "2023-08-17T08:05:20.025Z"
   },
   {
    "duration": 6,
    "start_time": "2023-08-17T08:05:28.293Z"
   },
   {
    "duration": 81,
    "start_time": "2023-08-17T08:05:47.805Z"
   },
   {
    "duration": 10,
    "start_time": "2023-08-17T08:06:03.845Z"
   },
   {
    "duration": 91,
    "start_time": "2023-08-17T08:06:25.371Z"
   },
   {
    "duration": 5,
    "start_time": "2023-08-17T08:08:24.644Z"
   },
   {
    "duration": 105,
    "start_time": "2023-08-17T08:09:24.021Z"
   },
   {
    "duration": 117,
    "start_time": "2023-08-17T08:12:09.905Z"
   },
   {
    "duration": 5,
    "start_time": "2023-08-17T08:12:22.713Z"
   },
   {
    "duration": 11,
    "start_time": "2023-08-17T08:15:52.251Z"
   },
   {
    "duration": 4,
    "start_time": "2023-08-17T08:19:07.309Z"
   },
   {
    "duration": 17,
    "start_time": "2023-08-17T08:20:26.644Z"
   },
   {
    "duration": 4,
    "start_time": "2023-08-17T08:20:52.968Z"
   },
   {
    "duration": 25,
    "start_time": "2023-08-17T08:20:52.975Z"
   },
   {
    "duration": 0,
    "start_time": "2023-08-17T08:20:53.002Z"
   },
   {
    "duration": 0,
    "start_time": "2023-08-17T08:20:53.003Z"
   },
   {
    "duration": 0,
    "start_time": "2023-08-17T08:20:53.004Z"
   },
   {
    "duration": 0,
    "start_time": "2023-08-17T08:20:53.005Z"
   },
   {
    "duration": 0,
    "start_time": "2023-08-17T08:20:53.006Z"
   },
   {
    "duration": 0,
    "start_time": "2023-08-17T08:20:53.008Z"
   },
   {
    "duration": 0,
    "start_time": "2023-08-17T08:20:53.009Z"
   },
   {
    "duration": 0,
    "start_time": "2023-08-17T08:20:53.010Z"
   },
   {
    "duration": 5,
    "start_time": "2023-08-17T08:20:53.011Z"
   },
   {
    "duration": 43,
    "start_time": "2023-08-17T08:20:53.018Z"
   },
   {
    "duration": 7,
    "start_time": "2023-08-17T08:20:53.063Z"
   },
   {
    "duration": 32,
    "start_time": "2023-08-17T08:20:53.071Z"
   },
   {
    "duration": 27,
    "start_time": "2023-08-17T08:20:53.104Z"
   },
   {
    "duration": 88,
    "start_time": "2023-08-17T08:20:53.132Z"
   },
   {
    "duration": 4,
    "start_time": "2023-08-17T08:20:53.222Z"
   },
   {
    "duration": 235,
    "start_time": "2023-08-17T08:20:53.228Z"
   },
   {
    "duration": 88,
    "start_time": "2023-08-17T08:20:53.465Z"
   },
   {
    "duration": 200,
    "start_time": "2023-08-17T08:20:53.554Z"
   },
   {
    "duration": 1615,
    "start_time": "2023-08-17T08:21:47.350Z"
   },
   {
    "duration": 3,
    "start_time": "2023-08-17T08:21:48.967Z"
   },
   {
    "duration": 61,
    "start_time": "2023-08-17T08:21:48.971Z"
   },
   {
    "duration": 2,
    "start_time": "2023-08-17T08:21:49.034Z"
   },
   {
    "duration": 23,
    "start_time": "2023-08-17T08:21:49.038Z"
   },
   {
    "duration": 47,
    "start_time": "2023-08-17T08:21:49.063Z"
   },
   {
    "duration": 19,
    "start_time": "2023-08-17T08:21:49.112Z"
   },
   {
    "duration": 15,
    "start_time": "2023-08-17T08:21:49.132Z"
   },
   {
    "duration": 21,
    "start_time": "2023-08-17T08:21:49.148Z"
   },
   {
    "duration": 29,
    "start_time": "2023-08-17T08:21:49.172Z"
   },
   {
    "duration": 17,
    "start_time": "2023-08-17T08:21:49.202Z"
   },
   {
    "duration": 21,
    "start_time": "2023-08-17T08:21:49.220Z"
   },
   {
    "duration": 31,
    "start_time": "2023-08-17T08:21:49.242Z"
   },
   {
    "duration": 30,
    "start_time": "2023-08-17T08:21:49.274Z"
   },
   {
    "duration": 12,
    "start_time": "2023-08-17T08:21:49.305Z"
   },
   {
    "duration": 1090,
    "start_time": "2023-08-17T08:21:49.318Z"
   },
   {
    "duration": 11,
    "start_time": "2023-08-17T08:21:50.409Z"
   },
   {
    "duration": 18,
    "start_time": "2023-08-17T08:21:50.421Z"
   },
   {
    "duration": 26,
    "start_time": "2023-08-17T08:21:50.441Z"
   },
   {
    "duration": 33,
    "start_time": "2023-08-17T08:21:50.469Z"
   },
   {
    "duration": 1094,
    "start_time": "2023-08-17T08:21:50.504Z"
   },
   {
    "duration": 5,
    "start_time": "2023-08-17T08:21:51.600Z"
   },
   {
    "duration": 24,
    "start_time": "2023-08-17T08:21:51.606Z"
   },
   {
    "duration": 16,
    "start_time": "2023-08-17T08:21:51.631Z"
   },
   {
    "duration": 18,
    "start_time": "2023-08-17T08:21:51.648Z"
   },
   {
    "duration": 28,
    "start_time": "2023-08-17T08:21:51.667Z"
   },
   {
    "duration": 27,
    "start_time": "2023-08-17T08:21:51.697Z"
   },
   {
    "duration": 19,
    "start_time": "2023-08-17T08:21:51.727Z"
   },
   {
    "duration": 13,
    "start_time": "2023-08-17T08:21:51.748Z"
   },
   {
    "duration": 25,
    "start_time": "2023-08-17T08:21:51.763Z"
   },
   {
    "duration": 18,
    "start_time": "2023-08-17T08:21:51.789Z"
   },
   {
    "duration": 782,
    "start_time": "2023-08-17T08:21:51.808Z"
   },
   {
    "duration": 4,
    "start_time": "2023-08-17T08:21:52.592Z"
   },
   {
    "duration": 1157,
    "start_time": "2023-08-17T08:21:52.598Z"
   },
   {
    "duration": 4,
    "start_time": "2023-08-17T08:21:53.760Z"
   },
   {
    "duration": 11,
    "start_time": "2023-08-17T08:21:53.766Z"
   },
   {
    "duration": 126,
    "start_time": "2023-08-17T08:21:53.778Z"
   },
   {
    "duration": 11688,
    "start_time": "2023-08-17T08:21:53.906Z"
   },
   {
    "duration": 3,
    "start_time": "2023-08-17T08:22:05.596Z"
   },
   {
    "duration": 5398,
    "start_time": "2023-08-17T08:22:05.600Z"
   },
   {
    "duration": 3,
    "start_time": "2023-08-17T08:22:11.000Z"
   },
   {
    "duration": 37,
    "start_time": "2023-08-17T08:22:11.004Z"
   },
   {
    "duration": 191,
    "start_time": "2023-08-17T08:22:11.042Z"
   },
   {
    "duration": 46730,
    "start_time": "2023-08-17T08:22:11.235Z"
   },
   {
    "duration": 88,
    "start_time": "2023-08-17T08:22:57.968Z"
   },
   {
    "duration": 19190,
    "start_time": "2023-08-17T08:22:58.064Z"
   },
   {
    "duration": 44911,
    "start_time": "2023-08-17T08:23:17.256Z"
   },
   {
    "duration": 98,
    "start_time": "2023-08-17T08:24:02.169Z"
   },
   {
    "duration": 401,
    "start_time": "2023-08-17T08:24:02.269Z"
   },
   {
    "duration": 26714,
    "start_time": "2023-08-17T08:24:02.672Z"
   },
   {
    "duration": 3,
    "start_time": "2023-08-17T08:24:29.387Z"
   },
   {
    "duration": 120,
    "start_time": "2023-08-17T08:24:29.392Z"
   },
   {
    "duration": 286,
    "start_time": "2023-08-17T08:24:29.514Z"
   },
   {
    "duration": 4,
    "start_time": "2023-08-17T08:24:29.802Z"
   },
   {
    "duration": 15,
    "start_time": "2023-08-17T08:24:29.808Z"
   },
   {
    "duration": 36,
    "start_time": "2023-08-17T08:24:29.824Z"
   },
   {
    "duration": 4,
    "start_time": "2023-08-17T08:24:29.861Z"
   },
   {
    "duration": 277,
    "start_time": "2023-08-17T08:24:29.867Z"
   },
   {
    "duration": 18,
    "start_time": "2023-08-17T08:24:30.145Z"
   },
   {
    "duration": 88,
    "start_time": "2023-08-17T08:24:30.169Z"
   },
   {
    "duration": 18,
    "start_time": "2023-08-17T08:24:30.258Z"
   },
   {
    "duration": 230,
    "start_time": "2023-08-17T08:24:30.278Z"
   },
   {
    "duration": 4,
    "start_time": "2023-08-17T08:24:30.509Z"
   },
   {
    "duration": 176,
    "start_time": "2023-08-17T08:24:30.514Z"
   },
   {
    "duration": 0,
    "start_time": "2023-08-17T08:24:30.692Z"
   },
   {
    "duration": 0,
    "start_time": "2023-08-17T08:24:30.694Z"
   },
   {
    "duration": 0,
    "start_time": "2023-08-17T08:24:30.696Z"
   },
   {
    "duration": 0,
    "start_time": "2023-08-17T08:24:30.697Z"
   },
   {
    "duration": 0,
    "start_time": "2023-08-17T08:24:30.698Z"
   },
   {
    "duration": 0,
    "start_time": "2023-08-17T08:24:30.700Z"
   },
   {
    "duration": 0,
    "start_time": "2023-08-17T08:24:30.701Z"
   },
   {
    "duration": 0,
    "start_time": "2023-08-17T08:24:30.703Z"
   },
   {
    "duration": 0,
    "start_time": "2023-08-17T08:24:30.704Z"
   },
   {
    "duration": 0,
    "start_time": "2023-08-17T08:24:30.705Z"
   },
   {
    "duration": 0,
    "start_time": "2023-08-17T08:24:30.707Z"
   },
   {
    "duration": 0,
    "start_time": "2023-08-17T08:24:30.708Z"
   },
   {
    "duration": 0,
    "start_time": "2023-08-17T08:24:30.710Z"
   },
   {
    "duration": 0,
    "start_time": "2023-08-17T08:24:30.711Z"
   },
   {
    "duration": 0,
    "start_time": "2023-08-17T08:24:30.713Z"
   },
   {
    "duration": 0,
    "start_time": "2023-08-17T08:24:30.714Z"
   },
   {
    "duration": 0,
    "start_time": "2023-08-17T08:24:30.750Z"
   },
   {
    "duration": 0,
    "start_time": "2023-08-17T08:24:30.751Z"
   },
   {
    "duration": 5,
    "start_time": "2023-08-17T08:25:10.661Z"
   },
   {
    "duration": 9,
    "start_time": "2023-08-17T08:25:17.173Z"
   },
   {
    "duration": 6,
    "start_time": "2023-08-17T08:25:27.456Z"
   },
   {
    "duration": 4,
    "start_time": "2023-08-17T08:26:49.432Z"
   },
   {
    "duration": 12,
    "start_time": "2023-08-17T08:26:53.573Z"
   },
   {
    "duration": 10,
    "start_time": "2023-08-17T08:27:10.886Z"
   },
   {
    "duration": 3,
    "start_time": "2023-08-17T08:27:10.898Z"
   },
   {
    "duration": 36,
    "start_time": "2023-08-17T08:27:10.902Z"
   },
   {
    "duration": 3,
    "start_time": "2023-08-17T08:27:10.940Z"
   },
   {
    "duration": 158,
    "start_time": "2023-08-17T08:27:10.945Z"
   },
   {
    "duration": 3,
    "start_time": "2023-08-17T08:27:11.105Z"
   },
   {
    "duration": 145,
    "start_time": "2023-08-17T08:27:11.110Z"
   },
   {
    "duration": 95,
    "start_time": "2023-08-17T08:27:11.258Z"
   },
   {
    "duration": 265,
    "start_time": "2023-08-17T08:27:11.355Z"
   },
   {
    "duration": 4,
    "start_time": "2023-08-17T08:27:11.622Z"
   },
   {
    "duration": 22,
    "start_time": "2023-08-17T08:27:11.628Z"
   },
   {
    "duration": 0,
    "start_time": "2023-08-17T08:27:11.652Z"
   },
   {
    "duration": 0,
    "start_time": "2023-08-17T08:27:11.653Z"
   },
   {
    "duration": 0,
    "start_time": "2023-08-17T08:27:11.655Z"
   },
   {
    "duration": 0,
    "start_time": "2023-08-17T08:27:11.656Z"
   },
   {
    "duration": 0,
    "start_time": "2023-08-17T08:27:11.657Z"
   },
   {
    "duration": 0,
    "start_time": "2023-08-17T08:27:11.659Z"
   },
   {
    "duration": 0,
    "start_time": "2023-08-17T08:27:11.660Z"
   },
   {
    "duration": 0,
    "start_time": "2023-08-17T08:27:11.661Z"
   },
   {
    "duration": 17,
    "start_time": "2023-08-17T08:27:42.451Z"
   },
   {
    "duration": 5,
    "start_time": "2023-08-17T08:27:50.782Z"
   },
   {
    "duration": 27,
    "start_time": "2023-08-17T08:27:50.790Z"
   },
   {
    "duration": 18,
    "start_time": "2023-08-17T08:27:50.819Z"
   },
   {
    "duration": 93,
    "start_time": "2023-08-17T08:27:50.838Z"
   },
   {
    "duration": 5,
    "start_time": "2023-08-17T08:27:50.933Z"
   },
   {
    "duration": 28,
    "start_time": "2023-08-17T08:27:50.939Z"
   },
   {
    "duration": 83,
    "start_time": "2023-08-17T08:27:50.972Z"
   },
   {
    "duration": 195,
    "start_time": "2023-08-17T08:27:51.058Z"
   },
   {
    "duration": 5,
    "start_time": "2023-08-17T08:47:37.438Z"
   },
   {
    "duration": 9,
    "start_time": "2023-08-17T08:49:58.583Z"
   },
   {
    "duration": 9,
    "start_time": "2023-08-17T08:50:48.051Z"
   },
   {
    "duration": 8,
    "start_time": "2023-08-17T08:51:11.467Z"
   },
   {
    "duration": 17,
    "start_time": "2023-08-17T08:51:31.178Z"
   },
   {
    "duration": 7,
    "start_time": "2023-08-17T08:52:17.743Z"
   },
   {
    "duration": 7,
    "start_time": "2023-08-17T08:52:23.580Z"
   },
   {
    "duration": 9,
    "start_time": "2023-08-17T08:52:27.044Z"
   },
   {
    "duration": 7,
    "start_time": "2023-08-17T08:52:31.762Z"
   },
   {
    "duration": 16,
    "start_time": "2023-08-17T08:52:41.954Z"
   },
   {
    "duration": 15,
    "start_time": "2023-08-17T08:52:45.890Z"
   },
   {
    "duration": 15,
    "start_time": "2023-08-17T08:52:56.612Z"
   },
   {
    "duration": 14,
    "start_time": "2023-08-17T08:53:05.851Z"
   },
   {
    "duration": 15,
    "start_time": "2023-08-17T08:53:19.531Z"
   },
   {
    "duration": 10,
    "start_time": "2023-08-17T08:53:24.915Z"
   },
   {
    "duration": 11,
    "start_time": "2023-08-17T08:53:29.766Z"
   },
   {
    "duration": 10,
    "start_time": "2023-08-17T08:53:33.742Z"
   },
   {
    "duration": 14,
    "start_time": "2023-08-17T08:53:42.930Z"
   },
   {
    "duration": 162,
    "start_time": "2023-08-17T08:54:04.623Z"
   },
   {
    "duration": 103,
    "start_time": "2023-08-17T08:54:12.547Z"
   },
   {
    "duration": 249,
    "start_time": "2023-08-17T08:54:16.919Z"
   },
   {
    "duration": 95,
    "start_time": "2023-08-17T08:54:20.000Z"
   },
   {
    "duration": 169,
    "start_time": "2023-08-17T08:54:26.468Z"
   },
   {
    "duration": 101,
    "start_time": "2023-08-17T08:54:29.831Z"
   },
   {
    "duration": 105,
    "start_time": "2023-08-17T08:54:33.435Z"
   },
   {
    "duration": 158,
    "start_time": "2023-08-17T08:54:39.503Z"
   },
   {
    "duration": 106,
    "start_time": "2023-08-17T08:54:44.407Z"
   },
   {
    "duration": 108,
    "start_time": "2023-08-17T08:54:48.844Z"
   },
   {
    "duration": 141,
    "start_time": "2023-08-17T08:54:52.751Z"
   },
   {
    "duration": 817,
    "start_time": "2023-08-17T08:58:34.332Z"
   },
   {
    "duration": 5,
    "start_time": "2023-08-17T08:58:36.043Z"
   },
   {
    "duration": 363,
    "start_time": "2023-08-17T09:02:53.440Z"
   },
   {
    "duration": 52913,
    "start_time": "2023-08-17T09:03:40.173Z"
   },
   {
    "duration": 735,
    "start_time": "2023-08-17T09:05:33.492Z"
   },
   {
    "duration": 4,
    "start_time": "2023-08-17T09:05:34.228Z"
   },
   {
    "duration": 1169,
    "start_time": "2023-08-17T09:05:37.048Z"
   },
   {
    "duration": 4,
    "start_time": "2023-08-17T09:05:38.219Z"
   },
   {
    "duration": 1599,
    "start_time": "2023-08-17T09:18:16.946Z"
   },
   {
    "duration": 3,
    "start_time": "2023-08-17T09:18:19.948Z"
   },
   {
    "duration": 2725,
    "start_time": "2023-08-17T09:18:59.351Z"
   },
   {
    "duration": 4,
    "start_time": "2023-08-17T09:19:02.078Z"
   },
   {
    "duration": 4328,
    "start_time": "2023-08-17T09:23:35.016Z"
   },
   {
    "duration": 4,
    "start_time": "2023-08-17T09:23:39.346Z"
   },
   {
    "duration": 7,
    "start_time": "2023-08-17T09:24:40.261Z"
   },
   {
    "duration": 224,
    "start_time": "2023-08-17T09:24:43.301Z"
   },
   {
    "duration": 4,
    "start_time": "2023-08-17T09:24:57.216Z"
   },
   {
    "duration": 8,
    "start_time": "2023-08-17T09:24:58.727Z"
   },
   {
    "duration": 3,
    "start_time": "2023-08-17T09:26:23.741Z"
   },
   {
    "duration": 23,
    "start_time": "2023-08-17T09:26:24.500Z"
   },
   {
    "duration": 751,
    "start_time": "2023-08-17T09:31:33.334Z"
   },
   {
    "duration": 4,
    "start_time": "2023-08-17T09:31:34.425Z"
   },
   {
    "duration": 729,
    "start_time": "2023-08-17T09:31:44.591Z"
   },
   {
    "duration": 3,
    "start_time": "2023-08-17T09:31:45.322Z"
   },
   {
    "duration": 4,
    "start_time": "2023-08-17T09:34:34.258Z"
   },
   {
    "duration": 48,
    "start_time": "2023-08-17T09:37:23.403Z"
   },
   {
    "duration": 4,
    "start_time": "2023-08-17T09:38:22.403Z"
   },
   {
    "duration": 21,
    "start_time": "2023-08-17T09:39:14.927Z"
   },
   {
    "duration": 595,
    "start_time": "2023-08-17T09:40:33.800Z"
   },
   {
    "duration": 38,
    "start_time": "2023-08-17T09:41:22.609Z"
   },
   {
    "duration": 598,
    "start_time": "2023-08-17T09:41:59.075Z"
   },
   {
    "duration": 10,
    "start_time": "2023-08-17T09:46:46.502Z"
   },
   {
    "duration": 5,
    "start_time": "2023-08-17T09:49:31.134Z"
   },
   {
    "duration": 15,
    "start_time": "2023-08-17T09:51:31.492Z"
   },
   {
    "duration": 14,
    "start_time": "2023-08-17T09:51:51.901Z"
   },
   {
    "duration": 4,
    "start_time": "2023-08-17T09:53:06.358Z"
   },
   {
    "duration": 4201,
    "start_time": "2023-08-17T09:55:37.018Z"
   },
   {
    "duration": 4,
    "start_time": "2023-08-17T09:55:41.221Z"
   },
   {
    "duration": 7,
    "start_time": "2023-08-17T09:55:59.818Z"
   },
   {
    "duration": 10,
    "start_time": "2023-08-17T09:56:11.364Z"
   },
   {
    "duration": 10,
    "start_time": "2023-08-17T09:58:18.680Z"
   },
   {
    "duration": 26,
    "start_time": "2023-08-17T09:58:58.701Z"
   },
   {
    "duration": 12,
    "start_time": "2023-08-17T10:00:35.012Z"
   },
   {
    "duration": 5,
    "start_time": "2023-08-17T10:00:43.988Z"
   },
   {
    "duration": 39,
    "start_time": "2023-08-17T10:01:59.105Z"
   },
   {
    "duration": 4,
    "start_time": "2023-08-17T10:06:59.650Z"
   },
   {
    "duration": 25,
    "start_time": "2023-08-17T10:06:59.657Z"
   },
   {
    "duration": 60,
    "start_time": "2023-08-17T10:06:59.684Z"
   },
   {
    "duration": 2,
    "start_time": "2023-08-17T10:06:59.746Z"
   },
   {
    "duration": 28,
    "start_time": "2023-08-17T10:06:59.750Z"
   },
   {
    "duration": 18,
    "start_time": "2023-08-17T10:06:59.780Z"
   },
   {
    "duration": 35,
    "start_time": "2023-08-17T10:06:59.800Z"
   },
   {
    "duration": 23,
    "start_time": "2023-08-17T10:06:59.837Z"
   },
   {
    "duration": 16,
    "start_time": "2023-08-17T10:06:59.862Z"
   },
   {
    "duration": 48,
    "start_time": "2023-08-17T10:06:59.879Z"
   },
   {
    "duration": 15,
    "start_time": "2023-08-17T10:06:59.928Z"
   },
   {
    "duration": 24,
    "start_time": "2023-08-17T10:06:59.944Z"
   },
   {
    "duration": 89,
    "start_time": "2023-08-17T10:06:59.969Z"
   },
   {
    "duration": 87,
    "start_time": "2023-08-17T10:07:00.060Z"
   },
   {
    "duration": 47,
    "start_time": "2023-08-17T10:07:00.150Z"
   },
   {
    "duration": 1051,
    "start_time": "2023-08-17T10:07:00.199Z"
   },
   {
    "duration": 11,
    "start_time": "2023-08-17T10:07:01.252Z"
   },
   {
    "duration": 56,
    "start_time": "2023-08-17T10:07:01.265Z"
   },
   {
    "duration": 107,
    "start_time": "2023-08-17T10:07:01.322Z"
   },
   {
    "duration": 91,
    "start_time": "2023-08-17T10:07:01.431Z"
   },
   {
    "duration": 1095,
    "start_time": "2023-08-17T10:07:01.524Z"
   },
   {
    "duration": 5,
    "start_time": "2023-08-17T10:07:02.621Z"
   },
   {
    "duration": 22,
    "start_time": "2023-08-17T10:07:02.628Z"
   },
   {
    "duration": 22,
    "start_time": "2023-08-17T10:07:02.652Z"
   },
   {
    "duration": 6,
    "start_time": "2023-08-17T10:07:02.676Z"
   },
   {
    "duration": 12,
    "start_time": "2023-08-17T10:07:02.684Z"
   },
   {
    "duration": 17,
    "start_time": "2023-08-17T10:07:02.698Z"
   },
   {
    "duration": 44,
    "start_time": "2023-08-17T10:07:02.717Z"
   },
   {
    "duration": 13,
    "start_time": "2023-08-17T10:09:15.634Z"
   },
   {
    "duration": 210650,
    "start_time": "2023-08-17T10:16:24.949Z"
   },
   {
    "duration": 51654,
    "start_time": "2023-08-17T10:20:02.062Z"
   },
   {
    "duration": 219259,
    "start_time": "2023-08-17T10:21:15.102Z"
   },
   {
    "duration": 4,
    "start_time": "2023-08-17T10:25:34.320Z"
   },
   {
    "duration": 9,
    "start_time": "2023-08-17T10:29:39.739Z"
   },
   {
    "duration": 3697,
    "start_time": "2023-08-17T10:35:15.501Z"
   },
   {
    "duration": 4,
    "start_time": "2023-08-17T10:35:46.729Z"
   },
   {
    "duration": 4,
    "start_time": "2023-08-17T10:36:05.909Z"
   },
   {
    "duration": 3801,
    "start_time": "2023-08-17T10:36:23.247Z"
   },
   {
    "duration": 8,
    "start_time": "2023-08-17T10:36:29.018Z"
   },
   {
    "duration": 2,
    "start_time": "2023-08-17T10:36:48.155Z"
   },
   {
    "duration": 3751,
    "start_time": "2023-08-17T10:36:55.871Z"
   },
   {
    "duration": 3,
    "start_time": "2023-08-17T10:36:59.624Z"
   },
   {
    "duration": 4,
    "start_time": "2023-08-17T10:38:06.205Z"
   },
   {
    "duration": 5,
    "start_time": "2023-08-17T10:38:45.926Z"
   },
   {
    "duration": 8201,
    "start_time": "2023-08-17T10:39:30.448Z"
   },
   {
    "duration": 3,
    "start_time": "2023-08-17T10:39:38.651Z"
   },
   {
    "duration": 4,
    "start_time": "2023-08-17T10:39:50.188Z"
   },
   {
    "duration": 13,
    "start_time": "2023-08-17T10:40:36.653Z"
   },
   {
    "duration": 124,
    "start_time": "2023-08-17T10:40:42.037Z"
   },
   {
    "duration": 128,
    "start_time": "2023-08-17T10:42:33.471Z"
   },
   {
    "duration": 4,
    "start_time": "2023-08-17T10:43:54.256Z"
   },
   {
    "duration": 7,
    "start_time": "2023-08-17T10:43:57.944Z"
   },
   {
    "duration": 4,
    "start_time": "2023-08-17T10:44:13.552Z"
   },
   {
    "duration": 12,
    "start_time": "2023-08-17T10:44:39.443Z"
   },
   {
    "duration": 13,
    "start_time": "2023-08-17T10:45:49.319Z"
   },
   {
    "duration": 17,
    "start_time": "2023-08-17T10:46:02.232Z"
   },
   {
    "duration": 12,
    "start_time": "2023-08-17T10:46:09.468Z"
   },
   {
    "duration": 7,
    "start_time": "2023-08-17T10:46:20.631Z"
   },
   {
    "duration": 4,
    "start_time": "2023-08-17T10:47:24.515Z"
   },
   {
    "duration": 21,
    "start_time": "2023-08-17T10:47:42.327Z"
   },
   {
    "duration": 5,
    "start_time": "2023-08-17T10:47:52.534Z"
   },
   {
    "duration": 424,
    "start_time": "2023-08-17T10:48:47.195Z"
   },
   {
    "duration": 4,
    "start_time": "2023-08-17T10:50:09.346Z"
   },
   {
    "duration": 442,
    "start_time": "2023-08-17T10:51:03.452Z"
   },
   {
    "duration": 4,
    "start_time": "2023-08-17T10:52:10.240Z"
   },
   {
    "duration": 7175,
    "start_time": "2023-08-17T10:57:49.000Z"
   },
   {
    "duration": 3889,
    "start_time": "2023-08-17T10:58:29.578Z"
   },
   {
    "duration": 399,
    "start_time": "2023-08-17T10:59:41.136Z"
   },
   {
    "duration": 4,
    "start_time": "2023-08-17T10:59:50.927Z"
   },
   {
    "duration": 8361,
    "start_time": "2023-08-17T11:00:27.156Z"
   },
   {
    "duration": 3,
    "start_time": "2023-08-17T11:00:35.519Z"
   },
   {
    "duration": 13,
    "start_time": "2023-08-17T11:00:40.119Z"
   },
   {
    "duration": 16563,
    "start_time": "2023-08-17T11:04:31.404Z"
   },
   {
    "duration": 3,
    "start_time": "2023-08-17T11:05:31.737Z"
   },
   {
    "duration": 23173,
    "start_time": "2023-08-17T11:06:25.739Z"
   },
   {
    "duration": 4,
    "start_time": "2023-08-17T11:06:48.914Z"
   },
   {
    "duration": 4,
    "start_time": "2023-08-17T11:07:22.814Z"
   },
   {
    "duration": 6,
    "start_time": "2023-08-17T11:08:12.945Z"
   },
   {
    "duration": 4,
    "start_time": "2023-08-17T11:08:31.366Z"
   },
   {
    "duration": 275,
    "start_time": "2023-08-17T11:09:37.819Z"
   },
   {
    "duration": 18769,
    "start_time": "2023-08-17T11:13:24.073Z"
   },
   {
    "duration": 3,
    "start_time": "2023-08-17T11:15:47.621Z"
   },
   {
    "duration": 14052,
    "start_time": "2023-08-17T11:16:13.733Z"
   },
   {
    "duration": 4,
    "start_time": "2023-08-17T11:16:34.148Z"
   },
   {
    "duration": 207,
    "start_time": "2023-08-17T11:17:50.786Z"
   },
   {
    "duration": 211,
    "start_time": "2023-08-17T11:18:46.517Z"
   },
   {
    "duration": 8299,
    "start_time": "2023-08-17T11:20:02.969Z"
   },
   {
    "duration": 3,
    "start_time": "2023-08-17T11:20:11.270Z"
   },
   {
    "duration": 4,
    "start_time": "2023-08-17T11:20:30.864Z"
   },
   {
    "duration": 104,
    "start_time": "2023-08-17T11:20:57.988Z"
   },
   {
    "duration": 3,
    "start_time": "2023-08-17T11:21:01.745Z"
   },
   {
    "duration": 8855,
    "start_time": "2023-08-17T11:21:12.779Z"
   },
   {
    "duration": 3,
    "start_time": "2023-08-17T11:21:21.636Z"
   },
   {
    "duration": 116,
    "start_time": "2023-08-17T11:22:15.346Z"
   },
   {
    "duration": 3,
    "start_time": "2023-08-17T11:23:11.638Z"
   },
   {
    "duration": 14,
    "start_time": "2023-08-17T11:23:15.674Z"
   },
   {
    "duration": 4,
    "start_time": "2023-08-17T11:23:20.257Z"
   },
   {
    "duration": 26,
    "start_time": "2023-08-17T11:24:48.999Z"
   },
   {
    "duration": 278,
    "start_time": "2023-08-17T11:25:05.602Z"
   },
   {
    "duration": 16,
    "start_time": "2023-08-17T11:25:35.336Z"
   },
   {
    "duration": 179,
    "start_time": "2023-08-17T11:26:03.499Z"
   },
   {
    "duration": 16,
    "start_time": "2023-08-17T11:26:46.334Z"
   },
   {
    "duration": 9,
    "start_time": "2023-08-17T11:27:40.331Z"
   },
   {
    "duration": 9,
    "start_time": "2023-08-17T11:27:52.117Z"
   },
   {
    "duration": 16,
    "start_time": "2023-08-17T11:28:20.430Z"
   },
   {
    "duration": 100,
    "start_time": "2023-08-17T11:28:24.103Z"
   },
   {
    "duration": 18,
    "start_time": "2023-08-17T11:28:57.143Z"
   },
   {
    "duration": 100,
    "start_time": "2023-08-17T11:29:49.450Z"
   },
   {
    "duration": 12,
    "start_time": "2023-08-17T11:35:36.908Z"
   },
   {
    "duration": 12,
    "start_time": "2023-08-17T11:35:52.124Z"
   },
   {
    "duration": 12,
    "start_time": "2023-08-17T11:36:13.804Z"
   },
   {
    "duration": 4,
    "start_time": "2023-08-17T11:37:16.504Z"
   },
   {
    "duration": 30,
    "start_time": "2023-08-17T11:37:26.712Z"
   },
   {
    "duration": 4,
    "start_time": "2023-08-17T11:37:38.694Z"
   },
   {
    "duration": 284,
    "start_time": "2023-08-17T11:38:17.455Z"
   },
   {
    "duration": 4,
    "start_time": "2023-08-17T11:38:47.231Z"
   },
   {
    "duration": 61,
    "start_time": "2023-08-17T11:38:57.794Z"
   },
   {
    "duration": 4,
    "start_time": "2023-08-17T11:39:13.599Z"
   },
   {
    "duration": 176,
    "start_time": "2023-08-17T11:39:22.121Z"
   },
   {
    "duration": 5,
    "start_time": "2023-08-17T11:40:02.207Z"
   },
   {
    "duration": 14,
    "start_time": "2023-08-17T11:40:09.504Z"
   },
   {
    "duration": 4,
    "start_time": "2023-08-17T11:40:17.129Z"
   },
   {
    "duration": 107,
    "start_time": "2023-08-17T11:41:02.268Z"
   },
   {
    "duration": 4,
    "start_time": "2023-08-17T11:41:17.913Z"
   },
   {
    "duration": 29,
    "start_time": "2023-08-17T11:41:25.632Z"
   },
   {
    "duration": 4,
    "start_time": "2023-08-17T11:41:37.308Z"
   },
   {
    "duration": 102,
    "start_time": "2023-08-17T11:41:46.665Z"
   },
   {
    "duration": 1424,
    "start_time": "2023-08-17T11:42:59.945Z"
   },
   {
    "duration": 3,
    "start_time": "2023-08-17T11:43:01.370Z"
   },
   {
    "duration": 149,
    "start_time": "2023-08-17T11:43:01.374Z"
   },
   {
    "duration": 24,
    "start_time": "2023-08-17T11:43:01.525Z"
   },
   {
    "duration": 30,
    "start_time": "2023-08-17T11:43:01.551Z"
   },
   {
    "duration": 76,
    "start_time": "2023-08-17T11:43:01.582Z"
   },
   {
    "duration": 57,
    "start_time": "2023-08-17T11:43:01.659Z"
   },
   {
    "duration": 67,
    "start_time": "2023-08-17T11:43:01.718Z"
   },
   {
    "duration": 47,
    "start_time": "2023-08-17T11:43:01.786Z"
   },
   {
    "duration": 22,
    "start_time": "2023-08-17T11:43:01.835Z"
   },
   {
    "duration": 17,
    "start_time": "2023-08-17T11:43:01.859Z"
   },
   {
    "duration": 41,
    "start_time": "2023-08-17T11:43:01.877Z"
   },
   {
    "duration": 26,
    "start_time": "2023-08-17T11:43:01.920Z"
   },
   {
    "duration": 68,
    "start_time": "2023-08-17T11:43:01.948Z"
   },
   {
    "duration": 46,
    "start_time": "2023-08-17T11:43:02.017Z"
   },
   {
    "duration": 1077,
    "start_time": "2023-08-17T11:43:02.065Z"
   },
   {
    "duration": 10,
    "start_time": "2023-08-17T11:43:03.149Z"
   },
   {
    "duration": 11,
    "start_time": "2023-08-17T11:43:03.160Z"
   },
   {
    "duration": 14,
    "start_time": "2023-08-17T11:43:03.172Z"
   },
   {
    "duration": 19,
    "start_time": "2023-08-17T11:43:03.188Z"
   },
   {
    "duration": 1088,
    "start_time": "2023-08-17T11:43:03.208Z"
   },
   {
    "duration": 6,
    "start_time": "2023-08-17T11:43:04.298Z"
   },
   {
    "duration": 32,
    "start_time": "2023-08-17T11:43:04.306Z"
   },
   {
    "duration": 12,
    "start_time": "2023-08-17T11:43:04.340Z"
   },
   {
    "duration": 6,
    "start_time": "2023-08-17T11:43:04.353Z"
   },
   {
    "duration": 6,
    "start_time": "2023-08-17T11:43:04.360Z"
   },
   {
    "duration": 12,
    "start_time": "2023-08-17T11:43:04.367Z"
   },
   {
    "duration": 10,
    "start_time": "2023-08-17T11:43:04.382Z"
   },
   {
    "duration": 4,
    "start_time": "2023-08-17T11:43:04.394Z"
   },
   {
    "duration": 11,
    "start_time": "2023-08-17T11:43:04.399Z"
   },
   {
    "duration": 10,
    "start_time": "2023-08-17T11:43:04.411Z"
   },
   {
    "duration": 735,
    "start_time": "2023-08-17T11:43:04.422Z"
   },
   {
    "duration": 3,
    "start_time": "2023-08-17T11:43:05.159Z"
   },
   {
    "duration": 4175,
    "start_time": "2023-08-17T11:43:05.164Z"
   },
   {
    "duration": 7,
    "start_time": "2023-08-17T11:43:09.341Z"
   },
   {
    "duration": 6,
    "start_time": "2023-08-17T11:43:09.350Z"
   },
   {
    "duration": 129,
    "start_time": "2023-08-17T11:43:09.357Z"
   },
   {
    "duration": 11166,
    "start_time": "2023-08-17T11:43:09.488Z"
   },
   {
    "duration": 4,
    "start_time": "2023-08-17T11:43:20.655Z"
   },
   {
    "duration": 222467,
    "start_time": "2023-08-17T11:43:20.660Z"
   },
   {
    "duration": 4,
    "start_time": "2023-08-17T11:47:03.128Z"
   },
   {
    "duration": 3655,
    "start_time": "2023-08-17T11:47:03.134Z"
   },
   {
    "duration": 3,
    "start_time": "2023-08-17T11:47:06.790Z"
   },
   {
    "duration": 24,
    "start_time": "2023-08-17T11:47:06.794Z"
   },
   {
    "duration": 8202,
    "start_time": "2023-08-17T11:47:06.819Z"
   },
   {
    "duration": 3,
    "start_time": "2023-08-17T11:47:15.023Z"
   },
   {
    "duration": 38,
    "start_time": "2023-08-17T11:47:15.028Z"
   },
   {
    "duration": 141,
    "start_time": "2023-08-17T11:47:15.068Z"
   },
   {
    "duration": 31559,
    "start_time": "2023-08-17T11:47:15.211Z"
   },
   {
    "duration": 83,
    "start_time": "2023-08-17T11:47:46.772Z"
   },
   {
    "duration": 10998,
    "start_time": "2023-08-17T11:47:46.861Z"
   },
   {
    "duration": 23004,
    "start_time": "2023-08-17T11:47:57.951Z"
   },
   {
    "duration": 94,
    "start_time": "2023-08-17T11:48:20.957Z"
   },
   {
    "duration": 405,
    "start_time": "2023-08-17T11:48:21.054Z"
   },
   {
    "duration": 23494,
    "start_time": "2023-08-17T11:48:21.460Z"
   },
   {
    "duration": 4,
    "start_time": "2023-08-17T11:48:44.955Z"
   },
   {
    "duration": 111,
    "start_time": "2023-08-17T11:48:44.960Z"
   },
   {
    "duration": 260,
    "start_time": "2023-08-17T11:48:45.073Z"
   },
   {
    "duration": 3,
    "start_time": "2023-08-17T11:48:45.335Z"
   },
   {
    "duration": 4,
    "start_time": "2023-08-17T11:48:45.349Z"
   },
   {
    "duration": 24,
    "start_time": "2023-08-17T11:48:45.354Z"
   },
   {
    "duration": 4,
    "start_time": "2023-08-17T11:48:45.379Z"
   },
   {
    "duration": 119,
    "start_time": "2023-08-17T11:48:45.384Z"
   },
   {
    "duration": 0,
    "start_time": "2023-08-17T11:48:45.505Z"
   },
   {
    "duration": 0,
    "start_time": "2023-08-17T11:48:45.507Z"
   },
   {
    "duration": 0,
    "start_time": "2023-08-17T11:48:45.508Z"
   },
   {
    "duration": 0,
    "start_time": "2023-08-17T11:48:45.509Z"
   },
   {
    "duration": 0,
    "start_time": "2023-08-17T11:48:45.510Z"
   },
   {
    "duration": 0,
    "start_time": "2023-08-17T11:48:45.511Z"
   },
   {
    "duration": 0,
    "start_time": "2023-08-17T11:48:45.512Z"
   },
   {
    "duration": 0,
    "start_time": "2023-08-17T11:48:45.513Z"
   },
   {
    "duration": 0,
    "start_time": "2023-08-17T11:48:45.515Z"
   },
   {
    "duration": 0,
    "start_time": "2023-08-17T11:48:45.516Z"
   },
   {
    "duration": 0,
    "start_time": "2023-08-17T11:48:45.517Z"
   },
   {
    "duration": 0,
    "start_time": "2023-08-17T11:48:45.518Z"
   },
   {
    "duration": 0,
    "start_time": "2023-08-17T11:48:45.520Z"
   },
   {
    "duration": 0,
    "start_time": "2023-08-17T11:48:45.521Z"
   },
   {
    "duration": 0,
    "start_time": "2023-08-17T11:48:45.522Z"
   },
   {
    "duration": 0,
    "start_time": "2023-08-17T11:48:45.549Z"
   },
   {
    "duration": 0,
    "start_time": "2023-08-17T11:48:45.551Z"
   },
   {
    "duration": 0,
    "start_time": "2023-08-17T11:48:45.552Z"
   },
   {
    "duration": 0,
    "start_time": "2023-08-17T11:48:45.553Z"
   },
   {
    "duration": 0,
    "start_time": "2023-08-17T11:48:45.555Z"
   },
   {
    "duration": 0,
    "start_time": "2023-08-17T11:48:45.556Z"
   },
   {
    "duration": 0,
    "start_time": "2023-08-17T11:48:45.557Z"
   },
   {
    "duration": 0,
    "start_time": "2023-08-17T11:48:45.558Z"
   },
   {
    "duration": 0,
    "start_time": "2023-08-17T11:48:45.560Z"
   },
   {
    "duration": 0,
    "start_time": "2023-08-17T11:48:45.562Z"
   },
   {
    "duration": 0,
    "start_time": "2023-08-17T11:48:45.563Z"
   },
   {
    "duration": 430,
    "start_time": "2023-08-17T11:51:02.870Z"
   },
   {
    "duration": 4,
    "start_time": "2023-08-17T11:51:17.239Z"
   },
   {
    "duration": 206,
    "start_time": "2023-08-17T11:51:17.245Z"
   },
   {
    "duration": 96,
    "start_time": "2023-08-17T11:51:17.454Z"
   },
   {
    "duration": 136,
    "start_time": "2023-08-17T11:51:17.552Z"
   },
   {
    "duration": 4,
    "start_time": "2023-08-17T11:51:17.691Z"
   },
   {
    "duration": 124,
    "start_time": "2023-08-17T11:51:17.696Z"
   },
   {
    "duration": 4,
    "start_time": "2023-08-17T11:51:17.821Z"
   },
   {
    "duration": 40,
    "start_time": "2023-08-17T11:51:17.826Z"
   },
   {
    "duration": 4,
    "start_time": "2023-08-17T11:51:17.868Z"
   },
   {
    "duration": 289,
    "start_time": "2023-08-17T11:51:17.874Z"
   },
   {
    "duration": 4,
    "start_time": "2023-08-17T11:51:18.165Z"
   },
   {
    "duration": 187,
    "start_time": "2023-08-17T11:51:18.170Z"
   },
   {
    "duration": 4,
    "start_time": "2023-08-17T11:51:18.449Z"
   },
   {
    "duration": 230,
    "start_time": "2023-08-17T11:51:18.455Z"
   },
   {
    "duration": 5,
    "start_time": "2023-08-17T11:51:18.686Z"
   },
   {
    "duration": 20,
    "start_time": "2023-08-17T11:51:18.692Z"
   },
   {
    "duration": 18,
    "start_time": "2023-08-17T11:51:18.713Z"
   },
   {
    "duration": 37,
    "start_time": "2023-08-17T11:51:18.732Z"
   },
   {
    "duration": 12,
    "start_time": "2023-08-17T11:51:18.771Z"
   },
   {
    "duration": 120,
    "start_time": "2023-08-17T11:51:18.784Z"
   },
   {
    "duration": 4,
    "start_time": "2023-08-17T11:51:18.906Z"
   },
   {
    "duration": 147,
    "start_time": "2023-08-17T11:51:18.911Z"
   },
   {
    "duration": 95,
    "start_time": "2023-08-17T11:51:19.155Z"
   },
   {
    "duration": 106,
    "start_time": "2023-08-17T11:51:19.252Z"
   },
   {
    "duration": 14,
    "start_time": "2023-08-17T11:51:19.360Z"
   },
   {
    "duration": 17,
    "start_time": "2023-08-17T11:51:19.376Z"
   },
   {
    "duration": 13,
    "start_time": "2023-08-17T11:52:25.430Z"
   },
   {
    "duration": 18,
    "start_time": "2023-08-17T11:52:26.050Z"
   },
   {
    "duration": 12,
    "start_time": "2023-08-17T11:57:24.720Z"
   },
   {
    "duration": 12,
    "start_time": "2023-08-17T11:57:29.647Z"
   },
   {
    "duration": 7,
    "start_time": "2023-08-17T12:01:56.468Z"
   },
   {
    "duration": 12,
    "start_time": "2023-08-17T12:09:51.100Z"
   },
   {
    "duration": 125,
    "start_time": "2023-08-17T12:10:10.535Z"
   },
   {
    "duration": 14,
    "start_time": "2023-08-17T12:13:22.759Z"
   },
   {
    "duration": 15,
    "start_time": "2023-08-17T12:13:48.404Z"
   },
   {
    "duration": 13,
    "start_time": "2023-08-17T12:19:12.024Z"
   },
   {
    "duration": 1375,
    "start_time": "2023-08-17T14:06:09.208Z"
   },
   {
    "duration": 3,
    "start_time": "2023-08-17T14:06:10.585Z"
   },
   {
    "duration": 59,
    "start_time": "2023-08-17T14:06:10.589Z"
   },
   {
    "duration": 3,
    "start_time": "2023-08-17T14:06:10.650Z"
   },
   {
    "duration": 26,
    "start_time": "2023-08-17T14:06:10.654Z"
   },
   {
    "duration": 12,
    "start_time": "2023-08-17T14:06:10.681Z"
   },
   {
    "duration": 23,
    "start_time": "2023-08-17T14:06:10.695Z"
   },
   {
    "duration": 14,
    "start_time": "2023-08-17T14:06:10.719Z"
   },
   {
    "duration": 13,
    "start_time": "2023-08-17T14:06:10.735Z"
   },
   {
    "duration": 14,
    "start_time": "2023-08-17T14:06:10.751Z"
   },
   {
    "duration": 8,
    "start_time": "2023-08-17T14:06:10.766Z"
   },
   {
    "duration": 8,
    "start_time": "2023-08-17T14:06:10.775Z"
   },
   {
    "duration": 4,
    "start_time": "2023-08-17T14:06:10.784Z"
   },
   {
    "duration": 38,
    "start_time": "2023-08-17T14:06:10.790Z"
   },
   {
    "duration": 29,
    "start_time": "2023-08-17T14:06:10.830Z"
   },
   {
    "duration": 1066,
    "start_time": "2023-08-17T14:06:10.861Z"
   },
   {
    "duration": 11,
    "start_time": "2023-08-17T14:06:11.928Z"
   },
   {
    "duration": 15,
    "start_time": "2023-08-17T14:06:11.950Z"
   },
   {
    "duration": 14,
    "start_time": "2023-08-17T14:06:11.966Z"
   },
   {
    "duration": 17,
    "start_time": "2023-08-17T14:06:11.981Z"
   },
   {
    "duration": 1096,
    "start_time": "2023-08-17T14:06:12.000Z"
   },
   {
    "duration": 7,
    "start_time": "2023-08-17T14:06:13.097Z"
   },
   {
    "duration": 15,
    "start_time": "2023-08-17T14:06:13.105Z"
   },
   {
    "duration": 7,
    "start_time": "2023-08-17T14:06:13.121Z"
   },
   {
    "duration": 3,
    "start_time": "2023-08-17T14:06:13.129Z"
   },
   {
    "duration": 8,
    "start_time": "2023-08-17T14:06:13.133Z"
   },
   {
    "duration": 20,
    "start_time": "2023-08-17T14:06:13.142Z"
   },
   {
    "duration": 17,
    "start_time": "2023-08-17T14:06:13.165Z"
   },
   {
    "duration": 13,
    "start_time": "2023-08-17T14:06:13.183Z"
   },
   {
    "duration": 10,
    "start_time": "2023-08-17T14:06:13.198Z"
   },
   {
    "duration": 7,
    "start_time": "2023-08-17T14:06:13.209Z"
   },
   {
    "duration": 707,
    "start_time": "2023-08-17T14:06:13.218Z"
   },
   {
    "duration": 3,
    "start_time": "2023-08-17T14:06:13.927Z"
   },
   {
    "duration": 4297,
    "start_time": "2023-08-17T14:06:13.932Z"
   },
   {
    "duration": 4,
    "start_time": "2023-08-17T14:06:18.230Z"
   },
   {
    "duration": 20,
    "start_time": "2023-08-17T14:06:18.235Z"
   },
   {
    "duration": 127,
    "start_time": "2023-08-17T14:06:18.257Z"
   },
   {
    "duration": 11517,
    "start_time": "2023-08-17T14:06:18.385Z"
   },
   {
    "duration": 4,
    "start_time": "2023-08-17T14:06:29.904Z"
   },
   {
    "duration": 215625,
    "start_time": "2023-08-17T14:06:29.910Z"
   },
   {
    "duration": 4,
    "start_time": "2023-08-17T14:10:05.536Z"
   },
   {
    "duration": 3590,
    "start_time": "2023-08-17T14:10:05.542Z"
   },
   {
    "duration": 4,
    "start_time": "2023-08-17T14:10:09.134Z"
   },
   {
    "duration": 12,
    "start_time": "2023-08-17T14:10:09.139Z"
   },
   {
    "duration": 8225,
    "start_time": "2023-08-17T14:10:09.152Z"
   },
   {
    "duration": 3,
    "start_time": "2023-08-17T14:10:17.379Z"
   },
   {
    "duration": 25,
    "start_time": "2023-08-17T14:10:17.384Z"
   },
   {
    "duration": 152,
    "start_time": "2023-08-17T14:10:17.411Z"
   },
   {
    "duration": 16089,
    "start_time": "2023-08-17T14:10:17.565Z"
   },
   {
    "duration": 97,
    "start_time": "2023-08-17T14:10:33.660Z"
   },
   {
    "duration": 8491,
    "start_time": "2023-08-17T14:10:33.760Z"
   },
   {
    "duration": 17406,
    "start_time": "2023-08-17T14:10:42.253Z"
   },
   {
    "duration": 100,
    "start_time": "2023-08-17T14:10:59.751Z"
   },
   {
    "duration": 325,
    "start_time": "2023-08-17T14:10:59.854Z"
   },
   {
    "duration": 23362,
    "start_time": "2023-08-17T14:11:00.181Z"
   },
   {
    "duration": 7,
    "start_time": "2023-08-17T14:11:23.544Z"
   },
   {
    "duration": 108,
    "start_time": "2023-08-17T14:11:23.552Z"
   },
   {
    "duration": 260,
    "start_time": "2023-08-17T14:11:23.662Z"
   },
   {
    "duration": 4,
    "start_time": "2023-08-17T14:11:23.924Z"
   },
   {
    "duration": 24,
    "start_time": "2023-08-17T14:11:23.929Z"
   },
   {
    "duration": 33,
    "start_time": "2023-08-17T14:11:23.955Z"
   },
   {
    "duration": 4,
    "start_time": "2023-08-17T14:11:23.990Z"
   },
   {
    "duration": 431,
    "start_time": "2023-08-17T14:11:23.995Z"
   },
   {
    "duration": 3,
    "start_time": "2023-08-17T14:11:24.428Z"
   },
   {
    "duration": 123,
    "start_time": "2023-08-17T14:11:24.432Z"
   },
   {
    "duration": 94,
    "start_time": "2023-08-17T14:11:24.557Z"
   },
   {
    "duration": 124,
    "start_time": "2023-08-17T14:11:24.653Z"
   },
   {
    "duration": 3,
    "start_time": "2023-08-17T14:11:24.779Z"
   },
   {
    "duration": 21,
    "start_time": "2023-08-17T14:11:24.784Z"
   },
   {
    "duration": 11,
    "start_time": "2023-08-17T14:11:24.806Z"
   },
   {
    "duration": 28,
    "start_time": "2023-08-17T14:11:24.818Z"
   },
   {
    "duration": 4,
    "start_time": "2023-08-17T14:11:24.848Z"
   },
   {
    "duration": 393,
    "start_time": "2023-08-17T14:11:24.853Z"
   },
   {
    "duration": 4,
    "start_time": "2023-08-17T14:11:25.247Z"
   },
   {
    "duration": 103,
    "start_time": "2023-08-17T14:11:25.252Z"
   },
   {
    "duration": 100,
    "start_time": "2023-08-17T14:11:25.357Z"
   },
   {
    "duration": 272,
    "start_time": "2023-08-17T14:11:25.460Z"
   },
   {
    "duration": 4,
    "start_time": "2023-08-17T14:11:25.734Z"
   },
   {
    "duration": 36,
    "start_time": "2023-08-17T14:11:25.739Z"
   },
   {
    "duration": 4,
    "start_time": "2023-08-17T14:11:25.776Z"
   },
   {
    "duration": 20,
    "start_time": "2023-08-17T14:11:25.782Z"
   },
   {
    "duration": 5,
    "start_time": "2023-08-17T14:11:25.807Z"
   },
   {
    "duration": 152,
    "start_time": "2023-08-17T14:11:25.813Z"
   },
   {
    "duration": 5,
    "start_time": "2023-08-17T14:11:25.967Z"
   },
   {
    "duration": 276,
    "start_time": "2023-08-17T14:11:25.974Z"
   },
   {
    "duration": 95,
    "start_time": "2023-08-17T14:11:26.256Z"
   },
   {
    "duration": 116,
    "start_time": "2023-08-17T14:11:26.352Z"
   },
   {
    "duration": 15,
    "start_time": "2023-08-17T14:11:26.470Z"
   },
   {
    "duration": 13,
    "start_time": "2023-08-17T14:11:26.487Z"
   },
   {
    "duration": 12,
    "start_time": "2023-08-17T14:11:26.502Z"
   },
   {
    "duration": 42,
    "start_time": "2023-08-17T14:11:26.516Z"
   },
   {
    "duration": 150,
    "start_time": "2023-08-17T14:11:26.560Z"
   },
   {
    "duration": 1335,
    "start_time": "2023-08-17T14:54:07.259Z"
   },
   {
    "duration": 3,
    "start_time": "2023-08-17T14:54:08.596Z"
   },
   {
    "duration": 58,
    "start_time": "2023-08-17T14:54:08.600Z"
   },
   {
    "duration": 3,
    "start_time": "2023-08-17T14:54:08.660Z"
   },
   {
    "duration": 7,
    "start_time": "2023-08-17T14:54:08.664Z"
   },
   {
    "duration": 11,
    "start_time": "2023-08-17T14:54:08.673Z"
   },
   {
    "duration": 12,
    "start_time": "2023-08-17T14:54:08.686Z"
   },
   {
    "duration": 12,
    "start_time": "2023-08-17T14:54:08.700Z"
   },
   {
    "duration": 37,
    "start_time": "2023-08-17T14:54:08.713Z"
   },
   {
    "duration": 13,
    "start_time": "2023-08-17T14:54:08.753Z"
   },
   {
    "duration": 9,
    "start_time": "2023-08-17T14:54:08.767Z"
   },
   {
    "duration": 8,
    "start_time": "2023-08-17T14:54:08.777Z"
   },
   {
    "duration": 7,
    "start_time": "2023-08-17T14:54:08.786Z"
   },
   {
    "duration": 34,
    "start_time": "2023-08-17T14:54:08.794Z"
   },
   {
    "duration": 32,
    "start_time": "2023-08-17T14:54:08.829Z"
   },
   {
    "duration": 1040,
    "start_time": "2023-08-17T14:54:08.862Z"
   },
   {
    "duration": 10,
    "start_time": "2023-08-17T14:54:09.903Z"
   },
   {
    "duration": 11,
    "start_time": "2023-08-17T14:54:09.915Z"
   },
   {
    "duration": 32,
    "start_time": "2023-08-17T14:54:09.927Z"
   },
   {
    "duration": 16,
    "start_time": "2023-08-17T14:54:09.960Z"
   },
   {
    "duration": 1027,
    "start_time": "2023-08-17T14:54:09.977Z"
   },
   {
    "duration": 6,
    "start_time": "2023-08-17T14:54:11.006Z"
   },
   {
    "duration": 9,
    "start_time": "2023-08-17T14:54:11.013Z"
   },
   {
    "duration": 6,
    "start_time": "2023-08-17T14:54:11.024Z"
   },
   {
    "duration": 4,
    "start_time": "2023-08-17T14:54:11.031Z"
   },
   {
    "duration": 14,
    "start_time": "2023-08-17T14:54:11.036Z"
   },
   {
    "duration": 10,
    "start_time": "2023-08-17T14:54:11.051Z"
   },
   {
    "duration": 3,
    "start_time": "2023-08-17T14:54:11.065Z"
   },
   {
    "duration": 5,
    "start_time": "2023-08-17T14:54:11.069Z"
   },
   {
    "duration": 4,
    "start_time": "2023-08-17T14:54:11.075Z"
   },
   {
    "duration": 723,
    "start_time": "2023-08-17T14:54:11.081Z"
   },
   {
    "duration": 4,
    "start_time": "2023-08-17T14:54:11.806Z"
   },
   {
    "duration": 4032,
    "start_time": "2023-08-17T14:54:11.812Z"
   },
   {
    "duration": 6,
    "start_time": "2023-08-17T14:54:15.846Z"
   },
   {
    "duration": 32,
    "start_time": "2023-08-17T14:54:15.853Z"
   },
   {
    "duration": 141,
    "start_time": "2023-08-17T14:54:15.886Z"
   },
   {
    "duration": 11566,
    "start_time": "2023-08-17T14:54:16.029Z"
   },
   {
    "duration": 4,
    "start_time": "2023-08-17T14:54:27.596Z"
   },
   {
    "duration": 216703,
    "start_time": "2023-08-17T14:54:27.602Z"
   },
   {
    "duration": 5,
    "start_time": "2023-08-17T14:58:04.306Z"
   },
   {
    "duration": 4388,
    "start_time": "2023-08-17T14:58:04.312Z"
   },
   {
    "duration": 4,
    "start_time": "2023-08-17T14:58:08.701Z"
   },
   {
    "duration": 7,
    "start_time": "2023-08-17T14:58:08.707Z"
   },
   {
    "duration": 8228,
    "start_time": "2023-08-17T14:58:08.716Z"
   },
   {
    "duration": 5,
    "start_time": "2023-08-17T14:58:16.945Z"
   },
   {
    "duration": 21,
    "start_time": "2023-08-17T14:58:16.951Z"
   },
   {
    "duration": 131,
    "start_time": "2023-08-17T14:58:16.974Z"
   },
   {
    "duration": 21553,
    "start_time": "2023-08-17T14:58:17.107Z"
   },
   {
    "duration": 89,
    "start_time": "2023-08-17T14:58:38.663Z"
   },
   {
    "duration": 11404,
    "start_time": "2023-08-17T14:58:38.754Z"
   },
   {
    "duration": 16404,
    "start_time": "2023-08-17T14:58:50.250Z"
   },
   {
    "duration": 99,
    "start_time": "2023-08-17T14:59:06.656Z"
   },
   {
    "duration": 403,
    "start_time": "2023-08-17T14:59:06.759Z"
   },
   {
    "duration": 23339,
    "start_time": "2023-08-17T14:59:07.164Z"
   },
   {
    "duration": 4,
    "start_time": "2023-08-17T14:59:30.505Z"
   },
   {
    "duration": 170,
    "start_time": "2023-08-17T14:59:30.511Z"
   },
   {
    "duration": 250,
    "start_time": "2023-08-17T14:59:30.683Z"
   },
   {
    "duration": 4,
    "start_time": "2023-08-17T14:59:30.934Z"
   },
   {
    "duration": 30,
    "start_time": "2023-08-17T14:59:30.950Z"
   },
   {
    "duration": 75,
    "start_time": "2023-08-17T14:59:30.982Z"
   },
   {
    "duration": 18,
    "start_time": "2023-08-17T14:59:31.058Z"
   },
   {
    "duration": 464,
    "start_time": "2023-08-17T14:59:31.077Z"
   },
   {
    "duration": 4,
    "start_time": "2023-08-17T14:59:31.542Z"
   },
   {
    "duration": 102,
    "start_time": "2023-08-17T14:59:31.549Z"
   },
   {
    "duration": 99,
    "start_time": "2023-08-17T14:59:31.653Z"
   },
   {
    "duration": 125,
    "start_time": "2023-08-17T14:59:31.754Z"
   },
   {
    "duration": 4,
    "start_time": "2023-08-17T14:59:31.881Z"
   },
   {
    "duration": 17,
    "start_time": "2023-08-17T14:59:31.886Z"
   },
   {
    "duration": 19,
    "start_time": "2023-08-17T14:59:31.904Z"
   },
   {
    "duration": 44,
    "start_time": "2023-08-17T14:59:31.924Z"
   },
   {
    "duration": 5,
    "start_time": "2023-08-17T14:59:31.969Z"
   },
   {
    "duration": 380,
    "start_time": "2023-08-17T14:59:31.976Z"
   },
   {
    "duration": 4,
    "start_time": "2023-08-17T14:59:32.358Z"
   },
   {
    "duration": 194,
    "start_time": "2023-08-17T14:59:32.364Z"
   },
   {
    "duration": 6,
    "start_time": "2023-08-17T14:59:32.652Z"
   },
   {
    "duration": 185,
    "start_time": "2023-08-17T14:59:32.750Z"
   },
   {
    "duration": 4,
    "start_time": "2023-08-17T14:59:32.937Z"
   },
   {
    "duration": 21,
    "start_time": "2023-08-17T14:59:32.949Z"
   },
   {
    "duration": 4,
    "start_time": "2023-08-17T14:59:32.972Z"
   },
   {
    "duration": 42,
    "start_time": "2023-08-17T14:59:32.977Z"
   },
   {
    "duration": 21,
    "start_time": "2023-08-17T14:59:33.020Z"
   },
   {
    "duration": 120,
    "start_time": "2023-08-17T14:59:33.046Z"
   },
   {
    "duration": 4,
    "start_time": "2023-08-17T14:59:33.168Z"
   },
   {
    "duration": 84,
    "start_time": "2023-08-17T14:59:33.173Z"
   },
   {
    "duration": 93,
    "start_time": "2023-08-17T14:59:33.259Z"
   },
   {
    "duration": 183,
    "start_time": "2023-08-17T14:59:33.353Z"
   },
   {
    "duration": 21,
    "start_time": "2023-08-17T14:59:33.537Z"
   },
   {
    "duration": 15,
    "start_time": "2023-08-17T14:59:33.559Z"
   },
   {
    "duration": 12,
    "start_time": "2023-08-17T14:59:33.575Z"
   },
   {
    "duration": 13,
    "start_time": "2023-08-17T14:59:33.589Z"
   },
   {
    "duration": 151,
    "start_time": "2023-08-17T14:59:33.603Z"
   },
   {
    "duration": 54,
    "start_time": "2023-08-18T07:35:40.842Z"
   },
   {
    "duration": 135,
    "start_time": "2023-08-18T07:35:49.829Z"
   },
   {
    "duration": 0,
    "start_time": "2023-08-18T07:35:49.966Z"
   },
   {
    "duration": 0,
    "start_time": "2023-08-18T07:35:49.967Z"
   },
   {
    "duration": 0,
    "start_time": "2023-08-18T07:35:49.969Z"
   },
   {
    "duration": 0,
    "start_time": "2023-08-18T07:35:49.970Z"
   },
   {
    "duration": 0,
    "start_time": "2023-08-18T07:35:49.972Z"
   },
   {
    "duration": 0,
    "start_time": "2023-08-18T07:35:49.981Z"
   },
   {
    "duration": 156,
    "start_time": "2023-08-18T07:36:14.201Z"
   },
   {
    "duration": 0,
    "start_time": "2023-08-18T07:36:14.359Z"
   },
   {
    "duration": 0,
    "start_time": "2023-08-18T07:36:14.361Z"
   },
   {
    "duration": 0,
    "start_time": "2023-08-18T07:36:14.362Z"
   },
   {
    "duration": 0,
    "start_time": "2023-08-18T07:36:14.363Z"
   },
   {
    "duration": 0,
    "start_time": "2023-08-18T07:36:14.365Z"
   },
   {
    "duration": 0,
    "start_time": "2023-08-18T07:36:14.366Z"
   },
   {
    "duration": 1954,
    "start_time": "2023-08-18T07:36:34.614Z"
   },
   {
    "duration": 17,
    "start_time": "2023-08-18T07:36:46.727Z"
   },
   {
    "duration": 8,
    "start_time": "2023-08-18T07:36:46.748Z"
   },
   {
    "duration": 127,
    "start_time": "2023-08-18T07:36:46.758Z"
   },
   {
    "duration": 4,
    "start_time": "2023-08-18T07:36:46.888Z"
   },
   {
    "duration": 20,
    "start_time": "2023-08-18T07:36:46.894Z"
   },
   {
    "duration": 43,
    "start_time": "2023-08-18T07:36:46.916Z"
   },
   {
    "duration": 44,
    "start_time": "2023-08-18T07:36:46.961Z"
   },
   {
    "duration": 124,
    "start_time": "2023-08-18T07:36:47.007Z"
   },
   {
    "duration": 6,
    "start_time": "2023-08-18T07:37:13.910Z"
   },
   {
    "duration": 76,
    "start_time": "2023-08-18T07:44:22.862Z"
   },
   {
    "duration": 56,
    "start_time": "2023-08-18T07:44:35.194Z"
   },
   {
    "duration": 5,
    "start_time": "2023-08-18T07:44:52.180Z"
   },
   {
    "duration": 43,
    "start_time": "2023-08-18T07:44:52.188Z"
   },
   {
    "duration": 67,
    "start_time": "2023-08-18T07:44:52.234Z"
   },
   {
    "duration": 4,
    "start_time": "2023-08-18T07:44:52.304Z"
   },
   {
    "duration": 34,
    "start_time": "2023-08-18T07:44:52.311Z"
   },
   {
    "duration": 39,
    "start_time": "2023-08-18T07:44:52.347Z"
   },
   {
    "duration": 31,
    "start_time": "2023-08-18T07:44:52.388Z"
   },
   {
    "duration": 24,
    "start_time": "2023-08-18T07:44:52.421Z"
   },
   {
    "duration": 32,
    "start_time": "2023-08-18T07:44:52.449Z"
   },
   {
    "duration": 24,
    "start_time": "2023-08-18T07:44:52.483Z"
   },
   {
    "duration": 34,
    "start_time": "2023-08-18T07:44:52.510Z"
   },
   {
    "duration": 13,
    "start_time": "2023-08-18T07:44:52.547Z"
   },
   {
    "duration": 27,
    "start_time": "2023-08-18T07:44:52.563Z"
   },
   {
    "duration": 75,
    "start_time": "2023-08-18T07:44:55.892Z"
   },
   {
    "duration": 1444,
    "start_time": "2023-08-18T07:46:44.154Z"
   },
   {
    "duration": 13,
    "start_time": "2023-08-18T07:49:34.683Z"
   },
   {
    "duration": 39,
    "start_time": "2023-08-18T07:51:21.254Z"
   },
   {
    "duration": 24,
    "start_time": "2023-08-18T08:00:00.737Z"
   },
   {
    "duration": 24,
    "start_time": "2023-08-18T08:00:14.880Z"
   },
   {
    "duration": 19,
    "start_time": "2023-08-18T08:00:56.759Z"
   },
   {
    "duration": 8,
    "start_time": "2023-08-18T08:11:07.679Z"
   },
   {
    "duration": 26,
    "start_time": "2023-08-18T08:11:13.316Z"
   },
   {
    "duration": 10,
    "start_time": "2023-08-18T08:11:14.816Z"
   },
   {
    "duration": 7,
    "start_time": "2023-08-18T08:11:24.671Z"
   },
   {
    "duration": 21,
    "start_time": "2023-08-18T08:19:53.550Z"
   },
   {
    "duration": 9,
    "start_time": "2023-08-18T08:20:03.150Z"
   },
   {
    "duration": 3,
    "start_time": "2023-08-18T08:20:03.883Z"
   },
   {
    "duration": 9,
    "start_time": "2023-08-18T08:20:04.555Z"
   },
   {
    "duration": 332,
    "start_time": "2023-08-18T08:20:51.563Z"
   },
   {
    "duration": 720,
    "start_time": "2023-08-18T08:21:19.122Z"
   },
   {
    "duration": 11,
    "start_time": "2023-08-18T08:21:20.734Z"
   },
   {
    "duration": 39,
    "start_time": "2023-08-18T08:47:09.021Z"
   },
   {
    "duration": 28,
    "start_time": "2023-08-18T08:48:56.250Z"
   },
   {
    "duration": 26,
    "start_time": "2023-08-18T08:49:04.678Z"
   },
   {
    "duration": 5360,
    "start_time": "2023-08-18T08:57:49.547Z"
   },
   {
    "duration": 5,
    "start_time": "2023-08-18T08:57:54.910Z"
   },
   {
    "duration": 6,
    "start_time": "2023-08-18T08:57:59.499Z"
   },
   {
    "duration": 182,
    "start_time": "2023-08-18T08:58:08.687Z"
   },
   {
    "duration": 10064,
    "start_time": "2023-08-18T08:58:41.143Z"
   },
   {
    "duration": 4,
    "start_time": "2023-08-18T08:58:51.208Z"
   },
   {
    "duration": 10182,
    "start_time": "2023-08-18T08:59:33.458Z"
   },
   {
    "duration": 9,
    "start_time": "2023-08-18T08:59:43.642Z"
   },
   {
    "duration": 311389,
    "start_time": "2023-08-18T09:01:39.516Z"
   },
   {
    "duration": 5,
    "start_time": "2023-08-18T09:06:50.907Z"
   },
   {
    "duration": 6342,
    "start_time": "2023-08-18T09:13:42.758Z"
   },
   {
    "duration": 4,
    "start_time": "2023-08-18T09:13:49.102Z"
   },
   {
    "duration": 10033,
    "start_time": "2023-08-18T09:14:36.754Z"
   },
   {
    "duration": 4,
    "start_time": "2023-08-18T09:14:46.789Z"
   },
   {
    "duration": 5827,
    "start_time": "2023-08-18T09:15:05.617Z"
   },
   {
    "duration": 7,
    "start_time": "2023-08-18T09:15:11.446Z"
   },
   {
    "duration": 5531,
    "start_time": "2023-08-18T09:15:41.141Z"
   },
   {
    "duration": 4,
    "start_time": "2023-08-18T09:15:46.675Z"
   },
   {
    "duration": 8864,
    "start_time": "2023-08-18T09:17:30.503Z"
   },
   {
    "duration": 4,
    "start_time": "2023-08-18T09:17:42.485Z"
   },
   {
    "duration": 142247,
    "start_time": "2023-08-18T09:18:01.162Z"
   },
   {
    "duration": 41827,
    "start_time": "2023-08-18T09:23:43.596Z"
   },
   {
    "duration": 5,
    "start_time": "2023-08-18T09:27:23.046Z"
   },
   {
    "duration": 6,
    "start_time": "2023-08-18T09:27:52.543Z"
   },
   {
    "duration": 574,
    "start_time": "2023-08-18T09:30:58.768Z"
   },
   {
    "duration": 3,
    "start_time": "2023-08-18T09:31:03.755Z"
   },
   {
    "duration": 5028,
    "start_time": "2023-08-18T09:31:18.545Z"
   },
   {
    "duration": 5,
    "start_time": "2023-08-18T09:31:31.368Z"
   },
   {
    "duration": 7,
    "start_time": "2023-08-18T09:31:36.708Z"
   },
   {
    "duration": 161,
    "start_time": "2023-08-18T09:31:39.209Z"
   },
   {
    "duration": 39257,
    "start_time": "2023-08-18T09:32:05.880Z"
   },
   {
    "duration": 4,
    "start_time": "2023-08-18T09:34:34.110Z"
   },
   {
    "duration": 134850,
    "start_time": "2023-08-18T09:34:57.498Z"
   },
   {
    "duration": 4,
    "start_time": "2023-08-18T09:37:26.017Z"
   },
   {
    "duration": 5,
    "start_time": "2023-08-18T09:39:52.690Z"
   },
   {
    "duration": 2319,
    "start_time": "2023-08-18T09:40:10.554Z"
   },
   {
    "duration": 4,
    "start_time": "2023-08-18T09:40:16.317Z"
   },
   {
    "duration": 4,
    "start_time": "2023-08-18T09:40:51.886Z"
   },
   {
    "duration": 10219,
    "start_time": "2023-08-18T09:41:27.733Z"
   },
   {
    "duration": 3,
    "start_time": "2023-08-18T09:41:39.754Z"
   },
   {
    "duration": 19,
    "start_time": "2023-08-18T09:42:03.616Z"
   },
   {
    "duration": 159,
    "start_time": "2023-08-18T09:42:08.353Z"
   },
   {
    "duration": 8457,
    "start_time": "2023-08-18T09:43:52.471Z"
   },
   {
    "duration": 4,
    "start_time": "2023-08-18T09:44:15.300Z"
   },
   {
    "duration": 7057,
    "start_time": "2023-08-18T09:44:41.577Z"
   },
   {
    "duration": 19409,
    "start_time": "2023-08-18T09:45:31.541Z"
   },
   {
    "duration": 30,
    "start_time": "2023-08-18T09:47:50.923Z"
   },
   {
    "duration": 347,
    "start_time": "2023-08-18T09:47:53.148Z"
   },
   {
    "duration": 28281,
    "start_time": "2023-08-18T09:48:57.583Z"
   },
   {
    "duration": 4,
    "start_time": "2023-08-18T09:49:25.867Z"
   },
   {
    "duration": 3,
    "start_time": "2023-08-18T09:50:21.280Z"
   },
   {
    "duration": 4,
    "start_time": "2023-08-18T09:50:44.512Z"
   },
   {
    "duration": 25299,
    "start_time": "2023-08-18T09:51:00.153Z"
   },
   {
    "duration": 4,
    "start_time": "2023-08-18T09:57:24.095Z"
   },
   {
    "duration": 4,
    "start_time": "2023-08-18T09:57:41.366Z"
   },
   {
    "duration": 127,
    "start_time": "2023-08-18T10:00:32.743Z"
   },
   {
    "duration": 299,
    "start_time": "2023-08-18T10:00:38.877Z"
   },
   {
    "duration": 6414,
    "start_time": "2023-08-18T10:33:45.489Z"
   },
   {
    "duration": 133,
    "start_time": "2023-08-18T10:35:19.133Z"
   },
   {
    "duration": 300,
    "start_time": "2023-08-18T10:35:21.254Z"
   },
   {
    "duration": 645,
    "start_time": "2023-08-18T10:37:51.058Z"
   },
   {
    "duration": 10,
    "start_time": "2023-08-18T10:37:57.829Z"
   },
   {
    "duration": 5862,
    "start_time": "2023-08-18T10:46:55.441Z"
   },
   {
    "duration": 4,
    "start_time": "2023-08-18T10:47:05.691Z"
   },
   {
    "duration": 4,
    "start_time": "2023-08-18T10:47:54.720Z"
   },
   {
    "duration": 138,
    "start_time": "2023-08-18T10:50:04.483Z"
   },
   {
    "duration": 209,
    "start_time": "2023-08-18T10:50:29.597Z"
   },
   {
    "duration": 4,
    "start_time": "2023-08-18T10:50:32.382Z"
   },
   {
    "duration": 33896,
    "start_time": "2023-08-18T10:52:02.794Z"
   },
   {
    "duration": 5,
    "start_time": "2023-08-18T10:52:44.871Z"
   },
   {
    "duration": 442635,
    "start_time": "2023-08-18T10:57:58.511Z"
   },
   {
    "duration": 11,
    "start_time": "2023-08-18T11:11:02.449Z"
   },
   {
    "duration": 8,
    "start_time": "2023-08-18T11:13:25.047Z"
   },
   {
    "duration": 21664,
    "start_time": "2023-08-18T11:18:01.501Z"
   },
   {
    "duration": 5,
    "start_time": "2023-08-18T11:18:57.209Z"
   },
   {
    "duration": 5,
    "start_time": "2023-08-18T11:19:56.797Z"
   },
   {
    "duration": 158982,
    "start_time": "2023-08-18T11:20:51.951Z"
   },
   {
    "duration": 6,
    "start_time": "2023-08-18T11:26:07.594Z"
   },
   {
    "duration": 149035,
    "start_time": "2023-08-18T11:27:39.969Z"
   },
   {
    "duration": 6,
    "start_time": "2023-08-18T11:30:28.541Z"
   },
   {
    "duration": 21508,
    "start_time": "2023-08-18T11:31:02.618Z"
   },
   {
    "duration": 5,
    "start_time": "2023-08-18T11:31:28.002Z"
   },
   {
    "duration": 4805,
    "start_time": "2023-08-18T11:32:14.402Z"
   },
   {
    "duration": 4,
    "start_time": "2023-08-18T11:33:21.011Z"
   },
   {
    "duration": 14,
    "start_time": "2023-08-18T11:33:35.748Z"
   },
   {
    "duration": 22595,
    "start_time": "2023-08-18T11:34:59.460Z"
   },
   {
    "duration": 4,
    "start_time": "2023-08-18T11:35:38.816Z"
   },
   {
    "duration": 7,
    "start_time": "2023-08-18T11:40:11.050Z"
   },
   {
    "duration": 147,
    "start_time": "2023-08-18T11:40:33.924Z"
   },
   {
    "duration": 54190,
    "start_time": "2023-08-18T11:41:42.945Z"
   },
   {
    "duration": 7,
    "start_time": "2023-08-18T11:42:37.137Z"
   },
   {
    "duration": 5,
    "start_time": "2023-08-18T11:43:02.461Z"
   },
   {
    "duration": 82307,
    "start_time": "2023-08-18T11:45:15.699Z"
   },
   {
    "duration": 5,
    "start_time": "2023-08-18T11:46:38.008Z"
   },
   {
    "duration": 50110,
    "start_time": "2023-08-18T11:52:24.161Z"
   },
   {
    "duration": 4,
    "start_time": "2023-08-18T11:53:14.273Z"
   },
   {
    "duration": 5,
    "start_time": "2023-08-18T11:57:30.550Z"
   },
   {
    "duration": 229,
    "start_time": "2023-08-18T12:01:20.494Z"
   },
   {
    "duration": 14,
    "start_time": "2023-08-18T12:01:27.366Z"
   },
   {
    "duration": 17,
    "start_time": "2023-08-18T12:02:44.442Z"
   },
   {
    "duration": 20385,
    "start_time": "2023-08-18T12:03:43.986Z"
   },
   {
    "duration": 4,
    "start_time": "2023-08-18T12:04:04.373Z"
   },
   {
    "duration": 163,
    "start_time": "2023-08-18T12:07:19.053Z"
   },
   {
    "duration": 154,
    "start_time": "2023-08-18T12:07:35.944Z"
   },
   {
    "duration": 99173,
    "start_time": "2023-08-18T12:07:44.614Z"
   },
   {
    "duration": 4,
    "start_time": "2023-08-18T12:09:23.790Z"
   },
   {
    "duration": 6,
    "start_time": "2023-08-18T12:13:37.557Z"
   },
   {
    "duration": 2984,
    "start_time": "2023-08-18T12:15:19.000Z"
   },
   {
    "duration": 5,
    "start_time": "2023-08-18T12:15:21.987Z"
   },
   {
    "duration": 13,
    "start_time": "2023-08-18T12:15:34.342Z"
   },
   {
    "duration": 5,
    "start_time": "2023-08-18T12:15:59.561Z"
   },
   {
    "duration": 2808,
    "start_time": "2023-08-18T12:16:07.259Z"
   },
   {
    "duration": 16,
    "start_time": "2023-08-18T12:16:10.124Z"
   },
   {
    "duration": 5,
    "start_time": "2023-08-18T12:16:14.165Z"
   },
   {
    "duration": 13890,
    "start_time": "2023-08-18T12:17:13.491Z"
   },
   {
    "duration": 4,
    "start_time": "2023-08-18T12:17:27.383Z"
   },
   {
    "duration": 4710,
    "start_time": "2023-08-18T12:21:20.055Z"
   },
   {
    "duration": 75,
    "start_time": "2023-08-18T12:21:24.768Z"
   },
   {
    "duration": 4,
    "start_time": "2023-08-18T12:21:40.061Z"
   },
   {
    "duration": 6,
    "start_time": "2023-08-18T12:22:07.646Z"
   },
   {
    "duration": 12731,
    "start_time": "2023-08-18T12:24:27.783Z"
   },
   {
    "duration": 4,
    "start_time": "2023-08-18T12:24:40.516Z"
   },
   {
    "duration": 6,
    "start_time": "2023-08-18T12:26:47.574Z"
   },
   {
    "duration": 11,
    "start_time": "2023-08-18T12:26:49.083Z"
   },
   {
    "duration": 50710,
    "start_time": "2023-08-18T12:28:41.312Z"
   },
   {
    "duration": 10,
    "start_time": "2023-08-18T12:29:32.024Z"
   },
   {
    "duration": 13097,
    "start_time": "2023-08-18T12:38:05.552Z"
   },
   {
    "duration": 4,
    "start_time": "2023-08-18T12:38:18.651Z"
   },
   {
    "duration": 12537,
    "start_time": "2023-08-18T12:39:20.205Z"
   },
   {
    "duration": 5,
    "start_time": "2023-08-18T12:39:51.145Z"
   },
   {
    "duration": 4,
    "start_time": "2023-08-18T12:40:01.185Z"
   },
   {
    "duration": 123171,
    "start_time": "2023-08-18T12:40:17.121Z"
   },
   {
    "duration": 5,
    "start_time": "2023-08-18T12:42:20.294Z"
   },
   {
    "duration": 96926,
    "start_time": "2023-08-18T13:05:25.268Z"
   },
   {
    "duration": 4,
    "start_time": "2023-08-18T13:07:02.196Z"
   },
   {
    "duration": 5,
    "start_time": "2023-08-18T13:07:19.273Z"
   },
   {
    "duration": 5,
    "start_time": "2023-08-18T13:08:08.608Z"
   },
   {
    "duration": 2934,
    "start_time": "2023-08-18T13:08:58.251Z"
   },
   {
    "duration": 4,
    "start_time": "2023-08-18T13:09:01.188Z"
   },
   {
    "duration": 14138,
    "start_time": "2023-08-18T13:09:57.449Z"
   },
   {
    "duration": 3,
    "start_time": "2023-08-18T13:10:11.591Z"
   },
   {
    "duration": 6376,
    "start_time": "2023-08-18T13:12:10.384Z"
   },
   {
    "duration": 7,
    "start_time": "2023-08-18T13:12:16.763Z"
   },
   {
    "duration": 5,
    "start_time": "2023-08-18T13:12:29.353Z"
   },
   {
    "duration": 20875,
    "start_time": "2023-08-18T13:14:02.074Z"
   },
   {
    "duration": 10,
    "start_time": "2023-08-18T13:14:22.960Z"
   },
   {
    "duration": 9,
    "start_time": "2023-08-18T13:15:52.278Z"
   },
   {
    "duration": 24,
    "start_time": "2023-08-18T13:15:52.964Z"
   },
   {
    "duration": 36850,
    "start_time": "2023-08-18T13:16:48.716Z"
   },
   {
    "duration": 8,
    "start_time": "2023-08-18T13:17:25.570Z"
   },
   {
    "duration": 6053,
    "start_time": "2023-08-18T13:21:27.804Z"
   },
   {
    "duration": 8,
    "start_time": "2023-08-18T13:21:33.859Z"
   },
   {
    "duration": 52471,
    "start_time": "2023-08-18T13:21:58.313Z"
   },
   {
    "duration": 21,
    "start_time": "2023-08-18T13:22:50.787Z"
   },
   {
    "duration": 30,
    "start_time": "2023-08-18T13:24:04.912Z"
   },
   {
    "duration": 1620,
    "start_time": "2023-08-18T13:24:53.111Z"
   },
   {
    "duration": 17,
    "start_time": "2023-08-18T13:24:54.739Z"
   },
   {
    "duration": 47544,
    "start_time": "2023-08-18T13:25:28.548Z"
   },
   {
    "duration": 5,
    "start_time": "2023-08-18T13:26:16.098Z"
   },
   {
    "duration": 11,
    "start_time": "2023-08-18T13:26:26.653Z"
   },
   {
    "duration": 1339,
    "start_time": "2023-08-18T13:27:40.889Z"
   },
   {
    "duration": 4,
    "start_time": "2023-08-18T13:27:46.593Z"
   },
   {
    "duration": 6,
    "start_time": "2023-08-18T13:28:53.851Z"
   },
   {
    "duration": 1509,
    "start_time": "2023-08-18T13:29:35.396Z"
   },
   {
    "duration": 4,
    "start_time": "2023-08-18T13:29:36.907Z"
   },
   {
    "duration": 2764,
    "start_time": "2023-08-18T13:31:44.166Z"
   },
   {
    "duration": 27,
    "start_time": "2023-08-18T13:31:46.933Z"
   },
   {
    "duration": 10392,
    "start_time": "2023-08-18T13:33:24.705Z"
   },
   {
    "duration": 4,
    "start_time": "2023-08-18T13:33:35.100Z"
   },
   {
    "duration": 6,
    "start_time": "2023-08-18T13:54:12.817Z"
   },
   {
    "duration": 15,
    "start_time": "2023-08-18T13:55:16.549Z"
   },
   {
    "duration": 14,
    "start_time": "2023-08-18T13:55:28.565Z"
   },
   {
    "duration": 14,
    "start_time": "2023-08-18T13:55:34.961Z"
   },
   {
    "duration": 13,
    "start_time": "2023-08-18T13:56:23.755Z"
   },
   {
    "duration": 26,
    "start_time": "2023-08-18T13:56:30.507Z"
   },
   {
    "duration": 17,
    "start_time": "2023-08-18T13:57:02.200Z"
   },
   {
    "duration": 180,
    "start_time": "2023-08-18T13:57:09.801Z"
   },
   {
    "duration": 25,
    "start_time": "2023-08-18T13:57:31.447Z"
   },
   {
    "duration": 30,
    "start_time": "2023-08-18T13:57:55.119Z"
   },
   {
    "duration": 5,
    "start_time": "2023-08-18T14:02:39.699Z"
   },
   {
    "duration": 7,
    "start_time": "2023-08-18T14:04:29.105Z"
   },
   {
    "duration": 2096,
    "start_time": "2023-08-18T14:05:07.925Z"
   },
   {
    "duration": 14,
    "start_time": "2023-08-18T14:05:10.027Z"
   },
   {
    "duration": 71,
    "start_time": "2023-08-18T14:05:10.048Z"
   },
   {
    "duration": 5,
    "start_time": "2023-08-18T14:05:10.121Z"
   },
   {
    "duration": 62,
    "start_time": "2023-08-18T14:05:10.133Z"
   },
   {
    "duration": 47,
    "start_time": "2023-08-18T14:05:10.197Z"
   },
   {
    "duration": 33,
    "start_time": "2023-08-18T14:05:10.249Z"
   },
   {
    "duration": 30,
    "start_time": "2023-08-18T14:05:10.285Z"
   },
   {
    "duration": 60,
    "start_time": "2023-08-18T14:05:10.317Z"
   },
   {
    "duration": 41,
    "start_time": "2023-08-18T14:05:10.382Z"
   },
   {
    "duration": 18,
    "start_time": "2023-08-18T14:05:10.434Z"
   },
   {
    "duration": 22,
    "start_time": "2023-08-18T14:05:10.456Z"
   },
   {
    "duration": 76,
    "start_time": "2023-08-18T14:05:10.481Z"
   },
   {
    "duration": 87,
    "start_time": "2023-08-18T14:05:10.563Z"
   },
   {
    "duration": 1664,
    "start_time": "2023-08-18T14:05:10.653Z"
   },
   {
    "duration": 30,
    "start_time": "2023-08-18T14:05:12.319Z"
   },
   {
    "duration": 46,
    "start_time": "2023-08-18T14:05:12.354Z"
   },
   {
    "duration": 27,
    "start_time": "2023-08-18T14:05:12.402Z"
   },
   {
    "duration": 1801,
    "start_time": "2023-08-18T14:05:12.434Z"
   },
   {
    "duration": 20,
    "start_time": "2023-08-18T14:05:14.238Z"
   },
   {
    "duration": 109,
    "start_time": "2023-08-18T14:05:14.263Z"
   },
   {
    "duration": 48,
    "start_time": "2023-08-18T14:05:14.374Z"
   },
   {
    "duration": 15,
    "start_time": "2023-08-18T14:05:14.436Z"
   },
   {
    "duration": 60,
    "start_time": "2023-08-18T14:05:14.453Z"
   },
   {
    "duration": 56,
    "start_time": "2023-08-18T14:05:14.515Z"
   },
   {
    "duration": 47,
    "start_time": "2023-08-18T14:05:14.573Z"
   },
   {
    "duration": 22,
    "start_time": "2023-08-18T14:05:14.626Z"
   },
   {
    "duration": 94140,
    "start_time": "2023-08-18T14:05:14.655Z"
   },
   {
    "duration": 6,
    "start_time": "2023-08-18T14:06:48.796Z"
   },
   {
    "duration": 28,
    "start_time": "2023-08-18T14:06:48.804Z"
   },
   {
    "duration": 201,
    "start_time": "2023-08-18T14:06:48.836Z"
   },
   {
    "duration": 21066,
    "start_time": "2023-08-18T14:06:49.046Z"
   },
   {
    "duration": 20,
    "start_time": "2023-08-18T14:07:10.115Z"
   },
   {
    "duration": 160451,
    "start_time": "2023-08-18T14:07:10.137Z"
   },
   {
    "duration": 5,
    "start_time": "2023-08-18T14:09:50.590Z"
   },
   {
    "duration": 5093,
    "start_time": "2023-08-18T14:09:50.597Z"
   },
   {
    "duration": 5,
    "start_time": "2023-08-18T14:09:55.692Z"
   },
   {
    "duration": 24331,
    "start_time": "2023-08-18T14:09:55.699Z"
   },
   {
    "duration": 4,
    "start_time": "2023-08-18T14:10:20.039Z"
   },
   {
    "duration": 19,
    "start_time": "2023-08-18T14:10:20.046Z"
   },
   {
    "duration": 253,
    "start_time": "2023-08-18T14:10:20.077Z"
   },
   {
    "duration": 34628,
    "start_time": "2023-08-18T14:10:20.336Z"
   },
   {
    "duration": 59,
    "start_time": "2023-08-18T14:10:54.973Z"
   },
   {
    "duration": 26198,
    "start_time": "2023-08-18T14:10:55.046Z"
   },
   {
    "duration": 83,
    "start_time": "2023-08-18T14:11:21.247Z"
   },
   {
    "duration": 451,
    "start_time": "2023-08-18T14:11:21.340Z"
   },
   {
    "duration": 32347,
    "start_time": "2023-08-18T14:11:21.793Z"
   },
   {
    "duration": 13,
    "start_time": "2023-08-18T14:11:54.142Z"
   },
   {
    "duration": 224,
    "start_time": "2023-08-18T14:11:54.160Z"
   },
   {
    "duration": 462,
    "start_time": "2023-08-18T14:11:54.387Z"
   },
   {
    "duration": 10,
    "start_time": "2023-08-18T14:11:54.861Z"
   },
   {
    "duration": 57966,
    "start_time": "2023-08-18T14:11:54.876Z"
   },
   {
    "duration": 8,
    "start_time": "2023-08-18T14:12:52.844Z"
   },
   {
    "duration": 22327,
    "start_time": "2023-08-18T14:12:52.857Z"
   },
   {
    "duration": 5,
    "start_time": "2023-08-18T14:13:15.186Z"
   },
   {
    "duration": 98103,
    "start_time": "2023-08-18T14:13:15.193Z"
   },
   {
    "duration": 5,
    "start_time": "2023-08-18T14:14:53.298Z"
   },
   {
    "duration": 3104,
    "start_time": "2023-08-18T14:14:53.305Z"
   },
   {
    "duration": 4,
    "start_time": "2023-08-18T14:14:56.411Z"
   },
   {
    "duration": 14405,
    "start_time": "2023-08-18T14:14:56.425Z"
   },
   {
    "duration": 9,
    "start_time": "2023-08-18T14:15:10.836Z"
   },
   {
    "duration": 15717,
    "start_time": "2023-08-18T14:15:10.851Z"
   },
   {
    "duration": 7,
    "start_time": "2023-08-18T14:15:26.575Z"
   },
   {
    "duration": 14091,
    "start_time": "2023-08-18T14:15:26.626Z"
   },
   {
    "duration": 18,
    "start_time": "2023-08-18T14:15:40.719Z"
   },
   {
    "duration": 20,
    "start_time": "2023-08-18T14:15:40.746Z"
   },
   {
    "duration": 48,
    "start_time": "2023-08-18T14:15:40.768Z"
   },
   {
    "duration": 55574,
    "start_time": "2023-08-18T14:15:40.818Z"
   },
   {
    "duration": 7,
    "start_time": "2023-08-18T14:16:36.399Z"
   },
   {
    "duration": 15429,
    "start_time": "2023-08-18T14:16:36.408Z"
   },
   {
    "duration": 8,
    "start_time": "2023-08-18T14:16:51.841Z"
   },
   {
    "duration": 106222,
    "start_time": "2023-08-18T14:16:51.860Z"
   },
   {
    "duration": 5,
    "start_time": "2023-08-18T14:18:38.086Z"
   },
   {
    "duration": 3535,
    "start_time": "2023-08-18T14:18:38.093Z"
   },
   {
    "duration": 18,
    "start_time": "2023-08-18T14:18:41.630Z"
   },
   {
    "duration": 17198,
    "start_time": "2023-08-18T14:18:41.654Z"
   },
   {
    "duration": 16,
    "start_time": "2023-08-18T14:18:58.854Z"
   },
   {
    "duration": 4992,
    "start_time": "2023-08-18T14:18:58.873Z"
   },
   {
    "duration": 21,
    "start_time": "2023-08-18T14:19:03.869Z"
   },
   {
    "duration": 20463,
    "start_time": "2023-08-18T14:19:03.924Z"
   },
   {
    "duration": 4,
    "start_time": "2023-08-18T14:19:24.389Z"
   },
   {
    "duration": 25,
    "start_time": "2023-08-18T14:19:24.402Z"
   },
   {
    "duration": 59,
    "start_time": "2023-08-18T14:19:24.429Z"
   },
   {
    "duration": 39441,
    "start_time": "2023-08-18T14:19:24.490Z"
   },
   {
    "duration": 30,
    "start_time": "2023-08-18T14:20:03.942Z"
   },
   {
    "duration": 6318,
    "start_time": "2023-08-18T14:20:03.989Z"
   },
   {
    "duration": 6,
    "start_time": "2023-08-18T14:20:10.314Z"
   },
   {
    "duration": 48824,
    "start_time": "2023-08-18T14:20:10.330Z"
   },
   {
    "duration": 13,
    "start_time": "2023-08-18T14:20:59.156Z"
   },
   {
    "duration": 58,
    "start_time": "2023-08-18T14:20:59.177Z"
   },
   {
    "duration": 1445,
    "start_time": "2023-08-18T14:20:59.238Z"
   },
   {
    "duration": 12,
    "start_time": "2023-08-18T14:21:00.697Z"
   },
   {
    "duration": 1511,
    "start_time": "2023-08-18T14:21:00.711Z"
   },
   {
    "duration": 5,
    "start_time": "2023-08-18T14:21:02.224Z"
   },
   {
    "duration": 5417,
    "start_time": "2023-08-18T14:21:02.231Z"
   },
   {
    "duration": 17,
    "start_time": "2023-08-18T14:21:07.657Z"
   },
   {
    "duration": 12500,
    "start_time": "2023-08-18T14:21:07.683Z"
   },
   {
    "duration": 8,
    "start_time": "2023-08-18T14:21:20.185Z"
   },
   {
    "duration": 69,
    "start_time": "2023-08-18T14:21:20.195Z"
   },
   {
    "duration": 35,
    "start_time": "2023-08-18T14:21:20.269Z"
   },
   {
    "duration": 8,
    "start_time": "2023-08-18T14:21:20.306Z"
   },
   {
    "duration": 26,
    "start_time": "2023-08-18T14:21:20.316Z"
   },
   {
    "duration": 35,
    "start_time": "2023-08-18T14:21:20.344Z"
   },
   {
    "duration": 218,
    "start_time": "2023-08-18T14:21:20.381Z"
   }
  ],
  "kernelspec": {
   "display_name": "Python 3 (ipykernel)",
   "language": "python",
   "name": "python3"
  },
  "language_info": {
   "codemirror_mode": {
    "name": "ipython",
    "version": 3
   },
   "file_extension": ".py",
   "mimetype": "text/x-python",
   "name": "python",
   "nbconvert_exporter": "python",
   "pygments_lexer": "ipython3",
   "version": "3.9.16"
  },
  "toc": {
   "base_numbering": 1,
   "nav_menu": {},
   "number_sections": true,
   "sideBar": true,
   "skip_h1_title": true,
   "title_cell": "Содержание",
   "title_sidebar": "Contents",
   "toc_cell": true,
   "toc_position": {
    "height": "calc(100% - 180px)",
    "left": "10px",
    "top": "150px",
    "width": "335.275px"
   },
   "toc_section_display": true,
   "toc_window_display": false
  },
  "varInspector": {
   "cols": {
    "lenName": 16,
    "lenType": 16,
    "lenVar": 40
   },
   "kernels_config": {
    "python": {
     "delete_cmd_postfix": "",
     "delete_cmd_prefix": "del ",
     "library": "var_list.py",
     "varRefreshCmd": "print(var_dic_list())"
    },
    "r": {
     "delete_cmd_postfix": ") ",
     "delete_cmd_prefix": "rm(",
     "library": "var_list.r",
     "varRefreshCmd": "cat(var_dic_list()) "
    }
   },
   "types_to_exclude": [
    "module",
    "function",
    "builtin_function_or_method",
    "instance",
    "_Feature"
   ],
   "window_display": false
  }
 },
 "nbformat": 4,
 "nbformat_minor": 2
}
